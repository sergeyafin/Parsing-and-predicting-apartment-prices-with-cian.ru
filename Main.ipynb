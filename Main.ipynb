{
 "cells": [
  {
   "cell_type": "code",
   "execution_count": 1,
   "metadata": {},
   "outputs": [],
   "source": [
    "#загрузка необходимых библиотек\n",
    "import requests\n",
    "from bs4 import BeautifulSoup\n",
    "import csv\n",
    "import pandas as pd\n",
    "import numpy as np\n",
    "import matplotlib.pyplot as plt\n",
    "import seaborn as sns\n",
    "import matplotlib\n",
    "from sklearn import preprocessing\n",
    "from sklearn.cluster import KMeans\n",
    "from scipy.cluster.hierarchy import dendrogram, linkage, fcluster\n",
    "from sklearn.model_selection import train_test_split\n",
    "from sklearn.preprocessing import StandardScaler\n",
    "from sklearn.metrics import (mean_squared_error, r2_score)\n",
    "\n",
    "matplotlib.style.use('ggplot')\n",
    "%matplotlib inline \n",
    "pd.set_option('display.float_format', lambda x: '%.1f' % x)"
   ]
  },
  {
   "cell_type": "code",
   "execution_count": 2,
   "metadata": {},
   "outputs": [],
   "source": [
    "def get_text(rent, tag, class_name):\n",
    "    div =rent.find(tag, class_= class_name)\n",
    "    return div.getText(\"//\")"
   ]
  },
  {
   "cell_type": "code",
   "execution_count": 3,
   "metadata": {},
   "outputs": [],
   "source": [
    "def get_page_data(html):\n",
    "    metro,rooms,S,floor,price,dist_to_metro=[],[],[],[],[],[]\n",
    "    soup = BeautifulSoup(html, 'lxml')\n",
    "    divs = soup.find('div', {\"class\": \"_93444fe79c--wrapper--E9jWb\"})\n",
    "    rents = divs.find_all('div', class_=\"_93444fe79c--container--2Kouc _93444fe79c--link--2-ANY\")\n",
    "    for rent in rents:\n",
    "        metro_t=''\n",
    "        rooms_t=''\n",
    "        floor_t=''\n",
    "        price_t=''\n",
    "        S_t=''\n",
    "        dist_to_metro_t=''\n",
    "        \n",
    "        try:\n",
    "            a=rent.find('a', class_='_93444fe79c--link--3ruIo')\n",
    "            divs2=a.find_all('div')\n",
    "            #Метро\n",
    "            metro_t=divs2[2].getText(\"//\")\n",
    "        except:\n",
    "            {}\n",
    "        try:\n",
    "            spans=rent.find_all('span')\n",
    "            for i in range(len(spans)):\n",
    "                text=spans[i].getText(\"//\")\n",
    "                \n",
    "                if len(spans)==4:\n",
    "                    if i==2:\n",
    "                        rooms_t,S_t,floor_t=text.split(',')#Кол-во комнат, площадь и номер этажа\n",
    "                        \n",
    "                    if i==3:\n",
    "                        price_t=text#Цена\n",
    "                if len(spans)==3:#Если не указано описание\n",
    "                    if i==1:\n",
    "                        rooms_t,S_t,floor_t=text.split(',')#Кол-во комнат, площадь и номер этажа\n",
    "    \n",
    "                    if i==2:\n",
    "                        price_t=text#Цена\n",
    "        except:\n",
    "            {}\n",
    "        try:\n",
    "            div=rent.find('div', class_='_93444fe79c--remoteness--1BnAC')\n",
    "            dist_to_metro_t=div.getText(\"//\")\n",
    "        except:\n",
    "            {}\n",
    "            #Проверка наличия всех параметров \n",
    "        if len(rooms_t)*len(S_t)*len(floor_t)*len(price_t)*len(dist_to_metro_t)>0:\n",
    "            rooms.append(rooms_t)\n",
    "            S.append(S_t)\n",
    "            floor.append(floor_t)   \n",
    "\n",
    "            price.append(price_t)\n",
    "\n",
    "            dist_to_metro.append(dist_to_metro_t)\n",
    "            \n",
    "            metro.append(metro_t)\n",
    "    \n",
    "    return metro,rooms,S,floor,price,dist_to_metro"
   ]
  },
  {
   "cell_type": "code",
   "execution_count": null,
   "metadata": {
    "scrolled": true
   },
   "outputs": [],
   "source": [
    "import time\n",
    "def parse_main():\n",
    "    time.sleep(0.1)\n",
    "    \n",
    "    base_url = 'https://www.cian.ru/cat.php?deal_type=rent&engine_version=2&offer_type=flat&p='\n",
    "    metro,rooms,S,floor,price,dist_to_metro=[],[],[],[],[],[]\n",
    "    for i in range(1,340):\n",
    "        url =  base_url+ str(i)+'&region=1&room1=1&room2=1&room3=1&room4=1&room5=1&room6=1&room7=1&room9=1&type=4'\n",
    "        response = requests.get(url)\n",
    "        html = response.text\n",
    "        metro_t,rooms_t,S_t,floor_t,price_t,dist_to_metro_t=get_page_data(html)\n",
    "        metro.extend(metro_t)\n",
    "        rooms.extend(rooms_t)\n",
    "        S.extend(S_t)\n",
    "        floor.extend(floor_t)\n",
    "        price.extend(price_t)\n",
    "        dist_to_metro.extend(dist_to_metro_t)\n",
    "    df=pd.DataFrame({'price':price,'metro':metro,'S':S,'rooms':rooms,'floor':floor,'dist_to_metro':dist_to_metro})\n",
    "    df.to_csv('df.csv')\n",
    "parse_main()\n"
   ]
  },
  {
   "cell_type": "code",
   "execution_count": 4,
   "metadata": {},
   "outputs": [
    {
     "data": {
      "text/html": [
       "<div>\n",
       "<style scoped>\n",
       "    .dataframe tbody tr th:only-of-type {\n",
       "        vertical-align: middle;\n",
       "    }\n",
       "\n",
       "    .dataframe tbody tr th {\n",
       "        vertical-align: top;\n",
       "    }\n",
       "\n",
       "    .dataframe thead th {\n",
       "        text-align: right;\n",
       "    }\n",
       "</style>\n",
       "<table border=\"1\" class=\"dataframe\">\n",
       "  <thead>\n",
       "    <tr style=\"text-align: right;\">\n",
       "      <th></th>\n",
       "      <th>price</th>\n",
       "      <th>metro</th>\n",
       "      <th>S</th>\n",
       "      <th>rooms</th>\n",
       "      <th>floor</th>\n",
       "      <th>dist_to_metro</th>\n",
       "    </tr>\n",
       "  </thead>\n",
       "  <tbody>\n",
       "    <tr>\n",
       "      <th>0</th>\n",
       "      <td>700 000 ₽/мес.</td>\n",
       "      <td>Кропоткинская</td>\n",
       "      <td>178 м²</td>\n",
       "      <td>5-комн. кв.</td>\n",
       "      <td>3/5 этаж</td>\n",
       "      <td>5 минут пешком</td>\n",
       "    </tr>\n",
       "    <tr>\n",
       "      <th>1</th>\n",
       "      <td>170 000 ₽/мес.</td>\n",
       "      <td>Международная</td>\n",
       "      <td>63 м²</td>\n",
       "      <td>2-комн. апарт.</td>\n",
       "      <td>15/77 этаж</td>\n",
       "      <td>5 минут пешком</td>\n",
       "    </tr>\n",
       "    <tr>\n",
       "      <th>2</th>\n",
       "      <td>420 000 ₽/мес.</td>\n",
       "      <td>Деловой центр</td>\n",
       "      <td>197 м²</td>\n",
       "      <td>3-комн. апарт.</td>\n",
       "      <td>52/73 этаж</td>\n",
       "      <td>2 минуты пешком</td>\n",
       "    </tr>\n",
       "    <tr>\n",
       "      <th>3</th>\n",
       "      <td>170 000 ₽/мес.</td>\n",
       "      <td>Международная</td>\n",
       "      <td>62 м²</td>\n",
       "      <td>2-комн. апарт.</td>\n",
       "      <td>24/79 этаж</td>\n",
       "      <td>5 минут пешком</td>\n",
       "    </tr>\n",
       "    <tr>\n",
       "      <th>4</th>\n",
       "      <td>169 999 ₽/мес.</td>\n",
       "      <td>Международная</td>\n",
       "      <td>70 м²</td>\n",
       "      <td>2-комн. апарт.</td>\n",
       "      <td>25/79 этаж</td>\n",
       "      <td>2 минуты пешком</td>\n",
       "    </tr>\n",
       "    <tr>\n",
       "      <th>...</th>\n",
       "      <td>...</td>\n",
       "      <td>...</td>\n",
       "      <td>...</td>\n",
       "      <td>...</td>\n",
       "      <td>...</td>\n",
       "      <td>...</td>\n",
       "    </tr>\n",
       "    <tr>\n",
       "      <th>9440</th>\n",
       "      <td>530 000 ₽/мес.</td>\n",
       "      <td>Минская</td>\n",
       "      <td>151 м²</td>\n",
       "      <td>3-комн. кв.</td>\n",
       "      <td>30/53 этаж</td>\n",
       "      <td>7 минут на транспорте</td>\n",
       "    </tr>\n",
       "    <tr>\n",
       "      <th>9441</th>\n",
       "      <td>199 000 ₽/мес.</td>\n",
       "      <td>Международная</td>\n",
       "      <td>75 м²</td>\n",
       "      <td>2-комн. апарт.</td>\n",
       "      <td>14/85 этаж</td>\n",
       "      <td>2 минуты пешком</td>\n",
       "    </tr>\n",
       "    <tr>\n",
       "      <th>9442</th>\n",
       "      <td>200 000 ₽/мес.</td>\n",
       "      <td>Тестовская</td>\n",
       "      <td>62 м²</td>\n",
       "      <td>2-комн. апарт.</td>\n",
       "      <td>18/77 этаж</td>\n",
       "      <td>3 минуты пешком</td>\n",
       "    </tr>\n",
       "    <tr>\n",
       "      <th>9443</th>\n",
       "      <td>219 999 ₽/мес.</td>\n",
       "      <td>Международная</td>\n",
       "      <td>65 м²</td>\n",
       "      <td>2-комн. апарт.</td>\n",
       "      <td>14/79 этаж</td>\n",
       "      <td>2 минуты пешком</td>\n",
       "    </tr>\n",
       "    <tr>\n",
       "      <th>9444</th>\n",
       "      <td>400 000 ₽/мес.</td>\n",
       "      <td>Деловой центр</td>\n",
       "      <td>190 м²</td>\n",
       "      <td>3-комн. апарт.</td>\n",
       "      <td>30/73 этаж</td>\n",
       "      <td>3 минуты пешком</td>\n",
       "    </tr>\n",
       "  </tbody>\n",
       "</table>\n",
       "<p>9445 rows × 6 columns</p>\n",
       "</div>"
      ],
      "text/plain": [
       "               price          metro        S           rooms        floor  \\\n",
       "0     700 000 ₽/мес.  Кропоткинская   178 м²     5-комн. кв.     3/5 этаж   \n",
       "1     170 000 ₽/мес.  Международная    63 м²  2-комн. апарт.   15/77 этаж   \n",
       "2     420 000 ₽/мес.  Деловой центр   197 м²  3-комн. апарт.   52/73 этаж   \n",
       "3     170 000 ₽/мес.  Международная    62 м²  2-комн. апарт.   24/79 этаж   \n",
       "4     169 999 ₽/мес.  Международная    70 м²  2-комн. апарт.   25/79 этаж   \n",
       "...              ...            ...      ...             ...          ...   \n",
       "9440  530 000 ₽/мес.        Минская   151 м²     3-комн. кв.   30/53 этаж   \n",
       "9441  199 000 ₽/мес.  Международная    75 м²  2-комн. апарт.   14/85 этаж   \n",
       "9442  200 000 ₽/мес.     Тестовская    62 м²  2-комн. апарт.   18/77 этаж   \n",
       "9443  219 999 ₽/мес.  Международная    65 м²  2-комн. апарт.   14/79 этаж   \n",
       "9444  400 000 ₽/мес.  Деловой центр   190 м²  3-комн. апарт.   30/73 этаж   \n",
       "\n",
       "              dist_to_metro  \n",
       "0            5 минут пешком  \n",
       "1            5 минут пешком  \n",
       "2           2 минуты пешком  \n",
       "3            5 минут пешком  \n",
       "4           2 минуты пешком  \n",
       "...                     ...  \n",
       "9440  7 минут на транспорте  \n",
       "9441        2 минуты пешком  \n",
       "9442        3 минуты пешком  \n",
       "9443        2 минуты пешком  \n",
       "9444        3 минуты пешком  \n",
       "\n",
       "[9445 rows x 6 columns]"
      ]
     },
     "execution_count": 4,
     "metadata": {},
     "output_type": "execute_result"
    }
   ],
   "source": [
    "df = pd.read_csv('df.csv', encoding = 'UTF-8')\n",
    "df=df.drop(['Unnamed: 0','Unnamed: 0.1'],axis=1)\n",
    "df2=df.copy()\n",
    "df"
   ]
  },
  {
   "cell_type": "markdown",
   "metadata": {},
   "source": [
    "# Обработка данных"
   ]
  },
  {
   "cell_type": "code",
   "execution_count": 5,
   "metadata": {},
   "outputs": [
    {
     "data": {
      "text/plain": [
       "(array([0, 0, 0, ..., 0, 0, 0], dtype=int64),\n",
       " Index([' ₽/мес.'], dtype='object'))"
      ]
     },
     "execution_count": 5,
     "metadata": {},
     "output_type": "execute_result"
    }
   ],
   "source": [
    "import re \n",
    "df1=df['price'].str.extract(r'(^.*)(\\s.\\S*)')\n",
    "df2['price']=pd.to_numeric(df1[0].replace('(\\s)','',regex=True), errors='coerce')\n",
    "pd.factorize(df1[1])#только ₽/мес"
   ]
  },
  {
   "cell_type": "code",
   "execution_count": 6,
   "metadata": {},
   "outputs": [
    {
     "data": {
      "text/plain": [
       "(array([0, 0, 0, ..., 0, 0, 0], dtype=int64), Index(['м²'], dtype='object'))"
      ]
     },
     "execution_count": 6,
     "metadata": {},
     "output_type": "execute_result"
    }
   ],
   "source": [
    "df2[\"S\"].str.split(' ',expand=True)[2].factorize()#Все площади заканчиваются на м^2"
   ]
  },
  {
   "cell_type": "code",
   "execution_count": 7,
   "metadata": {},
   "outputs": [],
   "source": [
    "df2[\"S\"]=df2[\"S\"].str.split(' ',expand=True)[1]"
   ]
  },
  {
   "cell_type": "code",
   "execution_count": 8,
   "metadata": {},
   "outputs": [
    {
     "data": {
      "text/plain": [
       "(array([0, 1, 2, ..., 1, 1, 2], dtype=int64),\n",
       " Index(['5-комн.', '2-комн.', '3-комн.', 'Студия', '1-комн.', '4-комн.',\n",
       "        '6-комн.', 'Апартаменты-студия'],\n",
       "       dtype='object'))"
      ]
     },
     "execution_count": 8,
     "metadata": {},
     "output_type": "execute_result"
    }
   ],
   "source": [
    "df2[\"rooms\"].str.split(' ',expand=True)[0].factorize()"
   ]
  },
  {
   "cell_type": "code",
   "execution_count": 9,
   "metadata": {},
   "outputs": [
    {
     "data": {
      "text/plain": [
       "(array([0, 1, 1, ..., 1, 1, 1], dtype=int64),\n",
       " Index(['кв.', 'апарт.'], dtype='object'))"
      ]
     },
     "execution_count": 9,
     "metadata": {},
     "output_type": "execute_result"
    }
   ],
   "source": [
    "df2[\"rooms\"].str.split(' ',expand=True)[1].factorize()"
   ]
  },
  {
   "cell_type": "code",
   "execution_count": 10,
   "metadata": {},
   "outputs": [],
   "source": [
    "df2[\"type\"]=df2[\"rooms\"].str.split(' ',expand=True)[1]"
   ]
  },
  {
   "cell_type": "code",
   "execution_count": 11,
   "metadata": {},
   "outputs": [
    {
     "data": {
      "text/plain": [
       "(array([0, 1, 1, ..., 1, 1, 1], dtype=int64),\n",
       " Index(['кв.', 'апарт.'], dtype='object'))"
      ]
     },
     "execution_count": 11,
     "metadata": {},
     "output_type": "execute_result"
    }
   ],
   "source": [
    "df2[\"type\"].factorize()"
   ]
  },
  {
   "cell_type": "code",
   "execution_count": 12,
   "metadata": {},
   "outputs": [],
   "source": [
    "df2.loc[df2[\"type\"].isna(),'type']='Студия'"
   ]
  },
  {
   "cell_type": "code",
   "execution_count": 13,
   "metadata": {},
   "outputs": [],
   "source": [
    "df2[\"rooms\"]=df2[\"rooms\"].str.split(' ',expand=True)[0].str.split('-',expand=True)[0]"
   ]
  },
  {
   "cell_type": "code",
   "execution_count": 14,
   "metadata": {},
   "outputs": [
    {
     "data": {
      "text/plain": [
       "(array([0, 1, 2, ..., 1, 1, 2], dtype=int64),\n",
       " Index(['5', '2', '3', 'Студия', '1', '4', '6', 'Апартаменты'], dtype='object'))"
      ]
     },
     "execution_count": 14,
     "metadata": {},
     "output_type": "execute_result"
    }
   ],
   "source": [
    "df2[\"rooms\"].factorize()"
   ]
  },
  {
   "cell_type": "code",
   "execution_count": 15,
   "metadata": {},
   "outputs": [
    {
     "data": {
      "text/plain": [
       "(array([0, 1, 2, ..., 1, 1, 2], dtype=int64),\n",
       " Index(['5', '2', '3', 1, '1', '4', '6'], dtype='object'))"
      ]
     },
     "execution_count": 15,
     "metadata": {},
     "output_type": "execute_result"
    }
   ],
   "source": [
    "df2.loc[df2[\"rooms\"]=='Студия',\"rooms\"]=1\n",
    "df2.loc[df2[\"rooms\"]=='Апартаменты',\"rooms\"]=1\n",
    "df2[\"rooms\"].factorize()"
   ]
  },
  {
   "cell_type": "code",
   "execution_count": 16,
   "metadata": {},
   "outputs": [],
   "source": [
    "df2[\"max_floor\"]=df2[\"floor\"].str.split(' ',expand=True)[1].str.split('/',expand=True)[1]"
   ]
  },
  {
   "cell_type": "code",
   "execution_count": 17,
   "metadata": {},
   "outputs": [],
   "source": [
    "df2[\"floor\"]=df2[\"floor\"].str.split(' ',expand=True)[1].str.split('/',expand=True)[0]"
   ]
  },
  {
   "cell_type": "code",
   "execution_count": 18,
   "metadata": {},
   "outputs": [
    {
     "data": {
      "text/html": [
       "<div>\n",
       "<style scoped>\n",
       "    .dataframe tbody tr th:only-of-type {\n",
       "        vertical-align: middle;\n",
       "    }\n",
       "\n",
       "    .dataframe tbody tr th {\n",
       "        vertical-align: top;\n",
       "    }\n",
       "\n",
       "    .dataframe thead th {\n",
       "        text-align: right;\n",
       "    }\n",
       "</style>\n",
       "<table border=\"1\" class=\"dataframe\">\n",
       "  <thead>\n",
       "    <tr style=\"text-align: right;\">\n",
       "      <th></th>\n",
       "      <th>0</th>\n",
       "    </tr>\n",
       "  </thead>\n",
       "  <tbody>\n",
       "    <tr>\n",
       "      <th>0</th>\n",
       "      <td>3</td>\n",
       "    </tr>\n",
       "    <tr>\n",
       "      <th>1</th>\n",
       "      <td>15</td>\n",
       "    </tr>\n",
       "    <tr>\n",
       "      <th>2</th>\n",
       "      <td>52</td>\n",
       "    </tr>\n",
       "    <tr>\n",
       "      <th>3</th>\n",
       "      <td>24</td>\n",
       "    </tr>\n",
       "    <tr>\n",
       "      <th>4</th>\n",
       "      <td>25</td>\n",
       "    </tr>\n",
       "    <tr>\n",
       "      <th>...</th>\n",
       "      <td>...</td>\n",
       "    </tr>\n",
       "    <tr>\n",
       "      <th>9440</th>\n",
       "      <td>30</td>\n",
       "    </tr>\n",
       "    <tr>\n",
       "      <th>9441</th>\n",
       "      <td>14</td>\n",
       "    </tr>\n",
       "    <tr>\n",
       "      <th>9442</th>\n",
       "      <td>18</td>\n",
       "    </tr>\n",
       "    <tr>\n",
       "      <th>9443</th>\n",
       "      <td>14</td>\n",
       "    </tr>\n",
       "    <tr>\n",
       "      <th>9444</th>\n",
       "      <td>30</td>\n",
       "    </tr>\n",
       "  </tbody>\n",
       "</table>\n",
       "<p>9445 rows × 1 columns</p>\n",
       "</div>"
      ],
      "text/plain": [
       "       0\n",
       "0      3\n",
       "1     15\n",
       "2     52\n",
       "3     24\n",
       "4     25\n",
       "...   ..\n",
       "9440  30\n",
       "9441  14\n",
       "9442  18\n",
       "9443  14\n",
       "9444  30\n",
       "\n",
       "[9445 rows x 1 columns]"
      ]
     },
     "execution_count": 18,
     "metadata": {},
     "output_type": "execute_result"
    }
   ],
   "source": [
    "df2[\"floor\"].str.split(' ',expand=True)"
   ]
  },
  {
   "cell_type": "code",
   "execution_count": 19,
   "metadata": {},
   "outputs": [
    {
     "data": {
      "text/plain": [
       "(array([0, 0, 1, ..., 1, 1, 1], dtype=int64),\n",
       " Index(['минут', 'минуты', 'минута'], dtype='object'))"
      ]
     },
     "execution_count": 19,
     "metadata": {},
     "output_type": "execute_result"
    }
   ],
   "source": [
    "df2[\"dist_to_metro\"].str.split(' ',expand=True)[1].factorize()#единицы измерения - только минуты"
   ]
  },
  {
   "cell_type": "code",
   "execution_count": 20,
   "metadata": {},
   "outputs": [],
   "source": [
    "df2[\"дистанция\"]=df2[\"dist_to_metro\"].str.split(' ',expand=True)[0]"
   ]
  },
  {
   "cell_type": "markdown",
   "metadata": {},
   "source": [
    "### на мой взгляд, нам важно само расстояние до метро, а не способ передвижения, поэтому выделить \"10 минут пешком\" на \"10\" и \"пешком\" было бы неправильно. Важно расстояние, поэтому я перевожу время на транспорте во время пешком. 1 минута на машине =10 минутам пешком"
   ]
  },
  {
   "cell_type": "code",
   "execution_count": 21,
   "metadata": {},
   "outputs": [
    {
     "data": {
      "text/plain": [
       "(array([0, 0, 0, ..., 0, 0, 0], dtype=int64),\n",
       " Index(['пешком', 'на'], dtype='object'))"
      ]
     },
     "execution_count": 21,
     "metadata": {},
     "output_type": "execute_result"
    }
   ],
   "source": [
    "df2[\"dist_to_metro\"].str.split(' ',expand=True)[2].factorize()#либо пешком, либо на транспорте"
   ]
  },
  {
   "cell_type": "code",
   "execution_count": 22,
   "metadata": {},
   "outputs": [],
   "source": [
    "df2[\"пешком\"]=df2[\"dist_to_metro\"].str.split(' ',expand=True)[2]"
   ]
  },
  {
   "cell_type": "code",
   "execution_count": 23,
   "metadata": {},
   "outputs": [],
   "source": [
    "df2.loc[df2[\"пешком\"]==\"пешком\",'dist_to_metro']=df2[df2[\"пешком\"]==\"пешком\"][\"дистанция\"]"
   ]
  },
  {
   "cell_type": "code",
   "execution_count": 24,
   "metadata": {},
   "outputs": [],
   "source": [
    "df2['дистанция']=df2['дистанция'].astype('int')\n",
    "df2.loc[df2[\"пешком\"]==\"на\",'dist_to_metro']=df2[df2[\"пешком\"]==\"на\"][\"дистанция\"]*10"
   ]
  },
  {
   "cell_type": "code",
   "execution_count": 25,
   "metadata": {},
   "outputs": [],
   "source": [
    "df2=df2.drop(['пешком','дистанция'],axis=1)"
   ]
  },
  {
   "cell_type": "code",
   "execution_count": 26,
   "metadata": {},
   "outputs": [],
   "source": [
    "for col in ['S','floor','rooms','dist_to_metro','max_floor']:\n",
    "    df2[col] = df2[col].astype('int64')\n",
    "        "
   ]
  },
  {
   "cell_type": "markdown",
   "metadata": {},
   "source": [
    "# Описательный анализ"
   ]
  },
  {
   "cell_type": "code",
   "execution_count": 27,
   "metadata": {},
   "outputs": [
    {
     "data": {
      "text/html": [
       "<div>\n",
       "<style scoped>\n",
       "    .dataframe tbody tr th:only-of-type {\n",
       "        vertical-align: middle;\n",
       "    }\n",
       "\n",
       "    .dataframe tbody tr th {\n",
       "        vertical-align: top;\n",
       "    }\n",
       "\n",
       "    .dataframe thead th {\n",
       "        text-align: right;\n",
       "    }\n",
       "</style>\n",
       "<table border=\"1\" class=\"dataframe\">\n",
       "  <thead>\n",
       "    <tr style=\"text-align: right;\">\n",
       "      <th></th>\n",
       "      <th>price</th>\n",
       "      <th>metro</th>\n",
       "      <th>S</th>\n",
       "      <th>rooms</th>\n",
       "      <th>floor</th>\n",
       "      <th>dist_to_metro</th>\n",
       "      <th>type</th>\n",
       "      <th>max_floor</th>\n",
       "    </tr>\n",
       "  </thead>\n",
       "  <tbody>\n",
       "    <tr>\n",
       "      <th>0</th>\n",
       "      <td>700000</td>\n",
       "      <td>Кропоткинская</td>\n",
       "      <td>178</td>\n",
       "      <td>5</td>\n",
       "      <td>3</td>\n",
       "      <td>5</td>\n",
       "      <td>кв.</td>\n",
       "      <td>5</td>\n",
       "    </tr>\n",
       "    <tr>\n",
       "      <th>1</th>\n",
       "      <td>170000</td>\n",
       "      <td>Международная</td>\n",
       "      <td>63</td>\n",
       "      <td>2</td>\n",
       "      <td>15</td>\n",
       "      <td>5</td>\n",
       "      <td>апарт.</td>\n",
       "      <td>77</td>\n",
       "    </tr>\n",
       "    <tr>\n",
       "      <th>2</th>\n",
       "      <td>420000</td>\n",
       "      <td>Деловой центр</td>\n",
       "      <td>197</td>\n",
       "      <td>3</td>\n",
       "      <td>52</td>\n",
       "      <td>2</td>\n",
       "      <td>апарт.</td>\n",
       "      <td>73</td>\n",
       "    </tr>\n",
       "    <tr>\n",
       "      <th>3</th>\n",
       "      <td>170000</td>\n",
       "      <td>Международная</td>\n",
       "      <td>62</td>\n",
       "      <td>2</td>\n",
       "      <td>24</td>\n",
       "      <td>5</td>\n",
       "      <td>апарт.</td>\n",
       "      <td>79</td>\n",
       "    </tr>\n",
       "    <tr>\n",
       "      <th>4</th>\n",
       "      <td>169999</td>\n",
       "      <td>Международная</td>\n",
       "      <td>70</td>\n",
       "      <td>2</td>\n",
       "      <td>25</td>\n",
       "      <td>2</td>\n",
       "      <td>апарт.</td>\n",
       "      <td>79</td>\n",
       "    </tr>\n",
       "    <tr>\n",
       "      <th>...</th>\n",
       "      <td>...</td>\n",
       "      <td>...</td>\n",
       "      <td>...</td>\n",
       "      <td>...</td>\n",
       "      <td>...</td>\n",
       "      <td>...</td>\n",
       "      <td>...</td>\n",
       "      <td>...</td>\n",
       "    </tr>\n",
       "    <tr>\n",
       "      <th>9440</th>\n",
       "      <td>530000</td>\n",
       "      <td>Минская</td>\n",
       "      <td>151</td>\n",
       "      <td>3</td>\n",
       "      <td>30</td>\n",
       "      <td>70</td>\n",
       "      <td>кв.</td>\n",
       "      <td>53</td>\n",
       "    </tr>\n",
       "    <tr>\n",
       "      <th>9441</th>\n",
       "      <td>199000</td>\n",
       "      <td>Международная</td>\n",
       "      <td>75</td>\n",
       "      <td>2</td>\n",
       "      <td>14</td>\n",
       "      <td>2</td>\n",
       "      <td>апарт.</td>\n",
       "      <td>85</td>\n",
       "    </tr>\n",
       "    <tr>\n",
       "      <th>9442</th>\n",
       "      <td>200000</td>\n",
       "      <td>Тестовская</td>\n",
       "      <td>62</td>\n",
       "      <td>2</td>\n",
       "      <td>18</td>\n",
       "      <td>3</td>\n",
       "      <td>апарт.</td>\n",
       "      <td>77</td>\n",
       "    </tr>\n",
       "    <tr>\n",
       "      <th>9443</th>\n",
       "      <td>219999</td>\n",
       "      <td>Международная</td>\n",
       "      <td>65</td>\n",
       "      <td>2</td>\n",
       "      <td>14</td>\n",
       "      <td>2</td>\n",
       "      <td>апарт.</td>\n",
       "      <td>79</td>\n",
       "    </tr>\n",
       "    <tr>\n",
       "      <th>9444</th>\n",
       "      <td>400000</td>\n",
       "      <td>Деловой центр</td>\n",
       "      <td>190</td>\n",
       "      <td>3</td>\n",
       "      <td>30</td>\n",
       "      <td>3</td>\n",
       "      <td>апарт.</td>\n",
       "      <td>73</td>\n",
       "    </tr>\n",
       "  </tbody>\n",
       "</table>\n",
       "<p>9445 rows × 8 columns</p>\n",
       "</div>"
      ],
      "text/plain": [
       "       price          metro    S  rooms  floor  dist_to_metro    type  \\\n",
       "0     700000  Кропоткинская  178      5      3              5     кв.   \n",
       "1     170000  Международная   63      2     15              5  апарт.   \n",
       "2     420000  Деловой центр  197      3     52              2  апарт.   \n",
       "3     170000  Международная   62      2     24              5  апарт.   \n",
       "4     169999  Международная   70      2     25              2  апарт.   \n",
       "...      ...            ...  ...    ...    ...            ...     ...   \n",
       "9440  530000        Минская  151      3     30             70     кв.   \n",
       "9441  199000  Международная   75      2     14              2  апарт.   \n",
       "9442  200000     Тестовская   62      2     18              3  апарт.   \n",
       "9443  219999  Международная   65      2     14              2  апарт.   \n",
       "9444  400000  Деловой центр  190      3     30              3  апарт.   \n",
       "\n",
       "      max_floor  \n",
       "0             5  \n",
       "1            77  \n",
       "2            73  \n",
       "3            79  \n",
       "4            79  \n",
       "...         ...  \n",
       "9440         53  \n",
       "9441         85  \n",
       "9442         77  \n",
       "9443         79  \n",
       "9444         73  \n",
       "\n",
       "[9445 rows x 8 columns]"
      ]
     },
     "execution_count": 27,
     "metadata": {},
     "output_type": "execute_result"
    }
   ],
   "source": [
    "#Готовый датасет\n",
    "df2"
   ]
  },
  {
   "cell_type": "code",
   "execution_count": 28,
   "metadata": {},
   "outputs": [
    {
     "name": "stdout",
     "output_type": "stream",
     "text": [
      "          price      S  rooms  floor  dist_to_metro  max_floor\n",
      "count    9445.0 9445.0 9445.0 9445.0         9445.0     9445.0\n",
      "mean   274706.6  104.0    2.5   17.8            8.9       51.2\n",
      "std    197761.3   63.6    1.0   14.6           15.2       32.2\n",
      "min     21999.0   17.0    1.0    1.0            1.0        3.0\n",
      "25%    170000.0   62.0    2.0    6.0            3.0       14.0\n",
      "50%    200000.0   70.0    2.0   14.0            5.0       75.0\n",
      "75%    330000.0  160.0    3.0   24.0            6.0       77.0\n",
      "max   3800000.0  920.0    6.0   74.0          150.0       88.0\n",
      "\n",
      "price             int64\n",
      "metro            object\n",
      "S                 int64\n",
      "rooms             int64\n",
      "floor             int64\n",
      "dist_to_metro     int64\n",
      "type             object\n",
      "max_floor         int64\n",
      "dtype: object\n",
      "price            0\n",
      "metro            9\n",
      "S                0\n",
      "rooms            0\n",
      "floor            0\n",
      "dist_to_metro    0\n",
      "type             0\n",
      "max_floor        0\n",
      "dtype: int64\n"
     ]
    },
    {
     "data": {
      "text/plain": [
       "price            204\n",
       "metro            184\n",
       "S                227\n",
       "rooms              6\n",
       "floor             57\n",
       "dist_to_metro     31\n",
       "type               3\n",
       "max_floor         59\n",
       "dtype: int64"
      ]
     },
     "execution_count": 28,
     "metadata": {},
     "output_type": "execute_result"
    }
   ],
   "source": [
    "print(df2.describe())\n",
    "print()\n",
    "print(df2.dtypes) #тип полей\n",
    "print(df2.isna().sum()) #Количество отсутсвующих значений для каждого поля\n",
    "df2.nunique()"
   ]
  },
  {
   "cell_type": "code",
   "execution_count": 29,
   "metadata": {},
   "outputs": [
    {
     "data": {
      "text/plain": [
       "<matplotlib.axes._subplots.AxesSubplot at 0x17f1dbbe508>"
      ]
     },
     "execution_count": 29,
     "metadata": {},
     "output_type": "execute_result"
    },
    {
     "data": {
      "image/png": "[encoded data removed]",
      "text/plain": [
       "<Figure size 720x720 with 2 Axes>"
      ]
     },
     "metadata": {
      "needs_background": "light"
     },
     "output_type": "display_data"
    }
   ],
   "source": [
    "plt.subplots(figsize=(10,10))\n",
    "sns.heatmap(df2.corr(), annot = True)"
   ]
  },
  {
   "cell_type": "code",
   "execution_count": 30,
   "metadata": {},
   "outputs": [
    {
     "data": {
      "text/html": [
       "<div>\n",
       "<style scoped>\n",
       "    .dataframe tbody tr th:only-of-type {\n",
       "        vertical-align: middle;\n",
       "    }\n",
       "\n",
       "    .dataframe tbody tr th {\n",
       "        vertical-align: top;\n",
       "    }\n",
       "\n",
       "    .dataframe thead th {\n",
       "        text-align: right;\n",
       "    }\n",
       "</style>\n",
       "<table border=\"1\" class=\"dataframe\">\n",
       "  <thead>\n",
       "    <tr style=\"text-align: right;\">\n",
       "      <th></th>\n",
       "      <th>price</th>\n",
       "      <th>S</th>\n",
       "      <th>rooms</th>\n",
       "      <th>floor</th>\n",
       "      <th>dist_to_metro</th>\n",
       "      <th>max_floor</th>\n",
       "    </tr>\n",
       "  </thead>\n",
       "  <tbody>\n",
       "    <tr>\n",
       "      <th>price</th>\n",
       "      <td>1.0</td>\n",
       "      <td>0.8</td>\n",
       "      <td>0.7</td>\n",
       "      <td>-0.0</td>\n",
       "      <td>0.3</td>\n",
       "      <td>-0.3</td>\n",
       "    </tr>\n",
       "    <tr>\n",
       "      <th>S</th>\n",
       "      <td>0.8</td>\n",
       "      <td>1.0</td>\n",
       "      <td>0.9</td>\n",
       "      <td>0.1</td>\n",
       "      <td>0.4</td>\n",
       "      <td>-0.3</td>\n",
       "    </tr>\n",
       "    <tr>\n",
       "      <th>rooms</th>\n",
       "      <td>0.7</td>\n",
       "      <td>0.9</td>\n",
       "      <td>1.0</td>\n",
       "      <td>-0.2</td>\n",
       "      <td>0.4</td>\n",
       "      <td>-0.4</td>\n",
       "    </tr>\n",
       "    <tr>\n",
       "      <th>floor</th>\n",
       "      <td>-0.0</td>\n",
       "      <td>0.1</td>\n",
       "      <td>-0.2</td>\n",
       "      <td>1.0</td>\n",
       "      <td>-0.1</td>\n",
       "      <td>0.6</td>\n",
       "    </tr>\n",
       "    <tr>\n",
       "      <th>dist_to_metro</th>\n",
       "      <td>0.3</td>\n",
       "      <td>0.4</td>\n",
       "      <td>0.4</td>\n",
       "      <td>-0.1</td>\n",
       "      <td>1.0</td>\n",
       "      <td>-0.2</td>\n",
       "    </tr>\n",
       "    <tr>\n",
       "      <th>max_floor</th>\n",
       "      <td>-0.3</td>\n",
       "      <td>-0.3</td>\n",
       "      <td>-0.4</td>\n",
       "      <td>0.6</td>\n",
       "      <td>-0.2</td>\n",
       "      <td>1.0</td>\n",
       "    </tr>\n",
       "  </tbody>\n",
       "</table>\n",
       "</div>"
      ],
      "text/plain": [
       "               price    S  rooms  floor  dist_to_metro  max_floor\n",
       "price            1.0  0.8    0.7   -0.0            0.3       -0.3\n",
       "S                0.8  1.0    0.9    0.1            0.4       -0.3\n",
       "rooms            0.7  0.9    1.0   -0.2            0.4       -0.4\n",
       "floor           -0.0  0.1   -0.2    1.0           -0.1        0.6\n",
       "dist_to_metro    0.3  0.4    0.4   -0.1            1.0       -0.2\n",
       "max_floor       -0.3 -0.3   -0.4    0.6           -0.2        1.0"
      ]
     },
     "execution_count": 30,
     "metadata": {},
     "output_type": "execute_result"
    }
   ],
   "source": [
    "df2.corr() # у цены нет корреляции с номером этажа, поэтому удалим этот фактор"
   ]
  },
  {
   "cell_type": "code",
   "execution_count": 31,
   "metadata": {},
   "outputs": [],
   "source": [
    "df2=df2.drop('floor', axis=1)"
   ]
  },
  {
   "cell_type": "code",
   "execution_count": 32,
   "metadata": {},
   "outputs": [
    {
     "data": {
      "text/html": [
       "<table class=\"simpletable\">\n",
       "<caption>OLS Regression Results</caption>\n",
       "<tr>\n",
       "  <th>Dep. Variable:</th>          <td>price</td>      <th>  R-squared:         </th>  <td>   0.883</td>  \n",
       "</tr>\n",
       "<tr>\n",
       "  <th>Model:</th>                   <td>OLS</td>       <th>  Adj. R-squared:    </th>  <td>   0.880</td>  \n",
       "</tr>\n",
       "<tr>\n",
       "  <th>Method:</th>             <td>Least Squares</td>  <th>  F-statistic:       </th>  <td>   368.1</td>  \n",
       "</tr>\n",
       "<tr>\n",
       "  <th>Date:</th>             <td>Tue, 13 Apr 2021</td> <th>  Prob (F-statistic):</th>   <td>  0.00</td>   \n",
       "</tr>\n",
       "<tr>\n",
       "  <th>Time:</th>                 <td>15:56:21</td>     <th>  Log-Likelihood:    </th> <td>-1.1835e+05</td>\n",
       "</tr>\n",
       "<tr>\n",
       "  <th>No. Observations:</th>      <td>  9436</td>      <th>  AIC:               </th>  <td>2.371e+05</td> \n",
       "</tr>\n",
       "<tr>\n",
       "  <th>Df Residuals:</th>          <td>  9246</td>      <th>  BIC:               </th>  <td>2.384e+05</td> \n",
       "</tr>\n",
       "<tr>\n",
       "  <th>Df Model:</th>              <td>   189</td>      <th>                     </th>      <td> </td>     \n",
       "</tr>\n",
       "<tr>\n",
       "  <th>Covariance Type:</th>      <td>nonrobust</td>    <th>                     </th>      <td> </td>     \n",
       "</tr>\n",
       "</table>\n",
       "<table class=\"simpletable\">\n",
       "<tr>\n",
       "                  <td></td>                     <th>coef</th>     <th>std err</th>      <th>t</th>      <th>P>|t|</th>  <th>[0.025</th>    <th>0.975]</th>  \n",
       "</tr>\n",
       "<tr>\n",
       "  <th>Intercept</th>                         <td>-1.321e+04</td> <td> 1.64e+04</td> <td>   -0.807</td> <td> 0.420</td> <td>-4.53e+04</td> <td> 1.89e+04</td>\n",
       "</tr>\n",
       "<tr>\n",
       "  <th>metro[T.Академическая]</th>            <td>-6132.8973</td> <td> 2.46e+04</td> <td>   -0.249</td> <td> 0.803</td> <td>-5.44e+04</td> <td> 4.21e+04</td>\n",
       "</tr>\n",
       "<tr>\n",
       "  <th>metro[T.Алексеевская]</th>             <td>-9.681e+04</td> <td> 4.91e+04</td> <td>   -1.971</td> <td> 0.049</td> <td>-1.93e+05</td> <td> -539.330</td>\n",
       "</tr>\n",
       "<tr>\n",
       "  <th>metro[T.Алтуфьево]</th>                <td>-6.779e+04</td> <td> 4.02e+04</td> <td>   -1.687</td> <td> 0.092</td> <td>-1.47e+05</td> <td>  1.1e+04</td>\n",
       "</tr>\n",
       "<tr>\n",
       "  <th>metro[T.Аннино]</th>                   <td>-1.066e+04</td> <td> 4.86e+04</td> <td>   -0.220</td> <td> 0.826</td> <td>-1.06e+05</td> <td> 8.45e+04</td>\n",
       "</tr>\n",
       "<tr>\n",
       "  <th>metro[T.Арбатская]</th>                <td> 4.399e+04</td> <td> 1.44e+04</td> <td>    3.053</td> <td> 0.002</td> <td> 1.57e+04</td> <td> 7.22e+04</td>\n",
       "</tr>\n",
       "<tr>\n",
       "  <th>metro[T.Аэропорт]</th>                 <td>-4.798e+04</td> <td> 1.46e+04</td> <td>   -3.280</td> <td> 0.001</td> <td>-7.67e+04</td> <td>-1.93e+04</td>\n",
       "</tr>\n",
       "<tr>\n",
       "  <th>metro[T.Багратионовская]</th>          <td>-1.359e+04</td> <td> 6.86e+04</td> <td>   -0.198</td> <td> 0.843</td> <td>-1.48e+05</td> <td> 1.21e+05</td>\n",
       "</tr>\n",
       "<tr>\n",
       "  <th>metro[T.Балтийская]</th>               <td>-7753.2784</td> <td> 6.86e+04</td> <td>   -0.113</td> <td> 0.910</td> <td>-1.42e+05</td> <td> 1.27e+05</td>\n",
       "</tr>\n",
       "<tr>\n",
       "  <th>metro[T.Баррикадная]</th>              <td> 2.786e+04</td> <td> 1.77e+04</td> <td>    1.571</td> <td> 0.116</td> <td>-6901.279</td> <td> 6.26e+04</td>\n",
       "</tr>\n",
       "<tr>\n",
       "  <th>metro[T.Бауманская]</th>               <td>  913.8098</td> <td> 2.73e+04</td> <td>    0.033</td> <td> 0.973</td> <td>-5.26e+04</td> <td> 5.44e+04</td>\n",
       "</tr>\n",
       "<tr>\n",
       "  <th>metro[T.Беговая]</th>                  <td>-2.879e+04</td> <td> 2.83e+04</td> <td>   -1.018</td> <td> 0.309</td> <td>-8.42e+04</td> <td> 2.67e+04</td>\n",
       "</tr>\n",
       "<tr>\n",
       "  <th>metro[T.Белокаменная]</th>             <td>-3.924e+04</td> <td> 4.86e+04</td> <td>   -0.807</td> <td> 0.420</td> <td>-1.35e+05</td> <td>  5.6e+04</td>\n",
       "</tr>\n",
       "<tr>\n",
       "  <th>metro[T.Беломорская]</th>              <td>-1.928e+04</td> <td>  3.1e+04</td> <td>   -0.622</td> <td> 0.534</td> <td>   -8e+04</td> <td> 4.14e+04</td>\n",
       "</tr>\n",
       "<tr>\n",
       "  <th>metro[T.Белорусская]</th>              <td> 5.303e+04</td> <td>  1.2e+04</td> <td>    4.412</td> <td> 0.000</td> <td> 2.95e+04</td> <td> 7.66e+04</td>\n",
       "</tr>\n",
       "<tr>\n",
       "  <th>metro[T.Беляево]</th>                  <td>-1.239e+05</td> <td> 6.86e+04</td> <td>   -1.805</td> <td> 0.071</td> <td>-2.58e+05</td> <td> 1.07e+04</td>\n",
       "</tr>\n",
       "<tr>\n",
       "  <th>metro[T.Бибирево]</th>                 <td> 1.749e+04</td> <td> 4.86e+04</td> <td>    0.360</td> <td> 0.719</td> <td>-7.78e+04</td> <td> 1.13e+05</td>\n",
       "</tr>\n",
       "<tr>\n",
       "  <th>metro[T.Библиотека им. Ленина]</th>    <td> 8272.5579</td> <td> 2.85e+04</td> <td>    0.290</td> <td> 0.772</td> <td>-4.76e+04</td> <td> 6.42e+04</td>\n",
       "</tr>\n",
       "<tr>\n",
       "  <th>metro[T.Борисово]</th>                 <td>-2.988e+04</td> <td> 6.86e+04</td> <td>   -0.436</td> <td> 0.663</td> <td>-1.64e+05</td> <td> 1.05e+05</td>\n",
       "</tr>\n",
       "<tr>\n",
       "  <th>metro[T.Боровицкая]</th>               <td>-1.029e+05</td> <td> 3.12e+04</td> <td>   -3.300</td> <td> 0.001</td> <td>-1.64e+05</td> <td>-4.18e+04</td>\n",
       "</tr>\n",
       "<tr>\n",
       "  <th>metro[T.Боровское шоссе]</th>          <td>-9317.7927</td> <td> 3.45e+04</td> <td>   -0.270</td> <td> 0.787</td> <td>-7.69e+04</td> <td> 5.83e+04</td>\n",
       "</tr>\n",
       "<tr>\n",
       "  <th>metro[T.Ботанический сад]</th>         <td>-2.724e+04</td> <td> 6.86e+04</td> <td>   -0.397</td> <td> 0.691</td> <td>-1.62e+05</td> <td> 1.07e+05</td>\n",
       "</tr>\n",
       "<tr>\n",
       "  <th>metro[T.Братиславская]</th>            <td>-3.098e+04</td> <td> 4.86e+04</td> <td>   -0.638</td> <td> 0.524</td> <td>-1.26e+05</td> <td> 6.42e+04</td>\n",
       "</tr>\n",
       "<tr>\n",
       "  <th>metro[T.Бульвар Дмитрия Донского]</th> <td>-1.617e+04</td> <td> 4.86e+04</td> <td>   -0.333</td> <td> 0.739</td> <td>-1.11e+05</td> <td> 7.91e+04</td>\n",
       "</tr>\n",
       "<tr>\n",
       "  <th>metro[T.Бульвар Рокоссовского]</th>    <td>-1.183e+04</td> <td> 3.09e+04</td> <td>   -0.382</td> <td> 0.702</td> <td>-7.25e+04</td> <td> 4.88e+04</td>\n",
       "</tr>\n",
       "<tr>\n",
       "  <th>metro[T.Бунинская аллея]</th>          <td>-3.037e+04</td> <td> 2.83e+04</td> <td>   -1.072</td> <td> 0.284</td> <td>-8.59e+04</td> <td> 2.52e+04</td>\n",
       "</tr>\n",
       "<tr>\n",
       "  <th>metro[T.ВДНХ]</th>                     <td>-8.296e+04</td> <td> 3.63e+04</td> <td>   -2.287</td> <td> 0.022</td> <td>-1.54e+05</td> <td>-1.18e+04</td>\n",
       "</tr>\n",
       "<tr>\n",
       "  <th>metro[T.Верхние котлы]</th>            <td> 3.783e+04</td> <td> 6.86e+04</td> <td>    0.551</td> <td> 0.581</td> <td>-9.67e+04</td> <td> 1.72e+05</td>\n",
       "</tr>\n",
       "<tr>\n",
       "  <th>metro[T.Владыкино]</th>                <td> 2.253e+04</td> <td> 1.63e+04</td> <td>    1.382</td> <td> 0.167</td> <td>-9416.573</td> <td> 5.45e+04</td>\n",
       "</tr>\n",
       "<tr>\n",
       "  <th>metro[T.Водный стадион]</th>           <td>-3.871e+04</td> <td> 1.95e+04</td> <td>   -1.983</td> <td> 0.047</td> <td> -7.7e+04</td> <td> -440.532</td>\n",
       "</tr>\n",
       "<tr>\n",
       "  <th>metro[T.Войковская]</th>               <td>-1.422e+05</td> <td> 2.14e+04</td> <td>   -6.633</td> <td> 0.000</td> <td>-1.84e+05</td> <td>   -1e+05</td>\n",
       "</tr>\n",
       "<tr>\n",
       "  <th>metro[T.Воробьевы горы]</th>           <td>  1.86e+05</td> <td>    4e+04</td> <td>    4.651</td> <td> 0.000</td> <td> 1.08e+05</td> <td> 2.64e+05</td>\n",
       "</tr>\n",
       "<tr>\n",
       "  <th>metro[T.Выставочная]</th>              <td> 4539.3443</td> <td> 1.48e+04</td> <td>    0.307</td> <td> 0.759</td> <td>-2.44e+04</td> <td> 3.35e+04</td>\n",
       "</tr>\n",
       "<tr>\n",
       "  <th>metro[T.Выхино]</th>                   <td>-1.643e+04</td> <td> 4.86e+04</td> <td>   -0.338</td> <td> 0.735</td> <td>-1.12e+05</td> <td> 7.89e+04</td>\n",
       "</tr>\n",
       "<tr>\n",
       "  <th>metro[T.Говорово]</th>                 <td>-7.415e+04</td> <td> 3.97e+04</td> <td>   -1.866</td> <td> 0.062</td> <td>-1.52e+05</td> <td> 3750.951</td>\n",
       "</tr>\n",
       "<tr>\n",
       "  <th>metro[T.Гражданская]</th>              <td>-2.873e+04</td> <td>  3.1e+04</td> <td>   -0.927</td> <td> 0.354</td> <td>-8.95e+04</td> <td>  3.2e+04</td>\n",
       "</tr>\n",
       "<tr>\n",
       "  <th>metro[T.Давыдково]</th>                <td>-5.575e+04</td> <td> 3.99e+04</td> <td>   -1.397</td> <td> 0.162</td> <td>-1.34e+05</td> <td> 2.25e+04</td>\n",
       "</tr>\n",
       "<tr>\n",
       "  <th>metro[T.Деловой центр]</th>            <td>-8.823e+04</td> <td> 1.19e+04</td> <td>   -7.426</td> <td> 0.000</td> <td>-1.12e+05</td> <td>-6.49e+04</td>\n",
       "</tr>\n",
       "<tr>\n",
       "  <th>metro[T.Динамо]</th>                   <td> 4.796e+04</td> <td> 1.68e+04</td> <td>    2.850</td> <td> 0.004</td> <td>  1.5e+04</td> <td> 8.09e+04</td>\n",
       "</tr>\n",
       "<tr>\n",
       "  <th>metro[T.Дмитровская]</th>              <td>-3312.5747</td> <td> 3.09e+04</td> <td>   -0.107</td> <td> 0.915</td> <td>-6.38e+04</td> <td> 5.72e+04</td>\n",
       "</tr>\n",
       "<tr>\n",
       "  <th>metro[T.Добрынинская]</th>             <td>-1.438e+05</td> <td> 2.68e+04</td> <td>   -5.361</td> <td> 0.000</td> <td>-1.96e+05</td> <td>-9.12e+04</td>\n",
       "</tr>\n",
       "<tr>\n",
       "  <th>metro[T.Домодедовская]</th>            <td> 9083.4890</td> <td> 3.45e+04</td> <td>    0.263</td> <td> 0.792</td> <td>-5.86e+04</td> <td> 7.67e+04</td>\n",
       "</tr>\n",
       "<tr>\n",
       "  <th>metro[T.Достоевская]</th>              <td> -7.73e+04</td> <td> 2.13e+04</td> <td>   -3.622</td> <td> 0.000</td> <td>-1.19e+05</td> <td>-3.55e+04</td>\n",
       "</tr>\n",
       "<tr>\n",
       "  <th>metro[T.Дубровка]</th>                 <td>-5.599e+04</td> <td> 4.86e+04</td> <td>   -1.151</td> <td> 0.250</td> <td>-1.51e+05</td> <td> 3.94e+04</td>\n",
       "</tr>\n",
       "<tr>\n",
       "  <th>metro[T.Жулебино]</th>                 <td>-5.737e+04</td> <td> 4.86e+04</td> <td>   -1.180</td> <td> 0.238</td> <td>-1.53e+05</td> <td> 3.79e+04</td>\n",
       "</tr>\n",
       "<tr>\n",
       "  <th>metro[T.ЗИЛ]</th>                      <td>-5.045e+04</td> <td> 4.95e+04</td> <td>   -1.020</td> <td> 0.308</td> <td>-1.47e+05</td> <td> 4.65e+04</td>\n",
       "</tr>\n",
       "<tr>\n",
       "  <th>metro[T.Измайлово]</th>                <td> 2.374e+04</td> <td> 6.86e+04</td> <td>    0.346</td> <td> 0.729</td> <td>-1.11e+05</td> <td> 1.58e+05</td>\n",
       "</tr>\n",
       "<tr>\n",
       "  <th>metro[T.Калужская]</th>                <td>-7.068e+04</td> <td> 3.11e+04</td> <td>   -2.272</td> <td> 0.023</td> <td>-1.32e+05</td> <td>-9692.074</td>\n",
       "</tr>\n",
       "<tr>\n",
       "  <th>metro[T.Кантемировская]</th>           <td> 1.183e+04</td> <td> 4.86e+04</td> <td>    0.243</td> <td> 0.808</td> <td>-8.34e+04</td> <td> 1.07e+05</td>\n",
       "</tr>\n",
       "<tr>\n",
       "  <th>metro[T.Каховская]</th>                <td>-7584.3813</td> <td> 6.87e+04</td> <td>   -0.110</td> <td> 0.912</td> <td>-1.42e+05</td> <td> 1.27e+05</td>\n",
       "</tr>\n",
       "<tr>\n",
       "  <th>metro[T.Киевская]</th>                 <td> 7.724e+04</td> <td> 1.29e+04</td> <td>    5.967</td> <td> 0.000</td> <td> 5.19e+04</td> <td> 1.03e+05</td>\n",
       "</tr>\n",
       "<tr>\n",
       "  <th>metro[T.Китай-город]</th>              <td>  1.45e+04</td> <td> 3.46e+04</td> <td>    0.419</td> <td> 0.675</td> <td>-5.34e+04</td> <td> 8.24e+04</td>\n",
       "</tr>\n",
       "<tr>\n",
       "  <th>metro[T.Коломенская]</th>              <td>-1.216e+04</td> <td> 2.46e+04</td> <td>   -0.494</td> <td> 0.621</td> <td>-6.04e+04</td> <td> 3.61e+04</td>\n",
       "</tr>\n",
       "<tr>\n",
       "  <th>metro[T.Комсомольская]</th>            <td> -4.96e+04</td> <td> 4.95e+04</td> <td>   -1.002</td> <td> 0.317</td> <td>-1.47e+05</td> <td> 4.75e+04</td>\n",
       "</tr>\n",
       "<tr>\n",
       "  <th>metro[T.Коньково]</th>                 <td>-2.543e+05</td> <td> 4.87e+04</td> <td>   -5.222</td> <td> 0.000</td> <td> -3.5e+05</td> <td>-1.59e+05</td>\n",
       "</tr>\n",
       "<tr>\n",
       "  <th>metro[T.Косино]</th>                   <td>-9.331e+04</td> <td> 6.86e+04</td> <td>   -1.361</td> <td> 0.174</td> <td>-2.28e+05</td> <td> 4.11e+04</td>\n",
       "</tr>\n",
       "<tr>\n",
       "  <th>metro[T.Краснопресненская]</th>        <td> 2.369e+04</td> <td> 6.86e+04</td> <td>    0.345</td> <td> 0.730</td> <td>-1.11e+05</td> <td> 1.58e+05</td>\n",
       "</tr>\n",
       "<tr>\n",
       "  <th>metro[T.Красносельская]</th>           <td> 1877.5071</td> <td> 2.68e+04</td> <td>    0.070</td> <td> 0.944</td> <td>-5.06e+04</td> <td> 5.43e+04</td>\n",
       "</tr>\n",
       "<tr>\n",
       "  <th>metro[T.Красные ворота]</th>           <td> 5.286e+04</td> <td> 1.97e+04</td> <td>    2.681</td> <td> 0.007</td> <td> 1.42e+04</td> <td> 9.15e+04</td>\n",
       "</tr>\n",
       "<tr>\n",
       "  <th>metro[T.Красный Балтиец]</th>          <td> 2.998e+04</td> <td> 4.86e+04</td> <td>    0.617</td> <td> 0.538</td> <td>-6.53e+04</td> <td> 1.25e+05</td>\n",
       "</tr>\n",
       "<tr>\n",
       "  <th>metro[T.Красный Строитель]</th>        <td> 2.709e+04</td> <td> 6.86e+04</td> <td>    0.395</td> <td> 0.693</td> <td>-1.07e+05</td> <td> 1.62e+05</td>\n",
       "</tr>\n",
       "<tr>\n",
       "  <th>metro[T.Крестьянская застава]</th>     <td> 2.622e+04</td> <td> 4.86e+04</td> <td>    0.540</td> <td> 0.589</td> <td> -6.9e+04</td> <td> 1.21e+05</td>\n",
       "</tr>\n",
       "<tr>\n",
       "  <th>metro[T.Кропоткинская]</th>            <td> 3.666e+05</td> <td> 7546.019</td> <td>   48.582</td> <td> 0.000</td> <td> 3.52e+05</td> <td> 3.81e+05</td>\n",
       "</tr>\n",
       "<tr>\n",
       "  <th>metro[T.Крылатское]</th>               <td>-1.125e+05</td> <td> 9506.400</td> <td>  -11.830</td> <td> 0.000</td> <td>-1.31e+05</td> <td>-9.38e+04</td>\n",
       "</tr>\n",
       "<tr>\n",
       "  <th>metro[T.Крымская]</th>                 <td> -1.23e+04</td> <td> 6.86e+04</td> <td>   -0.179</td> <td> 0.858</td> <td>-1.47e+05</td> <td> 1.22e+05</td>\n",
       "</tr>\n",
       "<tr>\n",
       "  <th>metro[T.Кузнецкий мост]</th>           <td> 2453.2190</td> <td>    4e+04</td> <td>    0.061</td> <td> 0.951</td> <td>-7.59e+04</td> <td> 8.08e+04</td>\n",
       "</tr>\n",
       "<tr>\n",
       "  <th>metro[T.Кузьминки]</th>                <td> 2305.5814</td> <td> 8547.845</td> <td>    0.270</td> <td> 0.787</td> <td>-1.45e+04</td> <td> 1.91e+04</td>\n",
       "</tr>\n",
       "<tr>\n",
       "  <th>metro[T.Кунцевская]</th>               <td>-1.705e+05</td> <td> 2.63e+04</td> <td>   -6.476</td> <td> 0.000</td> <td>-2.22e+05</td> <td>-1.19e+05</td>\n",
       "</tr>\n",
       "<tr>\n",
       "  <th>metro[T.Курская]</th>                  <td> 1.502e+05</td> <td> 1.79e+04</td> <td>    8.370</td> <td> 0.000</td> <td> 1.15e+05</td> <td> 1.85e+05</td>\n",
       "</tr>\n",
       "<tr>\n",
       "  <th>metro[T.Кутузовская]</th>              <td> 1.836e+05</td> <td> 6.87e+04</td> <td>    2.674</td> <td> 0.008</td> <td>  4.9e+04</td> <td> 3.18e+05</td>\n",
       "</tr>\n",
       "<tr>\n",
       "  <th>metro[T.Ленинский проспект]</th>       <td> 5372.3613</td> <td>  3.1e+04</td> <td>    0.173</td> <td> 0.863</td> <td>-5.55e+04</td> <td> 6.62e+04</td>\n",
       "</tr>\n",
       "<tr>\n",
       "  <th>metro[T.Ломоносовский проспект]</th>   <td>-9.221e+04</td> <td> 1.63e+04</td> <td>   -5.643</td> <td> 0.000</td> <td>-1.24e+05</td> <td>-6.02e+04</td>\n",
       "</tr>\n",
       "<tr>\n",
       "  <th>metro[T.Лубянка]</th>                  <td> 8.048e+04</td> <td> 2.26e+04</td> <td>    3.557</td> <td> 0.000</td> <td> 3.61e+04</td> <td> 1.25e+05</td>\n",
       "</tr>\n",
       "<tr>\n",
       "  <th>metro[T.Лужники]</th>                  <td> 1.724e+04</td> <td> 4.86e+04</td> <td>    0.354</td> <td> 0.723</td> <td>-7.81e+04</td> <td> 1.13e+05</td>\n",
       "</tr>\n",
       "<tr>\n",
       "  <th>metro[T.Люблино]</th>                  <td>-1.223e+04</td> <td> 5947.739</td> <td>   -2.056</td> <td> 0.040</td> <td>-2.39e+04</td> <td> -569.858</td>\n",
       "</tr>\n",
       "<tr>\n",
       "  <th>metro[T.Марксистская]</th>             <td>  1.39e+04</td> <td> 4.86e+04</td> <td>    0.286</td> <td> 0.775</td> <td>-8.14e+04</td> <td> 1.09e+05</td>\n",
       "</tr>\n",
       "<tr>\n",
       "  <th>metro[T.Марьино]</th>                  <td> -1.95e+04</td> <td> 4.86e+04</td> <td>   -0.401</td> <td> 0.688</td> <td>-1.15e+05</td> <td> 7.58e+04</td>\n",
       "</tr>\n",
       "<tr>\n",
       "  <th>metro[T.Маяковская]</th>               <td> 6.056e+04</td> <td> 1.08e+04</td> <td>    5.591</td> <td> 0.000</td> <td> 3.93e+04</td> <td> 8.18e+04</td>\n",
       "</tr>\n",
       "<tr>\n",
       "  <th>metro[T.Медведково]</th>               <td> 5578.3461</td> <td> 4.86e+04</td> <td>    0.115</td> <td> 0.909</td> <td>-8.98e+04</td> <td> 1.01e+05</td>\n",
       "</tr>\n",
       "<tr>\n",
       "  <th>metro[T.Международная]</th>            <td> 2186.7212</td> <td> 1.23e+04</td> <td>    0.178</td> <td> 0.859</td> <td>-2.19e+04</td> <td> 2.63e+04</td>\n",
       "</tr>\n",
       "<tr>\n",
       "  <th>metro[T.Менделеевская]</th>            <td>-8.651e+04</td> <td> 2.85e+04</td> <td>   -3.039</td> <td> 0.002</td> <td>-1.42e+05</td> <td>-3.07e+04</td>\n",
       "</tr>\n",
       "<tr>\n",
       "  <th>metro[T.Минская]</th>                  <td> 1.153e+05</td> <td> 9669.121</td> <td>   11.928</td> <td> 0.000</td> <td> 9.64e+04</td> <td> 1.34e+05</td>\n",
       "</tr>\n",
       "<tr>\n",
       "  <th>metro[T.Митино]</th>                   <td>-1.352e+04</td> <td> 6.86e+04</td> <td>   -0.197</td> <td> 0.844</td> <td>-1.48e+05</td> <td> 1.21e+05</td>\n",
       "</tr>\n",
       "<tr>\n",
       "  <th>metro[T.Мичуринский проспект]</th>     <td> 3.848e+04</td> <td> 2.83e+04</td> <td>    1.362</td> <td> 0.173</td> <td>-1.69e+04</td> <td> 9.39e+04</td>\n",
       "</tr>\n",
       "<tr>\n",
       "  <th>metro[T.Молодежная]</th>               <td> 7867.8996</td> <td> 2.03e+04</td> <td>    0.388</td> <td> 0.698</td> <td>-3.19e+04</td> <td> 4.76e+04</td>\n",
       "</tr>\n",
       "<tr>\n",
       "  <th>metro[T.Москва-Товарная]</th>          <td> 3.291e+04</td> <td> 6.86e+04</td> <td>    0.480</td> <td> 0.632</td> <td>-1.02e+05</td> <td> 1.67e+05</td>\n",
       "</tr>\n",
       "<tr>\n",
       "  <th>metro[T.Нагатинская]</th>              <td>-9306.1023</td> <td> 6.86e+04</td> <td>   -0.136</td> <td> 0.892</td> <td>-1.44e+05</td> <td> 1.25e+05</td>\n",
       "</tr>\n",
       "<tr>\n",
       "  <th>metro[T.Нахимовский проспект]</th>     <td>  1.96e+04</td> <td> 3.98e+04</td> <td>    0.493</td> <td> 0.622</td> <td>-5.84e+04</td> <td> 9.76e+04</td>\n",
       "</tr>\n",
       "<tr>\n",
       "  <th>metro[T.Некрасовка]</th>               <td>-3.411e+04</td> <td> 6.86e+04</td> <td>   -0.497</td> <td> 0.619</td> <td>-1.69e+05</td> <td>    1e+05</td>\n",
       "</tr>\n",
       "<tr>\n",
       "  <th>metro[T.Нижегородская]</th>            <td>-6743.3717</td> <td> 4.86e+04</td> <td>   -0.139</td> <td> 0.890</td> <td>-1.02e+05</td> <td> 8.85e+04</td>\n",
       "</tr>\n",
       "<tr>\n",
       "  <th>metro[T.Новогиреево]</th>              <td>-1.687e+04</td> <td> 3.45e+04</td> <td>   -0.488</td> <td> 0.625</td> <td>-8.46e+04</td> <td> 5.08e+04</td>\n",
       "</tr>\n",
       "<tr>\n",
       "  <th>metro[T.Новокосино]</th>               <td>-4.644e+04</td> <td> 3.99e+04</td> <td>   -1.164</td> <td> 0.245</td> <td>-1.25e+05</td> <td> 3.18e+04</td>\n",
       "</tr>\n",
       "<tr>\n",
       "  <th>metro[T.Новокузнецкая]</th>            <td> 6.396e+04</td> <td> 1.97e+04</td> <td>    3.249</td> <td> 0.001</td> <td> 2.54e+04</td> <td> 1.03e+05</td>\n",
       "</tr>\n",
       "<tr>\n",
       "  <th>metro[T.Новослободская]</th>           <td> 5.659e+04</td> <td> 2.65e+04</td> <td>    2.132</td> <td> 0.033</td> <td> 4567.268</td> <td> 1.09e+05</td>\n",
       "</tr>\n",
       "<tr>\n",
       "  <th>metro[T.Новые Черемушки]</th>          <td>-6.044e+04</td> <td> 2.02e+04</td> <td>   -2.992</td> <td> 0.003</td> <td>   -1e+05</td> <td>-2.08e+04</td>\n",
       "</tr>\n",
       "<tr>\n",
       "  <th>metro[T.Озерная]</th>                  <td>-4.228e+04</td> <td> 2.82e+04</td> <td>   -1.497</td> <td> 0.135</td> <td>-9.77e+04</td> <td> 1.31e+04</td>\n",
       "</tr>\n",
       "<tr>\n",
       "  <th>metro[T.Окружная]</th>                 <td> 1.049e+04</td> <td> 4.11e+04</td> <td>    0.255</td> <td> 0.799</td> <td>-7.01e+04</td> <td> 9.11e+04</td>\n",
       "</tr>\n",
       "<tr>\n",
       "  <th>metro[T.Октябрьская]</th>              <td> 6.585e+04</td> <td> 2.23e+04</td> <td>    2.952</td> <td> 0.003</td> <td> 2.21e+04</td> <td>  1.1e+05</td>\n",
       "</tr>\n",
       "<tr>\n",
       "  <th>metro[T.Октябрьское поле]</th>         <td>-4.418e+04</td> <td> 2.21e+04</td> <td>   -1.998</td> <td> 0.046</td> <td>-8.75e+04</td> <td> -832.467</td>\n",
       "</tr>\n",
       "<tr>\n",
       "  <th>metro[T.Остафьево]</th>                <td> 1.221e+04</td> <td> 4.86e+04</td> <td>    0.251</td> <td> 0.802</td> <td> -8.3e+04</td> <td> 1.07e+05</td>\n",
       "</tr>\n",
       "<tr>\n",
       "  <th>metro[T.Отрадное]</th>                 <td> -1.78e+04</td> <td> 4.01e+04</td> <td>   -0.444</td> <td> 0.657</td> <td>-9.63e+04</td> <td> 6.07e+04</td>\n",
       "</tr>\n",
       "<tr>\n",
       "  <th>metro[T.Охотный ряд]</th>              <td> 1.425e+05</td> <td> 1.96e+04</td> <td>    7.270</td> <td> 0.000</td> <td> 1.04e+05</td> <td> 1.81e+05</td>\n",
       "</tr>\n",
       "<tr>\n",
       "  <th>metro[T.Павелецкая]</th>               <td> 5584.7018</td> <td> 1.75e+04</td> <td>    0.319</td> <td> 0.750</td> <td>-2.87e+04</td> <td> 3.99e+04</td>\n",
       "</tr>\n",
       "<tr>\n",
       "  <th>metro[T.Панфиловская]</th>             <td>-1.345e+05</td> <td> 3.09e+04</td> <td>   -4.352</td> <td> 0.000</td> <td>-1.95e+05</td> <td>-7.39e+04</td>\n",
       "</tr>\n",
       "<tr>\n",
       "  <th>metro[T.Парк Культуры]</th>            <td> 3.268e+05</td> <td> 6120.665</td> <td>   53.391</td> <td> 0.000</td> <td> 3.15e+05</td> <td> 3.39e+05</td>\n",
       "</tr>\n",
       "<tr>\n",
       "  <th>metro[T.Парк Победы]</th>              <td>-7.118e+04</td> <td> 2.03e+04</td> <td>   -3.499</td> <td> 0.000</td> <td>-1.11e+05</td> <td>-3.13e+04</td>\n",
       "</tr>\n",
       "<tr>\n",
       "  <th>metro[T.Перово]</th>                   <td>-3731.1824</td> <td> 4.87e+04</td> <td>   -0.077</td> <td> 0.939</td> <td>-9.91e+04</td> <td> 9.16e+04</td>\n",
       "</tr>\n",
       "<tr>\n",
       "  <th>metro[T.Петровский Парк]</th>          <td> 7228.1712</td> <td> 2.89e+04</td> <td>    0.250</td> <td> 0.802</td> <td>-4.94e+04</td> <td> 6.38e+04</td>\n",
       "</tr>\n",
       "<tr>\n",
       "  <th>metro[T.Пионерская]</th>               <td> 3285.9559</td> <td> 4.86e+04</td> <td>    0.068</td> <td> 0.946</td> <td> -9.2e+04</td> <td> 9.86e+04</td>\n",
       "</tr>\n",
       "<tr>\n",
       "  <th>metro[T.Покровское-Стрешнево]</th>     <td>-6.777e+04</td> <td> 6.87e+04</td> <td>   -0.987</td> <td> 0.324</td> <td>-2.02e+05</td> <td> 6.69e+04</td>\n",
       "</tr>\n",
       "<tr>\n",
       "  <th>metro[T.Полежаевская]</th>             <td> 2.775e+04</td> <td> 4.88e+04</td> <td>    0.569</td> <td> 0.570</td> <td>-6.79e+04</td> <td> 1.23e+05</td>\n",
       "</tr>\n",
       "<tr>\n",
       "  <th>metro[T.Полянка]</th>                  <td> 9.881e+04</td> <td> 1.61e+04</td> <td>    6.153</td> <td> 0.000</td> <td> 6.73e+04</td> <td>  1.3e+05</td>\n",
       "</tr>\n",
       "<tr>\n",
       "  <th>metro[T.Пражская]</th>                 <td>-1.726e+04</td> <td> 6.86e+04</td> <td>   -0.252</td> <td> 0.801</td> <td>-1.52e+05</td> <td> 1.17e+05</td>\n",
       "</tr>\n",
       "<tr>\n",
       "  <th>metro[T.Преображенская площадь]</th>   <td>-9564.4396</td> <td> 2.33e+04</td> <td>   -0.411</td> <td> 0.681</td> <td>-5.52e+04</td> <td> 3.61e+04</td>\n",
       "</tr>\n",
       "<tr>\n",
       "  <th>metro[T.Пролетарская]</th>             <td> 1.909e+04</td> <td> 3.45e+04</td> <td>    0.554</td> <td> 0.580</td> <td>-4.85e+04</td> <td> 8.67e+04</td>\n",
       "</tr>\n",
       "<tr>\n",
       "  <th>metro[T.Проспект Вернадского]</th>     <td>-9.884e+04</td> <td> 1.64e+04</td> <td>   -6.021</td> <td> 0.000</td> <td>-1.31e+05</td> <td>-6.67e+04</td>\n",
       "</tr>\n",
       "<tr>\n",
       "  <th>metro[T.Проспект Мира]</th>            <td> 9129.5709</td> <td> 3.45e+04</td> <td>    0.265</td> <td> 0.791</td> <td>-5.85e+04</td> <td> 7.68e+04</td>\n",
       "</tr>\n",
       "<tr>\n",
       "  <th>metro[T.Профсоюзная]</th>              <td>  -5.1e+04</td> <td> 2.82e+04</td> <td>   -1.807</td> <td> 0.071</td> <td>-1.06e+05</td> <td> 4334.636</td>\n",
       "</tr>\n",
       "<tr>\n",
       "  <th>metro[T.Пушкинская]</th>               <td> 9.915e+04</td> <td> 1.23e+04</td> <td>    8.086</td> <td> 0.000</td> <td> 7.51e+04</td> <td> 1.23e+05</td>\n",
       "</tr>\n",
       "<tr>\n",
       "  <th>metro[T.Раменки]</th>                  <td>-4568.3499</td> <td> 1.67e+04</td> <td>   -0.273</td> <td> 0.785</td> <td>-3.74e+04</td> <td> 2.82e+04</td>\n",
       "</tr>\n",
       "<tr>\n",
       "  <th>metro[T.Рассказовка]</th>              <td>-9375.5717</td> <td> 4.86e+04</td> <td>   -0.193</td> <td> 0.847</td> <td>-1.05e+05</td> <td> 8.58e+04</td>\n",
       "</tr>\n",
       "<tr>\n",
       "  <th>metro[T.Речной вокзал]</th>            <td> 1.174e+04</td> <td> 4.87e+04</td> <td>    0.241</td> <td> 0.809</td> <td>-8.36e+04</td> <td> 1.07e+05</td>\n",
       "</tr>\n",
       "<tr>\n",
       "  <th>metro[T.Рижская]</th>                  <td>-7.319e+04</td> <td> 4.86e+04</td> <td>   -1.505</td> <td> 0.132</td> <td>-1.69e+05</td> <td> 2.22e+04</td>\n",
       "</tr>\n",
       "<tr>\n",
       "  <th>metro[T.Римская]</th>                  <td>-2.453e+04</td> <td> 6.86e+04</td> <td>   -0.358</td> <td> 0.721</td> <td>-1.59e+05</td> <td>  1.1e+05</td>\n",
       "</tr>\n",
       "<tr>\n",
       "  <th>metro[T.Ростокино]</th>                <td>-1.217e+05</td> <td> 4.86e+04</td> <td>   -2.504</td> <td> 0.012</td> <td>-2.17e+05</td> <td>-2.64e+04</td>\n",
       "</tr>\n",
       "<tr>\n",
       "  <th>metro[T.Савеловская]</th>              <td> 5.547e+04</td> <td> 2.84e+04</td> <td>    1.950</td> <td> 0.051</td> <td> -290.963</td> <td> 1.11e+05</td>\n",
       "</tr>\n",
       "<tr>\n",
       "  <th>metro[T.Свиблово]</th>                 <td>-2.774e+04</td> <td> 6.87e+04</td> <td>   -0.404</td> <td> 0.686</td> <td>-1.62e+05</td> <td> 1.07e+05</td>\n",
       "</tr>\n",
       "<tr>\n",
       "  <th>metro[T.Севастопольская]</th>          <td>-6323.0341</td> <td> 4.86e+04</td> <td>   -0.130</td> <td> 0.897</td> <td>-1.02e+05</td> <td>  8.9e+04</td>\n",
       "</tr>\n",
       "<tr>\n",
       "  <th>metro[T.Селигерская]</th>              <td>-2553.7867</td> <td> 3.47e+04</td> <td>   -0.074</td> <td> 0.941</td> <td>-7.05e+04</td> <td> 6.54e+04</td>\n",
       "</tr>\n",
       "<tr>\n",
       "  <th>metro[T.Семеновская]</th>              <td>-4.884e+04</td> <td> 4.88e+04</td> <td>   -1.001</td> <td> 0.317</td> <td>-1.45e+05</td> <td> 4.68e+04</td>\n",
       "</tr>\n",
       "<tr>\n",
       "  <th>metro[T.Серпуховская]</th>             <td> 3.528e+04</td> <td> 2.46e+04</td> <td>    1.433</td> <td> 0.152</td> <td> -1.3e+04</td> <td> 8.36e+04</td>\n",
       "</tr>\n",
       "<tr>\n",
       "  <th>metro[T.Славянский бульвар]</th>       <td>-4.842e+04</td> <td> 1.72e+04</td> <td>   -2.820</td> <td> 0.005</td> <td>-8.21e+04</td> <td>-1.48e+04</td>\n",
       "</tr>\n",
       "<tr>\n",
       "  <th>metro[T.Смоленская]</th>               <td> 9.714e+04</td> <td> 9504.160</td> <td>   10.221</td> <td> 0.000</td> <td> 7.85e+04</td> <td> 1.16e+05</td>\n",
       "</tr>\n",
       "<tr>\n",
       "  <th>metro[T.Сокол]</th>                    <td>-7551.0027</td> <td> 1.81e+04</td> <td>   -0.417</td> <td> 0.677</td> <td> -4.3e+04</td> <td> 2.79e+04</td>\n",
       "</tr>\n",
       "<tr>\n",
       "  <th>metro[T.Соколиная гора]</th>           <td>-6137.7066</td> <td> 6.86e+04</td> <td>   -0.090</td> <td> 0.929</td> <td>-1.41e+05</td> <td> 1.28e+05</td>\n",
       "</tr>\n",
       "<tr>\n",
       "  <th>metro[T.Сокольники]</th>               <td>-1.052e+04</td> <td> 3.09e+04</td> <td>   -0.340</td> <td> 0.734</td> <td>-7.11e+04</td> <td> 5.01e+04</td>\n",
       "</tr>\n",
       "<tr>\n",
       "  <th>metro[T.Спартак]</th>                  <td> 1.117e+04</td> <td> 6.86e+04</td> <td>    0.163</td> <td> 0.871</td> <td>-1.23e+05</td> <td> 1.46e+05</td>\n",
       "</tr>\n",
       "<tr>\n",
       "  <th>metro[T.Спортивная]</th>               <td>   2.1e+05</td> <td> 1.66e+04</td> <td>   12.680</td> <td> 0.000</td> <td> 1.78e+05</td> <td> 2.42e+05</td>\n",
       "</tr>\n",
       "<tr>\n",
       "  <th>metro[T.Сретенский бульвар]</th>       <td>-1.618e+04</td> <td>  2.5e+04</td> <td>   -0.647</td> <td> 0.517</td> <td>-6.52e+04</td> <td> 3.28e+04</td>\n",
       "</tr>\n",
       "<tr>\n",
       "  <th>metro[T.Стрешнево]</th>                <td>-4.722e+04</td> <td>  3.5e+04</td> <td>   -1.351</td> <td> 0.177</td> <td>-1.16e+05</td> <td> 2.13e+04</td>\n",
       "</tr>\n",
       "<tr>\n",
       "  <th>metro[T.Строгино]</th>                 <td>-3.541e+04</td> <td> 3.09e+04</td> <td>   -1.147</td> <td> 0.252</td> <td>-9.59e+04</td> <td> 2.51e+04</td>\n",
       "</tr>\n",
       "<tr>\n",
       "  <th>metro[T.Студенческая]</th>             <td>-1.086e+04</td> <td>  3.1e+04</td> <td>   -0.350</td> <td> 0.727</td> <td>-7.17e+04</td> <td>    5e+04</td>\n",
       "</tr>\n",
       "<tr>\n",
       "  <th>metro[T.Сухаревская]</th>              <td>-1.673e+04</td> <td> 1.75e+04</td> <td>   -0.954</td> <td> 0.340</td> <td>-5.11e+04</td> <td> 1.76e+04</td>\n",
       "</tr>\n",
       "<tr>\n",
       "  <th>metro[T.Таганская]</th>                <td> 6.477e+04</td> <td> 2.21e+04</td> <td>    2.934</td> <td> 0.003</td> <td> 2.15e+04</td> <td> 1.08e+05</td>\n",
       "</tr>\n",
       "<tr>\n",
       "  <th>metro[T.Тверская]</th>                 <td> 4.551e+04</td> <td> 1.29e+04</td> <td>    3.532</td> <td> 0.000</td> <td> 2.03e+04</td> <td> 7.08e+04</td>\n",
       "</tr>\n",
       "<tr>\n",
       "  <th>metro[T.Театральная]</th>              <td>  7.02e+04</td> <td>  3.1e+04</td> <td>    2.263</td> <td> 0.024</td> <td> 9379.768</td> <td> 1.31e+05</td>\n",
       "</tr>\n",
       "<tr>\n",
       "  <th>metro[T.Текстильщики]</th>             <td>-3.927e+04</td> <td> 6.86e+04</td> <td>   -0.573</td> <td> 0.567</td> <td>-1.74e+05</td> <td> 9.52e+04</td>\n",
       "</tr>\n",
       "<tr>\n",
       "  <th>metro[T.Тестовская]</th>               <td> 6811.5538</td> <td> 1.24e+04</td> <td>    0.551</td> <td> 0.582</td> <td>-1.74e+04</td> <td> 3.11e+04</td>\n",
       "</tr>\n",
       "<tr>\n",
       "  <th>metro[T.Технопарк]</th>                <td> 2901.6870</td> <td> 6.86e+04</td> <td>    0.042</td> <td> 0.966</td> <td>-1.32e+05</td> <td> 1.37e+05</td>\n",
       "</tr>\n",
       "<tr>\n",
       "  <th>metro[T.Тимирязевская]</th>            <td> 3747.9713</td> <td> 3.98e+04</td> <td>    0.094</td> <td> 0.925</td> <td>-7.42e+04</td> <td> 8.17e+04</td>\n",
       "</tr>\n",
       "<tr>\n",
       "  <th>metro[T.Третьяковская]</th>            <td> 7.296e+04</td> <td> 1.75e+04</td> <td>    4.177</td> <td> 0.000</td> <td> 3.87e+04</td> <td> 1.07e+05</td>\n",
       "</tr>\n",
       "<tr>\n",
       "  <th>metro[T.Тропарево]</th>                <td>-6.366e+04</td> <td> 3.98e+04</td> <td>   -1.601</td> <td> 0.109</td> <td>-1.42e+05</td> <td> 1.43e+04</td>\n",
       "</tr>\n",
       "<tr>\n",
       "  <th>metro[T.Трубная]</th>                  <td> 1.154e+05</td> <td> 2.23e+04</td> <td>    5.163</td> <td> 0.000</td> <td> 7.16e+04</td> <td> 1.59e+05</td>\n",
       "</tr>\n",
       "<tr>\n",
       "  <th>metro[T.Тульская]</th>                 <td> 3.501e+04</td> <td>    4e+04</td> <td>    0.876</td> <td> 0.381</td> <td>-4.33e+04</td> <td> 1.13e+05</td>\n",
       "</tr>\n",
       "<tr>\n",
       "  <th>metro[T.Тургеневская]</th>             <td> 6.253e+04</td> <td> 2.26e+04</td> <td>    2.773</td> <td> 0.006</td> <td> 1.83e+04</td> <td> 1.07e+05</td>\n",
       "</tr>\n",
       "<tr>\n",
       "  <th>metro[T.Тушинская]</th>                <td>-1.673e+05</td> <td> 5.07e+04</td> <td>   -3.300</td> <td> 0.001</td> <td>-2.67e+05</td> <td>-6.79e+04</td>\n",
       "</tr>\n",
       "<tr>\n",
       "  <th>metro[T.Улица 1905 года]</th>          <td> 4.095e+04</td> <td> 1.59e+04</td> <td>    2.582</td> <td> 0.010</td> <td> 9861.663</td> <td>  7.2e+04</td>\n",
       "</tr>\n",
       "<tr>\n",
       "  <th>metro[T.Улица Академика Янгеля]</th>   <td>-1.889e+04</td> <td> 6.86e+04</td> <td>   -0.275</td> <td> 0.783</td> <td>-1.53e+05</td> <td> 1.16e+05</td>\n",
       "</tr>\n",
       "<tr>\n",
       "  <th>metro[T.Улица Горчакова]</th>          <td>-7.913e+04</td> <td> 6.88e+04</td> <td>   -1.151</td> <td> 0.250</td> <td>-2.14e+05</td> <td> 5.57e+04</td>\n",
       "</tr>\n",
       "<tr>\n",
       "  <th>metro[T.Улица Скобелевская]</th>       <td>-3026.2531</td> <td> 4.86e+04</td> <td>   -0.062</td> <td> 0.950</td> <td>-9.82e+04</td> <td> 9.22e+04</td>\n",
       "</tr>\n",
       "<tr>\n",
       "  <th>metro[T.Университет]</th>              <td>-2.845e+04</td> <td> 1.39e+04</td> <td>   -2.049</td> <td> 0.040</td> <td>-5.57e+04</td> <td>-1233.691</td>\n",
       "</tr>\n",
       "<tr>\n",
       "  <th>metro[T.Филевский парк]</th>           <td>-2.841e+04</td> <td> 3.45e+04</td> <td>   -0.824</td> <td> 0.410</td> <td> -9.6e+04</td> <td> 3.92e+04</td>\n",
       "</tr>\n",
       "<tr>\n",
       "  <th>metro[T.Фили]</th>                     <td> -3.47e+04</td> <td> 3.09e+04</td> <td>   -1.122</td> <td> 0.262</td> <td>-9.53e+04</td> <td> 2.59e+04</td>\n",
       "</tr>\n",
       "<tr>\n",
       "  <th>metro[T.Фонвизинская]</th>             <td> 3954.1912</td> <td> 6.86e+04</td> <td>    0.058</td> <td> 0.954</td> <td>-1.31e+05</td> <td> 1.38e+05</td>\n",
       "</tr>\n",
       "<tr>\n",
       "  <th>metro[T.Фрунзенская]</th>              <td> 2.115e+05</td> <td> 1.43e+04</td> <td>   14.801</td> <td> 0.000</td> <td> 1.84e+05</td> <td>  2.4e+05</td>\n",
       "</tr>\n",
       "<tr>\n",
       "  <th>metro[T.Хорошево]</th>                 <td>-1.298e+05</td> <td> 2.87e+04</td> <td>   -4.516</td> <td> 0.000</td> <td>-1.86e+05</td> <td>-7.35e+04</td>\n",
       "</tr>\n",
       "<tr>\n",
       "  <th>metro[T.Хорошевская]</th>              <td> 2.961e+04</td> <td> 6.87e+04</td> <td>    0.431</td> <td> 0.667</td> <td>-1.05e+05</td> <td> 1.64e+05</td>\n",
       "</tr>\n",
       "<tr>\n",
       "  <th>metro[T.ЦСКА]</th>                     <td>-1.019e+04</td> <td> 1.63e+04</td> <td>   -0.626</td> <td> 0.531</td> <td>-4.21e+04</td> <td> 2.17e+04</td>\n",
       "</tr>\n",
       "<tr>\n",
       "  <th>metro[T.Царицыно]</th>                 <td> 4866.4352</td> <td> 4.86e+04</td> <td>    0.100</td> <td> 0.920</td> <td>-9.05e+04</td> <td>    1e+05</td>\n",
       "</tr>\n",
       "<tr>\n",
       "  <th>metro[T.Цветной бульвар]</th>          <td> 1.943e+04</td> <td> 1.31e+04</td> <td>    1.480</td> <td> 0.139</td> <td>-6298.535</td> <td> 4.51e+04</td>\n",
       "</tr>\n",
       "<tr>\n",
       "  <th>metro[T.Черкизовская]</th>             <td>-7834.2488</td> <td> 6.87e+04</td> <td>   -0.114</td> <td> 0.909</td> <td>-1.42e+05</td> <td> 1.27e+05</td>\n",
       "</tr>\n",
       "<tr>\n",
       "  <th>metro[T.Чертановская]</th>             <td>-1.268e+04</td> <td> 6.86e+04</td> <td>   -0.185</td> <td> 0.853</td> <td>-1.47e+05</td> <td> 1.22e+05</td>\n",
       "</tr>\n",
       "<tr>\n",
       "  <th>metro[T.Чеховская]</th>                <td> 7.452e+04</td> <td> 2.48e+04</td> <td>    3.004</td> <td> 0.003</td> <td> 2.59e+04</td> <td> 1.23e+05</td>\n",
       "</tr>\n",
       "<tr>\n",
       "  <th>metro[T.Чистые пруды]</th>             <td> 1.366e+04</td> <td> 1.82e+04</td> <td>    0.752</td> <td> 0.452</td> <td>-2.19e+04</td> <td> 4.93e+04</td>\n",
       "</tr>\n",
       "<tr>\n",
       "  <th>metro[T.Чкаловская]</th>               <td> 6.201e+04</td> <td> 2.63e+04</td> <td>    2.358</td> <td> 0.018</td> <td> 1.05e+04</td> <td> 1.14e+05</td>\n",
       "</tr>\n",
       "<tr>\n",
       "  <th>metro[T.Шаболовская]</th>              <td>-1.131e+04</td> <td> 1.89e+04</td> <td>   -0.597</td> <td> 0.550</td> <td>-4.84e+04</td> <td> 2.58e+04</td>\n",
       "</tr>\n",
       "<tr>\n",
       "  <th>metro[T.Шелепиха]</th>                 <td>-4741.8940</td> <td> 1.89e+04</td> <td>   -0.251</td> <td> 0.801</td> <td>-4.17e+04</td> <td> 3.22e+04</td>\n",
       "</tr>\n",
       "<tr>\n",
       "  <th>metro[T.Шипиловская]</th>              <td>-2.599e+04</td> <td> 3.99e+04</td> <td>   -0.651</td> <td> 0.515</td> <td>-1.04e+05</td> <td> 5.22e+04</td>\n",
       "</tr>\n",
       "<tr>\n",
       "  <th>metro[T.Щелковская]</th>               <td>-8832.5875</td> <td> 3.98e+04</td> <td>   -0.222</td> <td> 0.824</td> <td>-8.68e+04</td> <td> 6.92e+04</td>\n",
       "</tr>\n",
       "<tr>\n",
       "  <th>metro[T.Щукинская]</th>                <td>-2.111e+04</td> <td> 2.12e+04</td> <td>   -0.994</td> <td> 0.320</td> <td>-6.27e+04</td> <td> 2.05e+04</td>\n",
       "</tr>\n",
       "<tr>\n",
       "  <th>metro[T.Электрозаводская]</th>         <td>-1.898e+04</td> <td> 6.86e+04</td> <td>   -0.277</td> <td> 0.782</td> <td>-1.53e+05</td> <td> 1.15e+05</td>\n",
       "</tr>\n",
       "<tr>\n",
       "  <th>metro[T.Юго-Западная]</th>             <td>-4.059e+04</td> <td> 2.32e+04</td> <td>   -1.751</td> <td> 0.080</td> <td> -8.6e+04</td> <td> 4853.952</td>\n",
       "</tr>\n",
       "<tr>\n",
       "  <th>metro[T.Южная]</th>                    <td> -2.79e+04</td> <td> 3.99e+04</td> <td>   -0.699</td> <td> 0.484</td> <td>-1.06e+05</td> <td> 5.03e+04</td>\n",
       "</tr>\n",
       "<tr>\n",
       "  <th>metro[T.Ясенево]</th>                  <td> 2596.2109</td> <td> 6.86e+04</td> <td>    0.038</td> <td> 0.970</td> <td>-1.32e+05</td> <td> 1.37e+05</td>\n",
       "</tr>\n",
       "<tr>\n",
       "  <th>type[T.апарт.]</th>                    <td> 4.169e+04</td> <td>  1.6e+04</td> <td>    2.608</td> <td> 0.009</td> <td> 1.04e+04</td> <td>  7.3e+04</td>\n",
       "</tr>\n",
       "<tr>\n",
       "  <th>type[T.кв.]</th>                       <td>-3.351e+04</td> <td> 1.54e+04</td> <td>   -2.175</td> <td> 0.030</td> <td>-6.37e+04</td> <td>-3306.750</td>\n",
       "</tr>\n",
       "<tr>\n",
       "  <th>S</th>                                 <td> 2795.6171</td> <td>   39.068</td> <td>   71.558</td> <td> 0.000</td> <td> 2719.035</td> <td> 2872.199</td>\n",
       "</tr>\n",
       "<tr>\n",
       "  <th>rooms</th>                             <td>-3.255e+04</td> <td> 2502.460</td> <td>  -13.009</td> <td> 0.000</td> <td>-3.75e+04</td> <td>-2.76e+04</td>\n",
       "</tr>\n",
       "<tr>\n",
       "  <th>dist_to_metro</th>                     <td> 1237.3036</td> <td>  127.153</td> <td>    9.731</td> <td> 0.000</td> <td>  988.055</td> <td> 1486.552</td>\n",
       "</tr>\n",
       "<tr>\n",
       "  <th>max_floor</th>                         <td>  560.4180</td> <td>  159.509</td> <td>    3.513</td> <td> 0.000</td> <td>  247.745</td> <td>  873.090</td>\n",
       "</tr>\n",
       "</table>\n",
       "<table class=\"simpletable\">\n",
       "<tr>\n",
       "  <th>Omnibus:</th>       <td>10531.671</td> <th>  Durbin-Watson:     </th>  <td>   1.721</td>  \n",
       "</tr>\n",
       "<tr>\n",
       "  <th>Prob(Omnibus):</th>  <td> 0.000</td>   <th>  Jarque-Bera (JB):  </th> <td>6793765.411</td>\n",
       "</tr>\n",
       "<tr>\n",
       "  <th>Skew:</th>           <td> 4.997</td>   <th>  Prob(JB):          </th>  <td>    0.00</td>  \n",
       "</tr>\n",
       "<tr>\n",
       "  <th>Kurtosis:</th>       <td>134.071</td>  <th>  Cond. No.          </th>  <td>1.43e+04</td>  \n",
       "</tr>\n",
       "</table><br/><br/>Warnings:<br/>[1] Standard Errors assume that the covariance matrix of the errors is correctly specified.<br/>[2] The condition number is large, 1.43e+04. This might indicate that there are<br/>strong multicollinearity or other numerical problems."
      ],
      "text/plain": [
       "<class 'statsmodels.iolib.summary.Summary'>\n",
       "\"\"\"\n",
       "                            OLS Regression Results                            \n",
       "==============================================================================\n",
       "Dep. Variable:                  price   R-squared:                       0.883\n",
       "Model:                            OLS   Adj. R-squared:                  0.880\n",
       "Method:                 Least Squares   F-statistic:                     368.1\n",
       "Date:                Tue, 13 Apr 2021   Prob (F-statistic):               0.00\n",
       "Time:                        15:56:21   Log-Likelihood:            -1.1835e+05\n",
       "No. Observations:                9436   AIC:                         2.371e+05\n",
       "Df Residuals:                    9246   BIC:                         2.384e+05\n",
       "Df Model:                         189                                         \n",
       "Covariance Type:            nonrobust                                         \n",
       "=====================================================================================================\n",
       "                                        coef    std err          t      P>|t|      [0.025      0.975]\n",
       "-----------------------------------------------------------------------------------------------------\n",
       "Intercept                         -1.321e+04   1.64e+04     -0.807      0.420   -4.53e+04    1.89e+04\n",
       "metro[T.Академическая]            -6132.8973   2.46e+04     -0.249      0.803   -5.44e+04    4.21e+04\n",
       "metro[T.Алексеевская]             -9.681e+04   4.91e+04     -1.971      0.049   -1.93e+05    -539.330\n",
       "metro[T.Алтуфьево]                -6.779e+04   4.02e+04     -1.687      0.092   -1.47e+05     1.1e+04\n",
       "metro[T.Аннино]                   -1.066e+04   4.86e+04     -0.220      0.826   -1.06e+05    8.45e+04\n",
       "metro[T.Арбатская]                 4.399e+04   1.44e+04      3.053      0.002    1.57e+04    7.22e+04\n",
       "metro[T.Аэропорт]                 -4.798e+04   1.46e+04     -3.280      0.001   -7.67e+04   -1.93e+04\n",
       "metro[T.Багратионовская]          -1.359e+04   6.86e+04     -0.198      0.843   -1.48e+05    1.21e+05\n",
       "metro[T.Балтийская]               -7753.2784   6.86e+04     -0.113      0.910   -1.42e+05    1.27e+05\n",
       "metro[T.Баррикадная]               2.786e+04   1.77e+04      1.571      0.116   -6901.279    6.26e+04\n",
       "metro[T.Бауманская]                 913.8098   2.73e+04      0.033      0.973   -5.26e+04    5.44e+04\n",
       "metro[T.Беговая]                  -2.879e+04   2.83e+04     -1.018      0.309   -8.42e+04    2.67e+04\n",
       "metro[T.Белокаменная]             -3.924e+04   4.86e+04     -0.807      0.420   -1.35e+05     5.6e+04\n",
       "metro[T.Беломорская]              -1.928e+04    3.1e+04     -0.622      0.534      -8e+04    4.14e+04\n",
       "metro[T.Белорусская]               5.303e+04    1.2e+04      4.412      0.000    2.95e+04    7.66e+04\n",
       "metro[T.Беляево]                  -1.239e+05   6.86e+04     -1.805      0.071   -2.58e+05    1.07e+04\n",
       "metro[T.Бибирево]                  1.749e+04   4.86e+04      0.360      0.719   -7.78e+04    1.13e+05\n",
       "metro[T.Библиотека им. Ленина]     8272.5579   2.85e+04      0.290      0.772   -4.76e+04    6.42e+04\n",
       "metro[T.Борисово]                 -2.988e+04   6.86e+04     -0.436      0.663   -1.64e+05    1.05e+05\n",
       "metro[T.Боровицкая]               -1.029e+05   3.12e+04     -3.300      0.001   -1.64e+05   -4.18e+04\n",
       "metro[T.Боровское шоссе]          -9317.7927   3.45e+04     -0.270      0.787   -7.69e+04    5.83e+04\n",
       "metro[T.Ботанический сад]         -2.724e+04   6.86e+04     -0.397      0.691   -1.62e+05    1.07e+05\n",
       "metro[T.Братиславская]            -3.098e+04   4.86e+04     -0.638      0.524   -1.26e+05    6.42e+04\n",
       "metro[T.Бульвар Дмитрия Донского] -1.617e+04   4.86e+04     -0.333      0.739   -1.11e+05    7.91e+04\n",
       "metro[T.Бульвар Рокоссовского]    -1.183e+04   3.09e+04     -0.382      0.702   -7.25e+04    4.88e+04\n",
       "metro[T.Бунинская аллея]          -3.037e+04   2.83e+04     -1.072      0.284   -8.59e+04    2.52e+04\n",
       "metro[T.ВДНХ]                     -8.296e+04   3.63e+04     -2.287      0.022   -1.54e+05   -1.18e+04\n",
       "metro[T.Верхние котлы]             3.783e+04   6.86e+04      0.551      0.581   -9.67e+04    1.72e+05\n",
       "metro[T.Владыкино]                 2.253e+04   1.63e+04      1.382      0.167   -9416.573    5.45e+04\n",
       "metro[T.Водный стадион]           -3.871e+04   1.95e+04     -1.983      0.047    -7.7e+04    -440.532\n",
       "metro[T.Войковская]               -1.422e+05   2.14e+04     -6.633      0.000   -1.84e+05      -1e+05\n",
       "metro[T.Воробьевы горы]             1.86e+05      4e+04      4.651      0.000    1.08e+05    2.64e+05\n",
       "metro[T.Выставочная]               4539.3443   1.48e+04      0.307      0.759   -2.44e+04    3.35e+04\n",
       "metro[T.Выхино]                   -1.643e+04   4.86e+04     -0.338      0.735   -1.12e+05    7.89e+04\n",
       "metro[T.Говорово]                 -7.415e+04   3.97e+04     -1.866      0.062   -1.52e+05    3750.951\n",
       "metro[T.Гражданская]              -2.873e+04    3.1e+04     -0.927      0.354   -8.95e+04     3.2e+04\n",
       "metro[T.Давыдково]                -5.575e+04   3.99e+04     -1.397      0.162   -1.34e+05    2.25e+04\n",
       "metro[T.Деловой центр]            -8.823e+04   1.19e+04     -7.426      0.000   -1.12e+05   -6.49e+04\n",
       "metro[T.Динамо]                    4.796e+04   1.68e+04      2.850      0.004     1.5e+04    8.09e+04\n",
       "metro[T.Дмитровская]              -3312.5747   3.09e+04     -0.107      0.915   -6.38e+04    5.72e+04\n",
       "metro[T.Добрынинская]             -1.438e+05   2.68e+04     -5.361      0.000   -1.96e+05   -9.12e+04\n",
       "metro[T.Домодедовская]             9083.4890   3.45e+04      0.263      0.792   -5.86e+04    7.67e+04\n",
       "metro[T.Достоевская]               -7.73e+04   2.13e+04     -3.622      0.000   -1.19e+05   -3.55e+04\n",
       "metro[T.Дубровка]                 -5.599e+04   4.86e+04     -1.151      0.250   -1.51e+05    3.94e+04\n",
       "metro[T.Жулебино]                 -5.737e+04   4.86e+04     -1.180      0.238   -1.53e+05    3.79e+04\n",
       "metro[T.ЗИЛ]                      -5.045e+04   4.95e+04     -1.020      0.308   -1.47e+05    4.65e+04\n",
       "metro[T.Измайлово]                 2.374e+04   6.86e+04      0.346      0.729   -1.11e+05    1.58e+05\n",
       "metro[T.Калужская]                -7.068e+04   3.11e+04     -2.272      0.023   -1.32e+05   -9692.074\n",
       "metro[T.Кантемировская]            1.183e+04   4.86e+04      0.243      0.808   -8.34e+04    1.07e+05\n",
       "metro[T.Каховская]                -7584.3813   6.87e+04     -0.110      0.912   -1.42e+05    1.27e+05\n",
       "metro[T.Киевская]                  7.724e+04   1.29e+04      5.967      0.000    5.19e+04    1.03e+05\n",
       "metro[T.Китай-город]                1.45e+04   3.46e+04      0.419      0.675   -5.34e+04    8.24e+04\n",
       "metro[T.Коломенская]              -1.216e+04   2.46e+04     -0.494      0.621   -6.04e+04    3.61e+04\n",
       "metro[T.Комсомольская]             -4.96e+04   4.95e+04     -1.002      0.317   -1.47e+05    4.75e+04\n",
       "metro[T.Коньково]                 -2.543e+05   4.87e+04     -5.222      0.000    -3.5e+05   -1.59e+05\n",
       "metro[T.Косино]                   -9.331e+04   6.86e+04     -1.361      0.174   -2.28e+05    4.11e+04\n",
       "metro[T.Краснопресненская]         2.369e+04   6.86e+04      0.345      0.730   -1.11e+05    1.58e+05\n",
       "metro[T.Красносельская]            1877.5071   2.68e+04      0.070      0.944   -5.06e+04    5.43e+04\n",
       "metro[T.Красные ворота]            5.286e+04   1.97e+04      2.681      0.007    1.42e+04    9.15e+04\n",
       "metro[T.Красный Балтиец]           2.998e+04   4.86e+04      0.617      0.538   -6.53e+04    1.25e+05\n",
       "metro[T.Красный Строитель]         2.709e+04   6.86e+04      0.395      0.693   -1.07e+05    1.62e+05\n",
       "metro[T.Крестьянская застава]      2.622e+04   4.86e+04      0.540      0.589    -6.9e+04    1.21e+05\n",
       "metro[T.Кропоткинская]             3.666e+05   7546.019     48.582      0.000    3.52e+05    3.81e+05\n",
       "metro[T.Крылатское]               -1.125e+05   9506.400    -11.830      0.000   -1.31e+05   -9.38e+04\n",
       "metro[T.Крымская]                  -1.23e+04   6.86e+04     -0.179      0.858   -1.47e+05    1.22e+05\n",
       "metro[T.Кузнецкий мост]            2453.2190      4e+04      0.061      0.951   -7.59e+04    8.08e+04\n",
       "metro[T.Кузьминки]                 2305.5814   8547.845      0.270      0.787   -1.45e+04    1.91e+04\n",
       "metro[T.Кунцевская]               -1.705e+05   2.63e+04     -6.476      0.000   -2.22e+05   -1.19e+05\n",
       "metro[T.Курская]                   1.502e+05   1.79e+04      8.370      0.000    1.15e+05    1.85e+05\n",
       "metro[T.Кутузовская]               1.836e+05   6.87e+04      2.674      0.008     4.9e+04    3.18e+05\n",
       "metro[T.Ленинский проспект]        5372.3613    3.1e+04      0.173      0.863   -5.55e+04    6.62e+04\n",
       "metro[T.Ломоносовский проспект]   -9.221e+04   1.63e+04     -5.643      0.000   -1.24e+05   -6.02e+04\n",
       "metro[T.Лубянка]                   8.048e+04   2.26e+04      3.557      0.000    3.61e+04    1.25e+05\n",
       "metro[T.Лужники]                   1.724e+04   4.86e+04      0.354      0.723   -7.81e+04    1.13e+05\n",
       "metro[T.Люблино]                  -1.223e+04   5947.739     -2.056      0.040   -2.39e+04    -569.858\n",
       "metro[T.Марксистская]               1.39e+04   4.86e+04      0.286      0.775   -8.14e+04    1.09e+05\n",
       "metro[T.Марьино]                   -1.95e+04   4.86e+04     -0.401      0.688   -1.15e+05    7.58e+04\n",
       "metro[T.Маяковская]                6.056e+04   1.08e+04      5.591      0.000    3.93e+04    8.18e+04\n",
       "metro[T.Медведково]                5578.3461   4.86e+04      0.115      0.909   -8.98e+04    1.01e+05\n",
       "metro[T.Международная]             2186.7212   1.23e+04      0.178      0.859   -2.19e+04    2.63e+04\n",
       "metro[T.Менделеевская]            -8.651e+04   2.85e+04     -3.039      0.002   -1.42e+05   -3.07e+04\n",
       "metro[T.Минская]                   1.153e+05   9669.121     11.928      0.000    9.64e+04    1.34e+05\n",
       "metro[T.Митино]                   -1.352e+04   6.86e+04     -0.197      0.844   -1.48e+05    1.21e+05\n",
       "metro[T.Мичуринский проспект]      3.848e+04   2.83e+04      1.362      0.173   -1.69e+04    9.39e+04\n",
       "metro[T.Молодежная]                7867.8996   2.03e+04      0.388      0.698   -3.19e+04    4.76e+04\n",
       "metro[T.Москва-Товарная]           3.291e+04   6.86e+04      0.480      0.632   -1.02e+05    1.67e+05\n",
       "metro[T.Нагатинская]              -9306.1023   6.86e+04     -0.136      0.892   -1.44e+05    1.25e+05\n",
       "metro[T.Нахимовский проспект]       1.96e+04   3.98e+04      0.493      0.622   -5.84e+04    9.76e+04\n",
       "metro[T.Некрасовка]               -3.411e+04   6.86e+04     -0.497      0.619   -1.69e+05       1e+05\n",
       "metro[T.Нижегородская]            -6743.3717   4.86e+04     -0.139      0.890   -1.02e+05    8.85e+04\n",
       "metro[T.Новогиреево]              -1.687e+04   3.45e+04     -0.488      0.625   -8.46e+04    5.08e+04\n",
       "metro[T.Новокосино]               -4.644e+04   3.99e+04     -1.164      0.245   -1.25e+05    3.18e+04\n",
       "metro[T.Новокузнецкая]             6.396e+04   1.97e+04      3.249      0.001    2.54e+04    1.03e+05\n",
       "metro[T.Новослободская]            5.659e+04   2.65e+04      2.132      0.033    4567.268    1.09e+05\n",
       "metro[T.Новые Черемушки]          -6.044e+04   2.02e+04     -2.992      0.003      -1e+05   -2.08e+04\n",
       "metro[T.Озерная]                  -4.228e+04   2.82e+04     -1.497      0.135   -9.77e+04    1.31e+04\n",
       "metro[T.Окружная]                  1.049e+04   4.11e+04      0.255      0.799   -7.01e+04    9.11e+04\n",
       "metro[T.Октябрьская]               6.585e+04   2.23e+04      2.952      0.003    2.21e+04     1.1e+05\n",
       "metro[T.Октябрьское поле]         -4.418e+04   2.21e+04     -1.998      0.046   -8.75e+04    -832.467\n",
       "metro[T.Остафьево]                 1.221e+04   4.86e+04      0.251      0.802    -8.3e+04    1.07e+05\n",
       "metro[T.Отрадное]                  -1.78e+04   4.01e+04     -0.444      0.657   -9.63e+04    6.07e+04\n",
       "metro[T.Охотный ряд]               1.425e+05   1.96e+04      7.270      0.000    1.04e+05    1.81e+05\n",
       "metro[T.Павелецкая]                5584.7018   1.75e+04      0.319      0.750   -2.87e+04    3.99e+04\n",
       "metro[T.Панфиловская]             -1.345e+05   3.09e+04     -4.352      0.000   -1.95e+05   -7.39e+04\n",
       "metro[T.Парк Культуры]             3.268e+05   6120.665     53.391      0.000    3.15e+05    3.39e+05\n",
       "metro[T.Парк Победы]              -7.118e+04   2.03e+04     -3.499      0.000   -1.11e+05   -3.13e+04\n",
       "metro[T.Перово]                   -3731.1824   4.87e+04     -0.077      0.939   -9.91e+04    9.16e+04\n",
       "metro[T.Петровский Парк]           7228.1712   2.89e+04      0.250      0.802   -4.94e+04    6.38e+04\n",
       "metro[T.Пионерская]                3285.9559   4.86e+04      0.068      0.946    -9.2e+04    9.86e+04\n",
       "metro[T.Покровское-Стрешнево]     -6.777e+04   6.87e+04     -0.987      0.324   -2.02e+05    6.69e+04\n",
       "metro[T.Полежаевская]              2.775e+04   4.88e+04      0.569      0.570   -6.79e+04    1.23e+05\n",
       "metro[T.Полянка]                   9.881e+04   1.61e+04      6.153      0.000    6.73e+04     1.3e+05\n",
       "metro[T.Пражская]                 -1.726e+04   6.86e+04     -0.252      0.801   -1.52e+05    1.17e+05\n",
       "metro[T.Преображенская площадь]   -9564.4396   2.33e+04     -0.411      0.681   -5.52e+04    3.61e+04\n",
       "metro[T.Пролетарская]              1.909e+04   3.45e+04      0.554      0.580   -4.85e+04    8.67e+04\n",
       "metro[T.Проспект Вернадского]     -9.884e+04   1.64e+04     -6.021      0.000   -1.31e+05   -6.67e+04\n",
       "metro[T.Проспект Мира]             9129.5709   3.45e+04      0.265      0.791   -5.85e+04    7.68e+04\n",
       "metro[T.Профсоюзная]                -5.1e+04   2.82e+04     -1.807      0.071   -1.06e+05    4334.636\n",
       "metro[T.Пушкинская]                9.915e+04   1.23e+04      8.086      0.000    7.51e+04    1.23e+05\n",
       "metro[T.Раменки]                  -4568.3499   1.67e+04     -0.273      0.785   -3.74e+04    2.82e+04\n",
       "metro[T.Рассказовка]              -9375.5717   4.86e+04     -0.193      0.847   -1.05e+05    8.58e+04\n",
       "metro[T.Речной вокзал]             1.174e+04   4.87e+04      0.241      0.809   -8.36e+04    1.07e+05\n",
       "metro[T.Рижская]                  -7.319e+04   4.86e+04     -1.505      0.132   -1.69e+05    2.22e+04\n",
       "metro[T.Римская]                  -2.453e+04   6.86e+04     -0.358      0.721   -1.59e+05     1.1e+05\n",
       "metro[T.Ростокино]                -1.217e+05   4.86e+04     -2.504      0.012   -2.17e+05   -2.64e+04\n",
       "metro[T.Савеловская]               5.547e+04   2.84e+04      1.950      0.051    -290.963    1.11e+05\n",
       "metro[T.Свиблово]                 -2.774e+04   6.87e+04     -0.404      0.686   -1.62e+05    1.07e+05\n",
       "metro[T.Севастопольская]          -6323.0341   4.86e+04     -0.130      0.897   -1.02e+05     8.9e+04\n",
       "metro[T.Селигерская]              -2553.7867   3.47e+04     -0.074      0.941   -7.05e+04    6.54e+04\n",
       "metro[T.Семеновская]              -4.884e+04   4.88e+04     -1.001      0.317   -1.45e+05    4.68e+04\n",
       "metro[T.Серпуховская]              3.528e+04   2.46e+04      1.433      0.152    -1.3e+04    8.36e+04\n",
       "metro[T.Славянский бульвар]       -4.842e+04   1.72e+04     -2.820      0.005   -8.21e+04   -1.48e+04\n",
       "metro[T.Смоленская]                9.714e+04   9504.160     10.221      0.000    7.85e+04    1.16e+05\n",
       "metro[T.Сокол]                    -7551.0027   1.81e+04     -0.417      0.677    -4.3e+04    2.79e+04\n",
       "metro[T.Соколиная гора]           -6137.7066   6.86e+04     -0.090      0.929   -1.41e+05    1.28e+05\n",
       "metro[T.Сокольники]               -1.052e+04   3.09e+04     -0.340      0.734   -7.11e+04    5.01e+04\n",
       "metro[T.Спартак]                   1.117e+04   6.86e+04      0.163      0.871   -1.23e+05    1.46e+05\n",
       "metro[T.Спортивная]                  2.1e+05   1.66e+04     12.680      0.000    1.78e+05    2.42e+05\n",
       "metro[T.Сретенский бульвар]       -1.618e+04    2.5e+04     -0.647      0.517   -6.52e+04    3.28e+04\n",
       "metro[T.Стрешнево]                -4.722e+04    3.5e+04     -1.351      0.177   -1.16e+05    2.13e+04\n",
       "metro[T.Строгино]                 -3.541e+04   3.09e+04     -1.147      0.252   -9.59e+04    2.51e+04\n",
       "metro[T.Студенческая]             -1.086e+04    3.1e+04     -0.350      0.727   -7.17e+04       5e+04\n",
       "metro[T.Сухаревская]              -1.673e+04   1.75e+04     -0.954      0.340   -5.11e+04    1.76e+04\n",
       "metro[T.Таганская]                 6.477e+04   2.21e+04      2.934      0.003    2.15e+04    1.08e+05\n",
       "metro[T.Тверская]                  4.551e+04   1.29e+04      3.532      0.000    2.03e+04    7.08e+04\n",
       "metro[T.Театральная]                7.02e+04    3.1e+04      2.263      0.024    9379.768    1.31e+05\n",
       "metro[T.Текстильщики]             -3.927e+04   6.86e+04     -0.573      0.567   -1.74e+05    9.52e+04\n",
       "metro[T.Тестовская]                6811.5538   1.24e+04      0.551      0.582   -1.74e+04    3.11e+04\n",
       "metro[T.Технопарк]                 2901.6870   6.86e+04      0.042      0.966   -1.32e+05    1.37e+05\n",
       "metro[T.Тимирязевская]             3747.9713   3.98e+04      0.094      0.925   -7.42e+04    8.17e+04\n",
       "metro[T.Третьяковская]             7.296e+04   1.75e+04      4.177      0.000    3.87e+04    1.07e+05\n",
       "metro[T.Тропарево]                -6.366e+04   3.98e+04     -1.601      0.109   -1.42e+05    1.43e+04\n",
       "metro[T.Трубная]                   1.154e+05   2.23e+04      5.163      0.000    7.16e+04    1.59e+05\n",
       "metro[T.Тульская]                  3.501e+04      4e+04      0.876      0.381   -4.33e+04    1.13e+05\n",
       "metro[T.Тургеневская]              6.253e+04   2.26e+04      2.773      0.006    1.83e+04    1.07e+05\n",
       "metro[T.Тушинская]                -1.673e+05   5.07e+04     -3.300      0.001   -2.67e+05   -6.79e+04\n",
       "metro[T.Улица 1905 года]           4.095e+04   1.59e+04      2.582      0.010    9861.663     7.2e+04\n",
       "metro[T.Улица Академика Янгеля]   -1.889e+04   6.86e+04     -0.275      0.783   -1.53e+05    1.16e+05\n",
       "metro[T.Улица Горчакова]          -7.913e+04   6.88e+04     -1.151      0.250   -2.14e+05    5.57e+04\n",
       "metro[T.Улица Скобелевская]       -3026.2531   4.86e+04     -0.062      0.950   -9.82e+04    9.22e+04\n",
       "metro[T.Университет]              -2.845e+04   1.39e+04     -2.049      0.040   -5.57e+04   -1233.691\n",
       "metro[T.Филевский парк]           -2.841e+04   3.45e+04     -0.824      0.410    -9.6e+04    3.92e+04\n",
       "metro[T.Фили]                      -3.47e+04   3.09e+04     -1.122      0.262   -9.53e+04    2.59e+04\n",
       "metro[T.Фонвизинская]              3954.1912   6.86e+04      0.058      0.954   -1.31e+05    1.38e+05\n",
       "metro[T.Фрунзенская]               2.115e+05   1.43e+04     14.801      0.000    1.84e+05     2.4e+05\n",
       "metro[T.Хорошево]                 -1.298e+05   2.87e+04     -4.516      0.000   -1.86e+05   -7.35e+04\n",
       "metro[T.Хорошевская]               2.961e+04   6.87e+04      0.431      0.667   -1.05e+05    1.64e+05\n",
       "metro[T.ЦСКА]                     -1.019e+04   1.63e+04     -0.626      0.531   -4.21e+04    2.17e+04\n",
       "metro[T.Царицыно]                  4866.4352   4.86e+04      0.100      0.920   -9.05e+04       1e+05\n",
       "metro[T.Цветной бульвар]           1.943e+04   1.31e+04      1.480      0.139   -6298.535    4.51e+04\n",
       "metro[T.Черкизовская]             -7834.2488   6.87e+04     -0.114      0.909   -1.42e+05    1.27e+05\n",
       "metro[T.Чертановская]             -1.268e+04   6.86e+04     -0.185      0.853   -1.47e+05    1.22e+05\n",
       "metro[T.Чеховская]                 7.452e+04   2.48e+04      3.004      0.003    2.59e+04    1.23e+05\n",
       "metro[T.Чистые пруды]              1.366e+04   1.82e+04      0.752      0.452   -2.19e+04    4.93e+04\n",
       "metro[T.Чкаловская]                6.201e+04   2.63e+04      2.358      0.018    1.05e+04    1.14e+05\n",
       "metro[T.Шаболовская]              -1.131e+04   1.89e+04     -0.597      0.550   -4.84e+04    2.58e+04\n",
       "metro[T.Шелепиха]                 -4741.8940   1.89e+04     -0.251      0.801   -4.17e+04    3.22e+04\n",
       "metro[T.Шипиловская]              -2.599e+04   3.99e+04     -0.651      0.515   -1.04e+05    5.22e+04\n",
       "metro[T.Щелковская]               -8832.5875   3.98e+04     -0.222      0.824   -8.68e+04    6.92e+04\n",
       "metro[T.Щукинская]                -2.111e+04   2.12e+04     -0.994      0.320   -6.27e+04    2.05e+04\n",
       "metro[T.Электрозаводская]         -1.898e+04   6.86e+04     -0.277      0.782   -1.53e+05    1.15e+05\n",
       "metro[T.Юго-Западная]             -4.059e+04   2.32e+04     -1.751      0.080    -8.6e+04    4853.952\n",
       "metro[T.Южная]                     -2.79e+04   3.99e+04     -0.699      0.484   -1.06e+05    5.03e+04\n",
       "metro[T.Ясенево]                   2596.2109   6.86e+04      0.038      0.970   -1.32e+05    1.37e+05\n",
       "type[T.апарт.]                     4.169e+04    1.6e+04      2.608      0.009    1.04e+04     7.3e+04\n",
       "type[T.кв.]                       -3.351e+04   1.54e+04     -2.175      0.030   -6.37e+04   -3306.750\n",
       "S                                  2795.6171     39.068     71.558      0.000    2719.035    2872.199\n",
       "rooms                             -3.255e+04   2502.460    -13.009      0.000   -3.75e+04   -2.76e+04\n",
       "dist_to_metro                      1237.3036    127.153      9.731      0.000     988.055    1486.552\n",
       "max_floor                           560.4180    159.509      3.513      0.000     247.745     873.090\n",
       "==============================================================================\n",
       "Omnibus:                    10531.671   Durbin-Watson:                   1.721\n",
       "Prob(Omnibus):                  0.000   Jarque-Bera (JB):          6793765.411\n",
       "Skew:                           4.997   Prob(JB):                         0.00\n",
       "Kurtosis:                     134.071   Cond. No.                     1.43e+04\n",
       "==============================================================================\n",
       "\n",
       "Warnings:\n",
       "[1] Standard Errors assume that the covariance matrix of the errors is correctly specified.\n",
       "[2] The condition number is large, 1.43e+04. This might indicate that there are\n",
       "strong multicollinearity or other numerical problems.\n",
       "\"\"\""
      ]
     },
     "execution_count": 32,
     "metadata": {},
     "output_type": "execute_result"
    }
   ],
   "source": [
    "import statsmodels.formula.api as smf\n",
    "model = smf.ols('price ~ metro + S + rooms + dist_to_metro+type+max_floor', data=df2)\n",
    "res = model.fit()\n",
    "res.summary()\n",
    "#Prob (F-statistic):0.00, модель значима"
   ]
  },
  {
   "cell_type": "code",
   "execution_count": 33,
   "metadata": {},
   "outputs": [
    {
     "name": "stdout",
     "output_type": "stream",
     "text": [
      "(8451, 7)\n",
      "(6325, 7)\n",
      "(5897, 7)\n",
      "(5897, 7)\n",
      "(5897, 7)\n",
      "(5897, 7)\n",
      "(5897, 7)\n",
      "(5897, 7)\n"
     ]
    }
   ],
   "source": [
    "df3=df2.copy()\n",
    "c=['price']\n",
    "#удалим выбросы цен\n",
    "for i in range(8):\n",
    "    for col in c:\n",
    "        if 'str' not in str(type(df3[col].iloc[0])):\n",
    "            IQR=df3.describe()[col][\"75%\"]-df3.describe()[col][\"25%\"]\n",
    "            outliers=[df3.describe()[col][\"25%\"]-1.5*IQR,df3.describe()[col][\"75%\"]+1.5*IQR]\n",
    "            df3=df3[df3[col]<=outliers[1]]\n",
    "            df3=df3[df3[col]>=outliers[0]]\n",
    "    print(df3.shape)"
   ]
  },
  {
   "cell_type": "code",
   "execution_count": 34,
   "metadata": {},
   "outputs": [
    {
     "data": {
      "image/png": "[encoded data removed]",
      "text/plain": [
       "<Figure size 720x360 with 1 Axes>"
      ]
     },
     "metadata": {
      "needs_background": "light"
     },
     "output_type": "display_data"
    }
   ],
   "source": [
    "plt.figure(figsize = (10, 5))\n",
    "df2['price'].plot(kind = 'box', color = \"g\")\n",
    "plt.title('Ящиковая даиграмма цен на квартиры до удаления аномальных значений', fontsize = 15)\n",
    "plt.grid(True)"
   ]
  },
  {
   "cell_type": "code",
   "execution_count": 35,
   "metadata": {},
   "outputs": [
    {
     "data": {
      "image/png": "[encoded data removed]",
      "text/plain": [
       "<Figure size 720x360 with 1 Axes>"
      ]
     },
     "metadata": {
      "needs_background": "light"
     },
     "output_type": "display_data"
    }
   ],
   "source": [
    "plt.figure(figsize = (10, 5))\n",
    "df3['price'].plot(kind = 'box', color = \"g\")\n",
    "plt.title('Ящиковая даиграмма цен на квартиры после удаления аномальных значений', fontsize = 15)\n",
    "plt.grid(True)"
   ]
  },
  {
   "cell_type": "code",
   "execution_count": 36,
   "metadata": {},
   "outputs": [
    {
     "data": {
      "text/plain": [
       "<matplotlib.axes._subplots.AxesSubplot at 0x17f1dd06ac8>"
      ]
     },
     "execution_count": 36,
     "metadata": {},
     "output_type": "execute_result"
    },
    {
     "data": {
      "image/png": "[encoded data removed]",
      "text/plain": [
       "<Figure size 720x360 with 1 Axes>"
      ]
     },
     "metadata": {
      "needs_background": "light"
     },
     "output_type": "display_data"
    }
   ],
   "source": [
    "plt.figure(figsize = (10, 5))\n",
    "df3['price'].hist()"
   ]
  },
  {
   "cell_type": "code",
   "execution_count": 37,
   "metadata": {},
   "outputs": [
    {
     "data": {
      "text/html": [
       "<div>\n",
       "<style scoped>\n",
       "    .dataframe tbody tr th:only-of-type {\n",
       "        vertical-align: middle;\n",
       "    }\n",
       "\n",
       "    .dataframe tbody tr th {\n",
       "        vertical-align: top;\n",
       "    }\n",
       "\n",
       "    .dataframe thead th {\n",
       "        text-align: right;\n",
       "    }\n",
       "</style>\n",
       "<table border=\"1\" class=\"dataframe\">\n",
       "  <thead>\n",
       "    <tr style=\"text-align: right;\">\n",
       "      <th></th>\n",
       "      <th>metro</th>\n",
       "      <th>S</th>\n",
       "      <th>rooms</th>\n",
       "      <th>dist_to_metro</th>\n",
       "      <th>type</th>\n",
       "      <th>max_floor</th>\n",
       "      <th>price</th>\n",
       "    </tr>\n",
       "  </thead>\n",
       "  <tbody>\n",
       "    <tr>\n",
       "      <th>0</th>\n",
       "      <td>-0.1</td>\n",
       "      <td>-0.5</td>\n",
       "      <td>-0.3</td>\n",
       "      <td>-0.0</td>\n",
       "      <td>0.4</td>\n",
       "      <td>0.4</td>\n",
       "      <td>170000</td>\n",
       "    </tr>\n",
       "    <tr>\n",
       "      <th>1</th>\n",
       "      <td>-0.1</td>\n",
       "      <td>-0.6</td>\n",
       "      <td>-0.3</td>\n",
       "      <td>-0.0</td>\n",
       "      <td>0.4</td>\n",
       "      <td>0.5</td>\n",
       "      <td>170000</td>\n",
       "    </tr>\n",
       "    <tr>\n",
       "      <th>2</th>\n",
       "      <td>-0.1</td>\n",
       "      <td>-0.3</td>\n",
       "      <td>-0.3</td>\n",
       "      <td>-0.6</td>\n",
       "      <td>0.4</td>\n",
       "      <td>0.5</td>\n",
       "      <td>169999</td>\n",
       "    </tr>\n",
       "    <tr>\n",
       "      <th>3</th>\n",
       "      <td>-0.1</td>\n",
       "      <td>-0.3</td>\n",
       "      <td>-0.3</td>\n",
       "      <td>-0.0</td>\n",
       "      <td>0.4</td>\n",
       "      <td>0.8</td>\n",
       "      <td>230000</td>\n",
       "    </tr>\n",
       "    <tr>\n",
       "      <th>4</th>\n",
       "      <td>-2.5</td>\n",
       "      <td>-0.3</td>\n",
       "      <td>-0.3</td>\n",
       "      <td>1.4</td>\n",
       "      <td>-2.4</td>\n",
       "      <td>-2.0</td>\n",
       "      <td>115100</td>\n",
       "    </tr>\n",
       "    <tr>\n",
       "      <th>...</th>\n",
       "      <td>...</td>\n",
       "      <td>...</td>\n",
       "      <td>...</td>\n",
       "      <td>...</td>\n",
       "      <td>...</td>\n",
       "      <td>...</td>\n",
       "      <td>...</td>\n",
       "    </tr>\n",
       "    <tr>\n",
       "      <th>5892</th>\n",
       "      <td>-0.1</td>\n",
       "      <td>-0.6</td>\n",
       "      <td>-0.3</td>\n",
       "      <td>-0.0</td>\n",
       "      <td>0.4</td>\n",
       "      <td>0.3</td>\n",
       "      <td>200000</td>\n",
       "    </tr>\n",
       "    <tr>\n",
       "      <th>5893</th>\n",
       "      <td>-0.1</td>\n",
       "      <td>-0.5</td>\n",
       "      <td>-0.3</td>\n",
       "      <td>-0.2</td>\n",
       "      <td>0.4</td>\n",
       "      <td>0.8</td>\n",
       "      <td>200000</td>\n",
       "    </tr>\n",
       "    <tr>\n",
       "      <th>5894</th>\n",
       "      <td>-0.1</td>\n",
       "      <td>-0.1</td>\n",
       "      <td>-0.3</td>\n",
       "      <td>-0.6</td>\n",
       "      <td>0.4</td>\n",
       "      <td>0.8</td>\n",
       "      <td>199000</td>\n",
       "    </tr>\n",
       "    <tr>\n",
       "      <th>5895</th>\n",
       "      <td>-0.3</td>\n",
       "      <td>-0.6</td>\n",
       "      <td>-0.3</td>\n",
       "      <td>-0.4</td>\n",
       "      <td>0.4</td>\n",
       "      <td>0.4</td>\n",
       "      <td>200000</td>\n",
       "    </tr>\n",
       "    <tr>\n",
       "      <th>5896</th>\n",
       "      <td>-0.1</td>\n",
       "      <td>-0.5</td>\n",
       "      <td>-0.3</td>\n",
       "      <td>-0.6</td>\n",
       "      <td>0.4</td>\n",
       "      <td>0.5</td>\n",
       "      <td>219999</td>\n",
       "    </tr>\n",
       "  </tbody>\n",
       "</table>\n",
       "<p>5897 rows × 7 columns</p>\n",
       "</div>"
      ],
      "text/plain": [
       "      metro    S  rooms  dist_to_metro  type  max_floor   price\n",
       "0      -0.1 -0.5   -0.3           -0.0   0.4        0.4  170000\n",
       "1      -0.1 -0.6   -0.3           -0.0   0.4        0.5  170000\n",
       "2      -0.1 -0.3   -0.3           -0.6   0.4        0.5  169999\n",
       "3      -0.1 -0.3   -0.3           -0.0   0.4        0.8  230000\n",
       "4      -2.5 -0.3   -0.3            1.4  -2.4       -2.0  115100\n",
       "...     ...  ...    ...            ...   ...        ...     ...\n",
       "5892   -0.1 -0.6   -0.3           -0.0   0.4        0.3  200000\n",
       "5893   -0.1 -0.5   -0.3           -0.2   0.4        0.8  200000\n",
       "5894   -0.1 -0.1   -0.3           -0.6   0.4        0.8  199000\n",
       "5895   -0.3 -0.6   -0.3           -0.4   0.4        0.4  200000\n",
       "5896   -0.1 -0.5   -0.3           -0.6   0.4        0.5  219999\n",
       "\n",
       "[5897 rows x 7 columns]"
      ]
     },
     "execution_count": 37,
     "metadata": {},
     "output_type": "execute_result"
    }
   ],
   "source": [
    "import category_encoders as ce\n",
    "\n",
    "encoder=ce.TargetEncoder()\n",
    "X=df3.drop('price', axis=1)\n",
    "y=df3['price']\n",
    "\n",
    "encoder.fit(X, y)\n",
    "X=encoder.transform(X)\n",
    "\n",
    "cols=X.columns.tolist()\n",
    "scaler = StandardScaler().fit(X)\n",
    "X=scaler.transform(X)\n",
    "X=pd.DataFrame(X,columns=cols)\n",
    "\n",
    "y.index=range(y.shape[0])\n",
    "df4=X.join(y)\n",
    "df4"
   ]
  },
  {
   "cell_type": "code",
   "execution_count": 38,
   "metadata": {},
   "outputs": [],
   "source": [
    "X_train, X_test, y_train, y_test = train_test_split(X, y, test_size=0.3, random_state=0)"
   ]
  },
  {
   "cell_type": "markdown",
   "metadata": {},
   "source": [
    "# Предсказание цены"
   ]
  },
  {
   "cell_type": "markdown",
   "metadata": {},
   "source": [
    "# DT"
   ]
  },
  {
   "cell_type": "code",
   "execution_count": 40,
   "metadata": {},
   "outputs": [
    {
     "name": "stdout",
     "output_type": "stream",
     "text": [
      "Score тестовой: 0.7995604874193781\n",
      "Score обучающей: 0.810970885683479\n",
      "MSE for DT: 360004389.57162195\n",
      "R^2 = 0.7995604874193781\n"
     ]
    },
    {
     "data": {
      "text/plain": [
       "array([0.77633376, 0.82970431, 0.80822723, 0.76865869])"
      ]
     },
     "execution_count": 40,
     "metadata": {},
     "output_type": "execute_result"
    }
   ],
   "source": [
    "from sklearn.tree import DecisionTreeRegressor\n",
    "from sklearn.model_selection import GridSearchCV, cross_val_score\n",
    "from sklearn.metrics import accuracy_score\n",
    "from sklearn.model_selection import cross_val_score\n",
    "\n",
    "tree = DecisionTreeRegressor(max_depth=6, max_features=5,random_state=17)\n",
    "tree.fit(X_train, y_train)\n",
    "tree_pred = tree.predict(X_test)\n",
    "print(\"Score тестовой:\",tree.score(X_test, y_test))\n",
    "print(\"Score обучающей:\",tree.score(X_train, y_train))\n",
    "print(\"MSE for DT:\",mean_squared_error(y_test, tree.predict(X_test)))\n",
    "r2 = r2_score(y_test, tree_pred)\n",
    "print(f'R^2 = {r2}')\n",
    "cross_val_score(tree, X_train, np.array(y_train).ravel(), cv=4)"
   ]
  },
  {
   "cell_type": "code",
   "execution_count": 46,
   "metadata": {},
   "outputs": [
    {
     "name": "stdout",
     "output_type": "stream",
     "text": [
      "Fitting 5 folds for each of 3325 candidates, totalling 16625 fits\n"
     ]
    },
    {
     "name": "stderr",
     "output_type": "stream",
     "text": [
      "[Parallel(n_jobs=-1)]: Using backend LokyBackend with 6 concurrent workers.\n",
      "[Parallel(n_jobs=-1)]: Done 100 tasks      | elapsed:    0.1s\n",
      "[Parallel(n_jobs=-1)]: Done 8180 tasks      | elapsed:    4.2s\n",
      "[Parallel(n_jobs=-1)]: Done 16614 out of 16625 | elapsed:    8.3s remaining:    0.0s\n",
      "[Parallel(n_jobs=-1)]: Done 16625 out of 16625 | elapsed:    8.3s finished\n"
     ]
    },
    {
     "data": {
      "text/plain": [
       "GridSearchCV(cv=5, error_score=nan,\n",
       "             estimator=DecisionTreeRegressor(ccp_alpha=0.0, criterion='mse',\n",
       "                                             max_depth=16, max_features=4,\n",
       "                                             max_leaf_nodes=None,\n",
       "                                             min_impurity_decrease=0.0,\n",
       "                                             min_impurity_split=None,\n",
       "                                             min_samples_leaf=1,\n",
       "                                             min_samples_split=2,\n",
       "                                             min_weight_fraction_leaf=0.0,\n",
       "                                             presort='deprecated',\n",
       "                                             random_state=17, splitter='best'),\n",
       "             iid='deprecated', n_jobs=-1,\n",
       "             param_grid={'max_depth': range(10, 35),\n",
       "                         'max_features': ['sqrt', 2, 5, 8, 10, 14, 20],\n",
       "                         'min_samples_leaf': range(1, 20)},\n",
       "             pre_dispatch='2*n_jobs', refit=True, return_train_score=False,\n",
       "             scoring=None, verbose=True)"
      ]
     },
     "execution_count": 46,
     "metadata": {},
     "output_type": "execute_result"
    }
   ],
   "source": [
    "\n",
    "tree_params = {'max_depth': range(10,35),\n",
    "               'min_samples_leaf':range(1,20),\n",
    "               'max_features': [\"sqrt\",2,5,8,10,14,20]}\n",
    "tree_grid = GridSearchCV(tree, tree_params,\n",
    "                         cv=5, #кол-во разбиений\n",
    "                         n_jobs=-1,#все процессоры\n",
    "                        verbose=True)\n",
    "\n",
    "tree_grid.fit(X_train, y_train) "
   ]
  },
  {
   "cell_type": "code",
   "execution_count": 47,
   "metadata": {},
   "outputs": [
    {
     "data": {
      "text/plain": [
       "{'max_depth': 16, 'max_features': 5, 'min_samples_leaf': 4}"
      ]
     },
     "execution_count": 47,
     "metadata": {},
     "output_type": "execute_result"
    }
   ],
   "source": [
    "tree_grid.best_params_"
   ]
  },
  {
   "cell_type": "code",
   "execution_count": 48,
   "metadata": {},
   "outputs": [
    {
     "data": {
      "text/plain": [
       "0.867090104166234"
      ]
     },
     "execution_count": 48,
     "metadata": {},
     "output_type": "execute_result"
    }
   ],
   "source": [
    "tree_grid.best_score_"
   ]
  },
  {
   "cell_type": "code",
   "execution_count": 49,
   "metadata": {},
   "outputs": [
    {
     "name": "stdout",
     "output_type": "stream",
     "text": [
      "Score тестовой: 0.8820880023610022\n",
      "Score обучающей: 0.9386461301950209\n",
      "MSE: 211778786.46119708\n",
      "R^2 = 0.8820880023610022\n"
     ]
    },
    {
     "data": {
      "text/plain": [
       "array([0.85526671, 0.86856161, 0.84958408, 0.86643233])"
      ]
     },
     "execution_count": 49,
     "metadata": {},
     "output_type": "execute_result"
    }
   ],
   "source": [
    "tree = DecisionTreeRegressor(max_depth=16, max_features=5,min_samples_leaf=4,random_state=17)\n",
    "tree.fit(X_train, y_train)\n",
    "tree_pred = tree.predict(X_test)\n",
    "print(\"Score тестовой:\",tree.score(X_test, y_test))\n",
    "print(\"Score обучающей:\",tree.score(X_train, y_train))\n",
    "print(\"MSE:\",mean_squared_error(y_test, tree.predict(X_test)))\n",
    "r2 = r2_score(y_test, tree_pred)\n",
    "print(f'R^2 = {r2}')\n",
    "cross_val_score(tree, X_train, np.array(y_train).ravel(), cv=4)"
   ]
  },
  {
   "cell_type": "markdown",
   "metadata": {},
   "source": [
    "# KNN"
   ]
  },
  {
   "cell_type": "code",
   "execution_count": 50,
   "metadata": {},
   "outputs": [],
   "source": [
    "from sklearn.neighbors import KNeighborsRegressor"
   ]
  },
  {
   "cell_type": "code",
   "execution_count": 51,
   "metadata": {},
   "outputs": [
    {
     "name": "stdout",
     "output_type": "stream",
     "text": [
      "Score тестовой: 0.8880278626170476\n",
      "Score обучающей: 0.9269137640986589\n",
      "MSE: 201110352.1884972\n",
      "R^2 = 0.8880278626170476\n"
     ]
    }
   ],
   "source": [
    "from sklearn.neighbors import KNeighborsRegressor\n",
    "knn=KNeighborsRegressor(n_jobs=-1)\n",
    "knn.fit(X_train, y_train)\n",
    "knn_pred = knn.predict(X_test)\n",
    "print(\"Score тестовой:\",knn.score(X_test, y_test))\n",
    "print(\"Score обучающей:\",knn.score(X_train, y_train))\n",
    "print(\"MSE:\",mean_squared_error(y_test, knn.predict(X_test)))\n",
    "r2 = r2_score(y_test, knn_pred)\n",
    "print(f'R^2 = {r2}')"
   ]
  },
  {
   "cell_type": "code",
   "execution_count": 52,
   "metadata": {},
   "outputs": [
    {
     "name": "stdout",
     "output_type": "stream",
     "text": [
      "Fitting 5 folds for each of 45 candidates, totalling 225 fits\n"
     ]
    },
    {
     "name": "stderr",
     "output_type": "stream",
     "text": [
      "[Parallel(n_jobs=-1)]: Using backend LokyBackend with 6 concurrent workers.\n",
      "[Parallel(n_jobs=-1)]: Done  64 tasks      | elapsed:    1.7s\n",
      "[Parallel(n_jobs=-1)]: Done 214 out of 225 | elapsed:    5.6s remaining:    0.2s\n",
      "[Parallel(n_jobs=-1)]: Done 225 out of 225 | elapsed:    5.8s finished\n"
     ]
    },
    {
     "data": {
      "text/plain": [
       "GridSearchCV(cv=5, error_score=nan,\n",
       "             estimator=KNeighborsRegressor(algorithm='auto', leaf_size=30,\n",
       "                                           metric='minkowski',\n",
       "                                           metric_params=None, n_jobs=-1,\n",
       "                                           n_neighbors=5, p=2,\n",
       "                                           weights='uniform'),\n",
       "             iid='deprecated', n_jobs=-1,\n",
       "             param_grid={'leaf_size': range(1, 10), 'n_neighbors': range(1, 6)},\n",
       "             pre_dispatch='2*n_jobs', refit=True, return_train_score=False,\n",
       "             scoring=None, verbose=True)"
      ]
     },
     "execution_count": 52,
     "metadata": {},
     "output_type": "execute_result"
    }
   ],
   "source": [
    "knn_params = {'n_neighbors': range(1, 6),'leaf_size':range(1,10)}\n",
    "knn=KNeighborsRegressor(n_jobs=-1)\n",
    "knn_grid = GridSearchCV(knn, knn_params,\n",
    "                         cv=5, n_jobs=-1,\n",
    "                        verbose=True)\n",
    "knn_grid.fit(X_train, y_train)"
   ]
  },
  {
   "cell_type": "code",
   "execution_count": 53,
   "metadata": {},
   "outputs": [
    {
     "data": {
      "text/plain": [
       "{'leaf_size': 7, 'n_neighbors': 4}"
      ]
     },
     "execution_count": 53,
     "metadata": {},
     "output_type": "execute_result"
    }
   ],
   "source": [
    "knn_grid.best_params_"
   ]
  },
  {
   "cell_type": "code",
   "execution_count": 54,
   "metadata": {},
   "outputs": [
    {
     "data": {
      "text/plain": [
       "0.8873082939289427"
      ]
     },
     "execution_count": 54,
     "metadata": {},
     "output_type": "execute_result"
    }
   ],
   "source": [
    "knn_grid.best_score_"
   ]
  },
  {
   "cell_type": "code",
   "execution_count": 55,
   "metadata": {},
   "outputs": [
    {
     "name": "stdout",
     "output_type": "stream",
     "text": [
      "Score тестовой: 0.8773980350760308\n",
      "Score обучающей: 0.9211266038758199\n",
      "MSE: 220202319.26567796\n",
      "R^2 = 0.8773980350760306\n"
     ]
    }
   ],
   "source": [
    "knn=KNeighborsRegressor(n_jobs=-1,n_neighbors=4,leaf_size=7)\n",
    "knn.fit(X_train, y_train)\n",
    "knn_pred = knn.predict(X_test)\n",
    "print(\"Score тестовой:\",knn.score(X_test, y_test))\n",
    "print(\"Score обучающей:\",knn.score(X_train, y_train))\n",
    "print(\"MSE:\",mean_squared_error(y_test, knn.predict(X_test)))\n",
    "r2 = r2_score(y_test, knn_pred)\n",
    "print(f'R^2 = {r2}')"
   ]
  },
  {
   "cell_type": "markdown",
   "metadata": {},
   "source": [
    "## Lasso"
   ]
  },
  {
   "cell_type": "code",
   "execution_count": 56,
   "metadata": {},
   "outputs": [],
   "source": [
    "from sklearn.linear_model import LinearRegression, Lasso, Ridge\n",
    "from sklearn.linear_model import LassoCV, RidgeCV"
   ]
  },
  {
   "cell_type": "code",
   "execution_count": 57,
   "metadata": {},
   "outputs": [
    {
     "name": "stdout",
     "output_type": "stream",
     "text": [
      "Score тестовой: 0.7277724071253409\n",
      "Score обучающей: 0.7153464230772756\n",
      "MSE: 488941163.0253009\n",
      "R^2 = 0.7277724071253409\n"
     ]
    }
   ],
   "source": [
    "from sklearn.linear_model import Lasso\n",
    "lasso = Lasso(alpha=0.1)\n",
    "lasso.fit(X_train, y_train)\n",
    "predictions = lasso.predict(X_test)\n",
    "print(\"Score тестовой:\",lasso.score(X_test, y_test))\n",
    "print(\"Score обучающей:\",lasso.score(X_train, y_train))\n",
    "print(\"MSE:\",mean_squared_error(y_test, predictions))\n",
    "r2 = r2_score(y_test, predictions)\n",
    "print(f'R^2 = {r2}')"
   ]
  },
  {
   "cell_type": "markdown",
   "metadata": {},
   "source": [
    "## LassoCV"
   ]
  },
  {
   "cell_type": "code",
   "execution_count": 58,
   "metadata": {},
   "outputs": [
    {
     "name": "stdout",
     "output_type": "stream",
     "text": [
      "Score тестовой: 0.7285745299054573\n",
      "Score обучающей: 0.715212573827142\n",
      "MSE: 487500490.3849641\n",
      "R^2 = 0.7285745299054573\n"
     ]
    }
   ],
   "source": [
    "from sklearn.linear_model import LassoCV\n",
    "lasso = LassoCV()\n",
    "lasso.fit(X_train, y_train)\n",
    "predictions = lasso.predict(X_test)\n",
    "print(\"Score тестовой:\",lasso.score(X_test, y_test))\n",
    "print(\"Score обучающей:\",lasso.score(X_train, y_train))\n",
    "print(\"MSE:\",mean_squared_error(y_test, predictions))\n",
    "r2 = r2_score(y_test, predictions)\n",
    "print(f'R^2 = {r2}')\n"
   ]
  },
  {
   "cell_type": "markdown",
   "metadata": {},
   "source": [
    "## Ridge"
   ]
  },
  {
   "cell_type": "code",
   "execution_count": 59,
   "metadata": {},
   "outputs": [
    {
     "name": "stdout",
     "output_type": "stream",
     "text": [
      "Score тестовой: 0.7278080431683585\n",
      "Score обучающей: 0.7153462657494114\n",
      "MSE: 488877158.020758\n",
      "R^2 = 0.7278080431683585\n"
     ]
    }
   ],
   "source": [
    "from sklearn.linear_model import Ridge\n",
    "ridge = Ridge()\n",
    "ridge.fit(X_train, y_train)\n",
    "predictions = ridge.predict(X_test)\n",
    "print(\"Score тестовой:\", ridge.score(X_test, y_test))\n",
    "print(\"Score обучающей:\",ridge.score(X_train, y_train))\n",
    "print(\"MSE:\",mean_squared_error(y_test, predictions))\n",
    "r2 = r2_score(y_test, predictions)\n",
    "print(f'R^2 = {r2}')"
   ]
  },
  {
   "cell_type": "markdown",
   "metadata": {},
   "source": [
    "## RidgeCV"
   ]
  },
  {
   "cell_type": "code",
   "execution_count": 60,
   "metadata": {},
   "outputs": [
    {
     "name": "stdout",
     "output_type": "stream",
     "text": [
      "Score тестовой: 0.7281134855267255\n",
      "Score обучающей: 0.7153318389589007\n",
      "MSE: 488328560.64912426\n",
      "R^2 = 0.7281134855267255\n"
     ]
    }
   ],
   "source": [
    "from sklearn.linear_model import RidgeCV\n",
    "ridge = RidgeCV()\n",
    "ridge.fit(X_train, y_train)\n",
    "predictions = ridge.predict(X_test)\n",
    "print(\"Score тестовой:\", ridge.score(X_test, y_test))\n",
    "print(\"Score обучающей:\",ridge.score(X_train, y_train))\n",
    "print(\"MSE:\",mean_squared_error(y_test, predictions))\n",
    "r2 = r2_score(y_test, predictions)\n",
    "print(f'R^2 = {r2}')"
   ]
  },
  {
   "cell_type": "code",
   "execution_count": 62,
   "metadata": {},
   "outputs": [],
   "source": [
    "## Все модели неплохие, но лучше всех себя показала DecisionTree"
   ]
  },
  {
   "cell_type": "code",
   "execution_count": 63,
   "metadata": {},
   "outputs": [
    {
     "data": {
      "text/html": [
       "<div>\n",
       "<style scoped>\n",
       "    .dataframe tbody tr th:only-of-type {\n",
       "        vertical-align: middle;\n",
       "    }\n",
       "\n",
       "    .dataframe tbody tr th {\n",
       "        vertical-align: top;\n",
       "    }\n",
       "\n",
       "    .dataframe thead th {\n",
       "        text-align: right;\n",
       "    }\n",
       "</style>\n",
       "<table border=\"1\" class=\"dataframe\">\n",
       "  <thead>\n",
       "    <tr style=\"text-align: right;\">\n",
       "      <th></th>\n",
       "      <th>pred</th>\n",
       "      <th>fact</th>\n",
       "    </tr>\n",
       "  </thead>\n",
       "  <tbody>\n",
       "    <tr>\n",
       "      <th>0</th>\n",
       "      <td>170379.1</td>\n",
       "      <td>170000</td>\n",
       "    </tr>\n",
       "    <tr>\n",
       "      <th>1</th>\n",
       "      <td>170000.0</td>\n",
       "      <td>170000</td>\n",
       "    </tr>\n",
       "    <tr>\n",
       "      <th>2</th>\n",
       "      <td>170238.2</td>\n",
       "      <td>169999</td>\n",
       "    </tr>\n",
       "    <tr>\n",
       "      <th>3</th>\n",
       "      <td>230000.0</td>\n",
       "      <td>230000</td>\n",
       "    </tr>\n",
       "    <tr>\n",
       "      <th>4</th>\n",
       "      <td>115100.0</td>\n",
       "      <td>115100</td>\n",
       "    </tr>\n",
       "    <tr>\n",
       "      <th>...</th>\n",
       "      <td>...</td>\n",
       "      <td>...</td>\n",
       "    </tr>\n",
       "    <tr>\n",
       "      <th>5892</th>\n",
       "      <td>194867.5</td>\n",
       "      <td>200000</td>\n",
       "    </tr>\n",
       "    <tr>\n",
       "      <th>5893</th>\n",
       "      <td>200000.0</td>\n",
       "      <td>200000</td>\n",
       "    </tr>\n",
       "    <tr>\n",
       "      <th>5894</th>\n",
       "      <td>199000.0</td>\n",
       "      <td>199000</td>\n",
       "    </tr>\n",
       "    <tr>\n",
       "      <th>5895</th>\n",
       "      <td>189476.3</td>\n",
       "      <td>200000</td>\n",
       "    </tr>\n",
       "    <tr>\n",
       "      <th>5896</th>\n",
       "      <td>220238.3</td>\n",
       "      <td>219999</td>\n",
       "    </tr>\n",
       "  </tbody>\n",
       "</table>\n",
       "<p>5897 rows × 2 columns</p>\n",
       "</div>"
      ],
      "text/plain": [
       "         pred    fact\n",
       "0    170379.1  170000\n",
       "1    170000.0  170000\n",
       "2    170238.2  169999\n",
       "3    230000.0  230000\n",
       "4    115100.0  115100\n",
       "...       ...     ...\n",
       "5892 194867.5  200000\n",
       "5893 200000.0  200000\n",
       "5894 199000.0  199000\n",
       "5895 189476.3  200000\n",
       "5896 220238.3  219999\n",
       "\n",
       "[5897 rows x 2 columns]"
      ]
     },
     "execution_count": 63,
     "metadata": {},
     "output_type": "execute_result"
    }
   ],
   "source": [
    "prediction = pd.DataFrame()\n",
    "prediction['pred'] = tree.predict(X)\n",
    "prediction['fact'] = np.array(y)\n",
    "prediction#предсказывает довольно точно"
   ]
  },
  {
   "cell_type": "code",
   "execution_count": 64,
   "metadata": {},
   "outputs": [],
   "source": [
    "def predict(metro,S,rooms,dist_to_metro,typ,max_floor,model):\n",
    "    data=pd.DataFrame({'metro':np.array(metro),'S':S,'rooms':np.array(str(rooms)), \\\n",
    "                       'dist_to_metro':np.array(dist_to_metro),'type':np.array(typ),'max_floor':np.array(max_floor)},index=['1'])\n",
    "    data2=encoder.transform(data)\n",
    "    cols=data2.columns\n",
    "    data2=scaler.transform(data2)\n",
    "    data2=pd.DataFrame(data2,columns=cols)\n",
    "    \n",
    "    if model=='lasso':\n",
    "        prediction=lasso.predict(data2)[0]\n",
    "    if model=='ridge':\n",
    "        prediction=ridge.predict(data2)[0]\n",
    "    if model=='knn':\n",
    "        prediction=knn.predict(data2)[0]\n",
    "    if model=='DT':\n",
    "        prediction=tree.predict(data2)[0]\n",
    "    return    prediction"
   ]
  },
  {
   "cell_type": "code",
   "execution_count": 65,
   "metadata": {},
   "outputs": [
    {
     "data": {
      "text/plain": [
       "198561.94868689775"
      ]
     },
     "execution_count": 65,
     "metadata": {},
     "output_type": "execute_result"
    }
   ],
   "source": [
    "predict('Международная',70,2,5,'апарт.',85,'lasso')"
   ]
  },
  {
   "cell_type": "code",
   "execution_count": 66,
   "metadata": {},
   "outputs": [
    {
     "data": {
      "text/plain": [
       "1       Международная\n",
       "3       Международная\n",
       "4       Международная\n",
       "5       Международная\n",
       "8        Авиамоторная\n",
       "            ...      \n",
       "9437    Международная\n",
       "9438    Международная\n",
       "9441    Международная\n",
       "9442       Тестовская\n",
       "9443    Международная\n",
       "Name: metro, Length: 5897, dtype: object"
      ]
     },
     "execution_count": 66,
     "metadata": {},
     "output_type": "execute_result"
    }
   ],
   "source": [
    "codes, uniques=df3['metro'].factorize()\n",
    "metro_uniques=np.array(uniques)\n",
    "codes, uniques=df3['rooms'].factorize()\n",
    "rooms_uniques=np.array(uniques)\n",
    "codes, uniques=df3['type'].factorize()\n",
    "type_uniques=np.array(uniques)\n",
    "df3['metro']"
   ]
  },
  {
   "cell_type": "code",
   "execution_count": 67,
   "metadata": {},
   "outputs": [
    {
     "data": {
      "text/html": [
       "<div>\n",
       "<style scoped>\n",
       "    .dataframe tbody tr th:only-of-type {\n",
       "        vertical-align: middle;\n",
       "    }\n",
       "\n",
       "    .dataframe tbody tr th {\n",
       "        vertical-align: top;\n",
       "    }\n",
       "\n",
       "    .dataframe thead th {\n",
       "        text-align: right;\n",
       "    }\n",
       "</style>\n",
       "<table border=\"1\" class=\"dataframe\">\n",
       "  <thead>\n",
       "    <tr style=\"text-align: right;\">\n",
       "      <th></th>\n",
       "      <th>price</th>\n",
       "      <th>metro</th>\n",
       "      <th>S</th>\n",
       "      <th>rooms</th>\n",
       "      <th>dist_to_metro</th>\n",
       "      <th>type</th>\n",
       "      <th>max_floor</th>\n",
       "    </tr>\n",
       "  </thead>\n",
       "  <tbody>\n",
       "    <tr>\n",
       "      <th>1</th>\n",
       "      <td>170000</td>\n",
       "      <td>Международная</td>\n",
       "      <td>63</td>\n",
       "      <td>2</td>\n",
       "      <td>5</td>\n",
       "      <td>апарт.</td>\n",
       "      <td>77</td>\n",
       "    </tr>\n",
       "    <tr>\n",
       "      <th>3</th>\n",
       "      <td>170000</td>\n",
       "      <td>Международная</td>\n",
       "      <td>62</td>\n",
       "      <td>2</td>\n",
       "      <td>5</td>\n",
       "      <td>апарт.</td>\n",
       "      <td>79</td>\n",
       "    </tr>\n",
       "    <tr>\n",
       "      <th>4</th>\n",
       "      <td>169999</td>\n",
       "      <td>Международная</td>\n",
       "      <td>70</td>\n",
       "      <td>2</td>\n",
       "      <td>2</td>\n",
       "      <td>апарт.</td>\n",
       "      <td>79</td>\n",
       "    </tr>\n",
       "    <tr>\n",
       "      <th>5</th>\n",
       "      <td>230000</td>\n",
       "      <td>Международная</td>\n",
       "      <td>70</td>\n",
       "      <td>2</td>\n",
       "      <td>5</td>\n",
       "      <td>апарт.</td>\n",
       "      <td>85</td>\n",
       "    </tr>\n",
       "    <tr>\n",
       "      <th>8</th>\n",
       "      <td>115100</td>\n",
       "      <td>Авиамоторная</td>\n",
       "      <td>71</td>\n",
       "      <td>2</td>\n",
       "      <td>12</td>\n",
       "      <td>кв.</td>\n",
       "      <td>24</td>\n",
       "    </tr>\n",
       "    <tr>\n",
       "      <th>...</th>\n",
       "      <td>...</td>\n",
       "      <td>...</td>\n",
       "      <td>...</td>\n",
       "      <td>...</td>\n",
       "      <td>...</td>\n",
       "      <td>...</td>\n",
       "      <td>...</td>\n",
       "    </tr>\n",
       "    <tr>\n",
       "      <th>9437</th>\n",
       "      <td>200000</td>\n",
       "      <td>Международная</td>\n",
       "      <td>62</td>\n",
       "      <td>2</td>\n",
       "      <td>5</td>\n",
       "      <td>апарт.</td>\n",
       "      <td>75</td>\n",
       "    </tr>\n",
       "    <tr>\n",
       "      <th>9438</th>\n",
       "      <td>200000</td>\n",
       "      <td>Международная</td>\n",
       "      <td>65</td>\n",
       "      <td>2</td>\n",
       "      <td>4</td>\n",
       "      <td>апарт.</td>\n",
       "      <td>85</td>\n",
       "    </tr>\n",
       "    <tr>\n",
       "      <th>9441</th>\n",
       "      <td>199000</td>\n",
       "      <td>Международная</td>\n",
       "      <td>75</td>\n",
       "      <td>2</td>\n",
       "      <td>2</td>\n",
       "      <td>апарт.</td>\n",
       "      <td>85</td>\n",
       "    </tr>\n",
       "    <tr>\n",
       "      <th>9442</th>\n",
       "      <td>200000</td>\n",
       "      <td>Тестовская</td>\n",
       "      <td>62</td>\n",
       "      <td>2</td>\n",
       "      <td>3</td>\n",
       "      <td>апарт.</td>\n",
       "      <td>77</td>\n",
       "    </tr>\n",
       "    <tr>\n",
       "      <th>9443</th>\n",
       "      <td>219999</td>\n",
       "      <td>Международная</td>\n",
       "      <td>65</td>\n",
       "      <td>2</td>\n",
       "      <td>2</td>\n",
       "      <td>апарт.</td>\n",
       "      <td>79</td>\n",
       "    </tr>\n",
       "  </tbody>\n",
       "</table>\n",
       "<p>5897 rows × 7 columns</p>\n",
       "</div>"
      ],
      "text/plain": [
       "       price          metro   S  rooms  dist_to_metro    type  max_floor\n",
       "1     170000  Международная  63      2              5  апарт.         77\n",
       "3     170000  Международная  62      2              5  апарт.         79\n",
       "4     169999  Международная  70      2              2  апарт.         79\n",
       "5     230000  Международная  70      2              5  апарт.         85\n",
       "8     115100   Авиамоторная  71      2             12     кв.         24\n",
       "...      ...            ...  ..    ...            ...     ...        ...\n",
       "9437  200000  Международная  62      2              5  апарт.         75\n",
       "9438  200000  Международная  65      2              4  апарт.         85\n",
       "9441  199000  Международная  75      2              2  апарт.         85\n",
       "9442  200000     Тестовская  62      2              3  апарт.         77\n",
       "9443  219999  Международная  65      2              2  апарт.         79\n",
       "\n",
       "[5897 rows x 7 columns]"
      ]
     },
     "execution_count": 67,
     "metadata": {},
     "output_type": "execute_result"
    }
   ],
   "source": [
    "df3"
   ]
  },
  {
   "cell_type": "code",
   "execution_count": 68,
   "metadata": {},
   "outputs": [
    {
     "data": {
      "application/vnd.jupyter.widget-view+json": {
       "model_id": "e73f44b7550646dc8bdb5f69d6065bca",
       "version_major": 2,
       "version_minor": 0
      },
      "text/plain": [
       "interactive(children=(Dropdown(description='metro', options=('Международная', 'Авиамоторная', 'Деловой центр',…"
      ]
     },
     "metadata": {},
     "output_type": "display_data"
    },
    {
     "data": {
      "text/plain": [
       "<function __main__.predict(metro, S, rooms, dist_to_metro, typ, max_floor, model)>"
      ]
     },
     "execution_count": 68,
     "metadata": {},
     "output_type": "execute_result"
    }
   ],
   "source": [
    "from ipywidgets import interact, interactive, fixed\n",
    "import ipywidgets as widgets\n",
    "interact(predict, metro=metro_uniques, S=(17,200,1), rooms=rooms_uniques, dist_to_metro=(1,100,1),typ=type_uniques,max_floor=(3,88,1), \\\n",
    "         model=['lasso','ridge','knn','DT'])"
   ]
  },
  {
   "cell_type": "markdown",
   "metadata": {},
   "source": [
    "# Кластеризация"
   ]
  },
  {
   "cell_type": "code",
   "execution_count": 69,
   "metadata": {},
   "outputs": [
    {
     "data": {
      "image/png": "[encoded data removed]",
      "text/plain": [
       "<Figure size 842.4x595.44 with 1 Axes>"
      ]
     },
     "metadata": {
      "needs_background": "light"
     },
     "output_type": "display_data"
    }
   ],
   "source": [
    "K = range(1, 60)\n",
    "models = [KMeans(n_clusters=k, random_state=42).fit(df4) for k in K]\n",
    "dist = [model.inertia_ for model in models]\n",
    "predicted=[model.predict(df4) for model in models]\n",
    "#Метод inertia_ вернёт сумму расстояний от каждой точки данных до центра ближайшего у ней кластера. \n",
    "#кластеризацию можно считать условно хорошей, когда инерция перестаёт сильно уменьшаться при увеличении числа кластеров.\n",
    "\n",
    "fig, ax = plt.subplots()\n",
    "fig.set_size_inches(11.7, 8.27)\n",
    "plt.plot(K[1:15], dist[1:15], marker='o')\n",
    "plt.xlabel('k')\n",
    "plt.ylabel('Sum of distances')\n",
    "plt.title('Выбор К все равно неочевиден')\n",
    "plt.show()"
   ]
  },
  {
   "cell_type": "code",
   "execution_count": 70,
   "metadata": {},
   "outputs": [
    {
     "data": {
      "text/plain": [
       "59"
      ]
     },
     "execution_count": 70,
     "metadata": {},
     "output_type": "execute_result"
    }
   ],
   "source": [
    "len(predicted)"
   ]
  },
  {
   "cell_type": "code",
   "execution_count": 71,
   "metadata": {},
   "outputs": [],
   "source": [
    "def visualisation(k,x,y):\n",
    "    c = ['grey', 'violet', 'salmon', 'skyblue', 'orange','red','blue','green','lime','yellow']\n",
    "    plt.figure(figsize = (20, 10))\n",
    "    print()\n",
    "    df5=df4.copy()\n",
    "    df5[\"y\"]=predicted[k-1]\n",
    "    q=0\n",
    "    while (k>q):\n",
    "        plt.scatter(df5[df5[\"y\"]==q][x], \\\n",
    "                    df5[df5[\"y\"]==q][y], s = 100,c = c[q], label = 'Cluster '+str(q+1))\n",
    "        q=q+1\n",
    "    plt.title('Clusters')\n",
    "    plt.xlabel(x)\n",
    "    plt.ylabel(y)\n",
    "    plt.legend()\n",
    "    plt.show()\n"
   ]
  },
  {
   "cell_type": "code",
   "execution_count": 72,
   "metadata": {},
   "outputs": [
    {
     "name": "stdout",
     "output_type": "stream",
     "text": [
      "\n"
     ]
    },
    {
     "data": {
      "image/png": "[encoded data removed]",
      "text/plain": [
       "<Figure size 1440x720 with 1 Axes>"
      ]
     },
     "metadata": {
      "needs_background": "light"
     },
     "output_type": "display_data"
    }
   ],
   "source": [
    "visualisation(9,'S','price')"
   ]
  },
  {
   "cell_type": "markdown",
   "metadata": {},
   "source": [
    "# Виджет"
   ]
  },
  {
   "cell_type": "code",
   "execution_count": 73,
   "metadata": {},
   "outputs": [
    {
     "data": {
      "application/vnd.jupyter.widget-view+json": {
       "model_id": "2147610432cf46e5a00a5a3df4199758",
       "version_major": 2,
       "version_minor": 0
      },
      "text/plain": [
       "interactive(children=(IntSlider(value=9, description='k', max=10, min=5), Dropdown(description='x', options=('…"
      ]
     },
     "metadata": {},
     "output_type": "display_data"
    }
   ],
   "source": [
    "from ipywidgets import interact, interactive\n",
    "import ipywidgets as widgets\n",
    "interact(visualisation, k=widgets.IntSlider(min=5,max=10,step=1,value=9),x=df4.columns,y=df4.columns);"
   ]
  },
  {
   "cell_type": "markdown",
   "metadata": {},
   "source": [
    "<img src=\"123.png\">"
   ]
  },
  {
   "cell_type": "code",
   "execution_count": 74,
   "metadata": {},
   "outputs": [
    {
     "data": {
      "text/plain": [
       "Index(['metro', 'S', 'rooms', 'dist_to_metro', 'type', 'max_floor', 'price'], dtype='object')"
      ]
     },
     "execution_count": 74,
     "metadata": {},
     "output_type": "execute_result"
    }
   ],
   "source": [
    "df4.columns"
   ]
  },
  {
   "cell_type": "code",
   "execution_count": 75,
   "metadata": {},
   "outputs": [
    {
     "name": "stdout",
     "output_type": "stream",
     "text": [
      "K=2 : 0.590988074162719\n",
      "K=3 : 0.652652967757512\n",
      "K=4 : 0.7207789630949002\n",
      "K=5 : 0.788920612803182\n",
      "K=6 : 0.8631058148416085\n",
      "K=7 : 0.8952151464364347\n",
      "K=8 : 0.912851234950259\n",
      "K=9 : 0.9458674570740123\n",
      "K=10 : 0.943310001142297\n",
      "K=11 : 0.9526632739412698\n",
      "K=12 : 0.9531284529763806\n",
      "K=13 : 0.9528027594863192\n",
      "K=14 : 0.9532729052970473\n",
      "K=15 : 0.9583242933328658\n",
      "K=16 : 0.9571767205615592\n",
      "K=17 : 0.9588606487377593\n",
      "K=18 : 0.9617267513507484\n",
      "K=19 : 0.9691264203550674\n"
     ]
    }
   ],
   "source": [
    "from sklearn import metrics\n",
    "K = range(2, 20)\n",
    "X=df4.iloc[:,3:]\n",
    "for k in K:\n",
    "    kmeans=KMeans(n_clusters=k, random_state = 96)\n",
    "    y_kmeans= kmeans.fit_predict(X)\n",
    "    print(\"K=\"+str(k),\":\",metrics.silhouette_score(X, kmeans.labels_))# с К=9 score увеличивается незначительно"
   ]
  },
  {
   "cell_type": "markdown",
   "metadata": {},
   "source": [
    "# Выводы\n",
    "В рамках проведенной работы были собраны данные об аренде недвижимости. У каждой жилпощади были определены следующие параметры:\n",
    "- Цена\n",
    "- Ближайшее метро\n",
    "- Площадь\n",
    "- Кол-во комнат\n",
    "- Номер этажа\n",
    "- Этажность здания\n",
    "- Сколько минут добираться до метро\n",
    "- Тип(квартира, апартаменты)\n",
    "Собранные данные были приведены к необходимому для анализа виду. \n",
    "\n",
    "Были построены графики, которые помогли понять природу и количество данных и зависимость данных друг от друга.\n",
    "\n",
    "Для предсказания цены квартиры были применены модели DecisionTreeRegressor, KNeighborsRegressor, Ridge, Lasso. Все модели неплохие, но лучше всех себя показала DecisionTree.\n",
    "Данные были кластеризованы методом Kmeans. Количество выделенных кластеров - 9. Все класстеры выделяются только ценой"
   ]
  },
  {
   "cell_type": "code",
   "execution_count": null,
   "metadata": {},
   "outputs": [],
   "source": []
  }
 ],
 "metadata": {
  "kernelspec": {
   "display_name": "Python 3",
   "language": "python",
   "name": "python3"
  },
  "language_info": {
   "codemirror_mode": {
    "name": "ipython",
    "version": 3
   },
   "file_extension": ".py",
   "mimetype": "text/x-python",
   "name": "python",
   "nbconvert_exporter": "python",
   "pygments_lexer": "ipython3",
   "version": "3.7.6"
  },
  "widgets": {
   "application/vnd.jupyter.widget-state+json": {
    "state": {
     "01454590085a4cb5be939be6f322f564": {
      "model_module": "@jupyter-widgets/base",
      "model_module_version": "1.2.0",
      "model_name": "LayoutModel",
      "state": {}
     },
     "0190e8046de140ceadf2f305214c92d9": {
      "model_module": "@jupyter-widgets/controls",
      "model_module_version": "1.5.0",
      "model_name": "DescriptionStyleModel",
      "state": {
       "description_width": ""
      }
     },
     "04c08a0f4fef433aa70b8eb5d94a290d": {
      "model_module": "@jupyter-widgets/controls",
      "model_module_version": "1.5.0",
      "model_name": "DropdownModel",
      "state": {
       "_options_labels": [
        "апарт.",
        "кв.",
        "Студия"
       ],
       "description": "typ",
       "index": 0,
       "layout": "IPY_MODEL_8933aedb293143f1b8b1d003de130deb",
       "style": "IPY_MODEL_2e57c0c05bda438294542f863ca63d4b"
      }
     },
     "05c5060c465e4f65a9a31bcca90ba24e": {
      "model_module": "@jupyter-widgets/controls",
      "model_module_version": "1.5.0",
      "model_name": "SliderStyleModel",
      "state": {
       "description_width": ""
      }
     },
     "063c548a91be4c25a0b8c9612c7af02e": {
      "model_module": "@jupyter-widgets/base",
      "model_module_version": "1.2.0",
      "model_name": "LayoutModel",
      "state": {}
     },
     "0769eafbea964d529c9bcec6c6206729": {
      "model_module": "@jupyter-widgets/controls",
      "model_module_version": "1.5.0",
      "model_name": "VBoxModel",
      "state": {
       "_dom_classes": [
        "widget-interact"
       ],
       "children": [
        "IPY_MODEL_f14da7a8358d4e179259783bbeec430f",
        "IPY_MODEL_78a501f427af4f858ebaa9e971d5cdad",
        "IPY_MODEL_8e814c741b02400a8cec8c034656bb26",
        "IPY_MODEL_2a45d50d4205471db670e9af801567bd",
        "IPY_MODEL_20e52470bc2248a49a0bc06f23493e70",
        "IPY_MODEL_0b73af19f54241b2bdaec337bbfb8cb6",
        "IPY_MODEL_40845c0c0d4c4d5fbae3ba901cb7c43e"
       ],
       "layout": "IPY_MODEL_9f00ea787b1644f1b21d03e86dd7e573"
      }
     },
     "0826f653c6334a71a7e5f46bae0088db": {
      "model_module": "@jupyter-widgets/controls",
      "model_module_version": "1.5.0",
      "model_name": "IntSliderModel",
      "state": {
       "description": "dist_to_metro",
       "layout": "IPY_MODEL_dbac0b5c4d1542fda3afc65636f97cb9",
       "min": 1,
       "style": "IPY_MODEL_05c5060c465e4f65a9a31bcca90ba24e",
       "value": 17
      }
     },
     "08e6725310a8406ab10e80d1b03d5db1": {
      "model_module": "@jupyter-widgets/controls",
      "model_module_version": "1.5.0",
      "model_name": "SliderStyleModel",
      "state": {
       "description_width": ""
      }
     },
     "090b83d78aa1451ebbf4b41194d906a3": {
      "model_module": "@jupyter-widgets/controls",
      "model_module_version": "1.5.0",
      "model_name": "DescriptionStyleModel",
      "state": {
       "description_width": ""
      }
     },
     "0a95a8cec967426e8d2ba130847d696e": {
      "model_module": "@jupyter-widgets/base",
      "model_module_version": "1.2.0",
      "model_name": "LayoutModel",
      "state": {}
     },
     "0b73af19f54241b2bdaec337bbfb8cb6": {
      "model_module": "@jupyter-widgets/controls",
      "model_module_version": "1.5.0",
      "model_name": "IntSliderModel",
      "state": {
       "description": "max_floor",
       "layout": "IPY_MODEL_53a8c47c40434e6cafaa5ed8c22cbe29",
       "max": 88,
       "min": 3,
       "style": "IPY_MODEL_8debc36437834d4094f327b2e9eb84d8",
       "value": 45
      }
     },
     "0bd9bb237d0b4377bb6f00a1ca7f5367": {
      "model_module": "@jupyter-widgets/base",
      "model_module_version": "1.2.0",
      "model_name": "LayoutModel",
      "state": {}
     },
     "0be8117e169d45c0bfe2337bfdfe01e2": {
      "model_module": "@jupyter-widgets/base",
      "model_module_version": "1.2.0",
      "model_name": "LayoutModel",
      "state": {}
     },
     "0c3e65493c2a48289bf6cf8c75db014a": {
      "model_module": "@jupyter-widgets/controls",
      "model_module_version": "1.5.0",
      "model_name": "SliderStyleModel",
      "state": {
       "description_width": ""
      }
     },
     "0ce1f5402df148af98d7bbcb4797cb0d": {
      "model_module": "@jupyter-widgets/controls",
      "model_module_version": "1.5.0",
      "model_name": "DescriptionStyleModel",
      "state": {
       "description_width": ""
      }
     },
     "0e59619a62fd4577a58f4cc7718c5520": {
      "model_module": "@jupyter-widgets/base",
      "model_module_version": "1.2.0",
      "model_name": "LayoutModel",
      "state": {}
     },
     "0e63cd4d5cbc4460984ddf0ee2ea1291": {
      "model_module": "@jupyter-widgets/controls",
      "model_module_version": "1.5.0",
      "model_name": "SliderStyleModel",
      "state": {
       "description_width": ""
      }
     },
     "0ec3de672ecd4e40b0c55b649026a861": {
      "model_module": "@jupyter-widgets/controls",
      "model_module_version": "1.5.0",
      "model_name": "VBoxModel",
      "state": {
       "_dom_classes": [
        "widget-interact"
       ],
       "children": [
        "IPY_MODEL_61296b8dda7945cf91a5d3897e11e94e",
        "IPY_MODEL_a2e939f82e634f599d15daed96005a20",
        "IPY_MODEL_4e9cf252b56e4014bfa985ff8403d52d",
        "IPY_MODEL_645936d9faac4b95bc2ae56a5c7d2cb0"
       ],
       "layout": "IPY_MODEL_6af535a08f8448b5b34c71bbecf6a374"
      }
     },
     "0ed1c43594d74a3dba8c018e55a65262": {
      "model_module": "@jupyter-widgets/controls",
      "model_module_version": "1.5.0",
      "model_name": "IntSliderModel",
      "state": {
       "description": "max_floor",
       "layout": "IPY_MODEL_8b6b46c49abc49c6b8df91718d1ec9d0",
       "max": 88,
       "min": 3,
       "style": "IPY_MODEL_118a8fd291474d0591f29572e6225aa2",
       "value": 60
      }
     },
     "100074b886a3442b88c346a1846ef82d": {
      "model_module": "@jupyter-widgets/base",
      "model_module_version": "1.2.0",
      "model_name": "LayoutModel",
      "state": {}
     },
     "11262dba088140ce9906561814d09cd2": {
      "model_module": "@jupyter-widgets/controls",
      "model_module_version": "1.5.0",
      "model_name": "DescriptionStyleModel",
      "state": {
       "description_width": ""
      }
     },
     "118a8fd291474d0591f29572e6225aa2": {
      "model_module": "@jupyter-widgets/controls",
      "model_module_version": "1.5.0",
      "model_name": "SliderStyleModel",
      "state": {
       "description_width": ""
      }
     },
     "11a9a5879554481082b3329fad91c5e3": {
      "model_module": "@jupyter-widgets/base",
      "model_module_version": "1.2.0",
      "model_name": "LayoutModel",
      "state": {}
     },
     "12291ba354c149e6bb16e98900332a9c": {
      "model_module": "@jupyter-widgets/controls",
      "model_module_version": "1.5.0",
      "model_name": "DescriptionStyleModel",
      "state": {
       "description_width": ""
      }
     },
     "1420a86704b14c9e9f35c0c44efecf42": {
      "model_module": "@jupyter-widgets/controls",
      "model_module_version": "1.5.0",
      "model_name": "SliderStyleModel",
      "state": {
       "description_width": ""
      }
     },
     "16f3608e430149fbb0aaf3778e846875": {
      "model_module": "@jupyter-widgets/base",
      "model_module_version": "1.2.0",
      "model_name": "LayoutModel",
      "state": {}
     },
     "17db802fb5b84a43bfa7e77f7bf57604": {
      "model_module": "@jupyter-widgets/base",
      "model_module_version": "1.2.0",
      "model_name": "LayoutModel",
      "state": {}
     },
     "180ac984073b443185fe8a95445f1141": {
      "model_module": "@jupyter-widgets/controls",
      "model_module_version": "1.5.0",
      "model_name": "VBoxModel",
      "state": {
       "_dom_classes": [
        "widget-interact"
       ],
       "children": [
        "IPY_MODEL_f2b10623fc9240b2bafb60347837f6e0",
        "IPY_MODEL_4a99ef0f94a042e8813291b1207527c1",
        "IPY_MODEL_85aff3b8318c45db9ec1a787df79141c",
        "IPY_MODEL_0826f653c6334a71a7e5f46bae0088db",
        "IPY_MODEL_c7c03ed9f9d84d8aaaf8e063cf7dbd25",
        "IPY_MODEL_501403b484bb492ba5db433c2849af9c",
        "IPY_MODEL_41966a643af84f3cb31426507a657d18",
        "IPY_MODEL_79f66f8aa29241a5ae52ebbb276081e8"
       ],
       "layout": "IPY_MODEL_54fee9ad6fad417cbdaf8370997d82e8"
      }
     },
     "18e953f4213e4a7db4283d90c3b48f3c": {
      "model_module": "@jupyter-widgets/base",
      "model_module_version": "1.2.0",
      "model_name": "LayoutModel",
      "state": {}
     },
     "19f184c22fa14ce3b6c8b3819d9dcceb": {
      "model_module": "@jupyter-widgets/base",
      "model_module_version": "1.2.0",
      "model_name": "LayoutModel",
      "state": {}
     },
     "1a195119f15a4d3db0e5f5656880079b": {
      "model_module": "@jupyter-widgets/controls",
      "model_module_version": "1.5.0",
      "model_name": "SliderStyleModel",
      "state": {
       "description_width": ""
      }
     },
     "1c918e31abd545f3b2a65838438b7ffe": {
      "model_module": "@jupyter-widgets/controls",
      "model_module_version": "1.5.0",
      "model_name": "DescriptionStyleModel",
      "state": {
       "description_width": ""
      }
     },
     "1d918ee648484ee2a0aa4a85aea1d443": {
      "model_module": "@jupyter-widgets/controls",
      "model_module_version": "1.5.0",
      "model_name": "DropdownModel",
      "state": {
       "_options_labels": [
        "Международная"
       ],
       "description": "metro",
       "index": 0,
       "layout": "IPY_MODEL_b1399b7b45594f658a92bd97bbb6c2b8",
       "style": "IPY_MODEL_534d1186d65541e18ca5bd2117aabb65"
      }
     },
     "1dfe1771eee3472883bb83c9f5bf0bf8": {
      "model_module": "@jupyter-widgets/base",
      "model_module_version": "1.2.0",
      "model_name": "LayoutModel",
      "state": {}
     },
     "1f9e8ec81396418e9e40c881df73560f": {
      "model_module": "@jupyter-widgets/controls",
      "model_module_version": "1.5.0",
      "model_name": "DropdownModel",
      "state": {
       "_options_labels": [
        "Международная",
        "Авиамоторная",
        "Деловой центр",
        "Тестовская",
        "Молодежная",
        "Маяковская",
        "Библиотека им. Ленина",
        "Шаболовская",
        "Курская",
        "Раменки",
        "Тверская",
        "Пушкинская",
        "Смоленская",
        "Арбатская",
        "Третьяковская",
        "ЦСКА",
        "Выставочная",
        "Сухаревская",
        "Динамо",
        "Шелепиха",
        "Ломоносовский проспект",
        "Аэропорт",
        "Давыдково",
        "Кропоткинская",
        "Лужники",
        "Сретенский бульвар",
        "Спортивная",
        "Комсомольская",
        "Павелецкая",
        "Университет",
        "Цветной бульвар",
        "Фили",
        "Киевская",
        "Менделеевская",
        "Чистые пруды",
        "Полянка",
        "Боровицкая",
        "Минская",
        "Красные ворота",
        "Войковская",
        "Охотный ряд",
        "Петровский Парк",
        "Улица 1905 года",
        "Кунцевская",
        "Сокольники",
        "Парк Культуры",
        "Сокол",
        "Озерная",
        "Октябрьская",
        "Проспект Вернадского",
        "Новокузнецкая",
        "Парк Победы",
        "Белорусская",
        "Славянский бульвар",
        "Юго-Западная",
        "Чкаловская",
        "Савеловская",
        "Калужская",
        "Гражданская",
        "Тульская",
        "Серпуховская",
        "Октябрьское поле",
        "Китай-город",
        "Достоевская",
        "Кузнецкий мост",
        "Щукинская",
        "Таганская",
        "Фрунзенская",
        "Добрынинская",
        "Театральная",
        "Тропарево",
        "Новослободская",
        "Новые Черемушки",
        "Крылатское",
        "Тургеневская",
        "Баррикадная",
        "Филевский парк",
        "Красносельская",
        "Стрешнево",
        "Воробьевы горы",
        "Свиблово",
        "Белокаменная",
        "Дубровка",
        "Панфиловская",
        "Ленинский проспект",
        "Проспект Мира",
        "Трубная",
        "Бульвар Рокоссовского",
        "Хорошевская",
        "Профсоюзная",
        "Пролетарская",
        "Бауманская",
        "Студенческая",
        "Коньково",
        "Чеховская",
        "Хорошево",
        "Академическая",
        "Багратионовская",
        "Полежаевская",
        "Ростокино",
        "Рассказовка",
        "Крестьянская застава",
        "Водный стадион",
        "Беляево"
       ],
       "description": "metro",
       "index": 0,
       "layout": "IPY_MODEL_fa5de098d75a4f488d6f6f513d2572b3",
       "style": "IPY_MODEL_52eec101bd464ce99f2c4f088d173bf2"
      }
     },
     "20e52470bc2248a49a0bc06f23493e70": {
      "model_module": "@jupyter-widgets/controls",
      "model_module_version": "1.5.0",
      "model_name": "DropdownModel",
      "state": {
       "_options_labels": [
        "апарт.",
        "кв.",
        "Студия"
       ],
       "description": "typ",
       "index": 0,
       "layout": "IPY_MODEL_f0e66969e36442da870c230cfc05ffd9",
       "style": "IPY_MODEL_798a99d48aef4da289fc0ee08bbd40c3"
      }
     },
     "23e7a0a1aa5e4c928cd3d4382b5b0c89": {
      "model_module": "@jupyter-widgets/controls",
      "model_module_version": "1.5.0",
      "model_name": "DescriptionStyleModel",
      "state": {
       "description_width": ""
      }
     },
     "24e43d6207404dca982c9994e91986ac": {
      "model_module": "@jupyter-widgets/controls",
      "model_module_version": "1.5.0",
      "model_name": "DropdownModel",
      "state": {
       "_options_labels": [
        "metro",
        "S",
        "rooms",
        "dist_to_metro",
        "type",
        "max_floor",
        "price"
       ],
       "description": "x",
       "index": 2,
       "layout": "IPY_MODEL_339fc541ce404f57a7b12304febe1262",
       "style": "IPY_MODEL_eda2b2b5f9614cecad681b2b8ae3abf9"
      }
     },
     "266709ff87b24898b7e78faa852c1dd7": {
      "model_module": "@jupyter-widgets/output",
      "model_module_version": "1.0.0",
      "model_name": "OutputModel",
      "state": {
       "layout": "IPY_MODEL_a4f615881d8e4359b596e1d5c27f04ff",
       "outputs": [
        {
         "data": {
          "text/plain": "225000.0"
         },
         "metadata": {},
         "output_type": "display_data"
        }
       ]
      }
     },
     "26681d0fda4f4755ad17a4e326732dd2": {
      "model_module": "@jupyter-widgets/controls",
      "model_module_version": "1.5.0",
      "model_name": "VBoxModel",
      "state": {
       "_dom_classes": [
        "widget-interact"
       ],
       "children": [
        "IPY_MODEL_3e123e42bc5742f2aa498e7d88f8bf7f",
        "IPY_MODEL_98d2de1f5ab747db834196b1d0441c74",
        "IPY_MODEL_e96efa8cead446c9b279480fd8f3387a",
        "IPY_MODEL_bd61083e551a4e2da08ecf2904eee818",
        "IPY_MODEL_04c08a0f4fef433aa70b8eb5d94a290d",
        "IPY_MODEL_fd2082f9e73b4f2ea2f15c313d94cc0a",
        "IPY_MODEL_af2e4768a061452f9c938174267ff97b",
        "IPY_MODEL_266709ff87b24898b7e78faa852c1dd7"
       ],
       "layout": "IPY_MODEL_16f3608e430149fbb0aaf3778e846875"
      }
     },
     "2748a38c23514d12af08fd77f830fa4a": {
      "model_module": "@jupyter-widgets/base",
      "model_module_version": "1.2.0",
      "model_name": "LayoutModel",
      "state": {}
     },
     "27c9545ffc89444fa0826bd8ae199677": {
      "model_module": "@jupyter-widgets/base",
      "model_module_version": "1.2.0",
      "model_name": "LayoutModel",
      "state": {}
     },
     "28cff5c5c97441aca7f8c3e599256bdb": {
      "model_module": "@jupyter-widgets/base",
      "model_module_version": "1.2.0",
      "model_name": "LayoutModel",
      "state": {}
     },
     "29994dbcac2a45a79ea619a3ae857dac": {
      "model_module": "@jupyter-widgets/controls",
      "model_module_version": "1.5.0",
      "model_name": "DropdownModel",
      "state": {
       "_options_labels": [
        "апарт."
       ],
       "description": "typ",
       "index": 0,
       "layout": "IPY_MODEL_e5040b70242d43eb8ce046d973659495",
       "style": "IPY_MODEL_dafb4448a8314576a022c323e189be63"
      }
     },
     "2a45d50d4205471db670e9af801567bd": {
      "model_module": "@jupyter-widgets/controls",
      "model_module_version": "1.5.0",
      "model_name": "IntSliderModel",
      "state": {
       "description": "dist_to_metro",
       "layout": "IPY_MODEL_616f5a84794a4551bdbe629725f183dd",
       "min": 1,
       "style": "IPY_MODEL_1a195119f15a4d3db0e5f5656880079b",
       "value": 45
      }
     },
     "2b690f24e6794875b3dcd5b5a86243fd": {
      "model_module": "@jupyter-widgets/controls",
      "model_module_version": "1.5.0",
      "model_name": "IntSliderModel",
      "state": {
       "description": "dist_to_metro",
       "layout": "IPY_MODEL_b692be53560e47f6a17037fa1f447f05",
       "min": 1,
       "style": "IPY_MODEL_c37a9a69968744c0842ecdd25628cc42",
       "value": 50
      }
     },
     "2e57c0c05bda438294542f863ca63d4b": {
      "model_module": "@jupyter-widgets/controls",
      "model_module_version": "1.5.0",
      "model_name": "DescriptionStyleModel",
      "state": {
       "description_width": ""
      }
     },
     "318c11180bf24f3ab5f02391b90a46be": {
      "model_module": "@jupyter-widgets/output",
      "model_module_version": "1.0.0",
      "model_name": "OutputModel",
      "state": {
       "layout": "IPY_MODEL_c6daded5b2634c679d820e84c028a14f",
       "outputs": [
        {
         "name": "stdout",
         "output_type": "stream",
         "text": "\n"
        },
        {
         "data": {
          "image/png": "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\n",
          "text/plain": "<Figure size 1440x720 with 1 Axes>"
         },
         "metadata": {
          "needs_background": "light"
         },
         "output_type": "display_data"
        }
       ]
      }
     },
     "31c63a309f464a0198d429e30f500efc": {
      "model_module": "@jupyter-widgets/controls",
      "model_module_version": "1.5.0",
      "model_name": "VBoxModel",
      "state": {
       "_dom_classes": [
        "widget-interact"
       ],
       "children": [
        "IPY_MODEL_f28761031d4645c6bd734945d390b02b",
        "IPY_MODEL_cf9282d366c04206b2a91c7517b37114",
        "IPY_MODEL_edbe0ead3920418f860c28cafcf931f6",
        "IPY_MODEL_5f96dee0e53a49ba8349c256e6dad676",
        "IPY_MODEL_c7f779c8d52245a1ab0054c16e9eafe4",
        "IPY_MODEL_a7434984d71f41dc859bec730efabcce",
        "IPY_MODEL_9cce71a42d764578b7ecc84f308b20c4"
       ],
       "layout": "IPY_MODEL_0bd9bb237d0b4377bb6f00a1ca7f5367"
      }
     },
     "339e1a4aa1e24a3ea602ce44c5bd8c49": {
      "model_module": "@jupyter-widgets/controls",
      "model_module_version": "1.5.0",
      "model_name": "DescriptionStyleModel",
      "state": {
       "description_width": ""
      }
     },
     "339fc541ce404f57a7b12304febe1262": {
      "model_module": "@jupyter-widgets/base",
      "model_module_version": "1.2.0",
      "model_name": "LayoutModel",
      "state": {}
     },
     "343fbb25f7cc4e3880a662d6ddc97c1e": {
      "model_module": "@jupyter-widgets/base",
      "model_module_version": "1.2.0",
      "model_name": "LayoutModel",
      "state": {}
     },
     "36067ad7b5e14112ba83f7e7144b8496": {
      "model_module": "@jupyter-widgets/controls",
      "model_module_version": "1.5.0",
      "model_name": "DescriptionStyleModel",
      "state": {
       "description_width": ""
      }
     },
     "36a6934586da4729bad90e8621731557": {
      "model_module": "@jupyter-widgets/controls",
      "model_module_version": "1.5.0",
      "model_name": "SliderStyleModel",
      "state": {
       "description_width": ""
      }
     },
     "3bb6732aa1ea4c5ebd3d992f035d37a1": {
      "model_module": "@jupyter-widgets/base",
      "model_module_version": "1.2.0",
      "model_name": "LayoutModel",
      "state": {}
     },
     "3dcbf22f0d814e5080c2017a08b6616d": {
      "model_module": "@jupyter-widgets/controls",
      "model_module_version": "1.5.0",
      "model_name": "DescriptionStyleModel",
      "state": {
       "description_width": ""
      }
     },
     "3e123e42bc5742f2aa498e7d88f8bf7f": {
      "model_module": "@jupyter-widgets/controls",
      "model_module_version": "1.5.0",
      "model_name": "DropdownModel",
      "state": {
       "_options_labels": [
        "Международная",
        "Авиамоторная",
        "Деловой центр",
        "Тестовская",
        "Молодежная",
        "Маяковская",
        "Библиотека им. Ленина",
        "Шаболовская",
        "Курская",
        "Раменки",
        "Тверская",
        "Пушкинская",
        "Смоленская",
        "Арбатская",
        "Третьяковская",
        "ЦСКА",
        "Выставочная",
        "Сухаревская",
        "Динамо",
        "Шелепиха",
        "Ломоносовский проспект",
        "Аэропорт",
        "Давыдково",
        "Кропоткинская",
        "Лужники",
        "Сретенский бульвар",
        "Спортивная",
        "Комсомольская",
        "Павелецкая",
        "Университет",
        "Цветной бульвар",
        "Фили",
        "Киевская",
        "Менделеевская",
        "Чистые пруды",
        "Полянка",
        "Боровицкая",
        "Минская",
        "Красные ворота",
        "Войковская",
        "Охотный ряд",
        "Петровский Парк",
        "Улица 1905 года",
        "Кунцевская",
        "Сокольники",
        "Парк Культуры",
        "Сокол",
        "Озерная",
        "Октябрьская",
        "Проспект Вернадского",
        "Новокузнецкая",
        "Парк Победы",
        "Белорусская",
        "Славянский бульвар",
        "Юго-Западная",
        "Чкаловская",
        "Савеловская",
        "Калужская",
        "Гражданская",
        "Тульская",
        "Серпуховская",
        "Октябрьское поле",
        "Китай-город",
        "Достоевская",
        "Кузнецкий мост",
        "Щукинская",
        "Таганская",
        "Фрунзенская",
        "Добрынинская",
        "Театральная",
        "Тропарево",
        "Новослободская",
        "Новые Черемушки",
        "Крылатское",
        "Тургеневская",
        "Баррикадная",
        "Филевский парк",
        "Красносельская",
        "Стрешнево",
        "Воробьевы горы",
        "Свиблово",
        "Белокаменная",
        "Дубровка",
        "Панфиловская",
        "Ленинский проспект",
        "Проспект Мира",
        "Трубная",
        "Бульвар Рокоссовского",
        "Хорошевская",
        "Профсоюзная",
        "Пролетарская",
        "Бауманская",
        "Студенческая",
        "Коньково",
        "Чеховская",
        "Хорошево",
        "Академическая",
        "Багратионовская",
        "Полежаевская",
        "Ростокино",
        "Рассказовка",
        "Крестьянская застава",
        "Водный стадион",
        "Беляево"
       ],
       "description": "metro",
       "index": 13,
       "layout": "IPY_MODEL_5f149aa98eb8415ea8da777863b30eb2",
       "style": "IPY_MODEL_575398b5f5774efb8e3c7aa51a944c4d"
      }
     },
     "3e43cf640892484399cab2058a84ba66": {
      "model_module": "@jupyter-widgets/controls",
      "model_module_version": "1.5.0",
      "model_name": "IntSliderModel",
      "state": {
       "description": "max_floor",
       "layout": "IPY_MODEL_d3b7f8942269458e9b2c939ca664ac2c",
       "max": 88,
       "min": 3,
       "style": "IPY_MODEL_7bfc87d0907e47d996efb50fcda03128",
       "value": 42
      }
     },
     "3e48dc5bea5a42da90c81f86756fa192": {
      "model_module": "@jupyter-widgets/output",
      "model_module_version": "1.0.0",
      "model_name": "OutputModel",
      "state": {
       "layout": "IPY_MODEL_343fbb25f7cc4e3880a662d6ddc97c1e",
       "outputs": [
        {
         "data": {
          "text/plain": "137000.0"
         },
         "metadata": {},
         "output_type": "display_data"
        }
       ]
      }
     },
     "3edcd09d2ce9464ea196e9612592908a": {
      "model_module": "@jupyter-widgets/controls",
      "model_module_version": "1.5.0",
      "model_name": "VBoxModel",
      "state": {
       "_dom_classes": [
        "widget-interact"
       ],
       "children": [
        "IPY_MODEL_1f9e8ec81396418e9e40c881df73560f",
        "IPY_MODEL_cc766bb0a89549d6b424282b692f4186",
        "IPY_MODEL_f28405b994834cc8a3ce44db08e1dba6",
        "IPY_MODEL_80d967da2fe54054b576eeb076559523",
        "IPY_MODEL_8a779688fc1246e99f01376a13c4362d",
        "IPY_MODEL_747743c06aa7497983c816619c9b920f",
        "IPY_MODEL_b0612fce31b74aa09d1b70724f1a8835",
        "IPY_MODEL_fcdc95019f034abcbf375183f7d717af"
       ],
       "layout": "IPY_MODEL_e58071ecfc8a45b1bae65afff76cd183"
      }
     },
     "40845c0c0d4c4d5fbae3ba901cb7c43e": {
      "model_module": "@jupyter-widgets/output",
      "model_module_version": "1.0.0",
      "model_name": "OutputModel",
      "state": {
       "layout": "IPY_MODEL_500fc88f483449368123a03f9c7b3ca8",
       "outputs": [
        {
         "data": {
          "text/plain": "109368.61630718177"
         },
         "metadata": {},
         "output_type": "display_data"
        }
       ]
      }
     },
     "40dcdf5b9b09468ab139b6bfc7f75bee": {
      "model_module": "@jupyter-widgets/controls",
      "model_module_version": "1.5.0",
      "model_name": "SliderStyleModel",
      "state": {
       "description_width": ""
      }
     },
     "41966a643af84f3cb31426507a657d18": {
      "model_module": "@jupyter-widgets/controls",
      "model_module_version": "1.5.0",
      "model_name": "DropdownModel",
      "state": {
       "_options_labels": [
        "lasso",
        "ridge",
        "knn",
        "DT"
       ],
       "description": "model",
       "index": 2,
       "layout": "IPY_MODEL_4a72a19120584ba9acad0dfca1e5fc9a",
       "style": "IPY_MODEL_b34dbf865f8c49469d9fd46fd1a5f63d"
      }
     },
     "41a84b5f9d54483c89b96a85155ae4d3": {
      "model_module": "@jupyter-widgets/controls",
      "model_module_version": "1.5.0",
      "model_name": "DescriptionStyleModel",
      "state": {
       "description_width": ""
      }
     },
     "41c3a271524241c4ab099e0528a0535a": {
      "model_module": "@jupyter-widgets/controls",
      "model_module_version": "1.5.0",
      "model_name": "SliderStyleModel",
      "state": {
       "description_width": ""
      }
     },
     "41fb7b89605340b5a113e82102d401fc": {
      "model_module": "@jupyter-widgets/controls",
      "model_module_version": "1.5.0",
      "model_name": "VBoxModel",
      "state": {
       "_dom_classes": [
        "widget-interact"
       ],
       "children": [
        "IPY_MODEL_ff3428643e9f44dda39be1824a880989",
        "IPY_MODEL_da084eb52da14049b332ffcbb4cbe63e",
        "IPY_MODEL_f9dc92599cfa495689f7bd5203a22770",
        "IPY_MODEL_e4e941ad11cd442ca445d2cf815df068",
        "IPY_MODEL_58903dda5aca4d79b5ec7c62969d5d00",
        "IPY_MODEL_3e43cf640892484399cab2058a84ba66",
        "IPY_MODEL_62cdabad3e0840ea94f724b93682a1dd",
        "IPY_MODEL_3e48dc5bea5a42da90c81f86756fa192"
       ],
       "layout": "IPY_MODEL_bfc5978b8b9144308d8b2e7adfee7172"
      }
     },
     "43ab9acb0bda416f9d61d75cf9064559": {
      "model_module": "@jupyter-widgets/output",
      "model_module_version": "1.0.0",
      "model_name": "OutputModel",
      "state": {
       "layout": "IPY_MODEL_83482deb18514c08858b026721f3ed21",
       "outputs": [
        {
         "name": "stdout",
         "output_type": "stream",
         "text": "\n"
        },
        {
         "data": {
          "image/png": "iVBORw0KGgoAAAANSUhEUgAABKgAAAJhCAYAAABl6ohjAAAABHNCSVQICAgIfAhkiAAAAAlwSFlzAAALEgAACxIB0t1+/AAAADh0RVh0U29mdHdhcmUAbWF0cGxvdGxpYiB2ZXJzaW9uMy4xLjMsIGh0dHA6Ly9tYXRwbG90bGliLm9yZy+AADFEAAAgAElEQVR4nOzdf3xV1Z3v/9fe2flJLZgEwUgiiCTUwjCUMijDFCRmVKg4vYUDnZaUKXYa5suj3xbqo+BEaG6H6eXOvdIfOoilNfY7XM2m2CEoajMgt1P80aYlhB9OwCiSQiKEKBHy45yTvb9/nBCTEJJzkpNzDsn76YOHyd5rr/1Za/84O+ustbbhui4iIiIiIiIiIiLRYkY7ABERERERERERGd7UQCUiIiIiIiIiIlGlBioREREREREREYkqNVCJiIiIiIiIiEhUqYFKRERERERERESiSg1UIiIiIiIiIiISVWqgEhEREYkwwzCKDcP4j2jHISIiIhIr1EAlIiIiEmaGYaQZhvE/DcOoMgyjxTCMc4Zh/MYwjHzDMKxB2ufbhmF8bzDyFhERERlsg/KAJCIiIjJcGYYxDjgI+IENwCHAB8wGvgNURi+6vhmGYQCW67q+aMciIiIiw4d6UImIiIiE11YgEfiM67o7XNc97rruSdd1nwFmACe7b9DTkD/DML5iGIbb6fdxhmHsMgyj3jCMZsMw3jEM4+H2dQeAicBGwzDc9n/j29fd3r7dh4ZhfGAYxq8Nw5jaKd8VhmH4DcO42zCMQ0ArcG9v+xMREREJN/WgEhEREQkTwzBSgQXARtd1L3Zf394ryRfopBSyfwVSgHuAD4EJwNj2df8N+AOwC/hf7cvOG4YxBvgt8CvgrwAvsBo4YBjGZNd1z7enNYH/CawFTgEfAT/rZX8iIiIiYaUGKhEREZHwuZ1AY8/xQcj7VuBXrutWtP9+6soK13UbDMNoAy65rlt3ZblhGKuAU67rruq07JsEGtG+DPzwymJgjeu6/9kp3TX3JyIiIhJuaqASERERCZ8rXaPcXlP1zw+BbYZh3A8cAF50Xfc3fWwzE5hhGMalbsuTgUndlv0+DPsTERER6RfNQSUiIiISPicBB/h0iNs5fNy4dUV8519c132aQC+qJ4GbgZcMw/i3PvI1gX3An3f7lwN8r1O6Ntd1W8KwPxEREZF+UQOViIiISJi4rtsAvASsNgxjZPf1hmHEG4YxoodNzwEZ3ZZ9pof8a13Xfdp13XxgJfBlwzA+2b7aC8R126ScQGPZGdd13+727zx96GN/IiIiImGjBioRERGR8PoHwAf8wTCMvzUM4472N+l9hUCDUfehdQD/AUw2DGO1YRgTDcP4OuDpnMAwjMcNw1jQvv7TBCZGryEwoTnAu8BfGoaRZRhGumEYJvA4gUarfzcM468MwxhvGMYcwzA2GYYxu7dCBLE/ERERkbBRA5WIiIhIGLmue5pA76fdBIbR/RF4Dfg68C/A0R62+Q+gEFgPHAbmA/+9WzKDwLxQR4HfACOA+13XvTLf1UZgJFAFnAeyXNd9H7gLqAeeb1+3g8DQvdo+itLX/kRERETCxtAzhoiIiIiIiIiIRJN6UImIiIiIiIiISFSpgUpERERERERERKJKDVQiIiIiIiIiIhJVaqASEREREREREZGoUgOViIiIiIiIiIhElRXtAGKUXm0oIiIiIiIiIhJ+Rk8L1UB1DWfPno12CCLDRnp6OvX19dEOQ0Q60XUpEnt0XYrEHl2XIqHJyMi45joN8RMRERERERERkahSA5WIiIiIiIiIiESVGqhERERERERERCSqNAdVkFzXpaWlBcdxMIwe5/OSa3BdF9M0SUpKUt2JiIiIiIiIyFXUQBWklpYW4uPjsSxVWX/4/X5aWlpITk6OdigiIiIiIiIiEmM0xC9IjuOocWoALMvCcZxohyEiIiIiIiIiMUgNVEHS0LSBUx2KiIiIiIiISE/UQHUdOXfuHKtWrWL27NnMmzeP5cuXU11dTU1NDfPnz+9XniUlJdTV1Q0orrfffpsHHniACRMm8OSTTw4oLxEREREREREZfjRmbRA4jsOpU6c4ceIEfr8fy7LIzs5mwoQJ/e5F5LouK1euZMmSJWzduhWAo0ePUl9fT0ZGRr9j3blzJ5MnT2bs2LFBb3OlTFeMGjWK73//+7z88sv9jkNEREREREREhi81UIVZc3Mzr7zyChcuXOgy59KZM2eorKzk3nvv7ddE4QcPHiQ+Pp78/PyOZVOmTAGgpqamY1lJSQmVlZVs2rQJgPz8fAoKCpg1axZr166lsrISwzBYunQpGRkZHD58mNWrV5OUlERpaSknT56kqKiIy5cvk5qaypYtWxgzZgyLFy9mxowZlJeXk5eXR0FBQcc+09PTSU9PZ9++fSGXS0REREREREREDVRh5Lour7zyCufPn79qneM4nD9/nldeeYUHH3ww5J5UVVVVTJ06td+xHTt2jLq6Ovbv3w/AxYsXGTlyJMXFxTz66KNMmzYNn89HYWEhTz/9NGlpaezevZvNmzfz2GOPAdDY2MiuXbv6HYOIiIiIiIiISE/UQBVG7777LhcuXOg1zYULFzh16hQTJkyIUFQBWVlZnD59msLCQnJzc5k7d+5Vaaqrq6mqqmLZsmVAoFHtpptu6li/aNGiiMUrIiIiIiIiIsOHGqjC6MSJE12G9fXEcRyqqqpCbqDKzs7mxRdf7DOdZVldYmhtbQUC80SVlZVx4MABiouL2bNnT0fPqCtc1yU7O5s9e/b0mHdKSkpIMYuIiIiIiIiIBENv8Qsjv98f1nSdzZkzB6/Xy44dOzqWVVRU8Prrr3dJl5mZybFjx3AchzNnzlBRUQFAQ0MDjuOwcOFCHn74YY4cOQLAiBEjuHTpEgATJ06koaGB8vJyAHw+H1VVVSHHKiIiIiIiIiISCvWgCqPOb7YLR7rODMNg+/btbNy4kSeeeILExETGjRtHUVFRl3QzZ84kKyuL3NxccnJyOuatqq2tZc2aNR29q9avXw+Ax+Nh3bp1HZOkb9u2jQ0bNtDY2EhbWxsPPfQQOTk5vcZ27tw57r//fi5duoRpmvz0pz/lwIED3HDDDSGXU0RERERERESGH8N13WjHEIvcs2fPdlnQ1NTU5xC3d955h1dffbXXYX6maTJ//vyIz0EVC4KpQxme0tPTqa+vj3YYItKJrkuR2KPrUiT26LoUCU1GRgZAj2+N0xC/MJowYQJpaWm9pklLS2P8+PGRCUhERERERERE5DqgBqowMgyDe++9l9GjR2OaXavWNE1Gjx7Nvffei2H02FgoIiIiIiIiIjIsaQ6qMEtOTubBBx/k3Xff5cSJE/j9fizLIicnh/Hjx6txSkREYpsD5nsmza82k9CUABb4s/04451rdMaWK3VmnbDAz/Cos1DKPJj1E868+8prOB5nERGJPC/EH4gn7k9x4AIGtI1rw5frg7hoBze41EA1CAzD4LbbbuO2226LdigiIiLBa4aEsgTMCyaO4xDX/hRknjVx0hy8eV5IjnKMsaZTnRnOx60UQ7rOQinzYNZPOPPuK6+/8pLwn8PsOIuISOTVQtLeJACMK99+uBBXE0dccRwtC1rg5ijGN8g0xE9ERETADfyBHnc+rssf4ACGYxB3Po6EsoTAN3kSMBzrLJQyD2b9hDPvIPJKKk0aXsdZREQiry3QOGW0/9fZlWVJe5OgLUrxRYAaqERERATzlIl5offHAvOCiXlKjw5XDMc6C6XMg1k/4cw7mLzw95HHEDvOIiISefH74oNKZ+0bugPh9El6HTl37hyrVq1i9uzZzJs3j+XLl1NdXU1NTQ3z58/vV54lJSXU1dUNKK7nn3+ee+65h3vuuYdFixZx7NixAeUnIiKRZ52wruod0p3hGFgnh+5DUaiGY52FUubBrJ9w5h1UXn1MMjXUjrOIiERe3J/i+v68wcD609D9vBm6JYumQZhE03VdVq5cyZIlS9i6dSsAR48epb6+noyMjH6HunPnTiZPnszYsWOD3ubKxO9XZGZm8stf/pJRo0axf/9+vvvd7/LCCy/0OyYREYmCPnqIhJxuOBiOdRZKmYMd8taf+gln3Yfr+Ayl4ywiIpEX7OfmEB5SrgaqcBukyUAPHjxIfHw8+fn5HcumTJkCQE1NTceykpISKisr2bRpEwD5+fkUFBQwa9Ys1q5dS2VlJYZhsHTpUjIyMjh8+DCrV68mKSmJ0tJSTp48SVFREZcvXyY1NZUtW7YwZswYFi9ezIwZMygvLycvL4+CgoKOfc6cObPj58985jPU1taGXkAREYmuYJ8I9OTwseFYZ6GUOdgH6P7UTzjrPlzHZygdZxERiTyD4D47h/CbY/VRGk6dJtnsrvMkmt4HvCGfVFVVVUydOrXfoR07doy6ujr2798PwMWLFxk5ciTFxcU8+uijTJs2DZ/PR2FhIU8//TRpaWns3r2bzZs389hjjwHQ2NjIrl27et3Pc889x913393vOEVEJDr82X7Ms2avQ51c08U/Sd1ErhiOdRZqmQerfsJZ90HlhdvrsIuhdpxFRCTy2sa1EVfT+zA/Fxf/uKH7eaMGqjAKZcJOZ4IToagCsrKyOH36NIWFheTm5jJ37tyr0lRXV1NVVcWyZcsAcByHm266qWP9okWLet3HwYMHefbZZ/nVr34V3uBFRGTQOeMdnDSnxy9ZOtKkOYHh6gIMzzoLtcyDVT/hrPtg8sKi1yF8Q+04i4hI5PlyfcQV9/JZ1M6fO3QbqDRJehgN5mSg2dnZHDlypO8YLAvH+fgBqbW1FYBRo0ZRVlbGXXfdRXFxMd/5zneu2tZ1XbKzsykrK6OsrIx9+/bx7LPPdqxPSUm55n6PHz/Oww8/zM9//nNSU1NDKZqIiMQCA7x5XtpGt+GaXfuXu6ZL2+i2wDD1IdytPGTDsc5CKfNg1k848w4ir5ZFLcPrOIuISOTFQcuCFtz2/zq7sqxlQQv03YZ13VIPqnAaxMlS58yZw+bNm9mxYwdf/vKXAaioqKC5uZlx48Z1pMvMzOSZZ57BcRxqa2upqKgAoKGhgfj4eBYuXMitt97Kt7/9bQBGjBjBpUuXAJg4cSINDQ2Ul5fz2c9+Fp/PxzvvvENOTk6vsZ05c4avf/3r/OhHP2LixImhF05ERGJDMngf8GKeMkl+Lxlfky/woo9JA3vRx5DWqc6sk51ejjKU6yyUMg9m/YQz7yDyGnbHWUREIu9maFnRQvy+eOL+FBeYk8oA/zh/oOfUEG6cAjVQhdcgTpZqGAbbt29n48aNPPHEEyQmJjJu3DiKioq6pJs5cyZZWVnk5uaSk5PTMW9VbW0ta9as6ehdtX79egA8Hg/r1q3rmCR927ZtbNiwgcbGRtra2njooYf6bKDasmULH3zwAY888kigeJbFSy+9FHohRUQk+gxwJjgkz0zmcv3laEdzfWivM+8Eb7QjiZxQyjyY9RPOvPvKazgeZxERibw48P21Dx++aEcScYbrDuF3FPafe/bs2S4Lmpqaeh3iBmC+a5JwIKHPCTu987wRn4MqFgRThzI8paenU19fH+0wRKQTXZcisUfXpUjs0XUpEpqMjAy4Rt9j9aAKo+E4WaqIiIiIDCIHzPdMrBMWzWYzCU4C/mwNLRQRkaFHDVTh1D7JZkJZAuaFrq8rdk0XJ83RJJoiIiIiEpxmujxXOjjEEYd51vz4uTI52kGKiIiEhxqowm04TpYqIiIiIuHlBhqneuqZbzgGcefjSChLwPuAvvwUEZGhQQ1Ug0GTaIqIiIjIAJinTMwLZu9pLpiYp8xhObepiIgMPb1/6omIiIiISMRZJ6xeX7wDgZ5U1kl93ywiIkODGqhERERERGKNP8zpREREYpwaqK4j586dY9WqVcyePZt58+axfPlyqqurqampYf78+f3Ks6SkhLq6ugHF9corr3DPPfeQl5fH/fffz+9+97sB5SciIiIy7AXbMUodqEREZIjQR9pgcBwSTp0k6cQxDL8f17JoyZ6Cd8IkMPo3i6XruqxcuZIlS5awdetWAI4ePUp9fT0ZGRn9DnXnzp1MnjyZsWPHBr2N3+/Hsj4+debMmcNf//VfYxgGx48fp6CggN/85jf9jklERERkuPNn+zHPmr0O83NNF/8kdaESEZGhQQ1UYWY0NzHylV9hXTiP4bR1LE84cxp/5Wgu3vsF3OSUkPM9ePAg8fHx5OfndyybMmUKADU1NR3LSkpKqKysZNOmTQDk5+dTUFDArFmzWLt2LZWVlRiGwdKlS8nIyODw4cOsXr2apKQkSktLOXnyJEVFRVy+fJnU1FS2bNnCmDFjWLx4MTNmzKC8vJy8vDwKCgo69jlixIiOn5uamjD62QgnIiIiIgHOeAcnzenxLX4dadKcwFuiRUREhgA1UIWT6zLylV8Rf/7qIXOG00b8+TpGvvIrPnzwb0PuSVVVVcXUqVP7HdqxY8eoq6tj//79AFy8eJGRI0dSXFzMo48+yrRp0/D5fBQWFvL000+TlpbG7t272bx5M4899hgAjY2N7Nq1q8f8X3rpJX7wgx9w4cIFnnnmmX7HKSIiIiKAAd48LwllCZgXuvakck0XJ83Bm+cFfS8oIiJDhBqowijh3ZNYF873msa6cJ6EUyfxTsiOUFQBWVlZnD59msLCQnJzc5k7d+5Vaaqrq6mqqmLZsmUAOI7DTTfd1LF+0aJF18z//vvv5/777+eNN97gX/7lXygpKQl/IURERESGk2TwPuDFPGVinbSIN+LxuT78k/yBnlNqnBIRkSFEDVRhlHTiaJdhfT0xnDaSqo6G3ECVnZ3Niy++2Gc6y7JwnI+7ere2tgIwatQoysrKOHDgAMXFxezZs6ejZ9QVruuSnZ3Nnj17esw7JaXvoYl33nkn7733Hg0NDaSmpvaZXkRERER6YYAzwcE7wcsn0z/J5frL0Y5IRERkUKiBKowMf3CTVAabrrM5c+awefNmduzYwZe//GUAKioqaG5uZty4cR3pMjMzeeaZZ3Ach9raWioqKgBoaGggPj6ehQsXcuutt/Ltb38bCMwfdenSJQAmTpxIQ0MD5eXlfPazn8Xn8/HOO++Qk5PTa2zvvvsu48ePxzAMjhw5gs/n48Ybbwy5jDJM+aF1XytJR5OgDYgD/+1+/DP9ob9n1AHzPRPrhBV47bYVmGRW3zKH4GeQQAJmp8p3cPDihZWDuK0MTKye++GMK1bLCOAH6w8W1ttW3/exWC6HxKZLkPDvCZitJpe5TBJJOKaDGdd+cg3kc1NERGLPMH5WUANVGLlWcNUZbLrODMNg+/btbNy4kSeeeILExETGjRtHUVFRl3QzZ84kKyuL3NxccnJyOuatqq2tZc2aNR29q9avXw+Ax+Nh3bp1HZOkb9u2jQ0bNtDY2EhbWxsPPfRQnw1Ue/fu5Ze//CWWZZGUlMTWrVs1UboE5wNIKk3C7/djXLnb+sA6amH9l0XLohYItq2zmR7n6TDPmh/P05Ec/iIMKT+DJJIAPj4egIlJEkm0/Kzl2g1NA9lWBiZWz/1wxhWrZYSO+xh++r6PxXI5JDYdhaQ3u95bDQxMp9M51N/PTRERiT3D/FnBcF032jHEIvfs2bNdFjQ1NfU5xC3hnRN88tW9vQ7zc804GucviPgcVLEgmDqUYcSBpP8vCcPfy+uzLZeW5S19fyPsQsKehF7fdNQ2ug3vA5pM9praG5iMXirIxaWFHhqaBrKtDMwgnvvp6enU19dHP65Yvr5DuY8ZMVwOiU3e9vMrhBMi6M9NEQmbAX1einQWy888YZSRkQHXKIE+vsLIO2ES/rTRvabxp43GO35ShCISiV3W79u7rPbGD3G/v/YN+grzlIl5offbmXnBxDylW961JJDQ73QD2VYGJlbP/XDGFatlhNDuY7FcDolNCXY/7plBfm6KiEjs0bOCGqjCyzC4eO8X8I0ei2t2fThwzTh8o8dy8d4vgIa/iWC9bfX5rbCBQfzb8X3ndcLq0gW2x7wcA+ukRjVfi4kZ1PEwe/jYGMi2MjCxeu6HM65YLSOEdh+L5XJIbDJb+763dhfs56aIiMQePStoDqqwc5NT+PDBvyXh3ZOBt/r5/biWRUvOlEDPKTVOiQT0/sLL0NIF+96B0N9PIBLbYvXcD2dcsVpGCO0+FsvlkKEl2PNSRERii54V1EA1KAwD723ZeG8bfvNMiQQtDvAFma4vwd7JdMeToSZWz/1wxhWrZYTQ7mOxXA4ZWjTCT0Tk+qRnBY23EJHo8N/ux6X3lzS4uPhu7/uvP3+2H9fsIy/TxT9pCH/dMEAOTlDHw8EJ67YyMLF67oczrlgtI4R2H4vlckhschL7vrd2F+znpoiIxB49K6iBSkSixD/T33frvwVtM/seq+CMd3DSem/8cNIcnPFqILkWL95+pxvItjIwsXruhzOuWC0jhHYfi+VySGzyevpxzwzyc1NERGKPnhXUQHVdOXfuHKtWrWL27NnMmzeP5cuXU11dTU1NDfPnz+9XniUlJdTV1YUlvoqKCjIzM3nhhRfCkp8McSa0LGrBta7+lsDFDbwqe1GQr8o2wJvnpW1021XfOrimG3gda971/TrWQbcSWmgJ1H23b+yvLGuhBVaGeVsZmFg998MZV6yWEbrcx3o89zvfx2K5HBKbEqBl1rXvrd1/D+lzU0REYo+eFYby6MXocVw43WJQ3RKH3wXLgIlJbdya5PZ7jnTXdVm5ciVLlixh69atABw9epT6+noyMjL6HevOnTuZPHkyY8eODXobv9+PZXU9ddra2ti0aRPz5s3rdywyDN0ILctbuOHIDfiO+gITu8aB73Zf4BvgUB6yk8H7gBfzlBl4s4UfsMA/yR/4lmEI38jDZiW0/KyFBBK6vHHPwQn0fuqtgWkg28rAxOq5H864YrWM0HEfs35vYb1t9X4fi+VySGyaAi3ZLSTYCR1v9XNxcUwHM6795Orv56aIiMSeYf6soAaqMGt24NUPLBr8Bk6ns6fWa3C8yeXuG/0k9+Ph4eDBg8THx5Ofn9+xbMqUKQDU1NR0LCspKaGyspJNmzYBkJ+fT0FBAbNmzWLt2rVUVlZiGAZLly4lIyODw4cPs3r1apKSkigtLeXkyZMUFRVx+fJlUlNT2bJlC2PGjGHx4sXMmDGD8vJy8vLyKCgo6BLfz3/+cxYuXEhFRUXohZPhzYTE3EQ+mvbRwPMywJng4J2goWT9tnIAQ/EGsq0MTKye++GMK1bLCGCCf5Yf/6wg5oSI5XJIbEoA71cC50t6ejr19fVRDkhERAbVMH5WUANVGLluoHGq3n91C5SDQb3f4NUPLO5P9Yfck6qqqoqpU6f2O7Zjx45RV1fH/v37Abh48SIjR46kuLiYRx99lGnTpuHz+SgsLOTpp58mLS2N3bt3s3nzZh577DEAGhsb2bVr11V519bW8vLLL2PbthqoRERERERERCRkaqAKo/daDBr8vbc8NfgNTrca3JoU2ltZBiorK4vTp09TWFhIbm4uc+fOvSpNdXU1VVVVLFu2DADHcbjppps61i9atKjHvDdu3MgjjzxCXJzeaywS8/xg/aHrUCT/7f7AZM8aGtI3B8z3TKwTnbpcZw+PLtciIiIiIoMpIg1UHo8nE/gFMBZwgKds2/6Rx+MpAXLak40CPrRt+889Hs944C2gqn3dG7ZtF7TnNQMoBpKBvcD/a9u26/F4UoESYDxwCvDYtv2Bx+MxgB8BC4AmYIVt238cjHJWt8R1GdbXEweDt5vjuDUptFdDZmdn8+KLL/aZzrIsHOfjWf1bW1sBGDVqFGVlZRw4cIDi4mL27NnT0TPqCtd1yc7OZs+ePT3mnZKS0uPyyspK/uEf/gGAhoYG9u/fj2VZ3HfffUGVTUQi5ANIKk0CPxhX7lU+sI5aWP9lBSbXvTG6Ica0ZkgoS8C8YGI4H9/rzbMmTpoTmLQyOYrxiYiIiIhcxyL1fbkfWGvb9qeAO4H/x+Px3GHb9lLbtv/ctu0/B3YBz3fapvrKuiuNU+22An8PTGr/d6UVZB2wz7btScC+9t8B7u+U9u/btx8U/iA7RQWbrrM5c+bg9XrZsWNHx7KKigpef/31LukyMzM5duwYjuNw5syZjiF3DQ0NOI7DwoULefjhhzly5AgAI0aM4NKlSwBMnDiRhoYGysvLAfD5fFRVVdGXN954gzfffJM333yThQsX8s///M9qnBKJNU6gccrwGx83TrUzMDD8RqDxaiBvrXXAfNck4ZUEEl5MIOGVBMx3TYhsh9HB4QYap+LOx3VpnAIwHIO483EklCUMjbKKiIiIiERBRHpQ2bZdC9S2//yRx+N5C7gFOA7Q3svJA8zvLR+Px3Mz8Enbtl9v//0XwN8ALwEPAvPakz4DHAC+2778F7Ztu8AbHo9nlMfjubk9prCyghzeEWy6zgzDYPv27WzcuJEnnniCxMRExo0bR1FRUZd0M2fOJCsri9zcXHJycjrmraqtrWXNmjUdvavWr18PgMfjYd26dR2TpG/bto0NGzbQ2NhIW1sbDz30EDk5OYjI9c36ffuQtN74Ie73cbTNagt9B0O8d5F5ysS80Pt3OuYFE/OUiTNhIK18IiIiIiLDU8TnoGofvjcdeLPT4r8C3rdt+2SnZRM8Hs8hoBEotG37Pwk0av2pU5o/tS8DGHOl0cm27VqPx3Nl8qRbgJoetgl7A9XEpDZqvUavw/xMXG5P7scff8DYsWPZtm1bj+uuTH5uGAaPP/54j2leeeWVq5YtXLiQhQsXdvw+ZcoUnn/++avS/fKXvwwqxh/+8IdBpRORyLLetq7qOdWdgUH82/GhN1B16l10VZ6dehd5H/Bet/M0WSesq3pOdWc4BtZJa1i+cUVEREREZKAi2kDl8Xg+QWAo37ds227stOpLwLOdfq8FsmzbvtA+59S/ezyeT9PznzZ9DagIahuPx/P3BIYAYts26enpXda///77WFbv1TXxE3C8Gep9106TGg+3jYgL+S1+Q0FiYuJV9SoCgbnTdG4Mrsvu5aDSGa4R8rHw/5ef1obWXtPENcQxqmEUVs71+W6OZrMZJ4jxj/FGPJ9M/2QEIsylMT0AACAASURBVBp8ui5FYo+uS5HYo+tSJHwi9peCx+OJJ9A4tcO27ec7LbeA/wbMuLLMtu1WoLX95z94PJ5qIJtA76dxnbIdB5xt//n9K0P32ocCnmtf/icg8xrbdLBt+yngqfZf3fr6+i7rW1tbg3pL3d2j4NUPLBr8XXtSmbikWi53j/LT1r8OVNe91tZWuterCEB6errOjUGWZCT12YMKwDXckI9Fwh8SiGvr4/7YBk1/aMKbdn32LkpwEoij788An+vjcn1wjYGxTtelSOzRdSkSe3RdioQmIyPjmusi9RY/A/gZ8JZt2491W30P8F+2bf+pU/rRQINt220ej+c2AhOcv2PbdoPH4/nI4/HcSWCIYD7wk/bNSoGvAv+j/f+7Oy1f7fF4ngNmARcHY/6pK5JNuD/Vz3stBtUtcfjdwJxTtye3kZXoDsueUyISff7b/VhHex/m5+Liu72XLqDXzDzM6WKQP9uPedbsdZifa7r4J13HhRQRERERiaJI9aD6S2A5cMTj8VS0L3vEtu29wDK6Du8D+Bzw3z0ejx9oAwps225oX7cKKCYw3e5L7f8g0DBlezyelcBpYEn78r3AAuBtoAn4u/AW7WqGAeOTXcYn6w8VEYkN/pl+rP/qY6J0C9pm9qOLZ7CfJNfn6D4AnPEOTprT4zxbHWnSHJzxmiBdRERERKQ/DNfVO7F74J4923UUYFNTEykpKVEKZ2hQHcq1qGt0hHwASaVJ4KdLTyoXFyxoWdQCN4aerfmuScKBhD57F3nnea/vN9xd402FrukOiTcVdqfrUiT26LoUiT26LkVC0z7Er8c/HK7j77NFRCQkN0LL8has31tYb1uB/qlx4LvdF+g5ZfYv22HTuygZvA94MU+ZWCfbe6NZ4J/kD5RNQ7hFRERERPpNDVTXkXPnzrFx40YOHz5MQkICmZmZfO973yMhIYGvfvWr7N+/P+Q8S0pKmDt3LmPHju13XK+99hpf+9rXyMwMzEW/YMECvv3tb/c7PxEZRCb4Z/nxzwrjEGQDvHnevnsXDYUGHAOcCQ7eCdfnZO8iIiIiIrFKDVSDwW0j6fxeUup2YrQ14cal0DTWQ8voBWD0r4uC67qsXLmSJUuWsHXrVgCOHj1KfX19r7Pg92Xnzp1Mnjw5pAYqv9+PZXU9df7iL/6CX/ziF/2OQyQm+cH6Q9feRv7b/fhn+vvd22hQOGC+Z2Kd6NSrJ7u9V4/by7pwNhglg3ehF6s8TPXVW5lCjTuceYW6rzhwbnQwPzSjd2yGikgeRxERERGJODVQhZnprSf1yAqsS8cx3daO5Qkf/BZ/zZM0TC3GSUgPOd+DBw8SHx9Pfn5+x7IpU6YAUFNT07GspKSEyspKNm3aBEB+fj4FBQXMmjWLtWvXUllZiWEYLF26lIyMDA4fPszq1atJSkqitLSUkydPUlRUxOXLl0lNTWXLli2MGTOGxYsXM2PGDMrLy8nLy6OgoKC/VSRyfehpviYfWEctrP+y+j1fU9hdY14k86yJc2NgSJ35QQ/rwj1nUk9x+MA6bmG+b4a2r97KFGrc4cyrv/s6Y3aZ8yvix2YoiORxFBEREZGoiKU+ANc/1yH1yAoSPjrUpXEKwHRbSfjoEKlHVoAb+jwsVVVVTJ06td+hHTt2jLq6Ovbv38++fftYunQpn//855k2bRqPP/44ZWVlWJZFYWEhTz31FC+//DJLly5l8+bNHXk0Njaya9euHhun/vCHP3DPPffwla98haqqqn7HKRITnEDjlOE3ujQsQKCxyvAbgcaraE+p5Ab+aI87H3fVBOWGYxB3IY64C9dYdz6OhLIECMd7MvqKI5R9xWpeA9lX93MoksdmKIjkcRQRERGRqFEPqjBKOr8X69LxXtNYl46TVP9yYLhfBGVlZXH69GkKCwvJzc1l7ty5V6Wprq6mqqqKZcuWAeA4DjfddFPH+kWLFvWY99SpU/nd737HiBEj2LdvH1/72tc4ePDg4BREJAKs37cPIeqNH+J+H0fbrLaIxNQT85SJeaH/3zOYF0zMU+aA36wXTBzB7itW8+rLQI/FVfmFKa6hIJLHUURERESiRz2owiilzr6q51R3pttKcu1zIeednZ3NkSNH+kxnWRaO8/EDemtrIJ5Ro0ZRVlbGXXfdRXFxMd/5zneu2tZ1XbKzsykrK6OsrIx9+/bx7LPPdqxPSUnpcZ833HADI0aMACA3Nxe/309DQ0NI5ROJJdbb1lW9XrozMIh/Oz5CEfXMOmFd1aMkFIZjBN5GF4E4gt1XrOYVjn2FIlxxDQWRPI4iIiIiEj1qoAojo60pqHSm0xxy3nPmzMHr9bJjx46OZRUVFbz++utd0mVmZnLs2DEcx+HMmTNUVFQA0NDQgOM4LFy4kIcffrijsWvEiBFcunQJgIkTJ9LQ0EB5eTkAPp8vqOF6586dw3UDYysOHTqE4zjceGMsTM4j0k/BdoqKXuepgHC8iC+SeQSTLlbzikQekcjzehTJ4ygiIiIiUaOvG8PIjeu5h1F3jhn6TK6GYbB9+3Y2btzIE088QWJiIuPGjaOoqKhLupkzZ5KVlUVubi45OTkd81bV1tayZs2ajt5V69evB8Dj8bBu3bqOSdK3bdvGhg0baGxspK2tjYceeoicnJxeY3vxxRf5xS9+QVxcHElJSfzrv/4rhqFXKsl1LA7wBZkumsJxB49kHsGki9W8IpFHJPK8HkXyOIqIiIhI1BhXer5IF+7Zs2e7LGhqarrmELcrks69wKi3vtnrMD/HSOTDOx6P+BxUsSCYOpThKT09nfr6+miH0cF608I62vswPxcX3xRfdOegetck4UBCv4eWuaaLd5534PMvBRFHsPuK1bz6MtBjMVhxDUSsXJeRPI4isS5WrksR+ZiuS5HQZGRkAD3/oaUhfmHUMnoB/k/c0Wsa/yfuoCX9vghFJCL94Z/p77s3hgVtM6M7xs8Z7+Ck9f8PcifNwRk/8D/og4kj2H3Fal7h2FdI+YUprqEgksdRRERERKJHDVThZJg0TC3Ge8N0HCOxyyrHSMR7w3QaphaDoWoXiWkmtCxqwbVc3G7vrndxcS2XlkUt0b+DGuDN89I2ug3X7Ban6dKW1kZb2jXWjW7Dm+e9xncXYY4jlH3Fal4D2Vf3cyiSx2YoiORxFBEREZGo0RC/nvVriN/HWzsknX+J5LoSTKcZx0ym+eZlgZ5Tw7hxSkP85Fpitmu0A9bvLay3rcCE6HHgu90X6DkVS5eyC+YpM/AWMz9ggX+Sv6NHyTXXhfsP+t7iCHVfsZpXqPuKA2eUg/mhGTiHonVs+iHmrstIHkeRGBVz16WI6LoUCVFvQ/zUQNWzgTVQSY9Uh3It+mAXiT26LkVij65Lkdij61IkNJqDSkREREREREREYpYaqEREREREREREJKrUQHUdOXfuHKtWrWL27NnMmzeP5cuXU11dTU1NDfPnz+9XniUlJdTV1Q04ttdee428vDzuvvtuvvjFLw44PxEREREREREZPvp6kbr0R1sbSXv3krJzJ0ZTE25KCk0eDy0LFoDZvzZB13VZuXIlS5YsYevWrQAcPXqU+vr6K2M4+2Xnzp1MnjyZsWPHBr2N3+/Hsj4+dS5evMgjjzzCjh07uOWWWzQGW0RERERERERCogaqMDPr60ldsQLr+HHM1taO5Qm//S3+J5+kobgYJz095HwPHjxIfHw8+fn5HcumTJkCQE1NTceykpISKisr2bRpEwD5+fkUFBQwa9Ys1q5dS2VlJYZhsHTpUjIyMjh8+DCrV68mKSmJ0tJSTp48SVFREZcvXyY1NZUtW7YwZswYFi9ezIwZMygvLycvL4+CgoKOff7qV7/i/vvv55ZbbgECEwWKiIiIiIiIiARLDVTh5DikrlhBwqFDV60yW1tJOHSI1BUrqC8tDbknVVVVFVOnTu13aMeOHaOuro79+/cDgV5PI0eOpLi4mEcffZRp06bh8/koLCzk6aefJi0tjd27d7N582Yee+wxABobG9m1a9dVeb/zzjv4/X4WL17MpUuXOnp6iYiIiIiIiIgEQw1UYZS0dy/W8eO9prGOHyfp5ZcDw/0iKCsri9OnT1NYWEhubi5z5869Kk11dTVVVVUsW7YMAMdxuOmmmzrWL1q0qMe829raqKysxLZtWlpaeOCBB/jMZz7DxIkTB6cwIiIiIiIiIjKkqIEqjFJsu8uwvp6Yra0kP/dcyA1U2dnZvPjii32msywLx3E6fm9tj2fUqFGUlZVx4MABiouL2bNnT0fPqCtc1yU7O5s9e/b0mHdKSkqPy2+++WZSU1NJSUkhJSWFO++8k+PHj6uBSkRERERERESCorf4hZHR1BRUOrO5OeS858yZg9frZceOHR3LKioqeP3117uky8zM5NixYziOw5kzZ6ioqACgoaEBx3FYuHAhDz/8MEeOHAFgxIgRXLp0CYCJEyfS0NBAeXk5AD6fj6qqqj5ju/fee3nzzTfx+/00Nzdz6NAhJk2aFHIZRURERERERGR4Ug+qMHKv0cOoOyc5OeS8DcNg+/btbNy4kSeeeILExETGjRtHUVFRl3QzZ84kKyuL3NxccnJyOuatqq2tZc2aNR29q9avXw+Ax+Nh3bp1HZOkb9u2jQ0bNtDY2EhbWxsPPfQQOTk5vcY2adIk7r77bu655x5M0+RLX/oSkydPDrmMIiIiIiIiIjI8Ga7rRjuGWOSePXu2y4KmpqZrDnG7IumFFxj1zW/2OszPSUzkw8cfj/gcVLEgmDqU4Sk9PZ36+vpohyEinei6FIk9ui5FYo+uS5HQZGRkABg9rdMQvzBqWbAA/x139JrGf8cdtNx3X4QiEhERERERERGJfWqgCifTpKG4GO/06TiJiV1WOYmJeKdPp6G4GExVu4iIiIiIiIjIFZqDKsyc9HTqS0tJeuklkktKMJubcZKTaV62LNBzSo1TIiIiIiIiIiJdqIFqMJgmLQsX0rJwYbQjEREJn7Y2kvbuJWXnToymJtyUFJo8nsCcemp8FxEZHJ3uvZbfT6pl6d4bSfrsExGJGE2S3rN+TZIuvVMdyrVocsnYZ9bXk7piBdbx411eBOEkJuK/4w4aiotx0tOjGKGEm65LkejTvTe6VP8SDH1eioRGk6SLiEj/OQ6pK1aQcOjQVW8pNVtbSTh0iNQVK8BxohOfiMhQpHtvdKn+RUQiTg1U15Fz586xatUqZs+ezbx581i+fDnV1dXU1NQwf/78fuVZUlJCXV3dgOLaunUreXl55OXlMX/+fDIzM/nggw8GlKeIxI6kvXuxjh/vNY11/DhJL78coYhERIY+3XujS/UvIhJ5aqAaBG1tsGdPEvn5qSxenEZ+fiovvJA0oC9YXNdl5cqV3HXXXbz22mscOHCA7373uwPuTrpz507ef//9kLbx+/1dfl+1ahVlZWWUlZWxbt067rzzTm688cYBxSUisSPFtq/69rg7s7WV5Oeei1BEIiJDn+690aX6FxGJPE2SHmb19SYrVqRy/LhFa+vH7X+//W0CTz7pp7i4gfT00FuqDh48SHx8PPn5+R3LpkyZAkBNTU3HspKSEiorK9m0aRMA+fn5FBQUMGvWLNauXUtlZSWGYbB06VIyMjI4fPgwq1evJikpidLSUk6ePElRURGXL18mNTWVLVu2MGbMGBYvXsyMGTMoLy8nLy+PgoKCHuPcvXs3f/M3fxNy+UQkdhlNTUGlM5ubBzkSEZHhQ/fe6FL9i4hEnhqowshxYMWKVA4dSrhqXWuryaFDCaxYkUppaX3IL/2oqqpi6tSp/Y7t2LFj1NXVsX//fgAuXrzIyJEjKS4u5tFHH2XatGn4fD4KCwt5+umnSUtLY/fu3WzevJnHHnsMgMbGRnbt2nXNfTQ3N3PgwAH+6Z/+qd9xikjscYN8uYGTnDzIkYiIDB+690aX6l9EJPI0xC+M9u5N4vjx3tv8jh+3ePnlpAhF9LGsrCxOnz5NYWEhr776KjfccMNVaaqrq6mqqmLZsmXk5eXx4x//mNra2o71ixYt6nUfv/71r/nsZz+r4X0iQ0yTx4OTmNhrGicxkeZlyyIUkYjI0Kd7b3Sp/kVEIk8NVGFk2yldhvX1pLXV5LnnQv+mJTs7myNHjvSZzrIsnE6TXbW2j50fNWoUZWVl3HXXXRQXF/Od73znqm1d1yU7O7tjPql9+/bx7LPPdqxP6eObpNLSUg3vExmCWhYswH/HHb2m8d9xBy333RehiEREhj7de6NL9S8iEnlqoAqjpiYjqHTNzaFX+5w5c/B6vezYsaNjWUVFBa+//nqXdJmZmRw7dgzHcThz5gwVFRUANDQ04DgOCxcu5OGHH+5o7BoxYgSXLl0CYOLEiTQ0NFBeXg6Az+ejqqoqqPgaGxt54403uPfee0Mum4jEONOkobgY7/TpV32b7CQm4p0+nYbiYkIeuywiIteme290qf5FRCJOc1CFUUqKG1S65OTQJ0k3DIPt27ezceNGnnjiCRITExk3bhxFRUVd0s2cOZOsrCxyc3PJycnpmLeqtraWNWvWdPSuWr9+PQAej4d169Z1TJK+bds2NmzYQGNjI21tbTz00EPk5OT0Gd9LL73E5z73uT57WYnI9clJT6e+tJSkl14iuaQEs7kZJzmZ5mXLAt8e6wFdRCTsut97E/1+Wi1L994I0WefiEhkGa4bXKPKMOOePXu2y4KmpqY+G19eeCGJb35zVK/D/BITHR5//EMWLGgJS6DXk2DqUIan9PR06uvrox2GiHSi61Ik9ui6FIk9ui5FQpORkQHQ4/AzNfuH0YIFLdxxh7/XNHfc4ee++4Zf45SIiEhM8Xq54XvfY8yf/RljP/UpxvzZn3FDURH4e/8cFxEREZHBoQaqMDJNKC5uYPp0L4mJXYfxJSY6TJ/upbi4Qb2BRUREosiqqmLspz/NJ376U+IuXMBsbCTuwgU+8dRTjP3Up7CCnH9RRERERMJHc1CFWXq6Q2lpPS+9lERJSTLNzSbJyQ7LljVz330tapwSERGJJr+f9M9/HrOp6apVBmA0NZH++c9T99ZbYOkxSURERCRS9OQ1CEwTFi5sYeFCDeUTERGJJTds2oTRQ+NUZ0ZTEzf84Ad89OijEYpKRERERNSfR0RERIaNlF27ep6VsxMDSNm5MxLhiIiIiEg7NVCJiIjIsGH4fGFNJyIiIiLhoQaq68i5c+dYtWoVs2fPZt68eSxfvpzq6mpqamqYP39+v/IsKSmhrq5uQHE1Njby1a9+lXvuuYe7776bkpKSAeUnIiIyWNz4+LCmExEREZHw0BxUg6DNaWPvqb3sPLGTJn8TKVYKnmwPCyYswDT61yboui4rV65kyZIlbN26FYCjR49SX19PRkZGv2PduXMnkydPZuzYsUFv4/f7sTpNHFtcXEx2djbPPPMMFy5c4HOf+xxf+MIXSEhI6HdcIiIig6Hpi1/kE0891eswPxdoWrIkUiGJiIiICGqgCrv65npWvLKC4xeO0+q0diz/7Znf8mTlkxTfW0x6cnrI+R48eJD4+Hjy8/M7lk2ZMgWAmpqajmUlJSVUVlayadMmAPLz8ykoKGDWrFmsXbuWyspKDMNg6dKlZGRkcPjwYVavXk1SUhKlpaWcPHmSoqIiLl++TGpqKlu2bGHMmDEsXryYGTNmUF5eTl5eHgUFBR37NAyDS5cu4bouly9fZtSoUV0asERERGLFR//4j4z4t3/rdaJ0NyWFj9avj2BUIiIiIqJWhDByXIcVr6zg0PlDV61rdVo5dP4QK15ZQemDpSH3pKqqqmLq1Kn9ju3YsWPU1dWxf/9+AC5evMjIkSMpLi7m0UcfZdq0afh8PgoLC3n66adJS0tj9+7dbN68mcceewwIDOXbtWvXVXn/3d/9HStWrOAzn/kMly5dYuvWrZimRo+KiEgMsizqX3iB9M9/HqOpqUtPKpdA41T9Cy+AvmgRERERiSi1IoTR3nf3cvzC8V7THL9wnJdPvRyhiD6WlZXF6dOnKSws5NVXX+WGG264Kk11dTVVVVUsW7aMvLw8fvzjH1NbW9uxftGiRT3mfeDAAT796U/zxz/+kV//+tcUFhby0UcfDVpZREREBsKfk0PdW29x6RvfoC0tDeeTn6QtLY1LBQXUvfUW/pycaIcoIiIiMuzo68Ewsk/YXYb19aTVaeW5qudYMGFBSHlnZ2fz4osv9pnOsiwcx/l4f62BeEaNGkVZWRkHDhyguLiYPXv2dPSMusJ1XbKzs9mzZ0+PeaekpPS4vKSkhNWrV2MYBhMmTCAzM5O3336b6dOnB1s8ERGRyLIsPtqwgY82bIh2JCIiIiKCelCFVZP/2vNZdNbsbw457zlz5uD1etmxY0fHsoqKCl5//fUu6TIzMzl27BiO43DmzBkqKioAaGhowHEcFi5cyMMPP8yRI0cAGDFiBJcuXQJg4sSJNDQ0UF5eDoDP56OqqqrP2G655RZ++9vfAnD+/Hneeecdbr311pDLKCIiIiIiIiLDk3pQhVGK1XMPo+6SreSQ8zYMg+3bt7Nx40aeeOIJEhMTGTduHEVFRV3SzZw5k6ysLHJzc8nJyemYt6q2tpY1a9Z09K5a3z75q8fjYd26dR2TpG/bto0NGzbQ2NhIW1sbDz30EDl9DHX41re+xbe//W1yc3NxXZdHHnmE1NTUkMsYVW1tJO3dS8rOnRhNTbgpKTR5PLQsWADhnk8rkvsarP16vdzwz/9MyvPPY/h8uPHxNH3xi3z0j/8Y3XlbLl4k/d57ie/04gBfZib1+/fDNXoARsz1WP+hxhyr50X3ciQl4ZgmiYcOYfj9gxtnb3X44YeMnjcP68KFjuT+tDTOv/YafOIT4Y0jFJ2uo5vbF3W5jrofZ8vCd8stxJ85E6jP7r93rl+fj1Hf+AbJv/kNOA6YJs1z5/LhT38KCQm915ffP7Dzq4fzs3X6dMy2NoyWlshdk7fcwhi6fkPoAO8DnDkTvc+ISIrVe8VQMZj1OxzOz+6am3u/bw0Fw/G4ikhMMlzXHfSdeDyeTOAXwFgCz2FP2bb9I4/H8z3g68D59qSP2La9t32b9cBKoA34pm3br7Qvvw/4ERAHbLdt+3+0L58APAekAn8Eltu27fV4PInt+54BXACW2rZ9qo+Q3bNnz3ZZ0NTUdM0hble88M4LfPPVb/Y6zC/RTOTx+Y+HPMRvKAimDqPBrK8ndcUKrOPHMVs/PnZOYiL+O+6gobgYJz30Ny9Ge1+DtV+rqqrPyYVDnb8lPT2d+vr6kLbpLnHnTlK/9S2Aq+ICaPjhD2mN0mvjY73+wxFzpOIK1bXK4XL1eRLuOHutw7Q04ts/Z3o6Xz/4/vdp+drXwhJHKPq6jj787ncZ+ZOf9Hic+/rdTUzE8HrBda/O2zS5sH07n/zJT3qur9tuwzp1CqO5uV/Hrbfzs/Pvg31NjrzlFq58CvZUv01A/PTpEf+MiKRYvVdcL/r6vBzM+o3WM0w0xb/xBulLloDj9Hjfqt+5E9+dd0YpuvAYjsc13MLxHCsynGRkZEDXR6EOkWqguhm42bbtP3o8nhuAPwB/A3iAS7Zt/69u6e8AngX+AsgA/gPIbl99AsgD/gT8HviSbdvHPR6PDTxv2/ZzHo/nSeCwbdtbPR7PPwB/Ztt2gcfjWQZ8wbbtpX2E3K8GKsd1WLR7UY9v8bti+ujp/XqL31AQkw1UjkP6okUkHLr2MfNOn059aenAv0GK5L4Ga79+P2M/9SnMXl7P7qSkUPfWWyF9SzvgD/amJm6eNKnnu1w7F6g9eTLyPamug/q/OpMQY45UXKEKohxXbRKuOPux785coLaqKrI9qYK8jnpbPxADybvX4xbE+dndoFyTt97KzfRexr7qYFA+IyIpVu8V15FePy8Hs36j9QwTTV4vN0+ciNFpbtfuXNOktrr6+u1JNRyP6yBQA5VIaHproIrInca27Vrbtv/Y/vNHwFvALb1s8iDwnG3brbZtvwu8TaCx6i+At23bfse2bS+BHlMPejweA5gP/LJ9+2cINIBdyeuZ9p9/CeS2pw870zApvreY6aOnk2gmdlmXaCYyffR0iu8tHpaNU7Eqae9erOO9v3nROn6cpJcH/ubFSO5rsPZ7w6ZNGH38kWc0NXHDD34QUowDlT5/fnDp7rlnkCO52vVY/6HGHKvnRdLevVjHjoW0TbjiDKYO+zL6L/9ywHGEItjrKBb1dtyCOT+7G4xrckxIEQwsrlgVq/eKoWIw6zdazzDRNOrrXw8M6euN4zDqG9+ITECDYDgeVxGJbRFvKfF4POOB6cCb7YtWezyeSo/H83OPx3Nj+7JbgJpOm/2pfdm1lqcBH9q27e+2vEte7esvtqcfFOnJ6ZQ+WMpP7v4JuZm5zL55NrmZuTw+/3FKHywlPVldZGNJim136c7cE7O1leTnnruu9hWW/ba1kbRnD6n5+aQtXkxqfj4p/+f/9NnDwQBSdu4cUMyhiq+pCSqu+Pfei0Q4XYTzuKfs2hWR+g815kjFFaqUkhJMrzekbcIVZzB12FccVoS/jQ32OhosA8m7t+MWzPnZ3WBckyZ9l7Gv9YPxGRFJsXqvGCoGs36j9QwTTcn/9/8GVZ/Jr74aiXAGxXA8riIS2yLaf9rj8XwC2AV8y7btRo/HsxX4PoFe7d8H/jfwNXp+RnPpuUHtWj3ir4xd7G1d59j+Hvh7ANu2Se821vr999/HCqE79IPZD/Jg9oNBpx8OEhMTr6rXaLP8/r4TAYl+/4Bjj+S+Brzfc+ewvvhFjCNHMFpaOtIEOyDYDLEMlmVF7NyI9DkYzuNuBplXqPXfXagxRyquUFl1df3aLhxxBluHfYm1e2Ysu9ZxC/b87C7c12S4hPszIpJi9V5xPent83Iw6zdazzBR1VfvqU7prtcyD8vjOggi+RwrMtRFrIHK4/HEE2icLd/oOQAAIABJREFU2mHb9vMAtm2/32n9T4EX2n/9E5DZafNxwJVJoXpaXg+M8ng8Vnsvqc7pr+T1J4/HYwEjgYbu8dm2/RTwVPuvbvdxxK2trcTFxYVSZOmmtbU15sZnp1oWSUGka7UsPhhg7JHc14D22z4fgdnDfATB9kJwLCukYz3Qsfs3952kQ6TPwXAe9zGWRTB3oVDrv7tQY45UXKEa8/77fSfqQTjiDLYO+xLJ+grlOopF1zpuwZ6f3YX7mgxXl/Vwf0ZEUqzeK64nvX1eDmb9RusZJppuNk1oa+s7oWlet+frcDyug0FzUImEpn0Oqh5FZIhf+5xPPwPesm37sU7LOz8PfwE42v5zKbDM4/Ektr+dbxLwOwKTok/yeDwTPB5PArAMKLVt2wVeBRa3b/9VYHenvL7a/vNiYH97ehGaPB6cxMRe0ziJiTQvW3Zd7Wsg+x3o3Dku0BTht+X5MjP77N3lAr5bb41EOF2E87g3ffGLQZVzoPUfasyRiitUTmpqyNuEK85g6rCvOPwR/jY22OtosAwk796OWzDnZ3eDcU069F3GvtYPxmdEJMXqvWKoGMz6jdYzTDQ1z50bVH023313JMIZFMPxuIpIbIvUW/zmAP8JHAGu9Jd9BPgS8OcE7u+ngG/Ytl3bvs0/Ehju5ycwJPCl9uULgB8CccDPbdve1L78NgKTpqcC/z97dx4lR3nf+/9TNT3TCxojjVpoQyxGi5nITsY+RuDra0yAoAhdLCJUkX1iULhhyY23mF8SK3i9DiI5N14SO78EYztj55pINSBkeSzQD2wDcQIY23IQjCIkGQHaQK2RhETP1l31+6N7xCw93VXT1d3VPe/XORw01U899a1nqep+6qmqHZL+wLbtAcuyYpL+RbnnXvVKWmvb9q9LhDypt/hV2muvvabPfe5z+s///E+1tLRowYIF+vznP6+WlhbddNNN+vGPf+w7z02bNunyyy/XnDlzJh3XiRMndMcdd+ill15SNBrVl770Jb3tbW8bly4MZTgOb/Ebt922G29U7Ec/mvzmeIvfaLzFL7i4fGr78IcV83lc5C1+vMVP4i1+FRPSY0U94S1+VcRb/CQ1YL1WADOoAH+KvcWvKgNUdaisAaqsstoW26auRJfSRloJNyErbWlF/wqZk5y05rqurrvuOq1Zs0Y33nijJOm5557TG2+8oXnz5k16gOqGG27QZz7zGf3mb/6m53Uymcyo53F98Ytf1FlnnaVPfvKT2rt3r/7yL/9Stm2PWy+UA1SSzFRKbevWKdLTM+pBkU40qkx7u3o7O+UENJOhmtua7HZn3nCDok8+WTLPsT+kXEluIqFUd7cyS5b4ii+IE3u0q0ttn/iEVCAuSer96lc1UKOr8kHWe2T3biVXrpSRTgdW/kHEXK24/Ih1d2v6Rz/q6UHplYizaBnOnKnm/HmmUHs9/sUvqv/mmwOJw49S/ejEX/yFzv7a1wrWc6m/3WhUxuCg5Lrj8zZNHfvmN/WWr32tcHm99a2K7N8vo69vUu2rWPsc+Xel++TZ8+dr+CxYqHzTkpo7Oqp+jqimMB4r6kmp82Uly7dW32Fqqfmpp5Rcs0ZynILHrVRXl4YuvbRG0QVjKtZr0BigAvxhgMq/SQ9QpcyU1rWtU0+kRwPmmwf5qBNVe6Zdnb2dSjr+D/I//elP9eUvf1mbN28e99krr7xyZoBq06ZNevbZZ3XXXXdJkm688UbdfvvtWrZsme644w49++yzMgxDv//7v6958+bpT//0TzVnzhzFYjFt3bpVe/bs0Re+8AW98cYbamtr01e+8hXNnj1bN9xwg971rnfp5z//ua6++mrdfvvtZ7b/4Q9/WB/96Ed1ySWXSJLe85736Pvf/75mzZo1qTKsCcdR7KGHFN+0SWZfn5x4XH1r16p/+fLgrxhVc1uT2K7XGVRD550n8403ZAwNyW1uVnrNGp1av35SV70DO7Gn00peeaWaX375zTjPP1+pRx+t/sypsYKs90xGrRs2KHH//YGUf2AxVysuH/GXujLsmqacGTMqF2exMkynNes971Hk2LEzyTPJpI7++79Xd+bUWKX6UYF6Hpo/X80HDsjIZAr+faZ8HUfTb71V8cceyz2A2DTVd8UVOnHPPbkZCMXKy3HKa18F4h5417tkDA3JHBioXp+cP1+zNfoZC46kVyXp4MHanSOqKWzHijri6XxZyfKdCu1zrMHB4setRjAV6zVADFAB/jBA5d+kBqgcOboueZ12tEz8Y6hjsENbU1t9z6T61re+pZdffllf+MIXxn3mZYBq2rRp2rBhgzbmXxN78uRJnX322aNmUA0NDWn16tX653/+Z82cOVPf//739fjjj+vLX/6ybrjhBi1atEh33333uO3ffffdGhgY0Oc//3nt2LFDH/jAB9Td3a13vOMdo9KFeoAKZ8S6uzX9Yx8r+tphJxrVia9/Xf0rVgSyTU7sqBSuDE8e/RIIH/olED70S8CfYgNUXKYK0LbYNvVEij9cuifSo4djD2tFfzA/7L0677zz9PLLL+vTn/60rrzySl1++eXj0uzbt0+7d+/W2vyDEB3H0TnnnHPm8+uuu65g3h/5yEf02c9+VldffbXe9ra3aenSpbzxsI71r1ihzD/9U9FZJ5n29txVNSDknGRSqa1buTIMAAAAhBwDVAGyE/ao2/oKGTAHtDG+0fcA1eLFi/XDH/6wZLpIJCJnxMMcB/IzBqZPn65HHnlEjz32mDo7O/WDH/xAX/7yl0et67quFi9erB/84AcF855o9lNra6u+8pWvnMnj0ksv1XnnnedpvxBCpqnezs6Ss074YY+6YZrqv/Za9V97ba0jAQAAADABfmEGKG14e0NQn9nnO+/3vve9Ghwc1Pe+970zy371q1/pyTEPs16wYIGef/55OY6jgwcP6le/+pUkqbe3V47j6Nprr9Wf/dmfaefOnZKks846S6dPn5YkXXTRRert7dXPf/5zSdLQ0JB2795dMraTJ09qMP8Q4vvuu0/Lli1Ta2ur731EeAzPOjnxta+p78orNfCe96jvyit14utfV2rrVm6JAgAAAAAEihlUAUq43p6vFHfivvM2DEPf/OY39bnPfU7/8A//oGg0qnPPPXfcM6ne/e5367zzztOVV16pJUuW6O1vf7sk6fDhw/rkJz95ZnbV+vXrJUmWZelTn/rUmYek33PPPfrsZz+r119/XdlsVn/0R3+kJSXe9rJnzx59/OMfV1NTkxYvXqy//du/9b1/CCFmnQAAAAAAqoSHpBc2qYekd8e69bHpHyt6m1/UierrJ75e9WdQhQEPScdEeLgkED70SyB86JdA+NAvAX+KPSSdW/wCtKJ/hdoz7UXTtGfatbyfh0sDAAAAAAAMY4AqQKZMdfZ2qmOwQ1EnOuqzqBNVx2CHOns7ZVLsAAAAAAAAZ/AMqoAlnaS2prbqodhD2hTfpD6zT3EnrrV9a7W8fzmDUwAAAAAAAGMwQOWRn2d1mTJ1bf+1urafh0uPxPPOAAAAAABAIUzn8cg0TWUymVqHUbcymYxMk+YGAAAAAADGYwaVR7FYTP39/RoYGJBhFHzgPCbguq5M01QsFqt1KAAAAAAAIIQYoPLIMAzF4/FahwEAAAAAANBwuOcKAAAAAAAANcUMKgA1lVVWDxgP6Ftt31LaSCvhJmSlLa3oX8FbLycwqEFtaN2gzYnNGjKG1Ow2a3V6te48daciHNYbFvWORtGnPt02/TY9EX9CjhyZMnV53+W698S9alFL0XWnYj/IKqttsW3qSnQpE8ko0hbhPAkAaEgGb1YryD106FCtYwAaXspMaV3bOu1q3qV+o//M8qgTVXumXZ29nUo6yRpGGD67I7u1MrlSaSMtjXwcnisl3IS6U91akllSs/hQGbWo92QyqVQqFWiewFPNT2lNco0cOePasilTXakuXTp0acF1p+Lxb/g82RPp0YA5cGY550kgPDhfAv7MmzdPGn0mP4MBqsIYoAIqzJGj65LXaUfLjgnTdAx2aGtqK1eI8zLK6OI5FyttpidMk3AS2nVkV8POJJiKalXvfOFG0AY1qIvmXiTHcCZMY7qm9h3eN24m1VQ8/nGeBOoD50vAn2IDVJzNANTEttg29UR6iqbpifTo4djDVYoo/O5qvSs3c6CItJHW3a13VykiVAP1jkZxy/RbcjOninDk6Lbpt41bPhX7AedJAMBUwwAVgJqwE/ao2xUKGTAHtDG+sUoRhd8DiQcmuNYwgiF1JbqqEg+qg3pHo3g8/rintvyT+E/GLZ6K/YDzJABgqmGACkBNlLoSPqzP7KtwJPVjyBgKNB3qA/WORlFq9lSxdFOxH3CeBABMNQxQAaiJhJvwlC7uxCscSf1odpsDTYf6QL2jUXh9TlKhdFOxH3CeBABMNQxQAagJK20p6kSLpok6Ua3tW1uliMJvdXq1VOq9Fq60Jr2mKvGgOqh3NIrL+y731Jav6Lti3OKp2A84TwIAphre4lcYb/EDKoy3E/k3Fd9iBd7ih8bBW/z84TwJ1AfOl4A/vMUPQOiYMtXZ26mOwQ7F3Nioz6JOVB2DHers7eRL9wgRRdSd6lbCSYyfSeDmfpx1p7ob5scZcqh3NIoWtagr1SXTNQu2ZdM11ZXqGjc4JU3NfjDyPDl2JhXnSQBAI2IGVWHMoAKqxJGjn876qb6Z+ab6zD7FnbjW9q3V8v7lfOmeQEYZbWjdoPsT92vIGFKz26w16TVaf2p9Q/04w2jVrneuCKNSBjWoW6ffqsfij8mRI1Omrui7QvecuKfg4NRIU/H458jRQ7GHtCm+SZloRpGBCOdJIEQ4XwL+FJtBxQBVYQxQAVXEiR0IH/olED70SyB86JeAP9ziBwAAAAAAgNBigAoAAAAAAAA1xQAVAAAAAAAAaooBKgAAAAAAANQUA1QAAAAAAACoKQaoAAAAAAAAUFMMUAEAAAAAAKCmGKACAAAAAABATTFABQAAAAAAgJpigAoAAAAAAAA1xQAVAAAAAAAAaooBKgAAAAAAANQUA1QAAAAAAACoqUitAwAwsUENakPrBm1ObNaQMaRmt1mr06t156k7FfHZfedrvjRbo4elHUmvSgd1sKw4s8pqW2ybuhJdShtpJdyErLSlFf0rZMos+Tkqp17LfmzcMTcm0zG1I7pDGSNTVl+optM6rdVtq/V89Hm5ciVJpmsqpphibkzvHHinsmZW/UZ/WXUT5LHiTMzNz8ud68qQoaUDS7Wld4tiivnKq099um36bXoi/oQcOTJl6vK+y3XviXvVohZfeQUtyDILUpB9dmxecTeuhUMLtbd5r/qMvro5HgCNol7PyQBQLYbrurWOIYzcQ4cO1ToGTHG7I7u1MrlSaSMtGSM+cKWEm1B3qltLMks85TX/7PlSIv/HmLwkSWnp4MnJDVKlzJTWta1TT6RHA+bAmeVRJ6r2TLu+dOJLumP6HRN+3tnbqbe1vU2pVGpS28fEStVNZ2+nkk6yhhEWNlHcclV2X6im7S3bdfPMm3N/GBMkGrNPk6mbII8VE8acP1Z8+9i3dc3gNZ7yeqr5Ka1JrpEjZ1xepkx1pbp06dClnvIKWpBlFqQg+6zXfhT24wFGSyaTnC/rVL2ek1Ea/RLwZ968edIE344ZoCqMASrUVEYZXTznYqXN9IRpEk5Cu47sKnmlf77mS3M18Q9kKfeD5bD/mVSOHF2XvE47WnYUjbPYfnQMdug/9B/qTfX62jaK81I3HYMd2praGqqrtl7iHstrX6imfvXrorkXFe93RXitmyCPFZ5idqV9h/eVnEk1qEFdNPciOYYzYRrTNbXv8L6qz6QKssyCFGSfnUw/CuPxAOPxQ7g+1es5Gd7QLwF/ig1QcQQEQuiu1rtyV/aLSBtp3d16d+nMZnvcqNd0I2yLbVNPpKdomlL70RPp0feN7/vfOIryUjc9kR49HHu4ShF54yXusTz3hSpa1baqrPW91k2QxwqvMf9e2++VTHPL9FtyM6eKcOTotum3edpmkAI9vgYoyD47mX4UxuMB0Cjq9ZwMANXGABUQQg8kHig988KQuhJdpTMz5SmvyRwN7IQ9+taRifIuYsAc0HeavuN/4yjKS90MmAPaGN9YpYi88dSmxvLaF6rouehzk549JXmvmyCPFZ5iNqRno8+WzOvx+OOe8vpJ/Ccl8wpaoMfXAAXZZyfTj8J4PAAaRb2ekwGg2higAkJoyBgKNF2llJqF4DkfBZMP3uS1bvrMvgpH4s9k21St+8JYrsq/fd5L3QR5rPAas5d0pWZP+U0XpLAeX4Pss5PtR2E7HgCNol7PyQBQbQxQASHU7DYHmq5SEm6idCIv+SiYfPAmr3UTd+IVjsSfybapWveFsYxypk/leambII8VXmP2ks7rM1Rq8ayVsB5fg+yzk+1HYTseAI2iXs/JAFBtDFABIbQ6vVolJym40pr0mtKZOfKU12QmMlhpS1EnWjrvIqJOVDdlb/K/cRTlpW6iTlRr+9ZWKSJvPLWpsbz2hSpaOrC0dL8rwmvdBHms8BSzK71j4B0l87q873JPeV3Rd0XJvIIW6PE1QEH22cn0ozAeD4BGUa/nZACoNt7iVxhv8UNN8RY/lKte3xjEW/xyeItf5fAWv/LyRm3xtrD6VK/nZHhDvwT84S1+QJ2JKKLuVLcSTmL8lX439+OpO9Xt6cfTQR2U0rn1CuUlV1La/+CUlLs9p7O3Ux2DHeOuDEadqDoGO9Sd6i76eWdvJ1/GKsBL3YSx7IvFXW5fqKaYYvr2sW8X7ncjjfnMb90EeawoGnN+2bePfbvk4JQktahFXakuma5ZMC/TNdWV6qr64JQUbJkFKcg+66cfhfl4ADSKej0nA0C1MYOqMGZQIRQyymhD6wbdn7hfQ8aQmt1mrUmv0fpT633/eJqv+dJsjR6WdiS9OrnBqZEcOXoo9pA2xTepz+xT3Ilrbd9aLe9fLlNmyc+58lQ5pco+rMbGHXNianKb9IvoL5QxMmX1hWrqV7+ub7teO6M7zzxc3HRMxY24om5U7xp4l7JGVv1mf1l1E+SxYmzMhgy9Y+Ad2ty72dPg1EiDGtSt02/VY/HH5MiRKVNX9F2he07cU5PBqZGCLLMgBdlnC/WjxZnFeiHyQtltDrXB+bK+1es5GcXRLwF/is2gYoCqMAaogCrixA6ED/0SCB/6JRA+9EvAH27xAwAAAAAAQGiF974IAACC4Dhq2b9HsReel5HJyI1E1L94qQYvXCQZk3yKOWqv3HqlXaBejGirMgy9xXXD0VbpQwCAgFVlgMqyrAWSvitpjnJPvfmGbdt/Z1nW/5H0PyQNSton6Q9t2z5hWdYFknZJ2p3P4inbtm/P5/UuSZ2S4pK2Sfq4bduuZVltkjZJukDSfkmWbdvHLcsyJP2dpBXKPSp6nW3bv6z4TgMAas7oS+vs7Q8qcuyoDCd7ZnnLwZeVeXaWTl5zvdx4ooYRYjLKrVfaBepFobYaVe3bKn0IAFAJ1brFLyPpDtu2L5Z0qaQ/sSyrXdIjkpbatv0OSS9IWj9inX22bf9W/r/bRyz/R0m3SlqU/295fvmnJP3Itu1Fkn6U/1uSfndE2lvz6wMAGp3r6uztD6r56JFRP6AkyXCyaj56RGdvf1DiWYz1pdx6pV2gXoS1rYY1LgBA3avKAJVt24eHZy3Ztn1KudlR823b/v9s287kkz0l6dxi+ViWNVfSW2zbftK2bVe5WVmr8h9/QNJ38v/+zpjl37Vt27Vt+ylJ0/P5AAAaWMuLexQ5drRomsixo2rZv6dKESEI5dYr7QL1IqxtNaxxAQDqX9Ufkp6/fa9D0tNjPrpZ0kMj/r7QsqwdlmU9blnWf88vmy/pwIg0B/LLJGm2bduHpdyAmKRzRqzzygTrAAAaVOyF58Zd3R/LcLKK7X6uShEhCOXWK+0C9SKsbTWscQEA6l9VH5JuWdY0SQ9I+oRt26+PWH6ncrcBfi+/6LCk82zbPpZ/5tQWy7J+Q4VfRVhq/rCndSzLulW5WwBl27aSyWSp3QEQkEgkQp9D8Dw+pLfFMGh/BYS2X5Zbr7QL1IuwttWwxgXUSGjPl0AdqtoAlWVZzcoNTn3Ptu3NI5bfJGmlpCvzt+3Jtu0BSQP5f//Csqx9khYrN/tp5G2A50o6lP/3q5ZlzbVt+3D+Fr7X8ssPSFowwTpn2Lb9DUnfyP/pplKpcnYXgA/JZFL0OQTtLa6rqId0g66r12l/44S1X5Zbr7QL1IuwttWwxgXUSljPl0BYzZs3b8LPqnKLX/5Net+StMu27S+PWL5c0l9Ius627fSI5bMsy2rK//utyj3g/Nf5W/dOWZZ1aT7PGyV9P7/aVkk35f9905jlN1qWZViWdamkk8O3AgIAGlf/4qVyzaaiaVyzSf1LllYpIgSh3HqlXaBehLWthjUuAED9q9YMqv8m6cOSdlqW9av8sr+U9PfKvS33EcuyJOmp/Bv73ifpf1uWlZGUlXS7bdu9+fX+WFKnpLhyz6wafm7VX0uyLcv6n5JelrQmv3ybpBWS9kpKS/rDCu0jACBEBi9cpMyzs9R89MiEaTIzZ2nwgkVVjArlKrdeaReoF2Ftq2GNCwBQ/wyXV8AW4h46NO4uQAAVwtRoVIrRl9bZ2x9U5NjRUQ/1dc0mZWbO0slrrpcbT9QwwvAKc78st15pF6gXYW2rYY0LqIUwny+BMMrf4lfwgYYMUBXGABVQRZzYUVGuq5YX9+TePJXJyI1E1L9kae7qvseH/U5Foe+X5dYr7QL1YkRbbTEMDbpuONoqfQiQVAfnSyBkGKDyjwEqoIo4sQPhQ78Ewod+CYQP/RLwp9gAVdXe4gcg794vqU2j31DgSOqVpFvumHxavxxHLfv3KPbC829e+Vy8VIMXerjyOTio1h93K3rgJcl1JcPQwLkX6NTV10lNTeXljWCVqqtixtZjU5Ncw1Dza4dlOI7cpib1L2xXetn7JDPgd25kMko882+K7d0lI5stb1vllEGYNMp+VEqp404jHpdquc/l5N2IdVGuapVJkMfWSqKNAMCUxAyqwphBhYpI3PslDT+RYeTXq+FemJaUzg88+UnrVznPjmg6/IpmdNsTxnXi6us07Vc/85U3V54qo1RdHV9pKTt3QcF1J2wjBfJyI806vupDcmYkA4nbPJ7SjC33ycgMlb2tcsogTGqxH/XUL0sd016//Bq95fHtDfW8nFrucznnEJ5dNJ6fMimnXwZ5bK0k2gjqTT2dL4EwKDaDKkSXSoAGlx9wMjS+Nw4vS+TT+Urrl+vq7O0PqvnokVFf/CTJcLJqPnpEZ29/MDdDY6xsVjO67aJxTX9k6+TyRrA81NWMblvKZsevW6yNFMjLzAxpxpb7JMcpP27H0Ywt98kc8wNqUtsqpwzCpFH2o1I8HNNmbLmvsY5Ltdzncs4h5azbqKpVJkEeWyuJNgIAUxoDVECVtPlI5yetXy0v7lHk2NGiaSLHjqpl/55xy1sf2TqJLXrLG8HyWletj45P56WNjGVkhpT42RO+1ikk8fQTMjJDgWyrnDIIk0bZj0rx0l5Ltal6Oy7Vcp/LOYeUs26jqlaZBHlsrSTaCABMbQxQAVViaoJ5jCMY+XR+0voVe+G5cVclx+XtZBXb/dy45dED+z3FNZm8ESyvdRV9Zf+45V7aSKG8Ynt6fK1TSGxvj6e4vWyrnDIIk0bZj0rxdEwrkUe9HZdquc/lnEPKWbdRVatMgjy2VhJtBACmNgaogCnGyGQmny6gKfVeY0AZvNZVgXSTrR8jW/6tIYbH29Q8bauMMgiVRtmPCgnqeFJPx6Va7nM555Cyzj8NqlplEuixtYJoIwAwtTFABUwxbsTbyzsLpgvozTleY0AZvNZVgXSTrR+3qfxTiuvxbXSetlVGGYRKo+xHhQR1PKmn41It97mcc0hZ558GVa0yCfTYWkG0EQCY2higAqrE0Ztv3JqIm0/nJ61f/YuXyjWLf1F1zSb1L1k6bvnAuRd4imsyeSNYXutqYMEF45Z7aSOF8upf1O5rnUL6F7Z7itvLtsopgzBplP2oFE/HtBJ51NtxqZb7XM45pJx1G1W1yiTIY2sl0UYAYGpjgAqokl4f6fyk9WvwwkXKzJxVNE1m5iwNXrBo3PJTV183iS16yxvB8lpXp64an85LGxnLjTQrfcn7fK1TSHrZ++RGmgPZVjllECaNsh+V4qW9lmpT9XZcquU+l3MOKWfdRlWtMgny2FpJtBEAmNoYoAKq5ZY7lFbuCuXYq5jDy9L5dL7S+mUYOnnN9RqaNWfcVUrXbNLQrDk6ec31hW8XamrS8ZVW0bhOXH3d5PJGsDzU1fGVllToto9ibaRAXk6kWcdXfUgyAzilmKaOr/qQnEhz+dsqpwzCpFH2o1I8HNOOr/pQYx2XarnP5ZxDylm3UVWrTII8tlYSbQQApjTDnaIPVS3BPXToUK1jQKO690tq0+jRYUf52VBjB5z8pPXLddXy4p7cG3MyGbmRiPqXLM1dlSz1xS+bVesjWxU9sD/3YGbD0MCCC3IzOJqafOedTCaVSqXK2x8UVqquiilQj64MNb92SIbjym0y1b+oPXfFPegfNY6jxNNP5N48lXXK21Y5ZRAmVd6PuuuXpY475RzzwqqW+1xO3o1YF+XyWCZl98sgj62VRBtBHam78yVQY/PmzZMmeOEwA1SFMUAFVBEndiB86JdA+NAvgfChXwL+FBugCtGlEgAAAAAAAExFvKMVAABURiajxDP/ptjeXTKyWblNTepf2K70spDdTgQAAICaY4AKAAAEzjye0owt98nIDL05h3tISjz3C8X/69ncA5tnJGsZIgAAAEKEy5cAACBYjqMZW+6TOXJwKs+QZGaGNGPLfZLj1CI6AAAAhBADVAAAIFCJp5+QkRkqmsbIDCnxsyeqFBH5KMnEAAAgAElEQVQAAADCjgEqAAAQqNjensKvZhnBkBTb01ONcAAAAFAHGKACAACBMrJZj+m4xQ8AAAA5DFABAIBAuU1NHtPxNQQAAAA5fDMEAACB6l/YLrdEGldS/6L2aoQDAACAOsAAFQAACFR62fvkRpqLpnEjzUpf8r4qRQQAAICwY4AKAAAEyzR1fNWH5ESax82kciU5kWYdX/UhyeRrCAAAAHIitQ4AAAA0HmdGUsdu+ogSTz+Re6tf1pHbZKp/UXtu5hSDUwAAABiBASoAAFAZpqn0Ze9X+rL31zoSAAAAhBwDVAAah+OoZf8exV54XkYmIzcSUf/ipRq8cJFkGLWODo0ok1HimX9TbO8uGdms3KYm9S9sV3oZM4QCF+b+TTsAAAAoGwNUABqC0ZfW2dsfVOTYURlO9szyloMvK/PsLJ285nq58UQNI0SjMY+nNGPLfTIyQzozPDIkJZ77heL/9WzuGUwzkrUMsWGEuX/TDgAAAILBZT0A9c91dfb2B9V89MioH6+SZDhZNR89orO3Pyi5pV58D3jkOJqx5T6ZIwcl8gxJZmZIM7bcJzlOLaJrLGHu37QDAACAwDBABaDutby4R5FjR4umiRw7qpb9e6oUERpd4uknZGSGiqYxMkNK/OyJKkXUuMLcv2kHAAAAwWGACkDdi73w3LiZFWMZTlax3c9VKSI0utjennEzZsYyJMX29FQjnIYW5v5NOwAAAAgOA1QA6p6RyQSaDijFyBYfMHkzHbd2lSvM/Zt2AAAAEBwGqADUPTfi7X0PXtMBpbhNTR7TcZotV5j7N+0AAAAgOHxjAlD3+hcvlWsW/6Homk3qX7K0ShGh0fUvbFepR3K7kvoXtVcjnIYW5v5NOwAAAAgOA1QA6t7ghYuUmTmraJrMzFkavGBRlSJCo0sve5/cSHPRNG6kWelL3leliBpXmPs37QAAACA4DFABqH+GoZPXXK+hWXPGzbRwzSYNzZqjk9dcLxmlHmcMeGSaOr7qQ3IizeNm0LiSnEizjq/6kGRymi1bmPs37QAAACAwhuuWmpw+JbmHDh2qdQzAlJFMJpVKpcrPyHXV8uKe3Fu/Mhm5kYj6lyzNzaxgcAqV4DhKPP1E7m1uWUduk6n+Re25GTN1PigRWL8MSpj7dwO3A4RL6PolAPol4NO8efMkFX4RMgNUhTFABVQRJ3YgfOiXQPjQL4HwoV8C/hQboOKyHgAAAAAAAGqKASoAAAAAAADUFANUAAAAAAAAqCkGqAAAAAAAAFBTDFABAAAAAACgphigAgAAAAAAQE0xQAUAAAAAAICaYoAKAAAAAAAANcUAFQAAAAAAAGqKASoAAAAAAADUFANUAAAAAAAAqCkGqAAAAAAAAFBTDFABAAAAAACgphigAgAAAAAAQE1Fah0AMOU8Nl+zNXp02JE0JMk4+zK5TQml51jqn7VCenxBwbSvStL7D1Yt5CnDGVTrvg1KvLZZhjMk1zWVbW5V88ARSY5kmOqbfrlOLL1XamqpdbRvcrOKHd2mxJEuGdn06DZklLgOMXafzWalz1mtUxfdKZk+TxHlxDFW5rTadqxW9I3nJbmSpKHoAjnxi2S4A3LNuIYSC9Xct1dGtq/4tt54UbOfee/4fvTuHdJZ5/iLK8jyGjiqc55+r5qc02cWZc1pem3ZM1L0Lf7yCrLsgxRkeQWtWJm5mfDGjalnRD8y3YxmGxHaIwCgIRmu61Z8I5ZlLZD0XUlzlPtd8A3btv/Osqw2SZskXSBpvyTLtu3jlmUZkv5O0gpJaUnrbNv+ZT6vmyR9Op/1X9m2/Z388ndJ6pQUl7RN0sdt23Yn2kaJkN1Dhw6Vv+PAGGc/Nl+J/L+NEcvdMX87RlRZd+DMCPLYtFKuY5xskEGqZDKpVCpV0xgip3cr+cuVMpx00brJlb+p1G92aWjGpdUMsSBzMKW2nesUOd0j0x04s9wxospMa1fv2zvltCQLrltsn10zodQ7u5WZtqTicYzV8tp2zey5WVLxflKo34zdVutzH9G01IMF85Kk08nrdWrp1z3FFWR5xV/8e01/6W8mjOvE+X+hvgs/5imvIMt+pHL7ZZDlFbSiZRa/UJH+l2Q4faGLG1NPmPsRgJwwfI8F6sm8efOk0V+Bz6jWZdWMpDts275Y0qWS/sSyrHZJn5L0I9u2F0n6Uf5vSfpdSYvy/90q6R8lKT/Y9DlJyyRdIulzlmXNyK/zj/m0w+stzy+faBtAdeUHpwyN741j/zbdATUXSWtIuYGux+ZXIFAPHpuv2Y/N19wR/81+bH7t4imXk1HylytljvkBIE1U/o6S/7lGyg5WKcAJuI7adq5Ty6kdo35kS7k21HJqh9p2rpNcZ/y6JfbZdNJK/nKl5GQqG8dYmX7N7LnZUz8p1G9GbeuN1zQt9WDRfjQt9aD0xmul4wqyvAZe1/SX/qZoXNNf+htp4PXSeQVZ9kEKsryCVqrM0v8lc8zglBSCuDH1hLkfAQBQAVUZoLJt+/DwDCjbtk9J2iVpvqQPSPpOPtl3JK3K//sDkr5r27Zr2/ZTkqZbljVX0jWSHrFtuzc/C+oRScvzn73Ftu0nbdt2lZutNTKvQtsAqmp2neRZytmPzddc5Q4exoj/TElz85/Xm9Z9d8lw0j7XcjT9+dsqEo9XsaPbFDndUzRN5HSPYqmHxy33ss+Gk1brr++uaBxjte0o/xA9vK3Zz3R4Su8lXZDldc7T7/YUl5d0QZZ9kIIsr6B5KbNiahU3pp4w9yMAACqh6g+msCzrAkkdkp6WNNu27cNSbhBL0vDDQOZLemXEagfyy4otP1BguYpsA6iq4QGdoAwPClVViVlgNZ/ZNUmJ1x7wXTeGpPjxn1QiHM8SR+xxM0DGMt0BxQ9vHL+uh302JCVe7apoHGNF33iu7H4yvC0vfc5rPwqyvJqc057yGvlsqgnjCrDsgxRkeQXNS5kVU6u4MfWEuR8BAFAJVX2yomVZ0yQ9IOkTtm2/blnWREkLnY/HPm7Ey3I/sd2q3C2Csm1byaT/53UAtVDNttrkMd1sSVkfcUUikZr2OdOd5O0RrlPTuCNN3uKONmXGxel1n013/LpBxjFeMM9FjHqMaVipuIIsLz+qW/Zj8i6jX9aqvLzwWmbF1CJuTD1h7kcA3lTr77FAI6naAJVlWc3KDU59z7btzfnFr1qWNde27cP52/SGHwRyQNKCEaufK+lQfvn7xyx/LL/83ALpi21jFNu2vyHpG/k/XR50h6DNrVC+1Wyrc+V9RsqrPuKq9cMlZxsRz4NvoxhmTeNuy0YU85BuIBvR8TFxet1nx4iU3Mdy4hhrrgwFMUg14DGmYaX2Mcjy8nMsqGbZj1VOvwyyvILmtcyKqUXcmHrC3I8AvKnW32OBepN/SHpBVblDKP9Wvm9J2mXb9pdHfLRV0k35f98k6fsjlt9oWZZhWdalkk7mb8/bLul3LMuakX84+u9I2p7/7JRlWZfmt3XjmLwKbQOoKkdBzQ3JcfN5onzpc1b7rhtXUt+MKyoRjmfpOZYcI1o0jWNE1Td37fh1PeyzKyk9e01F4xhr4KylZfeT4W156XNe+1GQ5ZU1p3nKK2tOKx1XgGUfpCDLK2heyqyYWsWNqSfM/QgAgEqo1iNs/pukD0v6bcuyfpX/b4Wkv5Z0tWVZeyRdnf9bkrZJ+rWkvZLulfS/JMm27V5JX5T0TP6//51fJkl/LOmb+XX2SXoov3yibQBV9Wqd5DkVnbroTrlmwudapk78xj0Vicer/lkrlJnWXjRNZlq7+pPLxy33ss+umdCpt66vaBxj9XZsKZmmlOFtvfruHZ7Se0kXZHm9tuwZT3F5SRdk2QcpyPIKmpcyK6ZWcWPqCXM/AgCgEgzXDXJOR8NwDx06VDoV4NPZ+YeMS6NvlRv7IDXHiCrrDpy5B3dsWklKSzr5/oOVCXQCsx+bX/LB08MzUl71EVsYpkZHTu9W8pcrZYx5nffYusmVv6nUb3ZpaMal1QyxIHMwpbad6xQ53TPqwc+OEVVmWrt6394pp6XwcxGK7bNrJpR6Z7cy05ZUPI6xWl7brpk9N0sq3k8K9Zux22p97iOalnqwYF6SdDp5vU4t/bqnuIIsr/iLf6/pL/3NhHGdOP8v1HfhxzzlFWTZj1RuvwyyvIJWtMziFyrS/5IMpy90cWPqCXM/ApAThu+xQD3J3+JX8CclA1SFMUCFynlsvmZr9PRFR9KgJHP6e+SYcfXNXZub8fD4goJpX5WkKg9OSZIem1/yOVSupMOSr/hCc2J3Mmrdt0GJ1+6X4QzJdU1lm9+i5sHDkutIhqm+GVfkZk41tdQ62je5jmJHH1L8yCaZTt/oNmSUmCg7dp/NZqVnr8ldkTd9PqawnDjGyvSrbcf1ir6xU8PDNkPR85WNXyhTg3KMmDJnLVYk/YJMp7/4tt54TbOf6Rjfj969QzrL54tdgyyvgdd1ztPvHvW2vqw5LTdzKvoWf3kFWfZ5gfTLIMsraMXKzHXCGzemnhH9yHQzcowI7REIkdB8jwXqBANU/jFABUyg2CwwaXIzuzixA+FDvwTCh34JhA/9EvCn2AAVl10A+HLy/Qd1coJZYDWb2VUpblaxo9uUONIlI5uW25RQeo6l/lkrJj0rBQg9Z1Ct+zao+T+2aE52IDd76JzVOnXRnczWaGQc7wAAQI35nkFlWdYCSfNt236qMiGFAjOogCoK45WnSj3XBwgznnczNXG8qx9hPF8CUx39EvCn2Awqz5fELMs6z7Ksf5f0X5IezS+7wbKsbwYRJACEhuuobec6tZzaMerHmiSZ7oBaTu1Q2851uedSAY3CySj5y5UyxwxOSblvEKaTVvKXKyUnU4voUCkc7wAAQEj4mbN9j6QfSmqVNJRf9oikq4MOCgBqKXZ0myKne4qmiZzuUSz1cJUiAiqvdd9dMpx00TSGk1brr++uUkSoBo53AAAgLPwMUF0i6a9t23aUfx6ybdsnJZ1dicAAoFYSR+xxMwnGMt0BxQ9vrFJEQOUlXnug6Bs6pdxMqsSrXdUIB1XC8Q4AAISFnwGqVyUtHLnAsqx2SS8HGhEA1JiRLT6LZJjp9FU4EqB6DGeodCIf6VAfON4BAICw8DNA9beSui3L+kNJEcuyPihpk6S/qUhkAFAjblPCUzrHjFc4EqB6XLM50HSoDxzvAABAWHgeoLJt+9uS/lzSGkmvSLpR0mds2/5ehWIDgJpIz7HkGNGiaRwjqr65a6sUEVB56XNWq9R7fV1J6dlrqhEOqoTjHQAACAvDdUt9HZ2S3EOHDtU6BmDKCN3reV1HyV9ep5ZTOyZMMtjaodQ7t0qGn4moQIg5Gc356cUyizwo3TETOvLeXZIZqWJgqCiOd3UldOdLAPRLwKd58+ZJKvzoU8/fNCzL+nvLst4zZtl7LMv6annhAUDIGKZ6396pwdaOcTMLHCOqwdYO9b69kx9raCxmRKl3dssxE+NmUrnKDU6l3tnN4FSj4XgHAABCws+3zA9K+n/GLPuFpC2SPhFYRAAQAk5LUql3blXs6EOKH9kk0+mTY8bVN3et+pPL+bGGhpSZtkRH3rtLrfs2aNrRzXKzA3LNZqVnr9Gpt65ncKpBcbwDAABh4OebpqvxM66aCiwDgMZgmOo/51r1n3NtrSMBqseM6NSizyp62d9zy8JUwvEOAADUmJ/BpX+T9FeWZZmSlP//5/PLAQAAAAAAgEnxM4Pq45K6JR22LOslSedJOizpf1QiMKBuuVnFjm5T4kiXjGxablNC6TmW+met8H+bhDOo1n0blHhtswxnKHerzTmrdeqiO7nVZioLso1Nhbgyp9W2Y7Wibzyv3GRgQwNnLVVvxxYpEhsXt5E5ldudpmlyI2cV34ex+2zGNZRYqOa+vTKyfeEpg0ZU7vGx2PqGEc62DAAA0MB8vcUvP2tqmaRzJb0i6We2bTsViq2WeIsfJsUcTKlt5zpFTvfIdAfOLHeMqDLT2tX79k45LUlPeUVO71bylytlOOlRrzhwJbn5hxVnpi0JdgdqhLefeBdkG5sKcbW8tl0ze26WpHH9SJJ6F39VrYe/My7ukSbah4n22R2zrVqXwWSFuV+We3wsur4RVyZ+viJ9L4aqLQNSuPslMFXRLwF/ir3Fz9cA1RTCABX8C/JV3VPsde+c2D0K6+vgwxpXpl9zf3pR4bNf3tjBpGJG7YOHfS66fh0Ibb8s9/joYf1i6q0e0VhC2y+BKYx+CfhTbICq6C9by7J22bZ9cf7fr0jj3jwtSbJt+7wyYwTqXuzoNkVO9xRNEzndo1jq4dxtIkW07rtLRokfT4aTVuuv79aphZ/xHSvqU5BtLEhhjattx6pA8xu5D172udj6mLxyj49e1i+GegQAAKiMUpf/bhnx7z+Q9OEJ/gOmvMQRe8JbhIaZ7oDihzeWzuu1B0rO6jAkJV7t8h4g6l6QbSxIYY0r+sZznvqRVyP3wcs+F1sfk1fu8dHL+sVQjwAAAJVRdAaVbds/lSTLspok3SzpVtu2/X0jB6YII+vtirzp9JXOyxnytk2P6dAYgmxjQQprXBNM+i3L8D543eeJ1sfklXt8DOK4ST0CAAAEz9MDFGzbzkr6HUmN+EB0IBBuU8JTOseMl87LbPa2TY/p0BiCbGNBCmtc/uZHeTO8D173eaL1MXnlHh+DOG5SjwAAAMHz84TPr0j6gmVZ/CIGCkjPseQY0aJpHCOqvrlrS+d1zuqScz9cSenZa7wHiLoXZBsLUljjGjhrqad+5NXIffCyz8XWx+SVe3z0sn4x1CMAAEBl+Bmg+qikP5N0yrKsVyzLenn4/xWKDagr/bNWKDOtvWiazLR29SeXl8zr1EV3yjWLz9BwzYROvXW9rxhR34JsY0EKa1y9HVsCzW/kPnjZ52LrY/LKPT56Wb8Y6hEAAKAy/AxQ/YGkqyRdozcfmD78fwCGqd63d2qwtWPczArHiGqwtUO9b+/09mpyM6LUO7vlmIlxV/pd5V6hnnpnd+FXqKNxBdnGpkJckZiOtX9brsbPlBpe1rv4qwXjHqngPhTZ57HbqmkZNKJyj4+l1jfiGky8LVxtGQAAYAowXNfbRHfLslokfVrSByXNk3RI0kZJd9m23V+xCGvDPXToUK1jQL1yHcWOPqT4kU0ynT45Zlx9c9fmrrj7/VHjZNS6b4MSr90vwxmSazYrPXtNbmZAAw1OJZNJpVKpWodRP4JsY1Mhrky/2nZcr+gbO5UbgjA0MO0d6v2tzVIkNjrubFpG5rRcQ1LTNDlNieL7MHafjZgyZy1WJP2CTKc/PGUwCaHvl+UeH4utb5jhbMuY8kLfL4EpiH4J+DNv3jxpgofF+hmg+pakJZLukvSSpPMlrZe017btmwOJNDwYoAKqiBM7ED70SyB86JdA+NAvAX+KDVD5mYKxStJFtm2fyP/dY1nW05L2Smq0ASoAAEJlcFDasKFVmzcnNDRkqLnZ1erVad155ylFApxQmc1K27bFtGVLRCdPzlQi4cqy0lqxol8mk4cAAABQIX6+0h6RlJB0YsSyuKTDgUYEAABG2b07opUrk0qnDY284PSNb0zT//2/Z6m7O6UlSzJlbyeVMrVuXZt6eiIaGDAl5Z7D9NOftuif/imjzs5eJZNO2dsBAAAAxvJzi9+nJH1I0tckHZC0QNKfSLpP0jPD6Wzb/nHwYVYdt/gBVcTUaGBimYx08cVzlE5PPH0pkXC0a9eRsmZSOY503XVJ7djRMmGajo5Bbd2aYiYVUCOcL4HwoV8C/hS7xc/PV8zbJLVK+ktJ/69yz596i6TbJX0r/983ywkUAACMdtddrfmZUxNLpw3dfXdrWdvZti2mnp7iI1w9PRE9/HCsrO0AAAAAhXi+1mrb9oWVDAQAAIz3wAMJTXCRaQRDXV0JfeYzpya9HdtO5G/rm9jAgKmNG+NasaLRXt4LAACAWmOSPgAAITY0VGpwyl+6iZSapTWsr4+vDgAAAAge3zIBAAix5mZvz4r0mm4iiYS39eNxHpIOAACA4DFABQBAiK1enZZUavDI1Zo16bK2Y1lpRaPFB5+iUUdr1/aVtR0AAACgEAaoAAAIsTvvPFVydlMi4Wr9+sk/f0qSVqzoV3t7pmia9vaMli/n+VMAAAAIHgNUAACEWCQidXenlEg4Gj+TylUi4ai7O6WI59eeFGaaUmdnrzo6BsfNpIpGHXV0DKqzs1cm3xwAAABQAWV+nQUAAJW2ZElGu3Yd0YYNrbr//oSGhgw1N+du61u//lTZg1PDkklHW7em9NBDMT344HSdPDmkeDx3W9/y5f0MTgEAAKBiDNct76GqDco9dOhQrWMApoxkMqlUKlXrMACMQL8Ewod+CYQP/RLwZ968eZJU8PXRXAsFAAAAAABATXGLHxCwwUFpw4ZWbd785m04q1endeedudtw5s+XpNkaPT7sSHpVBw+OziublbZti6mrK6F02lAi4cqy0lqxIly32pTaZwRbRtVqF363U2wfDcNfXmO3HY+7WrhwSHv3Nquvb/zfxfIrVfZjt3XqVO6CzrRprs46y1+cfuqinDZRqnzGxuFnW3190m23TdcTTzTLcebKNKXLL+/TvfeeUEtL8biCNnI/T50ytG9fk06caJKkisblt15PnpSuuSapV15pPrNswYIh/fjHKSUSwcbmR72cQwDaKgBA4ha/iXCLHyZl9+6IVq5MKp02NHrWoqtEwlU63Sdp+NfK6M9z0jp48KQkKZUytW5dm3p6IhoYePPbWTTqqL09o87OXiWTxV8JXw2l9rm7O6UlS4q/GazRp0YHUUbDqtUu/G6n2D7G467OPz+jF1/0ltdE2871k7H95s2/C+VXquz/5V+O6a/+6uwC21LRfCdTRiOV0ya8ls9wHJ/+9El9+MMzPW3rqaeatWZNUo6jcWlNU+rqSunSS4cKxhW0ifdzpODj8luvXV1RfeITbfm/xh/Xv/rVXq1ZMxBIbH7UyzkE/jTi+ZK2inrXiP0SqKRit/gxQFUYA1TwLZORLr54jtLpYpf6xv7ALvT5Yb3yinTddUnt2DHxtICOjkFt3Zqq6ZVFL/ucSDjatetI0RkhjXxiD6qMJMlxqtMu/G7HW9uf2Mi8vGzba36OUzou03TlOMX65OTjnKguymkTkymfUvs4vC3HkS66aG7RtKbpat++wxWfSeV3P4OKy2+9ptPSokVzVeq4vmfP4arOpKrWsQLV12jnS9oqGkGj9Uug0ngGFVAFd93Vmp+hUK7Z2rYtpp6e4qMVPT0RPfxwLIDtTZ6XfU6nDd19d2uVIgqfIMuoWu3C73bKbfsj8/Kyba/5eYnL8XFR/vnn/cU5UV2U0yYmUz6l9nF4W7fcMr1kWsfJ3f5XaX73M6i4/Nbrb/920lO+V13lLV1Q6uUcAtBWAQAjMUAFBOSBBxIqfhVdHj83ZduJIre05AwMmNq4Me4jwuB53eeurho+hKXGgiyjarULv9vxto/e8vKyba/5BdMn3zQ4aOpf/9V7nBPVRTltYnLl421bjz8e95T2Jz+p/HHH/34GE5ffes09c6p0mb30UnOJNMGql3MIQFsFAIzEABUQkKGhIGZP5XidjdLXV9su7HWfgyybehNkGVWrXfjdThD1O5xXMLMQc/lVot0dOJB7QHc5dVFOmwiqfApty+tsMj+zziZrMvsZRFz1cuwtpVH2A42PtgoAGImjPRCQ5ubgnueWSHjLKx6v7UNDve5zkGVTb4Iso2q1C7/bCaJ+h/Pyum0v+VWi3R07lhugKqcuymkTQZVPoW15fb5LNZ4DM5n9DCKuejn2ltIo+4HGR1sFAIzEABUQkNWr03rzbXwT8fK5I8tKKxot/mUsGnW0dm2fjwiD53Wf16xJVyOcUAqyjKrVLvxux9s+esvLy7a95hdMnxxt+E1S5dRFOW1icuXjbVuXX97nKe0VV1T+uON/P4OJy2+9LlgwJC9ldv751Xnz4bB6OYcAtFUAwEi8xa8w3uIH33iLX2G8xY+3+JVSL2/xk6Tf/u0+/cu/HOctfrzFj7f4oSYa7XxJW0UjaLR+CVQab/EDqiASkbq7U0okHI2/ou7mlw/PnBj/ee6/tA4ezN2q0tnZq46OwXFXFqNRRx0dg+rs7K35lzUv+9zdnSo58NLIgiyjarULv9sptY/xuKO3vc1bXsW2XbjfTJyfl7Lv6kqpo2NQkUjp2TotLY4++MG+knGWqoty2oSf8hmOo6vL27ZaWqSurpRMs/AxyjRddXWlKj44JZXaz8rF5bdeEwnpq1/tVbHj+le/2lvVwSmpfs4hAG0VADASM6gKYwYVJi2TkTZsaNX99yc0NGSouTl3+8z69acUiUjz50vSbI0eH3YkvaqDB0fn5TjSQw/FtGlTXH19puLx3DT35cv7Q/VlrdQ+lzIVrjyVW0YjVatd+N1OsX00TX95jd12LOZo8eKMXnghov7+8X8Xy69U2TuO9MMfxvTnf362Xn+9acLyKHQVv5y6KKdNlCqfsXH42dbgoHTrrdP12GNxOU7uB+QVV/TpnntOVGVwaqL9PH3a1N69TTpxIldHlYzLb72m09KVVyb18stvvq3v/POH9OijqaoPTo1UL+cQeNeo50vaKupZo/ZLoFKKzaBigKowBqiAKuLEjjBIpUytW9emnp7IqNeeR6OO2tsz6uzsPfMMqqmAfgmED/0SCB/6JeBPsQGqKXzjDQAAb0omHW3dmuIqPgAAAFADDFAB8G1wMHe70ObNb94utHp1Wnfe6f92tSCdPi2tXt2m55+PynUlw5DOPXdIb32ro8FBQ4mEK8tKa8UKb4MN2ay0bVtMXV0JpdP+16+USsZVTt2Gtbz8ME3p2mv7de21/bUOpWaG63HLlohOnpxZsh4bod4BAABQe1W5xc+yrG9LWinpNdu2l+aXbZK0JJ9kuqQTtnTRXhoAACAASURBVG3/lmVZF0jaJWl3/rOnbNu+Pb/OuyR1SopL2ibp47Ztu5ZltUnaJOkCSfslWbZtH7csy5D0d5JWKPd06nW2bf/SQ8jc4gdMYPfuiFauTCqdNjR6ZqarRMJVd3dKS5ZkfOUZxNTo7dtbdPPNM/N/jY5r5N9eb9cK6+1elYyrnLoNa3nBH7/1SL0D1cWtRED40C8Bf8LwFr9OSctHLrBt+/dt2/4t27Z/S9IDkjaP+Hjf8GfDg1N5/yjpVkmL8v8N5/kpST+ybXuRpB/l/5ak3x2R9tb8+gAmKZNRfgDD1PhjiqF02tTKlUll/I1Pla2/X/nBqbEDKxr398CAqR07WrRuXZucCX43O460bl2bduxoGfWj2+v6lVLJuMqp27CWF/zxW4/UOwAAAIJUlQEq27afkNRb6LP8LCdL0r8Wy8OyrLmS3mLb9pO2bbuSvitpVf7jD0j6Tv7f3xmz/Lu2bbu2bT8laXo+HwCTcNddrfnZNRNLpw3dfXdrlSLKWbWqzfc6PT0RPfxwrOBn27bF1NNT/H62YutXSiXjKqduw1pe8MdvPVLvAAAACFIYng7x3yW9atv2nhHLLrQsa4dlWY9blvXf88vmSzowIs2B/DJJmm3b9mFJyv//nBHrvDLBOgB8euCBhCaYjTmCoa6u6r5X/bnnoiod12gDA6Y2bowX/My2E+NmhPhZv1IqGVc5dRvW8oI/fuuRegcAAECQwvCQ9A9q9Oypw5LOs237WP6ZU1ssy/oNFf7lVOoBWp7XsSzrVuVuA5Rt20omkyUDB6aaTMbbmHYmY/rqQ5FIpKw+N9lH6WUy0YLbzWS8HRonWr9SKhlXOXUb1vKCP37rkXoHqq/c8yWA4NEvgeDUdIDKsqyIpN+T9K7hZbZtD0gayP/7F5Zl7ZO0WLnZT+eOWP1cScNPMn/Vsqy5tm0fzt/C91p++QFJCyZYZxTbtr8h6Rv5P10edAeMF4nMltTkIZ3j62GR5T5c0jDmTmqQKhIZUCp1vMDyNkmlb0uaaP1KqWRc5dRtWMsL/vitR+odqD4exgyED/0S8Cf/kPSCan2L31WS/su27TO37lmWNcuyrKb8v9+q3APOf52/de+UZVmX5p9bdaOk7+dX2yrppvy/bxqz/EbLsgzLsi6VdHL4VkAA/q1enVbpiYuu1qxJVyOcM5YuHVDpuEaLRh2tXdtX8DPLSisaLf5k52LrV0ol4yqnbsNaXvDHbz1S7wAAAAhSVQaoLMv6V0lPSlpiWdYBy7L+Z/6jtRr/cPT3SXrWsqz/lHS/pNtt2x5+wPofS/qmpL2S9kl6KL/8ryVdbVnWHklX5/+WpG2Sfp1Pf6+k/xX0vgFTyZ13nlIiUXwQI5FwtX79qSpFlLNlS8F3MBTV3p7R8uX9BT9bsaJf7e3FX0VYbP1KqWRc5dRtWMsL/vitR+odAAAAQTLcyT68pbG5hw4VvBMQmPJ2745o5cpk/o1vIx/z5iqRcNXdndKSJcV/tI4VxNTo7dtbdPPNM/N/jY5r5N/RqKP29ow6O3uVTE48+yOVMrVuXZt6eiKjHgTtdf1KqWRc5dRtWMsL/vitR+odqC5uJQLCh34J+JO/xa/g25kYoCqMASqgiExG2rChVfffn9DQkKHm5tytX+vXn1JkEk+2C+rE3t8vXX99m3bujMp1JcOQzjtvSBdckNXQkKl4PHe70fLl/TI9zB91HOmhh2LatCmuvj7/61dKJeMqp27DWl7wZ7geH3xwuk6eHCpZj9Q7UD38EAbCh34J+MMAlX8MUAFVxIkdCB/6JRA+9EsgfOiXgD/FBqhq+hY/YCq69957Pae95ZZbqrLdW265RY7jaP/+/XrhhReUyWQUiUS0ePFiXXjhhTKMgsePQGQyGT366KPauXOnstmsmpqatHDhQi1btkxmA02/CLJ8M5mMnnnmGe3duzdUZRbWuAYHB/XjH/9YBw4ckOu6MgxD5557rq6++mo1NZV+c+FUc/r0aW3evFkDAwNnlkWjUa1du1YtLS2BbstPvwhr+4J/QR4Pa3XuAgAAwWMGVWHMoEJF+BmcGhbEIJWX7c6aNUvHjh2T47z5vBjTNDVz5kxdc801isfjZccx1vHjx7VlyxZlMuOfaxSJRLRq1SrNmDEj8O1WW19fn7Zv3x5I+Ya1zMIa1+HDh9Xd3T3h5ytXrtTcuXOrGFG4Pffcc3ryyScn/Pyyyy7T0qVLA9mWn34R1vYF/4I8HgaZV71gpgYQPvRLwJ9iM6i45AhUyWQGp8pZz+/6R48eHfUFX8pdmT569Ki2b9+uoAezHceZ8AenlJstsWXLlnEx1RvXdbV9+/ZAyjesZRbWuLLZbNHBKUnq7u5WNputUkThNjg4WHRwSpKefPJJDQ4Olr0tP/0irO0L/gV5PAwyLwAAEA4MUAEo6dixY9q/f3+geT799NMT/uAclslk9LOf/SzQ7Vbbiy++qGPHjhVN47V8w1pmYY3rkUce8ZTu0UcfrXAk9WHjxo2BpivGT78Ia/uCf0EeD4PMCwAAhAMDVABKchxHu3fvDjTPvXv3ekq3Z8+eQLdbbS+88ELJmR1eyzesZRbWuA4cOOAp3SuvvFLhSOrDyGdOBZGuGD/9IqztC/4FeTwMMi8AABAODFAB8KTUDAa/vN5WVe+3X3ktNy/pwlpmYY3L66093AJUfX76RVjbF/wL8ngYZF4AACAcGKAC4EkkEuxLP72+Pa3e37Lmtdy8pAtrmYU1Lq9v8OJNX9Xnp1+EtX3BvyCPh0HmBQAAwoEBKgAlmaapJUuWBJrnwoULPaVbtGhRoNuttsWLF8s0ix9qvZZvWMssrHGde+65ntItWLCgwpHUh2g0Gmi6Yvz0i7C2L/gX5PEwyLwAAEA4MEAFoKSZM2fqggsuCDTPZcuWlbyyHYlEdMkllwS63Wq78MILNXPmzKJpvJZvWMssrHFdffXVntJdddVVFY6kPqxduzbQdMX46RdhbV/wL8jjYZB5AQCAcGCACqiSW265parr+V1/1qxZ465Gm6apWbNm6Zprrgn8NijTNLVq1aoJf3hGIhGtWrWq5BXysDMMQ9dcc00g5RvWMgtrXE1NTVq5cmXRNCtXruTWsLyWlhZddtllRdNcdtllamlpKXtbfvpFWNsX/AvyeBhkXgAAIBwMHg5bkHvo0KFax4AGde+993pOW+7glNft3nLLLXJdVy+++KJeeOEFZTIZRSIRLVmyRBdccEFFv+A7jqOdO3fq2WefVTabVVNTkxYtWqRLLrmkoX5wBlm+juPo6aef1t69e0NVZmGNK5vN6pFHHtGBAwfkuq4Mw9CCBQt01VVXMThVwODgoDZu3DjqbX3RaFRr164NZHBqJD/9IqztC/4FeTys1bmrVpLJpFKpVK3DADAC/RLwZ968eZJU8CTNAFVhDFABVcSJHQgf+iUQPvRLIHzol4A/xQaouOQIAAAAAACAmuLduwCQl8lk9Mwzz4y6hWjhwoVatmxZ3dxC5DiO9u/ff+Z2l6amJk2fPl0nTpxQNpuVaZoyTVNHjx498/c555wj13WVzWYViUS0ePFiXXjhhQ15ewxQb8b2afoo8P+zd/dBclRnvud/mZXVb8iIVpds07xIQm9jDet7gQ0B9p0RGiMksQLLV6O8moh7DcOEwXdmdsexE7E7XHZiNhYDE7s7G3bc3fC18WqEvROGFFbIjEJCFkbAHRsEC5rrF7ESegPklo36xRJC3erKytw/qlpu1VtmVmVVZVV9PxEd0FUnTz558jytztPnnAIAdCqW+JXHEj+giZIwNXpiYkI7d+6U67ol781swjw4ONiCyMKbnJzU3r17NTY2Js/zaq7HNE0NDQ1p7dq16u/vjzFCtJMk5GW3q5TT5Gj3Ii+B5CEvgWhY4gcAVXieV3FwSsrPrNq5c2ddgz6N5vu+9u7dqzNnztQdp+d5OnPmjPbu3Sv+iAG0RrWcJkcBAEAnYoAKQNc7cOBAxcGpGa7r6vXXX29SRNGdOHFCY2NjsdY5NjamkydPxlongHDC5DQ5CgAAOgkDVAC63tGjR0OVe+eddxocSe2OHDkS+wwvz/N0+PDhWOsEEE6YnCZHAQBAJ2GACkDXy+VysZZrhaAZYEmrF0B1YXOPHAUAAJ2CASoAXS+VSsVarhUsqzEfytqoegFUFzb3yFEAANApGKAC0PWWLFkSqtzSpUsbHEntli1bJtOM90e6aZpavnx5rHUCCCdMTpOjAACgkzBABaDr3XrrrYGzECzL0sqVK5sUUXSLFi3S0NBQrHUODQ1p4cKFsdYJIJwwOU2OAgCATsIAFYCuZ5qmNm7cWHGQyrIsbdy4MfYZSnEyDENr167V/Pnz647TNE3Nnz9fa9eulWEYMUUIIIpqOU2OAgCATmT4vt/qGJLIHxkZaXUMQNfIZDIaHR1tdRjyPE8HDhzQ0aNHlcvllEqltHTpUq1cuTLRg1Oz+b6vEydO6MiRI3JdV5Zl6aqrrtLExIRyuZxM05Rpmjpz5syl7z/+8Y9L0qXyy5cv18KFC3nw7XJJyctuVy6nydHuRV4CyUNeAtEMDw9LUtlfYhigKo8BKqCJ+IcdSB7yEkge8hJIHvISiKbaABUf/YK25XmeTp48edlflZctW6ZFixa19K/KruvqjTfeuGwWzpIlS3TrrbdGnoWT1GuMk+u6euGFF/Szn/2sbHtFaYOo7RV0r+K8l90gzv5KHsUrqW0wNTWl3bt3a2xs7NJrQ0NDuvfee0uW3E5PT+vFF1/UqVOn5Pu+DMPQtddeqzVr1iT6EzYBAAAQDjOoymMGVcJNTk5q7969Ghsbk+d5l143TVNDQ0Nau3at+vv7mx7XxMSEdu7cKdd1S96b2cdocHAwVF1JvcY4BbXXunXrdODAgVBtELW9gs69evVq7d+/P5Z72Q3i7K/kUbxqbYNG/0X45MmT2rdvX8X316xZc2kD8NOnT2vXrl0Vy27YsEFXX3113CECicNMDSB5yEsgmmozqJgCgLbj+7727t2rM2fOXPawJeVnCZw5c0Z79+5VswdfPc+r+FAt5WeE7Ny5syTmcpJ6jXEK0167du0K1QZR2yvMufft2xfLvewGcfZX8iheSW2DmRyrZiYHc7lc1cEpSdq1a5dyuVycIQIAAKDJGKBC2zlx4sRly0HKGRsb08mTJ5sTUMGBAwcqPlTPcF1Xr7/+emBdSb3GOIVpryAzbRC1veI4d9h72Q3i7K/kUbyS2gbPPfdcqHL/+I//GDiQNeOFF16oJyQAAAC0GANUaDtHjhwJnD3heZ4OHz7cpIjyjh49GqrcO++8E1gmqdcYp7DtVc1MG0RtrzjOLYW7l90gzv5KHsUrqW0QNGg2Y3R0VKdOnQpV9v33368nJAAAALQYm6Sj7YSd+VLvDJmowi4vCVMuqdcYp7iW40Rpg5mycZ2bJUV5cfZX8ihendAGYZcfdvJSTQAAgG7ADCq0neJPdqq3XFzCfopUmHJJvcY4xfWpW5ZlRW6vuM7NJ4flxdlfyaN4dUIbhP2UwW75REYAAIBOxQAV2s6yZcsCP2beNE0tX768SRHlLVmyJFS5pUuXBpZJ6jXGKWx7VTPTBlHbK45zS+HuZTeIs7+SR/FKahsMDQ2FKpfJZHTttdeGKnvdddfVExIAAABajAEqtJ1FixYFPtwMDQ1d+njyZrn11lsDZyFYlqWVK1cG1pXUa4xTmPYKMtMGUdsrjnOHvZfdIM7+Sh7FK6ltcO+994Yqd88992jNmjWhyt555531hAQAAIAWY4AKbccwDK1du1bz588vmRlgmqbmz5+vtWvXNn25h2ma2rhxY8WHa8uytHHjxsDZDFJyrzFOYdprw4YNodoganuFOfeaNWtiuZfdIM7+Sh7FK6ltMJNj1czkYCqV0oYNG6qW3bBhA0tuAQAA2pzBpqJl+SMjI62OAQF839eJEyd05MgRua4ry7K0fPlyLVy4sKUPnJ7n6cCBAzp69KhyuZxSqZSWLl2qlStXRh7QSOo1xsnzPP3sZz/TT3/607LtFaUNorZX0L2K8152gzj7K3kUr1raIJPJaHR0tKFxua6r55577rJP9ctkMrrnnntKBilzuZz27dunU6dOyfd9GYah6667TnfeeSeDU+gazchLANGQl0A0w8PDklT2F1AGqMpjgApoIv5hB5KHvASSh7wEkoe8BKKpNkDFFAAAAAAAAAC0VHI/VxoAAHS0aXdaj7/xuHYc3aFsLqt0Kq1NSzbpkVsfkWXyK0q9aF8AANBOWOJXHkv8gCZiajSQPI3Oy8MTh7Vh5wZdcC+UvDdgDWjXxl1aPri8YefvdLRvZ+LfSyB5yEsgGpb4AQCAxHA9t+LgiSRdcC9ow84Ncj23yZF1BtoXAAC0IwaoAABAUz124LGKgyczLrgX9MTrTzQpos5C+wIAgHbEABUAAGiq7x/9fqhy29/Z3uBIOhPtCwAA2hEDVAAAoKmyuWys5XA52hcAALQjBqgAAEBTpVPpWMvhcrQvAABoRwxQAQCAptq0ZFOocpuXbm5wJJ2J9gUAAO2IASoAANBUj9z6iAasgaplBqwBPbzy4SZF1FloXwAA0I4YoAIAAE1lmZZ2bdxVcRBlwBrQro27ZJlWkyPrDLQvAABoRwxQAQCApls+uFxv3/e2HrrxIQ31DenK9JUa6hvSl/+rL+vt+97W8sHlrQ6xrdG+AACg3Ri+77c6hiTyR0ZGWh0D0DUymYxGR0dbHQaAWchLIHnISyB5yEsgmuHhYUkyyr3H3G60rZyX0+6Tu7X9yHZdcC9owBqQvczW3Yvulmm0bnJg1Lgmpyf10IsP6ZVTr8jzPcmQruq5SovnLlav0auDYwd13j1/qfxQ75B+suUnmtMzJ1IcPerR8Q+P69T5U/Lly5ChG4du1M57d6rP6tPZC2e19gdr9f759y/Vcd2c6/TiH76ogfTly0SKYzYNU6uuXaUn1zypnlRPpPaanJ7Uxmc26oUTL9RdV5RrkKRpd1qPv/G4dhzdoWwuq3QqrU1LNumRWx+RZVpV76Wbc6se20hx9v2k5lGcfawbjJ8f1x077tDYxbFLr/WavepRj4yUEal/zuTFzuM7dTF7sal9O05B+Z1USc1JAACARmvKDCrbtrdK2iDpA8dxbiy89j9L+pKkM4Vi/8FxnN2F9x6W9CeScpL+O8dx9hZeXyfp65JSkr7tOM7fFl5fJOlpSfMkvSXp3zmOM23bdq+k70i6RdKYpH/jOM7JECEzgyrhRidHdf/e+3Vo7JAuehcvvd5r9mrF0AptW7tNmf5M4uN67fRr2rxrszx5kc/16O2P6oEbH4gURyUPrHhAWw9trfj+11Z9TZuXbQ6M2ZSp7Ru267arbwt1DXHWtf3Idn3l5a+EugZJOjxxWBt2btAF90JJ2QFrQN9d91199cBXy97LRXMX6d1z72oyN1n22F0bdzVs+UycfT+peRRnv+gGW3++VX/96l+HKhvUP4PyopF9O07teh1JzUkkBzM1gOQhL4Foqs2gatYA1e9LOi/pO0UDVOcdx/nfi8qukPQ9SSslDUt6QdKywttHJK2RdErSG5L+yHGcQ7ZtO5J2OI7ztG3b/0nSf3Ec5xu2bf+ppE87jvNl27a3SPqC4zj/JkTIDFAlmOd7uvcH9+rgmYMVy9w0/yY99/nnmvrX5qhxTeemtXjr4poGp2Ycvu9wyUyqMHHU4p3735FlWoExmzJ17IFjgbNcwlx/2LouZC9o6bal1S9A+WsYSA/I9Vx96qlPlX14nX3uWu/NgDWgt+97O/ZZGnH2/aTmUZz9ohucnz6v5U9FG2ip1D/D5EWj+nac2vU6kpqTSBYehIHkIS+BaKoNUDXlNxzHcV6RNB6y+OclPe04zkXHcU5IOqr8YNVKSUcdxznuOM608jOmPm/btiHpDyQ9Wzj+KUkbZ9X1VOH/n5X0uUJ5tLHdJ3br0NihqmUOjR3S8yefb1JEeVHj+tK+L9U1OCVJn336szXFUYs7n70zVMyePD30wkOB9cVZ1x88+weBZaT8NUjSYwceq/rwOnPuWl1wL+iJ15+o+fhK4uz7Sc2jOPtFN/jM05+JfEyl/hkmLxrVt+PUrteR1JwEAABollb/Ce7Pbdv+qW3bW23bHiy8do2k92eVOVV4rdLrQ5J+4ziOW/T6ZXUV3j9bKI825hxxApetXfQu6unDTzcporyocb186uW6zzl6sfSvNWHiqMW7598NHfP+9/cHlomzrtl7TlXz7vl3JUnfP/r9UOXrsf2d7bHXGWffT2oexdkvusHsPaeiKNc/w+ZFI/p2nNr1OpKakwAAAM3Syrnt35D0qCS/8N+/k/SAyk/18lV+MM2vUl4B713Gtu0HJT0oSY7jKJNhj4ekcg03uFChXDPvY9S46p09NaP4GsPGUYuwMXvyAts+zrqiyGQycv3GtdEM14+//8XZ95OaR63qF92mXP8MmxeN6NtxatfrSGpOIlksy+L+AwlDXgLxadkAleM4v575f9u2n5S0q/DtKUnXzSp6raSZDaHKvT4q6Srbtq3CLKnZ5WfqOmXbtiVpriosNXQc51uSvlX41mcdcXJZfrhua/lWU9eDR43LlKmccnWft/gaw8ZRi7AxmzID2z7OuqIYHR2VZTT+R59lxN//4uz7Sc2jVvWLblOuf4bNi0b07Ti163UkNSeRLOx1AyQPeQlEU9iDqqyWLfGzbfvqWd9+QdLPC///nKQttm33Fj6db6mk15XfFH2pbduLbNvukbRF0nOO4/iS9kv6w8Lx90n6way67iv8/x9KerFQHm3MXmar1+ytWqbX7NWW5VuaFFFe1LhWXbuq7nNmekv/WhMmjlosmLMgdMyrr1sdWCbOuq6bc11gGSl/DZK0acmmUOXrsXnp5uBCEcXZ95OaR3H2i24w1FvbqvVy/TNsXjSib8epXa8jqTkJAADQLM36FL/vSbpDUkbSryX9TeH7f6n8kruTkh5yHOd0ofwjyi/3cyV9xXGcPYXX75b0NUkpSVsdx3ms8PoNym+aPk/SQUn/1nGci7Zt90n6rqSblJ85tcVxnOMhQuZT/BIsqZ90xKf45fEpfnyKXz34FL9o+BS/Uu16HUnNSSQLMzWA5CEvgWiqfYpfUwao2hADVAk3Ojmq+/fer0Njhy7bVLbX7NWKoRXatnabMv3NXwseNa7XTr+mzbs21zQQ8ujtj+qBGx+IFEclD6x4QFsPba34/tdWfU2bl20OjNmUqe0btuu2q28LdQ1x1rX9yHZ95eWvhLoGSTo8cVgbdm4o+xA7YA3ou+u+q68e+GrZe7lo7iK9e+5dTeYmyx67a+MuLR+MNmgQVpx9P6l5FGe/6AZbf75Vf/3qX4cqG9Q/g/KikX07Tu16HUnNSSQHD8JA8pCXQDQMUEXHAFUb8HxPe07s0TNHntGkO6l+q19blm/RuoXrWvrX5ahxTeem9eC+B/XSqZfk+Z5kSIM9g1o8d7F6jB4dHDuo8+75S+UzvRn9eMuPS2ZOBcWRNtI6ce6E3j//vnz5MmTo05lPa8c9O9Rn9elC9oI+9+zn9N759y7VsWDOAr3why9oID1QNWbTMLX6utX65p3fjDyrZTo3rT975c+079i+uuuKcg1SfqbF4wce17NHn1U2l1U6ldbmpZv18MqHZZlW1Xvp+V7VYxspzr6f1DyKs491g/PT5/WZpz9z2af69Zq96lGPjJQRqX/O5MWO4zt0MXuxqX07TkH5nVRJzUkkAw/CQPKQl0A0DFBFxwAV0ET8ww4kD3kJJA95CSQPeQlEU22Aij/FAQAAAAAAoKWSO8cdgCanJ/XQiw/plVOvXFrmtOraVXpyzZMscwJCIo8AAACA5GMGFZBQr51+TcueWqYfvf8jZf2scsop62f1wvsvaPHWxXrt9GutDhFIPPIIAAAAaA8MUAEJNJ2brvrpfp48bd61WdO56SZHBrQP8ggAAABoHwxQAQn0pX1fqvhQPcOTp4deeKhJEQHthzwCAAAA2gcDVEACvXzq5VDl9r+/v8GRAO2LPAIAAADaBwNUQAJ5fvVZH1HLAd2IPAIAAADaBwNUQAKZRrjUDFsO6EbkEQAAANA++K0cSKBV164KVW71dasbHAnQvsgjAAAAoH0wQAUk0JNrnpQZkJ6mTH3zzm82KSKg/ZBHAAAAQPtggApIoJ5Uj7Zv2F7x4dqUqe0btqsn1dPkyID2QR4BAAAA7YMBKiChbrv6Nh174JjWXLdGaSOtlFJKG2nddf1dOvbAMd129W2tDhFIPPIIAAAAaA9WqwMAUFlPqkfb1m1rdRhAWyOPAAAAgORjBhUAAAAAAABaihlUQMwmpyf10IsP6ZVTr8jzPZmGqVXXrtKTa55UT6pHOS+n3Sd3a/uR7brgXlCf2aeUmdLBMweVzWXlydNg76CGrxjWFekrtOSqJTp69qgm3Un1p/ov+37AGpC9zNbdi+6WaVQfby4+b5Rji52fOq9NuzfpF2O/kC9fhgzdOHSjdt67U31WXz3NV5c4r7HYtDutx994XDuO7lA2l1U6ldamJZv0yK2PyDL5USrV1/7l8uZ35v2OhvqGdNG7GOu9bNQ1AAAAAKid4ft+q2NIIn9kZKTVMaANvXb6NW3etVmevJL3TJn69ppv6z/+83/UobFDuuhdjOWcvWavVgyt0La125Tpz5QtMzo5qvv33l9y3jDHFtt7cq8e2PdAxfe3rtmqtQvXRrqGTCaj0dHRSMcUi/Maix2eOKwNOzfognuh5L0Ba0C7Nu7S8sHlNcfeCepp/2p5M1sc97KaRvahdhRHXgKIF3kJJA95CUQzPDwsSUa59xigKo8BKkQ2nZvW4q2LAx+yG+Wm+Tfpuc8/VzLLw/M93fuDe3XwzMHIxxabcqe0+O8XB8Zy7I+PRZpJVe8/7HFeYzHXc/Wppz5VuxXyXAAAIABJREFUdnBqxoA1oLfve7trZ1LV0/615E2t97KaRvahdsUv3EDykJdA8pCXQDTVBqi647dsoAm+tO9LLRuckqRDY4f0/MnnS17ffWK3Do0dqunYYhuf2xgqln/9j/86VLm4xHmNxR478FjVwSlJuuBe0BOvPxG57k5RT/vXkje13stqGtmHAAAAAARjgAqIycunXm7p+S96F/X04adLXneOOIHLCSsdW+znYz8PFctPR38aqlxc4rzGYt8/+v1Q5ba/sz1y3Z2invavJW9qvZfVNLIPAQAAAAjGABUQE89v3eypGZPuZMlrQbN/qh1bzFe4JcFhy8Ulzmssls1lYy3Xiepp/1rzppZ7WU0j+xAAAACAYAxQATFJwr40/VZ/yWsD1kDNxxYzyi8VrrlcXOK8xmLpVDrWcp2onvavNW9quZfVNLIPAQAAAAjW+idqoEOsunZVS8/fa/Zqy/ItJa/by2z1mr01HVvsxqEbQ8Xy6cynQ5WLS5zXWGzTkk2hym1eujly3Z2invavJW9qvZfVNLIPAQAAAAjGABUQkyfXPCmzhSm1YmiF1i1cV/L63Yvu1oqhFTUdW2znvTtDxbLjnh2hysUlzmss9sitjwTOrhmwBvTwyocj190p6mn/WvKm1ntZTSP7EAAAAIBgDFABMelJ9Wj7hu0VH7ZNmdq6Zqtumn9T4EyNKHrNXt00/yZtW7ut7HIp0zC1be22sucNOrZYn9WnrWu2Vi2zdc1W9Vl90S6iTnFeYzHLtLRr466Kg1QD1oB2bdwly7Rqir0T1NP+QXkTpa56NLIPAQAAAAhm+H5zNzNuE/7IyEirY0Cbms5N68F9D+qlUy/J8z2ZhqnV163WN+/8pnpSPfJ8T3tO7NEzR57RpDupXrNXlmnprTNvKZvLypOneb3zNHzFsAbSA1o2uExHfnNEU+6U+lJ9l33fb/Vry/ItWrdwXeCDc/F5oxxbbMqd0hee+4J+NvYz+fJlyNCnM5/Wjnt21DQ4lclkNDo6Gvm4YnFeYzHXc/X4gcf17NFnlc1llU6ltXnpZj288uGuHpyarZ72L5c3n5r3KQ31D+li7mKs97JR19Bp4spLAPEhL4HkIS+BaIaHhyWV37SYAaryGKACmoh/2IHkIS+B5CEvgeQhL4Foqg1Q8Wd/AB0j5+W0++RubT+yXRfcCxqwBmQvs3X3oru7bvZLu5t2p/X4G49rx9Edl2asbVqySY/c+ggz1rpUkvM7ybEBAAC0C2ZQlccMKqCJ4vjL0+jkqO7fe78OjR3SRe/ipdd7zV6tGFqhbWu3KdOfqTdUNMHhicPasHODLrgXSt6b2fNr+eDyFkTWXZL0F+Ek53eSY0PnSVJeAsgjL4Foqs2g4s96ANqe53u6f+/9Onjm4GUPiJJ00buog2cO6v6998vzvRZFiLBcz604OCVJF9wL2rBzg1zPbXJkaJUk53eSYwMAAGg3DFABaHu7T+zWobFDVcscGjuk508+36SIUKvHDjxWcXBqxgX3gp54/YkmRYRWS3J+Jzk2AACAdsMAFYC25xxxSmYvFLvoXdTTh59uUkSo1fePfj9Uue3vbG9wJEiKJOd3kmMDAABoNwxQAWh7QTNuZky6kw2OBPXK5rKxlkP7S3J+Jzk2AACAdsMAFYC2N2ANhCrXb/U3OBLUK51Kx1oO7S/J+Z3k2AAAANoNA1QA2p69zFav2Vu1TK/Zqy3LtzQpItRq05JNocptXrq5wZEgKZKc30mODQAAoN0wQAWg7d296G6tGFpRtcyKoRVat3BdkyJCrR659ZHAWSkD1oAeXvlwkyJCqyU5v5McGwAAQLthgApA2zMNU9vWbtNN828qmc3Qa/bqpvk3advabTINfuQlnWVa2rVxV8VBqgFrQLs27pJlWk2ODK2S5PxOcmwAAADtxvB9v9UxJJE/MjLS6hiArpHJZDQ6Olp3PZ7vac+JPXrmyDOadCfVb/Vry/ItWrdwHQ+Ibcb1XD1+4HE9e/RZZXNZpVNpbV66WQ+vfJjBqSaJKy/jkuT8TnJs6CxJy0sA5CUQ1fDwsCQZ5d5jgKo8BqiAJuIfdiB5yEsgechLIHnISyCaagNU/FkPAAAAAAAALcU6CTRVzstp98nd2n5kuy64FzRgDcheZuvuRXdHXgYx7U7r8Tce146jOy4tAdq0ZJMeufWRyEuA6omrOA7LtHTzx29Wzs9pKjcVqa6gOIrf70/1a8lVS3T0N0c1mZuseq6Kx549qkm3+rHNNH5+XHfsuENjF8cuvTbUO6SfbPmJ5vTMaei54+xTjRRnHiVV0L2I0gbnp85r0+5N+sXYL+TLlyFDNw7dqJ337lSf1Rfpvk9OT+qhFx/SK6deked7Mg1Tq65dpSfXPKmeVE/JdXTDvWqWdslPAAAA1IYlfuWxxK8BRidHdf/e+3Vo7JAuehcvvd5r9mrF0AptW7tNmf5MqLoOTxzWhp0bdMG9UPLezCbKyweXNzyuanHMFqauoDj+btXf6S9f/suS98Ocq1LdtcTZCDNTo7f+fKv++tW/rlju0dsf1QM3PtCQGOLsU40UZx4lVdC9+O667+qrB74aqg32ntyrB/ZV7jOP3v6onnjjiVD3/bXTr2nzrs3y5JWUNWVq+4btuu3q2y691u73KklLFtolP4FGS1JeAsgjL4Fo2IMqOgaoYub5nu79wb06eOZgxTI3zb9Jz33+ucBZBa7n6lNPfarqoNCANaC373s78K/q9cQVJo6wdYWJY8AaqOlckgLrDhtno2QyGZ0cOanlTwU/YB6+73DsM6ni7FONFGceJVWYe2HKLDtINGOmDaZz01r894vrimfmvnu+p8VbF1c9rylTxx44pp5UT0fcq6T8wt0u+Qk0Q1LyEsBvkZdANOxBhZbbfWK3Do0dqlrm0NghPX/y+cC6HjvwWOBAzQX3gp54/YmGxhUmjrB1hYmj1nOFqTtsnI30mac/E6rcZ5/+bOznjrNPNVKceZRUYe5FtUEi6bdtsPG5jXXHM3Pfv7TvS4Hn9eTpoRcektQd96pZ2iU/AQAAUB8GqNAUzhGn6tIySbroXdTTh58OrOv7R78f6pzb39ne0LjCxhGmrjBx1HquWuoOey/iNHvPqWpGL8b/F6o4+1QjxZlHSVVLXhWbaYOfj/08hojy9/3lUy+HKrv//f2SuuNeNUu75CcAAADqw1x4NEXY2T+T7mRgmWwuG6quMOXqiStsHGHqijo7Ksq5fNW2jDfMvegUcfapRoozj5Iqrjaup+8Xy+ay8vzqs6dmzJTrhnvVLO2SnwAAAKgPM6jQFAPWQKhy/VZ/YJl0Kh2qrjDl6okrbBxh6gobRy3nqrXuMPeiU8TZpxopzjxKqrjauN/ql1F+aXtk6VQ69D5RM+W64V41S7vkJwAAAOrDABWawl5mq9fsrVqm1+zVluVbAuvatGRTqHNuXrq5oXGFjSNMXWHiqPVctdQd9l7Eaah3KFS5TG/8n3oWZ59qpDjzKKlqyatiM21w49CNMUSUv++rrl0Vquzq61ZL6o571Sztkp8AAACoDwNUaIq7F92tFUMrqpZZMbRC6xauC6zrkVsfCZydMGAN6OGVDzc0rjBxhK0rTBy1nitM3WHjbKSfbPlJqHI/3vLj2M8dZ59qpDjzKKnC3Asz4J+umTbYee/OuuOZue9Prnky8LymTH3zzm9K6o571Sztkp8AAACoDwNUaArTMLVt7TbdNP+mklkFvWavbpp/k7at3RZqGY1lWtq1cVfFB5YBa0C7Nu4K9XHj9cQVFEeUusLEsWvjrrLvB52rWt1R42ykOT1z9Ojtj1Yt8+jtj2pOz5zYzx1nn2qkOPMoqcLci+0btodqgz6rT1vXbK16vkdvfzTUfe9J9Wj7hu0VB6lMmdq+Ybt6Uj3577vgXjVLu+QnAAAA6mP4fjybyHYYf2RkpNUxdCTP97TnxB49c+QZTbqT6rf6tWX5Fq1buC7yg5rruXr8wON69uizyuaySqfS2rx0sx5e+XDkB5V64iqOwzIt3fLxW5RTTlPuVKS6guIofr/P6tOyq5bpyMQRTeWqn6vk2FSflg0u05HfHIkcZ9wymYxGR/Ofznd++rw+8/RnLvtUv0xvRj/e8uOGDE7NFmefaqQ48yipgu5FlDaYcqf0hee+oJ+N/Uy+fBky9OnMp7Xjnh3qs/oi3ffp3LQe3PegXjr1kjzfk2mYWn3dan3zzm9eGpyarZ3v1ey8TIJ2yU+gkZKWlwDISyCq4eFhSeU3i2WAqjwGqIAm4h92IHnISyB5yEsgechLIJpqA1T8yRGImedL700ZOjaVkutLliEt7stpQZ8vI+KHirmedPC8qeNTKXm+ZBrSDX053TLHkxlx8kVxXKYkQ77GXLPuuqOee3ab5Hxp/+lJHZpINzyOTjGdk145m9LprClf+Z/uw2lPd8zNKZVqdXTJE2ceAQAAAGiMpsygsm17q6QNkj5wHOfGwmv/m6R7JE1LOibpjx3H+Y1t2wslvS3pcOHw1xzH+XLhmFskbZPUL2m3pL9wHMe3bXuepGckLZR0UpLtOM6EbduGpK9LulvSBUn3O47zVoiQmUGFmkx60v4JS+OuIW/WoLApX/MsX6sHXfWHfCCecKU9Y2m5ki4fYPZlSVo/lNVgyCHmSnHp0vBG7XXXem5Tvq40fX3oGcqVDKDHH0en+NW09MOJdOG74nsp3TWY1SdLV5p1rTjzqNvwF2EgechLIHnISyCaajOomvW3422Sij+qaJ+kGx3H+bSkI5Jmf/zOMcdx/mXh68uzXv+GpAclLS18zdT5V5J+5DjOUkk/KnwvSetnlX2wcDzQEL6fH4gZdc2iQSDJk6FR19T+CUthxoQ9b+ah2lBp7hpyZWjPWFqeV19c9dZdz7k9GfqNZ5YZnIo/jk6Ry80MTpXvF5KhH06klcs1P7YkijOPAAAAADRWUwaoHMd5RdJ40Ws/dBzHLXz7mqRrq9Vh2/bVkq50HOdVx3F8Sd+RtLHw9uclPVX4/6eKXv+O4zi+4zivSbqqUA9i4vnSyUlDP5qwtHfc0o8mLJ2cNEINwnSad6cMjbvV1/CNu4beuxi8zu/N86bcgDKupLc+Ck7hMHHVWncjzt2IODrFS2fDrd97+Rzr/KR48wgAAABAYyXlt/IHJO2Z9f0i27YP2rb9sm3bv1d47RpJp2aVOVV4TZI+4TjOaUkq/Pfjs455v8IxqNOkJz0/bumfzln65bSpX2dN/XLa1D+ds7Rn3NJkl81KODaVKjND6XKeDB2dDB48OD6VUoVZj7MYOhairjBx1Vp3Y84dfxydYiSb3zmsOkO/nE7Kj/bWijOPAAAAADRWy3fesG37EeX/iP0PhZdOS7recZyxwp5TO23b/l2Vf8oImqcT+hjbth9UfhmgHMdRJpMJE37X8n1f3zvxkUbd0lGo/HI2Q//5fJ/+aNEVMqLuDN6mjA8/yu9eHcC00spkrqpaxj9zLrh3S5JhBPbVsHHVUndgFbWeO+Y4Osavz4UsSJtJ8eZRN7Isi3YBEoa8BJKHvATi09IBKtu271N+8/TPFZbtyXGci5IuFv7/Tdu2j0lapvzsp9nLAK+VNLOT+a9t277acZzThSV8HxRePyXpugrHXMZxnG9J+lbhW5+N7qo7OWnog0lL1WYnfDCZ01u/HNeCvu5Y7+e7lsJMSvTcbOBGioY/s89Q0En9wLrCxlVL3YFV1HrumOPoHCH7hWgzKd486kZs+gokD3kJJA95CURT2CS9rJatA7Fte52k/1HSvY7jXJj1+nzbtlOF/79B+Q3OjxeW7n1o2/ZthU/n+6KkHxQOe07SfYX/v6/o9S/atm3Ytn2bpLMzSwFRnziXs3WKxX05mQHTNUz5WtIfPKPohr6cgqd++Focoq4wcdVad2POHX8cnWI47SlMv7imp8vW11YQZx4BAAAAaKymDFDZtv09Sa9KWm7b9inbtv9E0v8p6WOS9tm2/c+2bf+nQvHfl/RT27b/i6RnJX3ZcZyZDdb/vaRvSzoq6Zh+u2/V30paY9v2O5LWFL6XpN2SjhfKPynpTxt4mV3FDTnmELZcJ1jQ52ueVf2C51m+ru8NbpRb5niB0xstSTdfETwQESauWutuxLkbEUenuGNuuIGUVVcy4CLFm0cAAAAAGsvwu/Hj1oL5IyNlVwKi4EcTVqiNmK/p8fS5waDP0eock560f8LSuGtcNsPMVH6gZvWgq/6Qw8ITrrRnLF34FLLZs9V8WZLWD2U1GHKRbqW48rNL6qu71nOb8nWl6etDz1CuZDZe/HF0il9NSz+cSBe+K76X0l2DWX2yp+lhJVacedRtWLIAJA95CSQPeQlEU1jiV3Y5FgNU5TFAFeDkpKF/OmdVXeZnytfvzXW7Zg+qGb4vvTtl6NhUSq4vWYa0pD+n63t9Rd0v3vOkN8+bOj6VkudLpiEt7s/p5is8mRHnPxbHlf98M1+jrll33VHPPbtNfF86lLtCv5iYbngcnSKXk146m9JI1rw0xHhNj6dVV+aU6p5VtaHFmUfdhF+4geQhL4HkIS+BaBigio4BqgC+L+0ZtzTqVn66y1ie1s9zIw/KoPvwDzuQPOQlkDzkJZA85CUQTbUBKv52jJoYhrR60FXG8ko2wTblK2N5Wj3I4BQAAAAAAAjGzhuoWb8prZ/nll02diZraueZtEwj/0lat8yJfynNdE565WxKp2ctcxpOe7pjbn6Zk+dL7xViy3pStjCO1mPml5gt7stpQV8Ny+5m1TuzXG12XUHvu550sGi5UVxtVO3cWa96e13ISnvGU/po1rj1FfJ077yc0umKp6yb50uHz2b1zxNW2fYKUq09pz1p30RKE95vr2nQ9LR+MCfLKm0vU9JUzi8p358ylFO02Bp5n6MovsaUIc1NeTrrmsopn7NzLU9nc6ZyNbR/tXNVqysp7VMsqL3qaR80VpT+BwAAgORhiV95LPGrQTM3Iw7aKHrV3Kx+8VG5TcF/q5aNy4M2Qb99rqtXz1Z+/+aPuXpxojFtVC22OYavc/7Ma6XttaI/q0OTldvz9o9ltXSgtrjCxDxRGByZHXOYe1Otz12u/DW9Mxlu43hF3PA+KRtzR9kcP+o1hj1XubqS0j7FwrZXLe3TjtppyUKcH1ABJFk75SXQLchLIBqW+KHhPG/mgdNQaV8z5MrQnrG0vBg+zT2XmxmcKn8uydDLZ9P5zb+rbOLuydCoa2r/hKUw47S+n38AKlfvTF17xsqfd+b9H040po2CYjvnm6rWXvnBqcrvv/phWtls9LjCxpwrav8w9yaoz13+Vfreqx9W6iPVvw+KrZm5UE21PlHvNUY5V3FdSWmfYlHaK2r7oLGi9D8AAAAkFwNUiMWb583CbIjKXElvfVR/l3vpbLwfUzbuGnrvYvD6j3enDI271csFtUGQWtsoTGz1+seJeNs9TMzV7k2YPtdIlWJrZi5UE0efiDM3ZupKSvsUq6W9wrYPGqvenyUAAABIBgaoEIvjU/ndp6ozdGyy/kGOkezMbKDq5wrLk6GjIeI6NpWqOiMr3Hkb00bhYqt+3qD3z/vx/rgIE3O1exOuz1VT38NqpdiamQvV1N8n4s2NmbqS0j7FammvsO2Dxqr3ZwkAAACSgQEqxMILuXQibLlqGrFKww1RaZgycailjZoVW5zCxlypXBx9qV7lYmtmLlQTV5+IMzdcPzntU6zW9mrH3Os09f4sAQAAQDIwQIVYmCEnHoQtV00jFmlYISoNUyYOtbRRs2KLU9iYK5WLoy/Vq1xszcyFauLqE3HmhmUkp32K1dpe7Zh7nabenyUAAABIBgaoEIsb+nIKntvka3F/ru5zDae9UOcKy5SvJSHiWtyXk1n3eRvTRuFiq37eoPfnGPHuWh0m5mr3Jlyfq6a+6RSVYmtmLlRTf5+INzdm6kpK+xSrpb3Ctg8aq96fJQAAAEgGBqgQi1vmeAr6VHhL0s1X1D/IccfceB8y5lm+ru8NfjBd0Jf/uPJqgtogSK1tFCa2et0zGG+7h4m52r0J0+caqVJszcyFauLoE3HmxkxdSWmfYrW0V9j2QWPV+7MEAAAAycAAFWJhmtL6oaws+SqdHeHLkq/1Q1mZMfS4VEq6azBbOE/puSRfq+ZmlbG8qn9VN+UrY3laPejKCLH0wzCk1YNu2Xpn6lo/VP68M+/fNdiYNgqK7UpjZtZZ+fZa0V+9PW//WFbpdPS4wsacKmr/MPcmqM9d/lX63u0fq9RHqn8fFFszc6Gaan2i3muMcq7iupLSPsWitFfU9kFjRel/AAAASC7D9/mLYhn+yMhIq2NoS54nvXne1PGplDw/v4/M4v6cbr7Ci/2BM5eTXjqb0kg2/0hiSLqmx9OqK3NKpSTfz3/8+LGplLKelPXzDzJpI78XyZL+nK7v9SM/tMyu1/VL6wp6v5FtVO3cnle9vbJZ6bnxlD6aNW49x/B0z2Au9sGp4pgneubq4AcflW2vINXa0/OkPRMpTXi/vaZ5KU/rrsrJskrbKyVpMueXlO8zDeUULbZm5kI15frElSlPZ11TOeWv+SrL09mcWVP7B52rUl1JaZ9iQe1VT/u0m0wmo9HR0VaHEVqU/ge0q3bLS6AbkJdANMPDw1KFraUZoCqPASqgifiHHUge8hJIHvISSB7yEoim2gBVK7dwAdBC3/m1lJ8/M3u6iicppy9+oiUhNZ3nS+8VzbhY3JfTgj5mXNSinvbkXqBe9CEAAID2xgAV0IXyg1Mz6/ZmP7mZkkx959fZjh+kmvSk/ROWxl1D3qw2OD1t6NAFX6sHXfWzS19o9bQn9wL1og8BAAC0P35dA7rMbwenDJXOrJx5LV0o15l8P/8wO+qalz3MSpInQ6Ouqf0TllgBHU497cm9QL3oQwAAAJ2BASqg66RiLtd+3p0yNO5WX/Mz7hp67yLrgsKopz25F6gXfQgAAKAzMEAFdB1TFfakm8VQJ/94ODaVKplpUcyToaOTnTtIF6d62pN7gXrRhwAAADpD5z6BAkAFbsilPmHLdbt62pN7gXrRhwAAADoDA1QAuo4VcqVP2HLdrp725F6gXvQhAACAzsAAFdB1PElBUwn8QrnOtLgvJzOgDUz5WtKfa1JE7a2e9uReoF70IQAAgM7AABXQdcI+pHXuw9yCPl/zrOoPtPMsX9f3siYojHrak3uBetGHAAAAOgMDVECX+eInJCmr/Cyp4ge2mdeyhXKdyTCk1YOuMpZXMvPClK+M5Wn1oCuDJUGh1NOe3AvUiz4EAADQGaxWBwCg+b74Cek7v85KSunycWpPUq6jB6dm9JvS+nmu3p0ydGwqJdfP71GzpD+n63t9HmYjqqc9uReoF30IAACg/TFABXSp/CBUTp28lC+IYUgL+30t7HdbHUpHqKc9uReoF30IAACgvbHEDwAAAAAAAC3FDKouMeVK+yZSmvB+OyY5aHpaP5iTFdALXE86eN7U8amUPF8yDemGvpxumeNJhvRe0ZKKxX05Lehr/ZIKz689tuJjTUmGfI25pjw/v0tTr+FrwJR6UtGuOUpc0znplbMpnc7md1YxJA2nPd0xN6dUqnnt0ei6Dp/N6p8nrFB1VTt3zq/cV80ahuPL5Y2U7w/pOutOqmr5HnSd9RzbjYLyKM48AwAAAJLO8H0+1aYMf2RkpNUxxObdKenls+nCd7OfavL3ftXcrBb0lT92wpX2jKXlljk2JeljKV/ncoa8We+Zyn+i0upBV/0teiid9KT9E5bG3eixVTpWl4aISoW95ihx/Wpa+uFE5ft212BWn+ypfK5az9uKuiZypnKzfhRVqqvaua9M+fowZxQWLF7eXpak9UNZDUYYkq+cN7PVVndSVcv3oOus59huFJRHt8919erZePKsVplMRqOjo409CYBIyEsgechLIJrh4WGpwgMWf9PucK4785BtqLQP5F97+WxabpktOzxv5oGz/LE5GfpNziwaxJE8GRp1Te2fsNSK8U/fzz/4jbrRY6t2bOVBinDXHCWuXG5mcKryffvhRFq5ENtH1dMezaorV1S+XF1B5/5NzlSuQnu5MrRnLC3PC45LCsqb+upOqqB8r3ad9RzbjcLk0Z6xdCx5BgAAALQLBqg63J6JcOvAnv9Nabk3z5uqZ6vZcdfQexebvw7l3SlD427181aKLcyxtdQbNa6Xzoa7by+fCy5XT3skqa56740r6a2Pwv3IC5s3tdSdVGHyvdJ11nNsNwrTl4Pas1U/XwEAAIBG4Wmhw+X3zgl6iDE0nivtCsenUiGOrcyToaOTETdKisGxqVSZ2U+XqxRbmGNrqTdqXCPZcPftl9PBKVxPeySprnrvjWToWMj+GC5vaqs7qcLle/nrrOfYbhSuL8eTZwAAAEC7YIAKFXkxLB9xW7AEJew5y5WLI95KdUSJK2wYYcrV0x5JqiuOexNHn25F3c0QNv5y5eo5thvF9XOxFT9fAQAAgEZhgAoVmTGsHrFasAIl7DnLlYsj3kp1RIkrbBhhytXTHkmqK457E0efbkXdzRA2/nLl6jm2G8X1c7EVP18BAACARmGAqsMNmp6C59n4mpcq3b34hr5ciGMrM+VrSX+IXbxjtrgvJzMg7kqxhTm2lnqjxjWcDnffrukJ3nW6nvZIUl313hvJ1+KQ/TFc3tRWd1KFy/fy11nPsd0oXF+OJ88AAACAdsEAVYdbPxjuAWbdVaXlbpnjqZ5PhZ9n+bq+t3lrUDxfOjlp6OhUKrBjF8cW5dgo9c62oC//8fBhjr9jbrj7turK4HJRzpvkusKUr8aSdPMV4T5GLmze1FJ3UoXJ90rXWc+x3ShMXw5qz2b/fAUAAAAajQGqDmdZ0qq5WeX/Gl/8MJN/bdXcrKwyT0OmKa0fysqqcGxKvq5KeSUzAUz5ylieVg+6Mpq0BGXSk54ft/RP5yyNTJuFj7uRQ9PjAAAULUlEQVTPxxkUW9hjq81oCHPNhiGtHnSVsYLbLJWS7hqsft/uGswqFWKP5CjnbVVdqaLy5eoKOvdVKU+pCu1lydf6oazMkD/xqudNfXUnVVC+V7vOeo7tRmHyaP1QNpY8AwAAANqF4fv8BbYMf2RkpNUxxMp1pT0TqcKnk+XNS3lad1Wu7ODUbJ6X/xj541MpeX5+H5nF/TndfIUnw8h/ZPqxqZRcP78nypL+nK7v9Zv28OT70p5xS6Nu5adfS74+nva1dODy2MIeO9/yZRq+Rl3z0kbPPYavAVPqSUW7Zt8P32a5nPTS2fyn+vnK7zl1TY+nVVfmQg1O1XreZtc10TNXBz/4KFRd1c7t+5X7ai2DI+XyRsqP7KfrrDupquV70HXWc2w3CsqjOPOsFplMRqOjo40/EYDQyEsgechLIJrh4WGpwnbKDFCV13EDVJ3s5KShfzpnVf3YdlO+fm+uqwV9l/f3eo5FfPiHHUge8hJIHvISSB7yEoim2gAVf9NG2zs2lao6wCRJngwdnSydclTPsQAAAAAAIB717IENJIIbcmJTuXL1HNsMni+9V7TEZ3FfTgv6mreEspvV0/7Fx6YkzbU8nc2ZynXovUxqf40zrqReIwAAANDuGKBC27NCPhSWK1fPsY026Un7JyyNu8Zls7xOTxs6dMHX6kFX/cyBbJh62r/SsSNZQ+rQe5nU/hpnXEm9RgAAAKAT8Ks02t7ivlzJJ10VM+VrSX8u1mMbyffzD8KjrlmyBNGToVHX1P4JS2wh1xj1tH+1Y4uXWnfKvUxqf40zrqReIwAAANApGKBC21vQ52ueVf2pcJ7l6/re0jL1HNtI704ZGnerT9sadw29d5E1RY1QT/uHOTZsXe0iqf01zriSeo0AAABAp2CACm3PMKTVg64yllcyG8qUr4zlafWgW3Z/mHqObSQ2b2+tRm+8H7audpHU/hpnXEm9RgAAAKBTsAcVOkK/Ka2f5+rdos2Ll/TndH1v9c2L6zm2UZK+eXuna8bG+3EdlwRJ7a9xxpXUawQAAAA6BQNU6BiGIS3s97Ww323qsY2Q5M3bu0EzNt6P67gkSGp/jTOupF4jAAAA0ClY4gckUFI3b+8Wjd54P2xd7SKp/TXOuJJ6jQAAAECnYIAKSKCkbt7eLRq98X7YutpFUvtrnHEl9RoBAACATsEAFZBASd28vVs0auN9dei9TGp/jTOupF4jAAAA0CnYgwpIqCRu3t5N4t54PyXpKsvT2ZzZkfcyqf01zriSeo0AAABAJ2CACkiwpG3e3m0as/G+F09wCZTU/hpnXEm9RgAAAKDdMUCFruR60sHzpo5PpeT5kmlIN/TldMscT2adC189X3qvaIbF4r6cFvSVn2FRHMvMFsuG8sdWiyvKuaZz0itnUzqdzS9QMiQNpz3dMTenVCraNTay/YoFXWPx+9OF8Z+0kS9ryNeZwjXXE2fQNTezTcqdK2N58nxDnhHc52aL2l8BAAAAoBEM32/Ohq62bW+VtEHSB47j3Fh4bZ6kZyQtlHRSku04zoRt24akr0u6W9IFSfc7jvNW4Zj7JP1PhWq/6jjOU4XXb5G0TVK/pN2S/sJxHL/SOQLC9UdGRuq/aCTShCvtGUsrP/9h9hO4L0vS+qGsBmscup30pP0TlsZdQ96suk3lN1hePeiqf9ZgReVYZisfV5Rz/Wpa+uFEulDi8muWpLsGs/pkT7hrbET7ZTIZjY6OlrwedI23z3X16tnS9y83MxxXe5xB1/zZuVn9+Gxj+lSUWBSiz80Wtb+iu1TKSwCtQ14CyUNeAtEMDw9LFR5+m/nosU3SuqLX/krSjxzHWSrpR4XvJWm9pKWFrwclfUO6NKD1N5JulbRS0t/Ytj1YOOYbhbIzx60LOAe6kOfNPNwbKs0JQ64M7RlLy6thFZbv5x/2R12zZLDEk6FR19T+CUszY8LVY6keV5Rz5XIzg1Plr1ky9MOJtHI5BWpk+xULc417xtJl3y+Oq544w1zzy2eb0yZBsVxWtkyfmy1qfwUAAACARmraAJXjOK9IGi96+fOSnir8/1OSNs56/TuO4/iO47wm6Srbtq+WtFbSPsdxxguzoPZJWld470rHcV51HMeX9J2iusqdA13ozfOmgnaOcSW99VH01Hh3ytC4W31N1Lhr6L2LRuhYKsUV5VwvnQ23fu/lc8Hlam0/15PeOGfqmQ/S+t6v03rmg7TeOGdWHbQJc4317AIU9j5HvU/1nKsRsYy6ht780CwZaIraXwEAAACgkVq9eOMTjuOclqTCfz9eeP0aSe/PKneq8Fq110+Veb3aOdCFjk+lVH22kiQZOjYZcVMmScemUgEzefIzU44W6g4XS/m4opxrJGuGOI+hX04H/ziopf0mXMk5k9bbkyld9A1lZeiib+jtyZSePpPWRIURlzDXGK39qsdZSdhrjuNc8cRSeu5DkyntGbc0OWtAMGp/BQAAAIBGSuom6eWemoo3kgnzemi2bT+o/BJBOY6jTCYT5XC0Cf/MuXA9wzAi9wHjw4/yO5EHMK20MpmrwsdSJq4o5wpTrlB54DVHbT/P8/S9/+98hVk/hlxJz4/3aPmwWXLusNdYlxD3uab7VOO5gtQei6FR19B/Pt+nP1p0hQzDiNxf6+X5vt455+rQb6aV9aS0Kf3uVT1aeqUlg93YE8myLP4tBBKGvASSh7wE4tPqAapf27Z9teM4pwvL9D4ovH5K0nWzyl0raaTw+h1Fr79UeP3aMuWrneMyjuN8S9K3Ct/6bHTXmQx/Zi+mAL4febND37UUZlKi52Y1OjoaPpYycUU5V/m9p8pWHnjNUdvvjXOmsn71WT9Z39eLv/xIN6Y/uryKkNdYlxD3uab7VOO5gtQbyweTOb31y3Et6PMj99d6VNqM/d3zF9iMPcHY9BVIHvISSB7yEoimsEl6Wa1+JHhO0n2F/79P0g9mvf5F27YN27Zvk3S2sDxvr6S7bNseLGyOfpekvYX3PrRt+7bCJwB+saiucudAF7qhL6fgKSi+FvdHn7mzuC8nM6BuU76WFOoOF0v5uKKcazjthTiPr2t6gnfxjtp+YZfHvX02W/JqmGusb2pTuPsc9prjOFc8sVQ2e8le1P5aKzZjBwAAABBG0waobNv+nqRXJS23bfuUbdt/IulvJa2xbfsdSWsK30vSbknHJR2V9KSkP5Ukx3HGJT0q6Y3C1/9SeE2S/r2kbxeOOSZpT+H1SudAF7pljhc4bdCSdPMV0T9ybUGfr3lW9afseZav63v90LFUiivKue6YG26AYdWVweWitp8XctChXLkw11jPFNCw9znqfarnXM2IxS00adT+Wis2YwcAAAAQhuHzZ+ty/JGRkeBSaEsTrrRnLF3YF2n2Q7EvS9L6oawGaxwFqLSUyZRfdilT5VhmKx9XlHP9alr64US6UOLya5akuwaz+mRPuGuM0n7PfJDWRT944KE/JW3OTJe8HnSNt8919erZ0vcvV7xNXfT7HHTNn52b1Y/PNqZPRYklzPK/a3o8fW4wf3TU/lqLH01YoTbgnx0XkoElC0DykJdA8pCXQDSFJX5lH1wYoCqPAaoO53nSm+dNHZ9KyfMl05AW9+d08xWezDofyH0/P2vk2FRKri9ZhrSkP6fre32V2wu6OJaZeUyG8sdWiyvKuXI56aWz+U/1mxnKuKbH06orc0pF/KC2sO33xjlTb08GLfPzdfO8npI9qMJeY/H7WS8/VJM28mUN+TpTuOZ67nPQNTeyT4WJZcDwNOFV/8RGU75+b66rBX2//bkftb9GtXfc0q+zwQ3wibSntfMYoEoSfuEGkoe8BJKHvASiYYAqOgaogBh4nvT0mbTcKoMmlnz9+ac+pvHx8YplEMz3pT3j+b2eKslYntbPc2MZeAqLGVTti1+4geQhL4HkIS+BaKoNULV6k3QAHcw088vbLPkq3dzblyVf64eyMuOeYtSFDENaPegqY3klm5+b8pWxPK0ebO7glNS8zdgBAAAAtLeYdkVB0rmedLBoSdANfTndMif+5UfN4vnSe0VLkxb35bSgL56lSbUqbmtDUibtSTKUU2mcnXhvZhu0pC3zs01Z/pbUPtEs/aa0fp7b0CV7US3o83Xogq/RKhulx7EZezvq9v4KAAAAzMYSv/I6aolfIzcFb5VmbO5ci7AbWM/EefPHXL040Vn3phZxTI1Oap8A96acdmgTliwAyUNeAslDXgLRsMSvi3nezICJodI+YMiVoT1jaXleK6Krje/nH+xGXbPkk9s8GRp1Te2fsNTssdegtr6sbCHOH0501r1plaT2CeTNzOz6V1e6uqbH0yfSnq7p8fR7c12tn9f6gZhmo78CAAAApbpgbkZ3e/O8qaBth11Jb31k6r/+WHuMhLw7ZWi8ynIhSRp3Db130bjs08oaLUxbR9Vu96ZVkton8FuGIS3s97Wwn43Q6a8AAABAqS77u3X3OT6VUrWPnc8zdGwy1YxwYnFsKlUy66CYJ0NHm3xN4dq6WGfdm1ZJap8AyqG/AgAAAKUYoOpwXsg/voctlwRuyFjDlotLo9qwne5NqyS1TwDl0F8BAACAUgxQdTgz5ISesOWSwAoZa9hycWlUG7bTvWmVpPYJoBz6KwAAAFCKAaoOd0NfTvlPkKvG1+L+XDPCicXivpzMgGsy5WtJk68pXFsX66x70ypJ7RNAOfRXAAAAoBQDVB3uljle4E74lqSbr2ifTbgX9OU/hr2aeZav63ubuz4mTFtH1W73plWS2ieAcuivAAAAQCkGqDqcaUrrh7Ky5Kt0to4vS77WD2VltlFPMAxp9aCrjOWVzEIw5StjeVo96Mpo9hK/gLa+rGwhzrsGO+vetEpS+wRQDv0VAAAAKGX4Pn+hLcMfGRlpdQyx8jzpzfOmjk+l5Pn5fY0W9+d08xVe2w6A+H7+49qPTaXk+vn9Wpb053R9r9/SB7vitjYkze/x5PuGciqNsxPvTVSZTEajo6N115PUPgGUk/T+GldeAogPeQkkD3kJRDM8PCxV+Dh7BqjK67gBKiDJ+IcdSB7yEkge8hJIHvISiKbaAFWXzM8AAAAAAABAUjFABQAAAAAAgJZigAoAAAAAAAAtxQAVAAAAAAAAWooBKgAAAAAAALQUA1QAAAAAAABoKQaoAAAAAAAA0FIMUAEAAAAAAKClGKACAAAAAABASzFABQAAAAAAgJZigAoAAAAAAAAtxQAVAAAAAAAAWooBKgAAAAAAALQUA1QAAAAAAABoKQaoAAAAAAAA0FIMUAEAAAAAAKClGKACAAAAAABASzFABQAAAAAAgJZigAoAAAAAAAAtxQAVAAAAAAAAWooBKgAAAAAAALSU4ft+q2NIIhoFAAAAAAAgfka5F5lBVZ7BF198Ne/Ltu03Wx0DX3zxdfkXeckXX8n7Ii/54it5X+QlX3zV9FUWA1QAAAAAAABoKQaoAAAAAAAA0FIMUAFIgm+1OgAAJchLIHnISyB5yEsgJmySDgAAAAAAgJZiBhUAAAAAAABaymp1AAC6l23b6yR9XVJK0rcdx/nbFocEdDXbtq+T9B1Jn5TkSfqW4zhfb21UACTJtu2UpP9X0i8dx9nQ6ngASLZtXyXp25JulORLesBxnFdbGxXQvphBBaAlCr9o/1+S1ktaIemPbNte0dqogK7nSvpLx3E+Jek2SX9GXgKJ8ReS3m51EAAu83VJzzuO8zuS/oXIUaAuzKAC0CorJR11HOe4JNm2/bSkz0s61NKogC7mOM5pSacL//+hbdtvS7pG5CXQUrZtXyvpv5H0mKT/vsXhAJBk2/aVkn5f0v2S5DjOtKTpVsYEtDsGqAC0yjWS3p/1/SlJt7YoFgBFbNteKOkmSQdaHAoA6WuS/gdJH2t1IAAuuUHSGUl/b9v2v5D0pqS/cBzno9aGBbQvlvgBaBWjzGt8rCiQALZtz5H0fUlfcRznXKvjAbqZbdsbJH3gOM6brY4FwGUsSTdL+objODdJ+kjSX7U2JKC9MUAFoFVOSbpu1vfXShppUSwACmzbTis/OPUPjuPsaHU8APRZSffatn1S0tOS/sC27f+ntSEBUP532VOO48zMNH5W+QErADVigApAq7whaalt24ts2+6RtEXScy2OCehqtm0bkv5vSW87jvN/tDoeAJLjOA87jnOt4zgLlf+38kXHcf5ti8MCup7jOL+S9L5t28sLL31O7NkI1IU9qAC0hOM4rm3bfy5pr6SUpK2O4/yixWEB3e6zkv6dpJ/Ztv3Phdf+g+M4u1sYEwAASfXfSvqHwh9bj0v64xbHA7Q1w/fZ8gUAAAAAAACtwxI/AAAAAAAAtBQDVAAAAAAAAGgpBqgAAAAAAADQUgxQAQAAAAAAoKUYoAIAAAAAAEBLMUAFAAAAAACAlrJaHQAAAACis237X0n6XyX9rqScpLclfcVxnDdaGhgAAEANGKACAABoM7ZtXylp1//fzh2iWAGFYRh+NbgGi1UU7CabzX5gFmAwG9yOQVDPAgyuYOyGAYPFYjKIiOka5m5g7oSfC8/TTvvyy8+pXlW7ulc9q/5N7gIAOJVABQBwfh5W7b3fH99/q89zcwAAbufO4XCY3gAAwA0cL6i+d31F9aG63Hv/ml0FAHA6gQoA4AyttR5Xb6rn1f3qU/Vy7/1zdBgAwAkEKgCAM7fWelS9q77tvS+m9wAA3NTd6QEAANzO3vuqels9GZ4CAHASn6QDAJyZ48XUi+rj3vvHWutBdVFdzi4DADiNCyoAgPPzu3pafVlr/ek6TH2tXo+uAgA4kT+oAAAAABjlggoAAACAUQIVAAAAAKMEKgAAAABGCVQAAAAAjBKoAAAAABglUAEAAAAwSqACAAAAYJRABQAAAMAogQoAAACAUf8BSosRsryiKh8AAAAASUVORK5CYII=\n",
          "text/plain": "<Figure size 1440x720 with 1 Axes>"
         },
         "metadata": {
          "needs_background": "light"
         },
         "output_type": "display_data"
        }
       ]
      }
     },
     "43cccefa45cd48a88aebbdc20852e28d": {
      "model_module": "@jupyter-widgets/base",
      "model_module_version": "1.2.0",
      "model_name": "LayoutModel",
      "state": {}
     },
     "444a17621f7e49d6bf94a808f50868b6": {
      "model_module": "@jupyter-widgets/controls",
      "model_module_version": "1.5.0",
      "model_name": "DescriptionStyleModel",
      "state": {
       "description_width": ""
      }
     },
     "470d8a49ea6344d5badea495dfe20e34": {
      "model_module": "@jupyter-widgets/controls",
      "model_module_version": "1.5.0",
      "model_name": "VBoxModel",
      "state": {
       "_dom_classes": [
        "widget-interact"
       ],
       "children": [
        "IPY_MODEL_838e18d2de7a4318a720fc98721b3193",
        "IPY_MODEL_8e8bfcfa05e24445b7f5373848971dac",
        "IPY_MODEL_d137a726d18c4c0c8e5b10ffc43440a4",
        "IPY_MODEL_43ab9acb0bda416f9d61d75cf9064559"
       ],
       "layout": "IPY_MODEL_6b819eeab35545d1bfcda5be971caed6"
      }
     },
     "49981818bbaf4c8b8c432ecb26827687": {
      "model_module": "@jupyter-widgets/base",
      "model_module_version": "1.2.0",
      "model_name": "LayoutModel",
      "state": {}
     },
     "49a7d3b1c7b54495baa58965add1ea93": {
      "model_module": "@jupyter-widgets/controls",
      "model_module_version": "1.5.0",
      "model_name": "DescriptionStyleModel",
      "state": {
       "description_width": ""
      }
     },
     "4a72a19120584ba9acad0dfca1e5fc9a": {
      "model_module": "@jupyter-widgets/base",
      "model_module_version": "1.2.0",
      "model_name": "LayoutModel",
      "state": {}
     },
     "4a99ef0f94a042e8813291b1207527c1": {
      "model_module": "@jupyter-widgets/controls",
      "model_module_version": "1.5.0",
      "model_name": "IntSliderModel",
      "state": {
       "description": "S",
       "layout": "IPY_MODEL_17db802fb5b84a43bfa7e77f7bf57604",
       "max": 200,
       "min": 17,
       "style": "IPY_MODEL_78c8b084c0114425a02233fc22981991",
       "value": 96
      }
     },
     "4d16fd21e39f47998e7fda6a3398548c": {
      "model_module": "@jupyter-widgets/controls",
      "model_module_version": "1.5.0",
      "model_name": "DescriptionStyleModel",
      "state": {
       "description_width": ""
      }
     },
     "4dc59aa69bd54601b1185d0327b3fe75": {
      "model_module": "@jupyter-widgets/controls",
      "model_module_version": "1.5.0",
      "model_name": "SliderStyleModel",
      "state": {
       "description_width": ""
      }
     },
     "4e9cf252b56e4014bfa985ff8403d52d": {
      "model_module": "@jupyter-widgets/controls",
      "model_module_version": "1.5.0",
      "model_name": "DropdownModel",
      "state": {
       "_options_labels": [
        "metro",
        "S",
        "rooms",
        "dist_to_metro",
        "type",
        "max_floor",
        "price"
       ],
       "description": "y",
       "index": 0,
       "layout": "IPY_MODEL_49981818bbaf4c8b8c432ecb26827687",
       "style": "IPY_MODEL_4d16fd21e39f47998e7fda6a3398548c"
      }
     },
     "4f49d055dff643e1830dd2db72cb6709": {
      "model_module": "@jupyter-widgets/base",
      "model_module_version": "1.2.0",
      "model_name": "LayoutModel",
      "state": {}
     },
     "500fc88f483449368123a03f9c7b3ca8": {
      "model_module": "@jupyter-widgets/base",
      "model_module_version": "1.2.0",
      "model_name": "LayoutModel",
      "state": {}
     },
     "501403b484bb492ba5db433c2849af9c": {
      "model_module": "@jupyter-widgets/controls",
      "model_module_version": "1.5.0",
      "model_name": "IntSliderModel",
      "state": {
       "description": "max_floor",
       "layout": "IPY_MODEL_9e74f4399b344c69bfbd61ad7b2e8137",
       "max": 88,
       "min": 3,
       "style": "IPY_MODEL_36a6934586da4729bad90e8621731557",
       "value": 50
      }
     },
     "508e7663774041e3bd451c0ccbbdd3fc": {
      "model_module": "@jupyter-widgets/controls",
      "model_module_version": "1.5.0",
      "model_name": "DescriptionStyleModel",
      "state": {
       "description_width": ""
      }
     },
     "50ec27f8827e417a9d2fb0317a5575b5": {
      "model_module": "@jupyter-widgets/base",
      "model_module_version": "1.2.0",
      "model_name": "LayoutModel",
      "state": {}
     },
     "52eec101bd464ce99f2c4f088d173bf2": {
      "model_module": "@jupyter-widgets/controls",
      "model_module_version": "1.5.0",
      "model_name": "DescriptionStyleModel",
      "state": {
       "description_width": ""
      }
     },
     "534d1186d65541e18ca5bd2117aabb65": {
      "model_module": "@jupyter-widgets/controls",
      "model_module_version": "1.5.0",
      "model_name": "DescriptionStyleModel",
      "state": {
       "description_width": ""
      }
     },
     "53a8c47c40434e6cafaa5ed8c22cbe29": {
      "model_module": "@jupyter-widgets/base",
      "model_module_version": "1.2.0",
      "model_name": "LayoutModel",
      "state": {}
     },
     "54fee9ad6fad417cbdaf8370997d82e8": {
      "model_module": "@jupyter-widgets/base",
      "model_module_version": "1.2.0",
      "model_name": "LayoutModel",
      "state": {}
     },
     "575398b5f5774efb8e3c7aa51a944c4d": {
      "model_module": "@jupyter-widgets/controls",
      "model_module_version": "1.5.0",
      "model_name": "DescriptionStyleModel",
      "state": {
       "description_width": ""
      }
     },
     "5757bab5e5bb4357a46c782591b0f37f": {
      "model_module": "@jupyter-widgets/base",
      "model_module_version": "1.2.0",
      "model_name": "LayoutModel",
      "state": {}
     },
     "58903dda5aca4d79b5ec7c62969d5d00": {
      "model_module": "@jupyter-widgets/controls",
      "model_module_version": "1.5.0",
      "model_name": "DropdownModel",
      "state": {
       "_options_labels": [
        "апарт.",
        "кв.",
        "Студия"
       ],
       "description": "typ",
       "index": 1,
       "layout": "IPY_MODEL_4f49d055dff643e1830dd2db72cb6709",
       "style": "IPY_MODEL_1c918e31abd545f3b2a65838438b7ffe"
      }
     },
     "58de1c94e12f4898b8a0b54e49edd2b6": {
      "model_module": "@jupyter-widgets/base",
      "model_module_version": "1.2.0",
      "model_name": "LayoutModel",
      "state": {}
     },
     "597657e514c0433bb7d5e4cdfd09a7e2": {
      "model_module": "@jupyter-widgets/controls",
      "model_module_version": "1.5.0",
      "model_name": "SliderStyleModel",
      "state": {
       "description_width": ""
      }
     },
     "5983bb36a02344f3933c6b1cf94c16ae": {
      "model_module": "@jupyter-widgets/controls",
      "model_module_version": "1.5.0",
      "model_name": "SliderStyleModel",
      "state": {
       "description_width": ""
      }
     },
     "5b22a11215854804ae0936dad7cd786e": {
      "model_module": "@jupyter-widgets/controls",
      "model_module_version": "1.5.0",
      "model_name": "SliderStyleModel",
      "state": {
       "description_width": ""
      }
     },
     "5c144596c5ea4f3ca4d391fc5ed8cf57": {
      "model_module": "@jupyter-widgets/output",
      "model_module_version": "1.0.0",
      "model_name": "OutputModel",
      "state": {
       "layout": "IPY_MODEL_88aedd5e475e493695d1a94e9da9d0ff",
       "outputs": [
        {
         "data": {
          "text/plain": "40000.0"
         },
         "metadata": {},
         "output_type": "display_data"
        }
       ]
      }
     },
     "5c8570652a4644698764dd1f2233d455": {
      "model_module": "@jupyter-widgets/controls",
      "model_module_version": "1.5.0",
      "model_name": "DropdownModel",
      "state": {
       "_options_labels": [
        "апарт.",
        "кв.",
        "Студия"
       ],
       "description": "typ",
       "index": 0,
       "layout": "IPY_MODEL_fab61e72d231424aae4a25b777262efb",
       "style": "IPY_MODEL_49a7d3b1c7b54495baa58965add1ea93"
      }
     },
     "5d66ab0f3cce4e90a276d0f2357c2e51": {
      "model_module": "@jupyter-widgets/controls",
      "model_module_version": "1.5.0",
      "model_name": "VBoxModel",
      "state": {
       "_dom_classes": [
        "widget-interact"
       ],
       "children": [
        "IPY_MODEL_6ea9cdeb3bac4673acb6cb77a47cbc6b",
        "IPY_MODEL_ecfcbad650eb46f1a1ea8f6cac50c866",
        "IPY_MODEL_e118111e980446b887d45e38862faf28",
        "IPY_MODEL_318c11180bf24f3ab5f02391b90a46be"
       ],
       "layout": "IPY_MODEL_7253fc4998c343a7ab5b78b656d94cf3"
      }
     },
     "5e86235eabbd404fb35aacc81973578e": {
      "model_module": "@jupyter-widgets/base",
      "model_module_version": "1.2.0",
      "model_name": "LayoutModel",
      "state": {}
     },
     "5f149aa98eb8415ea8da777863b30eb2": {
      "model_module": "@jupyter-widgets/base",
      "model_module_version": "1.2.0",
      "model_name": "LayoutModel",
      "state": {}
     },
     "5f3d9123630546aeb03fd3b122e1ae81": {
      "model_module": "@jupyter-widgets/controls",
      "model_module_version": "1.5.0",
      "model_name": "IntSliderModel",
      "state": {
       "description": "max_floor",
       "layout": "IPY_MODEL_fe0e73e987bd42ddb69c6143a766430c",
       "max": 88,
       "min": 3,
       "style": "IPY_MODEL_710b0fb101f24b12bd7e2b784e1e9428",
       "value": 45
      }
     },
     "5f96dee0e53a49ba8349c256e6dad676": {
      "model_module": "@jupyter-widgets/controls",
      "model_module_version": "1.5.0",
      "model_name": "IntSliderModel",
      "state": {
       "description": "dist_to_metro",
       "layout": "IPY_MODEL_cdba4f758f6c49dfad85b447e84a799c",
       "min": 1,
       "style": "IPY_MODEL_0c3e65493c2a48289bf6cf8c75db014a",
       "value": 50
      }
     },
     "6052602542924d12a896004765b0ff46": {
      "model_module": "@jupyter-widgets/controls",
      "model_module_version": "1.5.0",
      "model_name": "DescriptionStyleModel",
      "state": {
       "description_width": ""
      }
     },
     "608bffab25c44a50a11d9ad199c369e7": {
      "model_module": "@jupyter-widgets/base",
      "model_module_version": "1.2.0",
      "model_name": "LayoutModel",
      "state": {}
     },
     "61296b8dda7945cf91a5d3897e11e94e": {
      "model_module": "@jupyter-widgets/controls",
      "model_module_version": "1.5.0",
      "model_name": "IntSliderModel",
      "state": {
       "description": "k",
       "layout": "IPY_MODEL_ec06a36ff7c64500aca0894ad212295b",
       "max": 30,
       "min": 10,
       "style": "IPY_MODEL_c98537eec4964002b9ba76d90d123671",
       "value": 20
      }
     },
     "616f5a84794a4551bdbe629725f183dd": {
      "model_module": "@jupyter-widgets/base",
      "model_module_version": "1.2.0",
      "model_name": "LayoutModel",
      "state": {}
     },
     "61e1a981dd5d45e29ec5bf64e3a7669e": {
      "model_module": "@jupyter-widgets/base",
      "model_module_version": "1.2.0",
      "model_name": "LayoutModel",
      "state": {}
     },
     "62cdabad3e0840ea94f724b93682a1dd": {
      "model_module": "@jupyter-widgets/controls",
      "model_module_version": "1.5.0",
      "model_name": "DropdownModel",
      "state": {
       "_options_labels": [
        "lasso",
        "ridge",
        "knn",
        "DT"
       ],
       "description": "model",
       "index": 2,
       "layout": "IPY_MODEL_9e8e987f0a43433a9c66694a94bc490b",
       "style": "IPY_MODEL_41a84b5f9d54483c89b96a85155ae4d3"
      }
     },
     "62eb346d1ff6424bbe00ee1ae83bdc9b": {
      "model_module": "@jupyter-widgets/base",
      "model_module_version": "1.2.0",
      "model_name": "LayoutModel",
      "state": {}
     },
     "62ee59528fca4ab18e5e42c047e042d4": {
      "model_module": "@jupyter-widgets/controls",
      "model_module_version": "1.5.0",
      "model_name": "DescriptionStyleModel",
      "state": {
       "description_width": ""
      }
     },
     "645936d9faac4b95bc2ae56a5c7d2cb0": {
      "model_module": "@jupyter-widgets/output",
      "model_module_version": "1.0.0",
      "model_name": "OutputModel",
      "state": {
       "layout": "IPY_MODEL_fd018f37061b420f8bc6672549a69f09",
       "outputs": [
        {
         "name": "stdout",
         "output_type": "stream",
         "text": "\n"
        },
        {
         "ename": "IndexError",
         "evalue": "list index out of range",
         "output_type": "error",
         "traceback": [
          "\u001b[1;31m---------------------------------------------------------------------------\u001b[0m",
          "\u001b[1;31mIndexError\u001b[0m                                Traceback (most recent call last)",
          "\u001b[1;32m~\\anaconda3\\lib\\site-packages\\ipywidgets\\widgets\\interaction.py\u001b[0m in \u001b[0;36mupdate\u001b[1;34m(self, *args)\u001b[0m\n\u001b[0;32m    254\u001b[0m                     \u001b[0mvalue\u001b[0m \u001b[1;33m=\u001b[0m \u001b[0mwidget\u001b[0m\u001b[1;33m.\u001b[0m\u001b[0mget_interact_value\u001b[0m\u001b[1;33m(\u001b[0m\u001b[1;33m)\u001b[0m\u001b[1;33m\u001b[0m\u001b[1;33m\u001b[0m\u001b[0m\n\u001b[0;32m    255\u001b[0m                     \u001b[0mself\u001b[0m\u001b[1;33m.\u001b[0m\u001b[0mkwargs\u001b[0m\u001b[1;33m[\u001b[0m\u001b[0mwidget\u001b[0m\u001b[1;33m.\u001b[0m\u001b[0m_kwarg\u001b[0m\u001b[1;33m]\u001b[0m \u001b[1;33m=\u001b[0m \u001b[0mvalue\u001b[0m\u001b[1;33m\u001b[0m\u001b[1;33m\u001b[0m\u001b[0m\n\u001b[1;32m--> 256\u001b[1;33m                 \u001b[0mself\u001b[0m\u001b[1;33m.\u001b[0m\u001b[0mresult\u001b[0m \u001b[1;33m=\u001b[0m \u001b[0mself\u001b[0m\u001b[1;33m.\u001b[0m\u001b[0mf\u001b[0m\u001b[1;33m(\u001b[0m\u001b[1;33m**\u001b[0m\u001b[0mself\u001b[0m\u001b[1;33m.\u001b[0m\u001b[0mkwargs\u001b[0m\u001b[1;33m)\u001b[0m\u001b[1;33m\u001b[0m\u001b[1;33m\u001b[0m\u001b[0m\n\u001b[0m\u001b[0;32m    257\u001b[0m                 \u001b[0mshow_inline_matplotlib_plots\u001b[0m\u001b[1;33m(\u001b[0m\u001b[1;33m)\u001b[0m\u001b[1;33m\u001b[0m\u001b[1;33m\u001b[0m\u001b[0m\n\u001b[0;32m    258\u001b[0m                 \u001b[1;32mif\u001b[0m \u001b[0mself\u001b[0m\u001b[1;33m.\u001b[0m\u001b[0mauto_display\u001b[0m \u001b[1;32mand\u001b[0m \u001b[0mself\u001b[0m\u001b[1;33m.\u001b[0m\u001b[0mresult\u001b[0m \u001b[1;32mis\u001b[0m \u001b[1;32mnot\u001b[0m \u001b[1;32mNone\u001b[0m\u001b[1;33m:\u001b[0m\u001b[1;33m\u001b[0m\u001b[1;33m\u001b[0m\u001b[0m\n",
          "\u001b[1;32m<ipython-input-570-725c67e303a0>\u001b[0m in \u001b[0;36mvisualisation\u001b[1;34m(k, x, y)\u001b[0m\n\u001b[0;32m      4\u001b[0m     \u001b[0mprint\u001b[0m\u001b[1;33m(\u001b[0m\u001b[1;33m)\u001b[0m\u001b[1;33m\u001b[0m\u001b[1;33m\u001b[0m\u001b[0m\n\u001b[0;32m      5\u001b[0m     \u001b[0mdf5\u001b[0m\u001b[1;33m=\u001b[0m\u001b[0mdf4\u001b[0m\u001b[1;33m.\u001b[0m\u001b[0mcopy\u001b[0m\u001b[1;33m(\u001b[0m\u001b[1;33m)\u001b[0m\u001b[1;33m\u001b[0m\u001b[1;33m\u001b[0m\u001b[0m\n\u001b[1;32m----> 6\u001b[1;33m     \u001b[0mdf5\u001b[0m\u001b[1;33m[\u001b[0m\u001b[1;34m\"y\"\u001b[0m\u001b[1;33m]\u001b[0m\u001b[1;33m=\u001b[0m\u001b[0mpredicted\u001b[0m\u001b[1;33m[\u001b[0m\u001b[0mk\u001b[0m\u001b[1;33m-\u001b[0m\u001b[1;36m1\u001b[0m\u001b[1;33m]\u001b[0m\u001b[1;33m\u001b[0m\u001b[1;33m\u001b[0m\u001b[0m\n\u001b[0m\u001b[0;32m      7\u001b[0m     \u001b[0mq\u001b[0m\u001b[1;33m=\u001b[0m\u001b[1;36m0\u001b[0m\u001b[1;33m\u001b[0m\u001b[1;33m\u001b[0m\u001b[0m\n\u001b[0;32m      8\u001b[0m     \u001b[1;32mwhile\u001b[0m \u001b[1;33m(\u001b[0m\u001b[0mk\u001b[0m\u001b[1;33m>\u001b[0m\u001b[0mq\u001b[0m\u001b[1;33m)\u001b[0m\u001b[1;33m:\u001b[0m\u001b[1;33m\u001b[0m\u001b[1;33m\u001b[0m\u001b[0m\n",
          "\u001b[1;31mIndexError\u001b[0m: list index out of range"
         ]
        }
       ]
      }
     },
     "65656a4eebec486fa40acd238e129dc7": {
      "model_module": "@jupyter-widgets/controls",
      "model_module_version": "1.5.0",
      "model_name": "DescriptionStyleModel",
      "state": {
       "description_width": ""
      }
     },
     "65c0ce2e693040fd894b6b11faa42d3b": {
      "model_module": "@jupyter-widgets/base",
      "model_module_version": "1.2.0",
      "model_name": "LayoutModel",
      "state": {}
     },
     "68c3b20005974850b74947737ec35178": {
      "model_module": "@jupyter-widgets/base",
      "model_module_version": "1.2.0",
      "model_name": "LayoutModel",
      "state": {}
     },
     "6af535a08f8448b5b34c71bbecf6a374": {
      "model_module": "@jupyter-widgets/base",
      "model_module_version": "1.2.0",
      "model_name": "LayoutModel",
      "state": {}
     },
     "6b75ec99a44e48a3b5721caaf50e02ff": {
      "model_module": "@jupyter-widgets/base",
      "model_module_version": "1.2.0",
      "model_name": "LayoutModel",
      "state": {}
     },
     "6b819eeab35545d1bfcda5be971caed6": {
      "model_module": "@jupyter-widgets/base",
      "model_module_version": "1.2.0",
      "model_name": "LayoutModel",
      "state": {}
     },
     "6ea9cdeb3bac4673acb6cb77a47cbc6b": {
      "model_module": "@jupyter-widgets/controls",
      "model_module_version": "1.5.0",
      "model_name": "IntSliderModel",
      "state": {
       "description": "k",
       "layout": "IPY_MODEL_c1399703cd1743a0867d5248ce8780d5",
       "max": 10,
       "min": 5,
       "style": "IPY_MODEL_dd30b01147fb4ea7b80583fb8d208213",
       "value": 7
      }
     },
     "6f5e1f04bb764d41bc2db61d49d91cc3": {
      "model_module": "@jupyter-widgets/controls",
      "model_module_version": "1.5.0",
      "model_name": "DescriptionStyleModel",
      "state": {
       "description_width": ""
      }
     },
     "6f9923ee780541169deb75c39d18c565": {
      "model_module": "@jupyter-widgets/controls",
      "model_module_version": "1.5.0",
      "model_name": "DropdownModel",
      "state": {
       "_options_labels": [
        "lasso",
        "ridge",
        "knn",
        "DT"
       ],
       "description": "model",
       "index": 3,
       "layout": "IPY_MODEL_28cff5c5c97441aca7f8c3e599256bdb",
       "style": "IPY_MODEL_db3db218a7c641c3b326f346cecc44b7"
      }
     },
     "710b0fb101f24b12bd7e2b784e1e9428": {
      "model_module": "@jupyter-widgets/controls",
      "model_module_version": "1.5.0",
      "model_name": "SliderStyleModel",
      "state": {
       "description_width": ""
      }
     },
     "718be099563243b3a6f59efcd90cb07c": {
      "model_module": "@jupyter-widgets/output",
      "model_module_version": "1.0.0",
      "model_name": "OutputModel",
      "state": {
       "layout": "IPY_MODEL_68c3b20005974850b74947737ec35178",
       "outputs": [
        {
         "name": "stdout",
         "output_type": "stream",
         "text": "\n"
        },
        {
         "data": {
          "image/png": "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\n",
          "text/plain": "<Figure size 1440x720 with 1 Axes>"
         },
         "metadata": {
          "needs_background": "light"
         },
         "output_type": "display_data"
        }
       ]
      }
     },
     "7253fc4998c343a7ab5b78b656d94cf3": {
      "model_module": "@jupyter-widgets/base",
      "model_module_version": "1.2.0",
      "model_name": "LayoutModel",
      "state": {}
     },
     "73175e6f81224c5d91d55e69ae1f810c": {
      "model_module": "@jupyter-widgets/controls",
      "model_module_version": "1.5.0",
      "model_name": "SliderStyleModel",
      "state": {
       "description_width": ""
      }
     },
     "747743c06aa7497983c816619c9b920f": {
      "model_module": "@jupyter-widgets/controls",
      "model_module_version": "1.5.0",
      "model_name": "IntSliderModel",
      "state": {
       "description": "max_floor",
       "layout": "IPY_MODEL_01454590085a4cb5be939be6f322f564",
       "max": 88,
       "min": 3,
       "style": "IPY_MODEL_4dc59aa69bd54601b1185d0327b3fe75",
       "value": 70
      }
     },
     "78a501f427af4f858ebaa9e971d5cdad": {
      "model_module": "@jupyter-widgets/controls",
      "model_module_version": "1.5.0",
      "model_name": "IntSliderModel",
      "state": {
       "description": "S",
       "layout": "IPY_MODEL_b1e34c33b86343aa9cac58f45d365802",
       "max": 200,
       "min": 17,
       "style": "IPY_MODEL_c1ee93dde15044eabdd4750f334a7fe0",
       "value": 101
      }
     },
     "78c8b084c0114425a02233fc22981991": {
      "model_module": "@jupyter-widgets/controls",
      "model_module_version": "1.5.0",
      "model_name": "SliderStyleModel",
      "state": {
       "description_width": ""
      }
     },
     "798a99d48aef4da289fc0ee08bbd40c3": {
      "model_module": "@jupyter-widgets/controls",
      "model_module_version": "1.5.0",
      "model_name": "DescriptionStyleModel",
      "state": {
       "description_width": ""
      }
     },
     "79d2b41ecec84e1aa9f61866d5bb8023": {
      "model_module": "@jupyter-widgets/base",
      "model_module_version": "1.2.0",
      "model_name": "LayoutModel",
      "state": {}
     },
     "79f66f8aa29241a5ae52ebbb276081e8": {
      "model_module": "@jupyter-widgets/output",
      "model_module_version": "1.0.0",
      "model_name": "OutputModel",
      "state": {
       "layout": "IPY_MODEL_d6cebf91e3c941b598bac25ae5645cf5",
       "outputs": [
        {
         "data": {
          "text/plain": "174999.0"
         },
         "metadata": {},
         "output_type": "display_data"
        }
       ]
      }
     },
     "7bfc87d0907e47d996efb50fcda03128": {
      "model_module": "@jupyter-widgets/controls",
      "model_module_version": "1.5.0",
      "model_name": "SliderStyleModel",
      "state": {
       "description_width": ""
      }
     },
     "7d62e2b058db4fc3a0138c5f0fedd12d": {
      "model_module": "@jupyter-widgets/controls",
      "model_module_version": "1.5.0",
      "model_name": "VBoxModel",
      "state": {
       "_dom_classes": [
        "widget-interact"
       ],
       "children": [
        "IPY_MODEL_1d918ee648484ee2a0aa4a85aea1d443",
        "IPY_MODEL_8ba10a3749704b6fb0949d10d6368c83",
        "IPY_MODEL_82722783adf94c44a57fe9029002f068",
        "IPY_MODEL_c28cd80559d34cb69b279d4929caf857",
        "IPY_MODEL_29994dbcac2a45a79ea619a3ae857dac",
        "IPY_MODEL_0ed1c43594d74a3dba8c018e55a65262",
        "IPY_MODEL_6f9923ee780541169deb75c39d18c565",
        "IPY_MODEL_fe4038d2d6b44491a8b420225d184f8d"
       ],
       "layout": "IPY_MODEL_c14e60d4c8fa4f09944596ba59445b18"
      }
     },
     "80d967da2fe54054b576eeb076559523": {
      "model_module": "@jupyter-widgets/controls",
      "model_module_version": "1.5.0",
      "model_name": "IntSliderModel",
      "state": {
       "description": "dist_to_metro",
       "layout": "IPY_MODEL_fe472aae81544beeba89536f2b84bda0",
       "min": 1,
       "style": "IPY_MODEL_0e63cd4d5cbc4460984ddf0ee2ea1291",
       "value": 12
      }
     },
     "812356964c994f12964e716ad443ba53": {
      "model_module": "@jupyter-widgets/controls",
      "model_module_version": "1.5.0",
      "model_name": "DescriptionStyleModel",
      "state": {
       "description_width": ""
      }
     },
     "82722783adf94c44a57fe9029002f068": {
      "model_module": "@jupyter-widgets/controls",
      "model_module_version": "1.5.0",
      "model_name": "DropdownModel",
      "state": {
       "_options_labels": [
        "2"
       ],
       "description": "rooms",
       "index": 0,
       "layout": "IPY_MODEL_18e953f4213e4a7db4283d90c3b48f3c",
       "style": "IPY_MODEL_23e7a0a1aa5e4c928cd3d4382b5b0c89"
      }
     },
     "832ac58573eb47a2bd8ae57dfd8bba9c": {
      "model_module": "@jupyter-widgets/controls",
      "model_module_version": "1.5.0",
      "model_name": "VBoxModel",
      "state": {
       "_dom_classes": [
        "widget-interact"
       ],
       "children": [
        "IPY_MODEL_8ff2c10d179c4da7b3c4805fd5cdf97d",
        "IPY_MODEL_c31deb7bc3144088b25c228dca492ac6",
        "IPY_MODEL_c8da2678b09e4cb48476d270f7475a84",
        "IPY_MODEL_718be099563243b3a6f59efcd90cb07c"
       ],
       "layout": "IPY_MODEL_b02139b5aed74766b04aa06a12be95f1"
      }
     },
     "83482deb18514c08858b026721f3ed21": {
      "model_module": "@jupyter-widgets/base",
      "model_module_version": "1.2.0",
      "model_name": "LayoutModel",
      "state": {}
     },
     "838e18d2de7a4318a720fc98721b3193": {
      "model_module": "@jupyter-widgets/controls",
      "model_module_version": "1.5.0",
      "model_name": "IntSliderModel",
      "state": {
       "description": "k",
       "layout": "IPY_MODEL_43cccefa45cd48a88aebbdc20852e28d",
       "max": 10,
       "min": 5,
       "style": "IPY_MODEL_5983bb36a02344f3933c6b1cf94c16ae",
       "value": 9
      }
     },
     "83d6221686664d6c81894e53b2978174": {
      "model_module": "@jupyter-widgets/base",
      "model_module_version": "1.2.0",
      "model_name": "LayoutModel",
      "state": {}
     },
     "85aff3b8318c45db9ec1a787df79141c": {
      "model_module": "@jupyter-widgets/controls",
      "model_module_version": "1.5.0",
      "model_name": "DropdownModel",
      "state": {
       "_options_labels": [
        "2",
        "3",
        "Студия",
        "1",
        "4",
        "5",
        "6",
        "Апартаменты"
       ],
       "description": "rooms",
       "index": 5,
       "layout": "IPY_MODEL_aa30b624f4094c71951f845eacaf2b3e",
       "style": "IPY_MODEL_36067ad7b5e14112ba83f7e7144b8496"
      }
     },
     "88aedd5e475e493695d1a94e9da9d0ff": {
      "model_module": "@jupyter-widgets/base",
      "model_module_version": "1.2.0",
      "model_name": "LayoutModel",
      "state": {}
     },
     "8933aedb293143f1b8b1d003de130deb": {
      "model_module": "@jupyter-widgets/base",
      "model_module_version": "1.2.0",
      "model_name": "LayoutModel",
      "state": {}
     },
     "896ffaca815c4df1a335f8461b95af70": {
      "model_module": "@jupyter-widgets/base",
      "model_module_version": "1.2.0",
      "model_name": "LayoutModel",
      "state": {}
     },
     "89ab157482b54c699c0d19954112af33": {
      "model_module": "@jupyter-widgets/base",
      "model_module_version": "1.2.0",
      "model_name": "LayoutModel",
      "state": {}
     },
     "8a779688fc1246e99f01376a13c4362d": {
      "model_module": "@jupyter-widgets/controls",
      "model_module_version": "1.5.0",
      "model_name": "DropdownModel",
      "state": {
       "_options_labels": [
        "апарт.",
        "кв.",
        "Студия"
       ],
       "description": "typ",
       "index": 0,
       "layout": "IPY_MODEL_896ffaca815c4df1a335f8461b95af70",
       "style": "IPY_MODEL_6f5e1f04bb764d41bc2db61d49d91cc3"
      }
     },
     "8b6b46c49abc49c6b8df91718d1ec9d0": {
      "model_module": "@jupyter-widgets/base",
      "model_module_version": "1.2.0",
      "model_name": "LayoutModel",
      "state": {}
     },
     "8ba10a3749704b6fb0949d10d6368c83": {
      "model_module": "@jupyter-widgets/controls",
      "model_module_version": "1.5.0",
      "model_name": "IntSliderModel",
      "state": {
       "description": "S",
       "layout": "IPY_MODEL_a181543938e44c89996d50967cffd9ba",
       "max": 200,
       "min": 17,
       "style": "IPY_MODEL_1420a86704b14c9e9f35c0c44efecf42",
       "value": 132
      }
     },
     "8d97d1e6e28d4b7d986295713b8c4af6": {
      "model_module": "@jupyter-widgets/controls",
      "model_module_version": "1.5.0",
      "model_name": "VBoxModel",
      "state": {
       "_dom_classes": [
        "widget-interact"
       ],
       "children": [
        "IPY_MODEL_a31a95f4af004d1bba9891f883272f3e",
        "IPY_MODEL_24e43d6207404dca982c9994e91986ac",
        "IPY_MODEL_e0d3c2e4bab74604af3775873836f85a",
        "IPY_MODEL_96e15c3cfb6b4efa9fa5999a9a398b14"
       ],
       "layout": "IPY_MODEL_2748a38c23514d12af08fd77f830fa4a"
      }
     },
     "8debc36437834d4094f327b2e9eb84d8": {
      "model_module": "@jupyter-widgets/controls",
      "model_module_version": "1.5.0",
      "model_name": "SliderStyleModel",
      "state": {
       "description_width": ""
      }
     },
     "8e814c741b02400a8cec8c034656bb26": {
      "model_module": "@jupyter-widgets/controls",
      "model_module_version": "1.5.0",
      "model_name": "DropdownModel",
      "state": {
       "_options_labels": [
        "2",
        "3",
        "Студия",
        "1",
        "4",
        "5",
        "6",
        "Апартаменты"
       ],
       "description": "rooms",
       "index": 0,
       "layout": "IPY_MODEL_5757bab5e5bb4357a46c782591b0f37f",
       "style": "IPY_MODEL_0ce1f5402df148af98d7bbcb4797cb0d"
      }
     },
     "8e8bfcfa05e24445b7f5373848971dac": {
      "model_module": "@jupyter-widgets/controls",
      "model_module_version": "1.5.0",
      "model_name": "DropdownModel",
      "state": {
       "_options_labels": [
        "metro",
        "S",
        "rooms",
        "dist_to_metro",
        "type",
        "max_floor",
        "price"
       ],
       "description": "x",
       "index": 1,
       "layout": "IPY_MODEL_6b75ec99a44e48a3b5721caaf50e02ff",
       "style": "IPY_MODEL_a68652357b394c31b8b61e05237f6671"
      }
     },
     "8ff2c10d179c4da7b3c4805fd5cdf97d": {
      "model_module": "@jupyter-widgets/controls",
      "model_module_version": "1.5.0",
      "model_name": "IntSliderModel",
      "state": {
       "description": "k",
       "layout": "IPY_MODEL_d2efd38dd88d4ae0801c03d381c488c6",
       "max": 30,
       "min": 10,
       "style": "IPY_MODEL_b45847d8eae0439bbec1835a1d87c19f",
       "value": 10
      }
     },
     "900a559f351640f8b0491a31f9adc2e3": {
      "model_module": "@jupyter-widgets/base",
      "model_module_version": "1.2.0",
      "model_name": "LayoutModel",
      "state": {}
     },
     "90d50e38154049098c6d7cc77b1729e6": {
      "model_module": "@jupyter-widgets/base",
      "model_module_version": "1.2.0",
      "model_name": "LayoutModel",
      "state": {}
     },
     "949667ecc3714f11a346a1744e5998fa": {
      "model_module": "@jupyter-widgets/base",
      "model_module_version": "1.2.0",
      "model_name": "LayoutModel",
      "state": {}
     },
     "96e15c3cfb6b4efa9fa5999a9a398b14": {
      "model_module": "@jupyter-widgets/output",
      "model_module_version": "1.0.0",
      "model_name": "OutputModel",
      "state": {
       "layout": "IPY_MODEL_063c548a91be4c25a0b8c9612c7af02e",
       "outputs": [
        {
         "name": "stdout",
         "output_type": "stream",
         "text": "\n"
        },
        {
         "data": {
          "image/png": "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\n",
          "text/plain": "<Figure size 1440x720 with 1 Axes>"
         },
         "metadata": {
          "needs_background": "light"
         },
         "output_type": "display_data"
        }
       ]
      }
     },
     "98d2de1f5ab747db834196b1d0441c74": {
      "model_module": "@jupyter-widgets/controls",
      "model_module_version": "1.5.0",
      "model_name": "IntSliderModel",
      "state": {
       "description": "S",
       "layout": "IPY_MODEL_90d50e38154049098c6d7cc77b1729e6",
       "max": 200,
       "min": 17,
       "style": "IPY_MODEL_08e6725310a8406ab10e80d1b03d5db1",
       "value": 111
      }
     },
     "9ca17dd1e4ae4227b604a3b55c546514": {
      "model_module": "@jupyter-widgets/base",
      "model_module_version": "1.2.0",
      "model_name": "LayoutModel",
      "state": {}
     },
     "9cce71a42d764578b7ecc84f308b20c4": {
      "model_module": "@jupyter-widgets/output",
      "model_module_version": "1.0.0",
      "model_name": "OutputModel",
      "state": {
       "layout": "IPY_MODEL_c6f43a5f39824a3ab7cbd2a506718b90",
       "outputs": [
        {
         "data": {
          "text/plain": "71900.0"
         },
         "metadata": {},
         "output_type": "display_data"
        }
       ]
      }
     },
     "9d7bbe5a5981412198c6ccd69192cf35": {
      "model_module": "@jupyter-widgets/base",
      "model_module_version": "1.2.0",
      "model_name": "LayoutModel",
      "state": {}
     },
     "9e74f4399b344c69bfbd61ad7b2e8137": {
      "model_module": "@jupyter-widgets/base",
      "model_module_version": "1.2.0",
      "model_name": "LayoutModel",
      "state": {}
     },
     "9e8e987f0a43433a9c66694a94bc490b": {
      "model_module": "@jupyter-widgets/base",
      "model_module_version": "1.2.0",
      "model_name": "LayoutModel",
      "state": {}
     },
     "9f00ea787b1644f1b21d03e86dd7e573": {
      "model_module": "@jupyter-widgets/base",
      "model_module_version": "1.2.0",
      "model_name": "LayoutModel",
      "state": {}
     },
     "a181543938e44c89996d50967cffd9ba": {
      "model_module": "@jupyter-widgets/base",
      "model_module_version": "1.2.0",
      "model_name": "LayoutModel",
      "state": {}
     },
     "a1bd5c662579495abacad768e0b5bc43": {
      "model_module": "@jupyter-widgets/controls",
      "model_module_version": "1.5.0",
      "model_name": "SliderStyleModel",
      "state": {
       "description_width": ""
      }
     },
     "a2e11abd0a4a4e39a4a30431e36688da": {
      "model_module": "@jupyter-widgets/base",
      "model_module_version": "1.2.0",
      "model_name": "LayoutModel",
      "state": {}
     },
     "a2e939f82e634f599d15daed96005a20": {
      "model_module": "@jupyter-widgets/controls",
      "model_module_version": "1.5.0",
      "model_name": "DropdownModel",
      "state": {
       "_options_labels": [
        "metro",
        "S",
        "rooms",
        "dist_to_metro",
        "type",
        "max_floor",
        "price"
       ],
       "description": "x",
       "index": 0,
       "layout": "IPY_MODEL_5e86235eabbd404fb35aacc81973578e",
       "style": "IPY_MODEL_65656a4eebec486fa40acd238e129dc7"
      }
     },
     "a31a95f4af004d1bba9891f883272f3e": {
      "model_module": "@jupyter-widgets/controls",
      "model_module_version": "1.5.0",
      "model_name": "IntSliderModel",
      "state": {
       "description": "k",
       "layout": "IPY_MODEL_a2e11abd0a4a4e39a4a30431e36688da",
       "max": 10,
       "min": 1,
       "style": "IPY_MODEL_5b22a11215854804ae0936dad7cd786e",
       "value": 10
      }
     },
     "a4ab9210c9cc43c384d0502b47ba13f4": {
      "model_module": "@jupyter-widgets/controls",
      "model_module_version": "1.5.0",
      "model_name": "DescriptionStyleModel",
      "state": {
       "description_width": ""
      }
     },
     "a4f615881d8e4359b596e1d5c27f04ff": {
      "model_module": "@jupyter-widgets/base",
      "model_module_version": "1.2.0",
      "model_name": "LayoutModel",
      "state": {}
     },
     "a68652357b394c31b8b61e05237f6671": {
      "model_module": "@jupyter-widgets/controls",
      "model_module_version": "1.5.0",
      "model_name": "DescriptionStyleModel",
      "state": {
       "description_width": ""
      }
     },
     "a7434984d71f41dc859bec730efabcce": {
      "model_module": "@jupyter-widgets/controls",
      "model_module_version": "1.5.0",
      "model_name": "IntSliderModel",
      "state": {
       "description": "max_floor",
       "layout": "IPY_MODEL_89ab157482b54c699c0d19954112af33",
       "max": 88,
       "min": 3,
       "style": "IPY_MODEL_73175e6f81224c5d91d55e69ae1f810c",
       "value": 45
      }
     },
     "a817dff687cc4710907913a6a2375da8": {
      "model_module": "@jupyter-widgets/controls",
      "model_module_version": "1.5.0",
      "model_name": "DropdownModel",
      "state": {
       "_options_labels": [
        "2",
        "3",
        "Студия",
        "1",
        "4",
        "5",
        "6",
        "Апартаменты"
       ],
       "description": "rooms",
       "index": 0,
       "layout": "IPY_MODEL_3bb6732aa1ea4c5ebd3d992f035d37a1",
       "style": "IPY_MODEL_b5fbeac4e161425fa776826bfd2d6490"
      }
     },
     "a85cdc2d6ab84413a209b3c9d95cb8f0": {
      "model_module": "@jupyter-widgets/controls",
      "model_module_version": "1.5.0",
      "model_name": "DescriptionStyleModel",
      "state": {
       "description_width": ""
      }
     },
     "aa30b624f4094c71951f845eacaf2b3e": {
      "model_module": "@jupyter-widgets/base",
      "model_module_version": "1.2.0",
      "model_name": "LayoutModel",
      "state": {}
     },
     "ac1f0e4b62224da7844fb5333cab3ba6": {
      "model_module": "@jupyter-widgets/controls",
      "model_module_version": "1.5.0",
      "model_name": "DescriptionStyleModel",
      "state": {
       "description_width": ""
      }
     },
     "ada72d090a774b36b6bb25c187e4d855": {
      "model_module": "@jupyter-widgets/controls",
      "model_module_version": "1.5.0",
      "model_name": "DescriptionStyleModel",
      "state": {
       "description_width": ""
      }
     },
     "af2e4768a061452f9c938174267ff97b": {
      "model_module": "@jupyter-widgets/controls",
      "model_module_version": "1.5.0",
      "model_name": "DropdownModel",
      "state": {
       "_options_labels": [
        "lasso",
        "ridge",
        "knn",
        "DT"
       ],
       "description": "model",
       "index": 2,
       "layout": "IPY_MODEL_83d6221686664d6c81894e53b2978174",
       "style": "IPY_MODEL_c4dafa7ae42546f6a775946f36e7a094"
      }
     },
     "b02139b5aed74766b04aa06a12be95f1": {
      "model_module": "@jupyter-widgets/base",
      "model_module_version": "1.2.0",
      "model_name": "LayoutModel",
      "state": {}
     },
     "b0612fce31b74aa09d1b70724f1a8835": {
      "model_module": "@jupyter-widgets/controls",
      "model_module_version": "1.5.0",
      "model_name": "DropdownModel",
      "state": {
       "_options_labels": [
        "lasso",
        "ridge",
        "knn",
        "DT"
       ],
       "description": "model",
       "index": 1,
       "layout": "IPY_MODEL_0e59619a62fd4577a58f4cc7718c5520",
       "style": "IPY_MODEL_a85cdc2d6ab84413a209b3c9d95cb8f0"
      }
     },
     "b1399b7b45594f658a92bd97bbb6c2b8": {
      "model_module": "@jupyter-widgets/base",
      "model_module_version": "1.2.0",
      "model_name": "LayoutModel",
      "state": {}
     },
     "b1e34c33b86343aa9cac58f45d365802": {
      "model_module": "@jupyter-widgets/base",
      "model_module_version": "1.2.0",
      "model_name": "LayoutModel",
      "state": {}
     },
     "b34dbf865f8c49469d9fd46fd1a5f63d": {
      "model_module": "@jupyter-widgets/controls",
      "model_module_version": "1.5.0",
      "model_name": "DescriptionStyleModel",
      "state": {
       "description_width": ""
      }
     },
     "b45847d8eae0439bbec1835a1d87c19f": {
      "model_module": "@jupyter-widgets/controls",
      "model_module_version": "1.5.0",
      "model_name": "SliderStyleModel",
      "state": {
       "description_width": ""
      }
     },
     "b45ce85af7a24f20b9f5367e2e3e8279": {
      "model_module": "@jupyter-widgets/controls",
      "model_module_version": "1.5.0",
      "model_name": "SliderStyleModel",
      "state": {
       "description_width": ""
      }
     },
     "b5fbeac4e161425fa776826bfd2d6490": {
      "model_module": "@jupyter-widgets/controls",
      "model_module_version": "1.5.0",
      "model_name": "DescriptionStyleModel",
      "state": {
       "description_width": ""
      }
     },
     "b68d6097a4ef42ae80c85bc7e989bf73": {
      "model_module": "@jupyter-widgets/base",
      "model_module_version": "1.2.0",
      "model_name": "LayoutModel",
      "state": {}
     },
     "b692be53560e47f6a17037fa1f447f05": {
      "model_module": "@jupyter-widgets/base",
      "model_module_version": "1.2.0",
      "model_name": "LayoutModel",
      "state": {}
     },
     "b8ae427314bd47bd82fabc3626fa009e": {
      "model_module": "@jupyter-widgets/controls",
      "model_module_version": "1.5.0",
      "model_name": "DropdownModel",
      "state": {
       "_options_labels": [
        "Международная",
        "Деловой центр",
        "Люблино",
        "Владыкино",
        "Кузьминки",
        "Тестовская",
        "Парк Культуры",
        "Октябрьское поле",
        "Молодежная",
        "Маяковская",
        "Библиотека им. Ленина",
        "Шаболовская",
        "Белорусская",
        "Курская",
        "Раменки",
        "Тверская",
        "Пушкинская",
        "Кропоткинская",
        "Смоленская",
        "Арбатская",
        "ЦСКА",
        "Водный стадион",
        "Охотный ряд",
        "Третьяковская",
        "Баррикадная",
        "Цветной бульвар",
        "Выставочная",
        "Динамо",
        "Фрунзенская",
        "Фили",
        "Кузнецкий мост",
        "Боровское шоссе",
        "Шелепиха",
        "Нахимовский проспект",
        "Преображенская площадь",
        "Академическая",
        "Пионерская",
        "Трубная",
        "Рижская",
        "Щелковская",
        "Лубянка",
        "Лужники",
        "Беломорская",
        "Сретенский бульвар",
        "Спортивная",
        "Комсомольская",
        "Университет",
        "Аэропорт",
        "Сокол",
        "Бульвар Рокоссовского",
        "Улица 1905 года",
        "Мичуринский проспект",
        "Ломоносовский проспект",
        "Тургеневская",
        "Киевская",
        "Менделеевская",
        "Царицыно",
        "Коломенская",
        "Чистые пруды",
        "Красный Балтиец",
        "Полянка",
        "Боровицкая",
        "Минская",
        "Достоевская",
        "Красные ворота",
        "Бунинская аллея",
        "Войковская",
        "Медведково",
        "Октябрьская",
        "Пролетарская",
        "Красносельская",
        "Петровский Парк",
        "Сокольники",
        "Кунцевская",
        "Красный Строитель",
        "Озерная",
        "Проспект Вернадского",
        "Новокузнецкая",
        "Бибирево",
        "Жулебино",
        "Чкаловская",
        "Савеловская",
        "Фонвизинская",
        "Гражданская",
        "Серпуховская",
        "Китай-город",
        "Улица Скобелевская",
        "Москва-Товарная",
        "Щукинская",
        "Говорово",
        "Таганская",
        "Добрынинская",
        "Домодедовская",
        "Технопарк",
        "Семеновская",
        "Римская",
        "Славянский бульвар",
        "Косино",
        "Братиславская",
        "Театральная",
        "Тропарево",
        "Крылатское",
        "Павелецкая",
        "Новослободская",
        "Юго-Западная",
        "Новые Черемушки",
        "Сухаревская",
        "Шипиловская",
        "Перово",
        "Селигерская",
        "Нижегородская",
        "Дмитровская",
        "Тимирязевская",
        "Беговая",
        "Филевский парк",
        "Воробьевы горы",
        "Бауманская",
        "Остафьево",
        "Речной вокзал",
        "Авиамоторная",
        "Свиблово",
        "Дубровка",
        "Панфиловская",
        "Проспект Мира",
        "Парк Победы",
        "Студенческая",
        "Хорошевская",
        "Профсоюзная",
        "Чеховская",
        "Крестьянская застава",
        "Чертановская",
        "Бульвар Дмитрия Донского",
        "Ясенево",
        "Окружная",
        "Алтуфьево",
        "Ленинский проспект",
        "Новогиреево",
        "Улица Академика Янгеля",
        "Измайлово",
        "Балтийская",
        "Строгино",
        "ЗИЛ",
        "ВДНХ",
        "Каховская",
        "Южная",
        "Полежаевская",
        "Ростокино",
        "Кутузовская",
        "Крымская",
        "Севастопольская",
        "Марьино",
        "Аннино",
        "Верхние котлы",
        "Нагатинская",
        "Рассказовка",
        "Кантемировская",
        "Митино",
        "Соколиная гора",
        "Алексеевская",
        "Спартак",
        "Ботанический сад",
        "Электрозаводская",
        "Краснопресненская"
       ],
       "description": "metro",
       "index": 0,
       "layout": "IPY_MODEL_9d7bbe5a5981412198c6ccd69192cf35",
       "style": "IPY_MODEL_0190e8046de140ceadf2f305214c92d9"
      }
     },
     "bd61083e551a4e2da08ecf2904eee818": {
      "model_module": "@jupyter-widgets/controls",
      "model_module_version": "1.5.0",
      "model_name": "IntSliderModel",
      "state": {
       "description": "dist_to_metro",
       "layout": "IPY_MODEL_608bffab25c44a50a11d9ad199c369e7",
       "min": 1,
       "style": "IPY_MODEL_b45ce85af7a24f20b9f5367e2e3e8279",
       "value": 44
      }
     },
     "bf2c6513ad654210861b99faa17ad171": {
      "model_module": "@jupyter-widgets/base",
      "model_module_version": "1.2.0",
      "model_name": "LayoutModel",
      "state": {}
     },
     "bfc5978b8b9144308d8b2e7adfee7172": {
      "model_module": "@jupyter-widgets/base",
      "model_module_version": "1.2.0",
      "model_name": "LayoutModel",
      "state": {}
     },
     "c1399703cd1743a0867d5248ce8780d5": {
      "model_module": "@jupyter-widgets/base",
      "model_module_version": "1.2.0",
      "model_name": "LayoutModel",
      "state": {}
     },
     "c14e60d4c8fa4f09944596ba59445b18": {
      "model_module": "@jupyter-widgets/base",
      "model_module_version": "1.2.0",
      "model_name": "LayoutModel",
      "state": {}
     },
     "c1ee93dde15044eabdd4750f334a7fe0": {
      "model_module": "@jupyter-widgets/controls",
      "model_module_version": "1.5.0",
      "model_name": "SliderStyleModel",
      "state": {
       "description_width": ""
      }
     },
     "c218bbd23c25434c842b38836d6a4a14": {
      "model_module": "@jupyter-widgets/base",
      "model_module_version": "1.2.0",
      "model_name": "LayoutModel",
      "state": {}
     },
     "c28cd80559d34cb69b279d4929caf857": {
      "model_module": "@jupyter-widgets/controls",
      "model_module_version": "1.5.0",
      "model_name": "IntSliderModel",
      "state": {
       "description": "dist_to_metro",
       "layout": "IPY_MODEL_900a559f351640f8b0491a31f9adc2e3",
       "min": 1,
       "style": "IPY_MODEL_41c3a271524241c4ab099e0528a0535a",
       "value": 70
      }
     },
     "c31deb7bc3144088b25c228dca492ac6": {
      "model_module": "@jupyter-widgets/controls",
      "model_module_version": "1.5.0",
      "model_name": "DropdownModel",
      "state": {
       "_options_labels": [
        "metro",
        "S",
        "rooms",
        "dist_to_metro",
        "type",
        "max_floor",
        "price"
       ],
       "description": "x",
       "index": 2,
       "layout": "IPY_MODEL_e0dabbf6ce844a34a74dfe383020f0bc",
       "style": "IPY_MODEL_12291ba354c149e6bb16e98900332a9c"
      }
     },
     "c37a9a69968744c0842ecdd25628cc42": {
      "model_module": "@jupyter-widgets/controls",
      "model_module_version": "1.5.0",
      "model_name": "SliderStyleModel",
      "state": {
       "description_width": ""
      }
     },
     "c4dafa7ae42546f6a775946f36e7a094": {
      "model_module": "@jupyter-widgets/controls",
      "model_module_version": "1.5.0",
      "model_name": "DescriptionStyleModel",
      "state": {
       "description_width": ""
      }
     },
     "c5f36cf21b2c4edcbb244f173809e85d": {
      "model_module": "@jupyter-widgets/controls",
      "model_module_version": "1.5.0",
      "model_name": "DescriptionStyleModel",
      "state": {
       "description_width": ""
      }
     },
     "c6daded5b2634c679d820e84c028a14f": {
      "model_module": "@jupyter-widgets/base",
      "model_module_version": "1.2.0",
      "model_name": "LayoutModel",
      "state": {}
     },
     "c6f43a5f39824a3ab7cbd2a506718b90": {
      "model_module": "@jupyter-widgets/base",
      "model_module_version": "1.2.0",
      "model_name": "LayoutModel",
      "state": {}
     },
     "c7c03ed9f9d84d8aaaf8e063cf7dbd25": {
      "model_module": "@jupyter-widgets/controls",
      "model_module_version": "1.5.0",
      "model_name": "DropdownModel",
      "state": {
       "_options_labels": [
        "апарт.",
        "кв.",
        "Студия"
       ],
       "description": "typ",
       "index": 2,
       "layout": "IPY_MODEL_fa3dd0d4c82a4152880979ff42eca15f",
       "style": "IPY_MODEL_11262dba088140ce9906561814d09cd2"
      }
     },
     "c7f779c8d52245a1ab0054c16e9eafe4": {
      "model_module": "@jupyter-widgets/controls",
      "model_module_version": "1.5.0",
      "model_name": "DropdownModel",
      "state": {
       "_options_labels": [
        "апарт.",
        "кв.",
        "Студия"
       ],
       "description": "typ",
       "index": 0,
       "layout": "IPY_MODEL_f8a6d5b12da84679b218cccd83f6f912",
       "style": "IPY_MODEL_f4033b5ff5fb4d9a8533a790116f0bdb"
      }
     },
     "c801827b9c1045c8947b49040cf81e98": {
      "model_module": "@jupyter-widgets/controls",
      "model_module_version": "1.5.0",
      "model_name": "SliderStyleModel",
      "state": {
       "description_width": ""
      }
     },
     "c8da2678b09e4cb48476d270f7475a84": {
      "model_module": "@jupyter-widgets/controls",
      "model_module_version": "1.5.0",
      "model_name": "DropdownModel",
      "state": {
       "_options_labels": [
        "metro",
        "S",
        "rooms",
        "dist_to_metro",
        "type",
        "max_floor",
        "price"
       ],
       "description": "y",
       "index": 0,
       "layout": "IPY_MODEL_bf2c6513ad654210861b99faa17ad171",
       "style": "IPY_MODEL_812356964c994f12964e716ad443ba53"
      }
     },
     "c98537eec4964002b9ba76d90d123671": {
      "model_module": "@jupyter-widgets/controls",
      "model_module_version": "1.5.0",
      "model_name": "SliderStyleModel",
      "state": {
       "description_width": ""
      }
     },
     "cc766bb0a89549d6b424282b692f4186": {
      "model_module": "@jupyter-widgets/controls",
      "model_module_version": "1.5.0",
      "model_name": "IntSliderModel",
      "state": {
       "description": "S",
       "layout": "IPY_MODEL_19f184c22fa14ce3b6c8b3819d9dcceb",
       "max": 200,
       "min": 17,
       "style": "IPY_MODEL_d7eda6eb2d8449a48fb8fe5270291559",
       "value": 119
      }
     },
     "cd9ae2d7960f4cb1b68dde58e2496bc4": {
      "model_module": "@jupyter-widgets/base",
      "model_module_version": "1.2.0",
      "model_name": "LayoutModel",
      "state": {}
     },
     "cdba4f758f6c49dfad85b447e84a799c": {
      "model_module": "@jupyter-widgets/base",
      "model_module_version": "1.2.0",
      "model_name": "LayoutModel",
      "state": {}
     },
     "cf9282d366c04206b2a91c7517b37114": {
      "model_module": "@jupyter-widgets/controls",
      "model_module_version": "1.5.0",
      "model_name": "IntSliderModel",
      "state": {
       "description": "S",
       "layout": "IPY_MODEL_11a9a5879554481082b3329fad91c5e3",
       "max": 200,
       "min": 17,
       "style": "IPY_MODEL_40dcdf5b9b09468ab139b6bfc7f75bee",
       "value": 37
      }
     },
     "d137a726d18c4c0c8e5b10ffc43440a4": {
      "model_module": "@jupyter-widgets/controls",
      "model_module_version": "1.5.0",
      "model_name": "DropdownModel",
      "state": {
       "_options_labels": [
        "metro",
        "S",
        "rooms",
        "dist_to_metro",
        "type",
        "max_floor",
        "price"
       ],
       "description": "y",
       "index": 6,
       "layout": "IPY_MODEL_27c9545ffc89444fa0826bd8ae199677",
       "style": "IPY_MODEL_3dcbf22f0d814e5080c2017a08b6616d"
      }
     },
     "d2efd38dd88d4ae0801c03d381c488c6": {
      "model_module": "@jupyter-widgets/base",
      "model_module_version": "1.2.0",
      "model_name": "LayoutModel",
      "state": {}
     },
     "d3b7f8942269458e9b2c939ca664ac2c": {
      "model_module": "@jupyter-widgets/base",
      "model_module_version": "1.2.0",
      "model_name": "LayoutModel",
      "state": {}
     },
     "d6cebf91e3c941b598bac25ae5645cf5": {
      "model_module": "@jupyter-widgets/base",
      "model_module_version": "1.2.0",
      "model_name": "LayoutModel",
      "state": {}
     },
     "d7eda6eb2d8449a48fb8fe5270291559": {
      "model_module": "@jupyter-widgets/controls",
      "model_module_version": "1.5.0",
      "model_name": "SliderStyleModel",
      "state": {
       "description_width": ""
      }
     },
     "da084eb52da14049b332ffcbb4cbe63e": {
      "model_module": "@jupyter-widgets/controls",
      "model_module_version": "1.5.0",
      "model_name": "IntSliderModel",
      "state": {
       "description": "S",
       "layout": "IPY_MODEL_1dfe1771eee3472883bb83c9f5bf0bf8",
       "max": 200,
       "min": 17,
       "style": "IPY_MODEL_f5904c77713142f5a0b79b5211cea31a",
       "value": 115
      }
     },
     "dafb4448a8314576a022c323e189be63": {
      "model_module": "@jupyter-widgets/controls",
      "model_module_version": "1.5.0",
      "model_name": "DescriptionStyleModel",
      "state": {
       "description_width": ""
      }
     },
     "db3db218a7c641c3b326f346cecc44b7": {
      "model_module": "@jupyter-widgets/controls",
      "model_module_version": "1.5.0",
      "model_name": "DescriptionStyleModel",
      "state": {
       "description_width": ""
      }
     },
     "dbac0b5c4d1542fda3afc65636f97cb9": {
      "model_module": "@jupyter-widgets/base",
      "model_module_version": "1.2.0",
      "model_name": "LayoutModel",
      "state": {}
     },
     "dbf813e049514d38a9df67c1883e7cc4": {
      "model_module": "@jupyter-widgets/controls",
      "model_module_version": "1.5.0",
      "model_name": "IntSliderModel",
      "state": {
       "description": "S",
       "layout": "IPY_MODEL_0be8117e169d45c0bfe2337bfdfe01e2",
       "max": 200,
       "min": 17,
       "style": "IPY_MODEL_597657e514c0433bb7d5e4cdfd09a7e2",
       "value": 49
      }
     },
     "dd30b01147fb4ea7b80583fb8d208213": {
      "model_module": "@jupyter-widgets/controls",
      "model_module_version": "1.5.0",
      "model_name": "SliderStyleModel",
      "state": {
       "description_width": ""
      }
     },
     "e0d3c2e4bab74604af3775873836f85a": {
      "model_module": "@jupyter-widgets/controls",
      "model_module_version": "1.5.0",
      "model_name": "DropdownModel",
      "state": {
       "_options_labels": [
        "metro",
        "S",
        "rooms",
        "dist_to_metro",
        "type",
        "max_floor",
        "price"
       ],
       "description": "y",
       "index": 6,
       "layout": "IPY_MODEL_e52293da23a84c6683eaad13802c6441",
       "style": "IPY_MODEL_ada72d090a774b36b6bb25c187e4d855"
      }
     },
     "e0dabbf6ce844a34a74dfe383020f0bc": {
      "model_module": "@jupyter-widgets/base",
      "model_module_version": "1.2.0",
      "model_name": "LayoutModel",
      "state": {}
     },
     "e118111e980446b887d45e38862faf28": {
      "model_module": "@jupyter-widgets/controls",
      "model_module_version": "1.5.0",
      "model_name": "DropdownModel",
      "state": {
       "_options_labels": [
        "metro",
        "S",
        "rooms",
        "dist_to_metro",
        "type",
        "max_floor",
        "price"
       ],
       "description": "y",
       "index": 1,
       "layout": "IPY_MODEL_f2c3eeb011894882bd569b76c097ba41",
       "style": "IPY_MODEL_339e1a4aa1e24a3ea602ce44c5bd8c49"
      }
     },
     "e1b7dd7d6f364ecb9a653823af7b78a9": {
      "model_module": "@jupyter-widgets/controls",
      "model_module_version": "1.5.0",
      "model_name": "VBoxModel",
      "state": {
       "_dom_classes": [
        "widget-interact"
       ],
       "children": [
        "IPY_MODEL_b8ae427314bd47bd82fabc3626fa009e",
        "IPY_MODEL_dbf813e049514d38a9df67c1883e7cc4",
        "IPY_MODEL_a817dff687cc4710907913a6a2375da8",
        "IPY_MODEL_2b690f24e6794875b3dcd5b5a86243fd",
        "IPY_MODEL_5c8570652a4644698764dd1f2233d455",
        "IPY_MODEL_5f3d9123630546aeb03fd3b122e1ae81",
        "IPY_MODEL_5c144596c5ea4f3ca4d391fc5ed8cf57"
       ],
       "layout": "IPY_MODEL_100074b886a3442b88c346a1846ef82d"
      }
     },
     "e4e941ad11cd442ca445d2cf815df068": {
      "model_module": "@jupyter-widgets/controls",
      "model_module_version": "1.5.0",
      "model_name": "IntSliderModel",
      "state": {
       "description": "dist_to_metro",
       "layout": "IPY_MODEL_62eb346d1ff6424bbe00ee1ae83bdc9b",
       "min": 1,
       "style": "IPY_MODEL_c801827b9c1045c8947b49040cf81e98",
       "value": 39
      }
     },
     "e5040b70242d43eb8ce046d973659495": {
      "model_module": "@jupyter-widgets/base",
      "model_module_version": "1.2.0",
      "model_name": "LayoutModel",
      "state": {}
     },
     "e52293da23a84c6683eaad13802c6441": {
      "model_module": "@jupyter-widgets/base",
      "model_module_version": "1.2.0",
      "model_name": "LayoutModel",
      "state": {}
     },
     "e58071ecfc8a45b1bae65afff76cd183": {
      "model_module": "@jupyter-widgets/base",
      "model_module_version": "1.2.0",
      "model_name": "LayoutModel",
      "state": {}
     },
     "e96efa8cead446c9b279480fd8f3387a": {
      "model_module": "@jupyter-widgets/controls",
      "model_module_version": "1.5.0",
      "model_name": "DropdownModel",
      "state": {
       "_options_labels": [
        "2",
        "3",
        "4",
        "1",
        "5",
        "6"
       ],
       "description": "rooms",
       "index": 0,
       "layout": "IPY_MODEL_79d2b41ecec84e1aa9f61866d5bb8023",
       "style": "IPY_MODEL_a4ab9210c9cc43c384d0502b47ba13f4"
      }
     },
     "ec06a36ff7c64500aca0894ad212295b": {
      "model_module": "@jupyter-widgets/base",
      "model_module_version": "1.2.0",
      "model_name": "LayoutModel",
      "state": {}
     },
     "ecfcbad650eb46f1a1ea8f6cac50c866": {
      "model_module": "@jupyter-widgets/controls",
      "model_module_version": "1.5.0",
      "model_name": "DropdownModel",
      "state": {
       "_options_labels": [
        "metro",
        "S",
        "rooms",
        "dist_to_metro",
        "type",
        "max_floor",
        "price"
       ],
       "description": "x",
       "index": 6,
       "layout": "IPY_MODEL_f076b73834654376aecda06570561c4f",
       "style": "IPY_MODEL_62ee59528fca4ab18e5e42c047e042d4"
      }
     },
     "eda2b2b5f9614cecad681b2b8ae3abf9": {
      "model_module": "@jupyter-widgets/controls",
      "model_module_version": "1.5.0",
      "model_name": "DescriptionStyleModel",
      "state": {
       "description_width": ""
      }
     },
     "edbe0ead3920418f860c28cafcf931f6": {
      "model_module": "@jupyter-widgets/controls",
      "model_module_version": "1.5.0",
      "model_name": "DropdownModel",
      "state": {
       "_options_labels": [
        "2",
        "3",
        "Студия",
        "1",
        "4",
        "5",
        "6",
        "Апартаменты"
       ],
       "description": "rooms",
       "index": 0,
       "layout": "IPY_MODEL_949667ecc3714f11a346a1744e5998fa",
       "style": "IPY_MODEL_ac1f0e4b62224da7844fb5333cab3ba6"
      }
     },
     "f076b73834654376aecda06570561c4f": {
      "model_module": "@jupyter-widgets/base",
      "model_module_version": "1.2.0",
      "model_name": "LayoutModel",
      "state": {}
     },
     "f0e66969e36442da870c230cfc05ffd9": {
      "model_module": "@jupyter-widgets/base",
      "model_module_version": "1.2.0",
      "model_name": "LayoutModel",
      "state": {}
     },
     "f14da7a8358d4e179259783bbeec430f": {
      "model_module": "@jupyter-widgets/controls",
      "model_module_version": "1.5.0",
      "model_name": "DropdownModel",
      "state": {
       "_options_labels": [
        "Международная",
        "Деловой центр",
        "Люблино",
        "Владыкино",
        "Кузьминки",
        "Тестовская",
        "Парк Культуры",
        "Октябрьское поле",
        "Молодежная",
        "Маяковская",
        "Библиотека им. Ленина",
        "Шаболовская",
        "Белорусская",
        "Курская",
        "Раменки",
        "Тверская",
        "Пушкинская",
        "Кропоткинская",
        "Смоленская",
        "Арбатская",
        "ЦСКА",
        "Водный стадион",
        "Охотный ряд",
        "Третьяковская",
        "Баррикадная",
        "Цветной бульвар",
        "Выставочная",
        "Динамо",
        "Фрунзенская",
        "Фили",
        "Кузнецкий мост",
        "Боровское шоссе",
        "Шелепиха",
        "Нахимовский проспект",
        "Преображенская площадь",
        "Академическая",
        "Пионерская",
        "Трубная",
        "Рижская",
        "Щелковская",
        "Лубянка",
        "Лужники",
        "Беломорская",
        "Сретенский бульвар",
        "Спортивная",
        "Комсомольская",
        "Университет",
        "Аэропорт",
        "Сокол",
        "Бульвар Рокоссовского",
        "Улица 1905 года",
        "Мичуринский проспект",
        "Ломоносовский проспект",
        "Тургеневская",
        "Киевская",
        "Менделеевская",
        "Царицыно",
        "Коломенская",
        "Чистые пруды",
        "Красный Балтиец",
        "Полянка",
        "Боровицкая",
        "Минская",
        "Достоевская",
        "Красные ворота",
        "Бунинская аллея",
        "Войковская",
        "Медведково",
        "Октябрьская",
        "Пролетарская",
        "Красносельская",
        "Петровский Парк",
        "Сокольники",
        "Кунцевская",
        "Красный Строитель",
        "Озерная",
        "Проспект Вернадского",
        "Новокузнецкая",
        "Бибирево",
        "Жулебино",
        "Чкаловская",
        "Савеловская",
        "Фонвизинская",
        "Гражданская",
        "Серпуховская",
        "Китай-город",
        "Улица Скобелевская",
        "Москва-Товарная",
        "Щукинская",
        "Говорово",
        "Таганская",
        "Добрынинская",
        "Домодедовская",
        "Технопарк",
        "Семеновская",
        "Римская",
        "Славянский бульвар",
        "Косино",
        "Братиславская",
        "Театральная",
        "Тропарево",
        "Крылатское",
        "Павелецкая",
        "Новослободская",
        "Юго-Западная",
        "Новые Черемушки",
        "Сухаревская",
        "Шипиловская",
        "Перово",
        "Селигерская",
        "Нижегородская",
        "Дмитровская",
        "Тимирязевская",
        "Беговая",
        "Филевский парк",
        "Воробьевы горы",
        "Бауманская",
        "Остафьево",
        "Речной вокзал",
        "Авиамоторная",
        "Свиблово",
        "Дубровка",
        "Панфиловская",
        "Проспект Мира",
        "Парк Победы",
        "Студенческая",
        "Хорошевская",
        "Профсоюзная",
        "Чеховская",
        "Крестьянская застава",
        "Чертановская",
        "Бульвар Дмитрия Донского",
        "Ясенево",
        "Окружная",
        "Алтуфьево",
        "Ленинский проспект",
        "Новогиреево",
        "Улица Академика Янгеля",
        "Измайлово",
        "Балтийская",
        "Строгино",
        "ЗИЛ",
        "ВДНХ",
        "Каховская",
        "Южная",
        "Полежаевская",
        "Ростокино",
        "Кутузовская",
        "Крымская",
        "Севастопольская",
        "Марьино",
        "Аннино",
        "Верхние котлы",
        "Нагатинская",
        "Рассказовка",
        "Кантемировская",
        "Митино",
        "Соколиная гора",
        "Алексеевская",
        "Спартак",
        "Ботанический сад",
        "Электрозаводская",
        "Краснопресненская"
       ],
       "description": "metro",
       "index": 0,
       "layout": "IPY_MODEL_9ca17dd1e4ae4227b604a3b55c546514",
       "style": "IPY_MODEL_090b83d78aa1451ebbf4b41194d906a3"
      }
     },
     "f28405b994834cc8a3ce44db08e1dba6": {
      "model_module": "@jupyter-widgets/controls",
      "model_module_version": "1.5.0",
      "model_name": "DropdownModel",
      "state": {
       "_options_labels": [
        "2",
        "3",
        "4",
        "1",
        "5",
        "6"
       ],
       "description": "rooms",
       "index": 0,
       "layout": "IPY_MODEL_65c0ce2e693040fd894b6b11faa42d3b",
       "style": "IPY_MODEL_c5f36cf21b2c4edcbb244f173809e85d"
      }
     },
     "f28761031d4645c6bd734945d390b02b": {
      "model_module": "@jupyter-widgets/controls",
      "model_module_version": "1.5.0",
      "model_name": "DropdownModel",
      "state": {
       "_options_labels": [
        "Международная",
        "Деловой центр",
        "Люблино",
        "Владыкино",
        "Кузьминки",
        "Тестовская",
        "Парк Культуры",
        "Октябрьское поле",
        "Молодежная",
        "Маяковская",
        "Библиотека им. Ленина",
        "Шаболовская",
        "Белорусская",
        "Курская",
        "Раменки",
        "Тверская",
        "Пушкинская",
        "Кропоткинская",
        "Смоленская",
        "Арбатская",
        "ЦСКА",
        "Водный стадион",
        "Охотный ряд",
        "Третьяковская",
        "Баррикадная",
        "Цветной бульвар",
        "Выставочная",
        "Динамо",
        "Фрунзенская",
        "Фили",
        "Кузнецкий мост",
        "Боровское шоссе",
        "Шелепиха",
        "Нахимовский проспект",
        "Преображенская площадь",
        "Академическая",
        "Пионерская",
        "Трубная",
        "Рижская",
        "Щелковская",
        "Лубянка",
        "Лужники",
        "Беломорская",
        "Сретенский бульвар",
        "Спортивная",
        "Комсомольская",
        "Университет",
        "Аэропорт",
        "Сокол",
        "Бульвар Рокоссовского",
        "Улица 1905 года",
        "Мичуринский проспект",
        "Ломоносовский проспект",
        "Тургеневская",
        "Киевская",
        "Менделеевская",
        "Царицыно",
        "Коломенская",
        "Чистые пруды",
        "Красный Балтиец",
        "Полянка",
        "Боровицкая",
        "Минская",
        "Достоевская",
        "Красные ворота",
        "Бунинская аллея",
        "Войковская",
        "Медведково",
        "Октябрьская",
        "Пролетарская",
        "Красносельская",
        "Петровский Парк",
        "Сокольники",
        "Кунцевская",
        "Красный Строитель",
        "Озерная",
        "Проспект Вернадского",
        "Новокузнецкая",
        "Бибирево",
        "Жулебино",
        "Чкаловская",
        "Савеловская",
        "Фонвизинская",
        "Гражданская",
        "Серпуховская",
        "Китай-город",
        "Улица Скобелевская",
        "Москва-Товарная",
        "Щукинская",
        "Говорово",
        "Таганская",
        "Добрынинская",
        "Домодедовская",
        "Технопарк",
        "Семеновская",
        "Римская",
        "Славянский бульвар",
        "Косино",
        "Братиславская",
        "Театральная",
        "Тропарево",
        "Крылатское",
        "Павелецкая",
        "Новослободская",
        "Юго-Западная",
        "Новые Черемушки",
        "Сухаревская",
        "Шипиловская",
        "Перово",
        "Селигерская",
        "Нижегородская",
        "Дмитровская",
        "Тимирязевская",
        "Беговая",
        "Филевский парк",
        "Воробьевы горы",
        "Бауманская",
        "Остафьево",
        "Речной вокзал",
        "Авиамоторная",
        "Свиблово",
        "Дубровка",
        "Панфиловская",
        "Проспект Мира",
        "Парк Победы",
        "Студенческая",
        "Хорошевская",
        "Профсоюзная",
        "Чеховская",
        "Крестьянская застава",
        "Чертановская",
        "Бульвар Дмитрия Донского",
        "Ясенево",
        "Окружная",
        "Алтуфьево",
        "Ленинский проспект",
        "Новогиреево",
        "Улица Академика Янгеля",
        "Измайлово",
        "Балтийская",
        "Строгино",
        "ЗИЛ",
        "ВДНХ",
        "Каховская",
        "Южная",
        "Полежаевская",
        "Ростокино",
        "Кутузовская",
        "Крымская",
        "Севастопольская",
        "Марьино",
        "Аннино",
        "Верхние котлы",
        "Нагатинская",
        "Рассказовка",
        "Кантемировская",
        "Митино",
        "Соколиная гора",
        "Алексеевская",
        "Спартак",
        "Ботанический сад",
        "Электрозаводская",
        "Краснопресненская"
       ],
       "description": "metro",
       "index": 0,
       "layout": "IPY_MODEL_0a95a8cec967426e8d2ba130847d696e",
       "style": "IPY_MODEL_6052602542924d12a896004765b0ff46"
      }
     },
     "f2b10623fc9240b2bafb60347837f6e0": {
      "model_module": "@jupyter-widgets/controls",
      "model_module_version": "1.5.0",
      "model_name": "DropdownModel",
      "state": {
       "_options_labels": [
        "Международная",
        "Деловой центр",
        "Люблино",
        "Владыкино",
        "Кузьминки",
        "Тестовская",
        "Парк Культуры",
        "Октябрьское поле",
        "Молодежная",
        "Маяковская",
        "Библиотека им. Ленина",
        "Шаболовская",
        "Белорусская",
        "Курская",
        "Раменки",
        "Тверская",
        "Пушкинская",
        "Кропоткинская",
        "Смоленская",
        "Арбатская",
        "ЦСКА",
        "Водный стадион",
        "Охотный ряд",
        "Третьяковская",
        "Баррикадная",
        "Цветной бульвар",
        "Выставочная",
        "Динамо",
        "Фрунзенская",
        "Фили",
        "Кузнецкий мост",
        "Боровское шоссе",
        "Шелепиха",
        "Нахимовский проспект",
        "Преображенская площадь",
        "Академическая",
        "Пионерская",
        "Трубная",
        "Рижская",
        "Щелковская",
        "Лубянка",
        "Лужники",
        "Беломорская",
        "Сретенский бульвар",
        "Спортивная",
        "Комсомольская",
        "Университет",
        "Аэропорт",
        "Сокол",
        "Бульвар Рокоссовского",
        "Улица 1905 года",
        "Мичуринский проспект",
        "Ломоносовский проспект",
        "Тургеневская",
        "Киевская",
        "Менделеевская",
        "Царицыно",
        "Коломенская",
        "Чистые пруды",
        "Красный Балтиец",
        "Полянка",
        "Боровицкая",
        "Минская",
        "Достоевская",
        "Красные ворота",
        "Бунинская аллея",
        "Войковская",
        "Медведково",
        "Октябрьская",
        "Пролетарская",
        "Красносельская",
        "Петровский Парк",
        "Сокольники",
        "Кунцевская",
        "Красный Строитель",
        "Озерная",
        "Проспект Вернадского",
        "Новокузнецкая",
        "Бибирево",
        "Жулебино",
        "Чкаловская",
        "Савеловская",
        "Фонвизинская",
        "Гражданская",
        "Серпуховская",
        "Китай-город",
        "Улица Скобелевская",
        "Москва-Товарная",
        "Щукинская",
        "Говорово",
        "Таганская",
        "Добрынинская",
        "Домодедовская",
        "Технопарк",
        "Семеновская",
        "Римская",
        "Славянский бульвар",
        "Косино",
        "Братиславская",
        "Театральная",
        "Тропарево",
        "Крылатское",
        "Павелецкая",
        "Новослободская",
        "Юго-Западная",
        "Новые Черемушки",
        "Сухаревская",
        "Шипиловская",
        "Перово",
        "Селигерская",
        "Нижегородская",
        "Дмитровская",
        "Тимирязевская",
        "Беговая",
        "Филевский парк",
        "Воробьевы горы",
        "Бауманская",
        "Остафьево",
        "Речной вокзал",
        "Авиамоторная",
        "Свиблово",
        "Дубровка",
        "Панфиловская",
        "Проспект Мира",
        "Парк Победы",
        "Студенческая",
        "Хорошевская",
        "Профсоюзная",
        "Чеховская",
        "Крестьянская застава",
        "Чертановская",
        "Бульвар Дмитрия Донского",
        "Ясенево",
        "Окружная",
        "Алтуфьево",
        "Ленинский проспект",
        "Новогиреево",
        "Улица Академика Янгеля",
        "Измайлово",
        "Балтийская",
        "Строгино",
        "ЗИЛ",
        "ВДНХ",
        "Каховская",
        "Южная",
        "Полежаевская",
        "Ростокино",
        "Кутузовская",
        "Крымская",
        "Севастопольская",
        "Марьино",
        "Аннино",
        "Верхние котлы",
        "Нагатинская",
        "Рассказовка",
        "Кантемировская",
        "Митино",
        "Соколиная гора",
        "Алексеевская",
        "Спартак",
        "Ботанический сад",
        "Электрозаводская",
        "Краснопресненская"
       ],
       "description": "metro",
       "index": 10,
       "layout": "IPY_MODEL_cd9ae2d7960f4cb1b68dde58e2496bc4",
       "style": "IPY_MODEL_f60dcd51bc634e88ae3a615bd0d409d7"
      }
     },
     "f2c3eeb011894882bd569b76c097ba41": {
      "model_module": "@jupyter-widgets/base",
      "model_module_version": "1.2.0",
      "model_name": "LayoutModel",
      "state": {}
     },
     "f4033b5ff5fb4d9a8533a790116f0bdb": {
      "model_module": "@jupyter-widgets/controls",
      "model_module_version": "1.5.0",
      "model_name": "DescriptionStyleModel",
      "state": {
       "description_width": ""
      }
     },
     "f5904c77713142f5a0b79b5211cea31a": {
      "model_module": "@jupyter-widgets/controls",
      "model_module_version": "1.5.0",
      "model_name": "SliderStyleModel",
      "state": {
       "description_width": ""
      }
     },
     "f60dcd51bc634e88ae3a615bd0d409d7": {
      "model_module": "@jupyter-widgets/controls",
      "model_module_version": "1.5.0",
      "model_name": "DescriptionStyleModel",
      "state": {
       "description_width": ""
      }
     },
     "f8a6d5b12da84679b218cccd83f6f912": {
      "model_module": "@jupyter-widgets/base",
      "model_module_version": "1.2.0",
      "model_name": "LayoutModel",
      "state": {}
     },
     "f9dc92599cfa495689f7bd5203a22770": {
      "model_module": "@jupyter-widgets/controls",
      "model_module_version": "1.5.0",
      "model_name": "DropdownModel",
      "state": {
       "_options_labels": [
        "2",
        "1",
        "3",
        "4"
       ],
       "description": "rooms",
       "index": 0,
       "layout": "IPY_MODEL_58de1c94e12f4898b8a0b54e49edd2b6",
       "style": "IPY_MODEL_508e7663774041e3bd451c0ccbbdd3fc"
      }
     },
     "fa3dd0d4c82a4152880979ff42eca15f": {
      "model_module": "@jupyter-widgets/base",
      "model_module_version": "1.2.0",
      "model_name": "LayoutModel",
      "state": {}
     },
     "fa5de098d75a4f488d6f6f513d2572b3": {
      "model_module": "@jupyter-widgets/base",
      "model_module_version": "1.2.0",
      "model_name": "LayoutModel",
      "state": {}
     },
     "fab61e72d231424aae4a25b777262efb": {
      "model_module": "@jupyter-widgets/base",
      "model_module_version": "1.2.0",
      "model_name": "LayoutModel",
      "state": {}
     },
     "fcdc95019f034abcbf375183f7d717af": {
      "model_module": "@jupyter-widgets/output",
      "model_module_version": "1.0.0",
      "model_name": "OutputModel",
      "state": {
       "layout": "IPY_MODEL_c218bbd23c25434c842b38836d6a4a14",
       "outputs": [
        {
         "data": {
          "text/plain": "205706.44967974772"
         },
         "metadata": {},
         "output_type": "display_data"
        }
       ]
      }
     },
     "fd018f37061b420f8bc6672549a69f09": {
      "model_module": "@jupyter-widgets/base",
      "model_module_version": "1.2.0",
      "model_name": "LayoutModel",
      "state": {}
     },
     "fd2082f9e73b4f2ea2f15c313d94cc0a": {
      "model_module": "@jupyter-widgets/controls",
      "model_module_version": "1.5.0",
      "model_name": "IntSliderModel",
      "state": {
       "description": "max_floor",
       "layout": "IPY_MODEL_50ec27f8827e417a9d2fb0317a5575b5",
       "max": 88,
       "min": 3,
       "style": "IPY_MODEL_a1bd5c662579495abacad768e0b5bc43",
       "value": 41
      }
     },
     "fe0e73e987bd42ddb69c6143a766430c": {
      "model_module": "@jupyter-widgets/base",
      "model_module_version": "1.2.0",
      "model_name": "LayoutModel",
      "state": {}
     },
     "fe4038d2d6b44491a8b420225d184f8d": {
      "model_module": "@jupyter-widgets/output",
      "model_module_version": "1.0.0",
      "model_name": "OutputModel",
      "state": {
       "layout": "IPY_MODEL_61e1a981dd5d45e29ec5bf64e3a7669e",
       "outputs": [
        {
         "data": {
          "text/plain": "195245.0980392157"
         },
         "metadata": {},
         "output_type": "display_data"
        }
       ]
      }
     },
     "fe472aae81544beeba89536f2b84bda0": {
      "model_module": "@jupyter-widgets/base",
      "model_module_version": "1.2.0",
      "model_name": "LayoutModel",
      "state": {}
     },
     "ff3428643e9f44dda39be1824a880989": {
      "model_module": "@jupyter-widgets/controls",
      "model_module_version": "1.5.0",
      "model_name": "DropdownModel",
      "state": {
       "_options_labels": [
        "Международная",
        "Тестовская",
        "Маяковская",
        "Курская",
        "Тверская",
        "Динамо",
        "Шелепиха",
        "Лужники",
        "Спортивная",
        "Комсомольская",
        "Киевская",
        "Пушкинская",
        "Красные ворота",
        "Смоленская",
        "Петровский Парк",
        "Шаболовская",
        "Сокольники",
        "Кропоткинская",
        "Чкаловская",
        "Савеловская",
        "Третьяковская",
        "Октябрьская",
        "Серпуховская",
        "Чистые пруды",
        "Полянка",
        "Новокузнецкая",
        "Деловой центр",
        "Арбатская",
        "ЦСКА",
        "Менделеевская",
        "Театральная",
        "Раменки",
        "Баррикадная",
        "Октябрьское поле",
        "Красносельская",
        "Белорусская",
        "Воробьевы горы",
        "Таганская",
        "Хорошевская",
        "Китай-город",
        "Охотный ряд",
        "Пролетарская",
        "Павелецкая",
        "Бауманская",
        "Цветной бульвар",
        "Полежаевская",
        "Чеховская",
        "Улица 1905 года",
        "Рассказовка",
        "Крестьянская застава",
        "Профсоюзная",
        "Фрунзенская"
       ],
       "description": "metro",
       "index": 39,
       "layout": "IPY_MODEL_b68d6097a4ef42ae80c85bc7e989bf73",
       "style": "IPY_MODEL_444a17621f7e49d6bf94a808f50868b6"
      }
     }
    },
    "version_major": 2,
    "version_minor": 0
   }
  }
 },
 "nbformat": 4,
 "nbformat_minor": 4
}
